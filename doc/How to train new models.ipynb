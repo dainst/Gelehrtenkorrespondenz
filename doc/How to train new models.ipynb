{
 "cells": [
  {
   "cell_type": "markdown",
   "metadata": {
    "nbpresent": {
     "id": "cad53dd8-02cd-47ee-93fd-fa8322be4d25"
    }
   },
   "source": [
    "# Introduction"
   ]
  },
  {
   "cell_type": "markdown",
   "metadata": {
    "nbpresent": {
     "id": "f08af3e1-e3e8-4d6a-bfed-c7a44fa3f924"
    },
    "slideshow": {
     "slide_type": "slide"
    }
   },
   "source": [
    "First, you need to grab your annotations and assemble a training corpus.\n",
    "\n",
    "In our work scenario, we use `Webanno` to annotate and store the manually corrected texts. We keep the gold standards in `data/IOB`.\n",
    "\n",
    "The files are 1 per page of the volume. The filenames *must* have a sequential number identifying the sequence in which we have annotated them. Every file in the `data/IOB` folder is structured as in this example:\n",
    "\n",
    "```csv\n",
    "Uebrigens\tNN\t<unknown>\t_\tO\t_\n",
    "bin\tVAFIN\tsein\t_\tO\t_\n",
    "ich\tPPER\tich\t_\tO\t_\n",
    "etwas\tADV\tetwas\t_\tO\t_\n",
    "zu\tPTKA\tzu\t_\tO\t_\n",
    "sehr\tADV\tsehr\t_\tO\t_\n",
    "zersplittert\tVVPP\tzersplittern\t_\tO\t_\n",
    "```\n",
    "\n",
    "The columns are:\n",
    "* form\n",
    "* pos (TreeTagger German tagset)\n",
    "* lemma\n",
    "* textual layer annotation (not used, but must be there)\n",
    "* NER (the actual column we're interested in)\n",
    "* NE id to gazetteers (not used, but must be there)"
   ]
  },
  {
   "cell_type": "markdown",
   "metadata": {
    "nbpresent": {
     "id": "1c1de9ae-9cc9-41db-8f85-e019c27b52b4"
    }
   },
   "source": [
    "Unfortunately, this output is not natively produced by Webanno, and the full export of the project yields a lot of errors, with no informative log. We'll update the `data/IOB` folder manually with the last volumes.\n",
    "\n",
    "**Optionally**, you might want to install a couple of dependency projects that I am running locally are available to $PYTHONPATH. For this NB, the custom modules are not necessary; however, they are:\n",
    "* `pywebanno`: see [here](https://github.com/dainst/PyWebanno); this is optional, in case you want a tool to pool your annotations directly\n",
    "* my `custom-corpus-readers` (see [here](https://github.com/francescomambrini/custom-corpus-readers)) for NLTK, which include support for flexible TSV files."
   ]
  },
  {
   "cell_type": "code",
   "execution_count": 2,
   "metadata": {
    "collapsed": true,
    "nbpresent": {
     "id": "85e46911-1f34-4c4c-b092-a787d24c8640"
    }
   },
   "outputs": [],
   "source": [
    "#this will work for my machine; install the dependency properly\n",
    "import sys\n",
    "sys.path.append(\"../../PyWebanno/pywebanno\")\n",
    "sys.path.append(\"../../custom-corpus-readers\")\n",
    "\n",
    "# This line is however needed!\n",
    "sys.path.append(\"../\")"
   ]
  },
  {
   "cell_type": "markdown",
   "metadata": {
    "nbpresent": {
     "id": "59bc62a1-908c-4198-987d-086a0c20437d"
    }
   },
   "source": [
    "Now these imports should work"
   ]
  },
  {
   "cell_type": "code",
   "execution_count": 3,
   "metadata": {
    "collapsed": true,
    "nbpresent": {
     "id": "e463e05f-f7d6-4c2e-b0a7-c715f4020738"
    },
    "slideshow": {
     "slide_type": "slide"
    }
   },
   "outputs": [],
   "source": [
    "# again, this is optional, in case you want to use these tools\n",
    "#from corpusreader import WebAnnoTsvCorpusReader\n",
    "from korr_corpusreader import KorrIOBCorpusReader"
   ]
  },
  {
   "cell_type": "markdown",
   "metadata": {
    "nbpresent": {
     "id": "00ea367c-5e95-4794-8e10-1d6389fcff87"
    }
   },
   "source": [
    "## Methodology"
   ]
  },
  {
   "cell_type": "markdown",
   "metadata": {
    "nbpresent": {
     "id": "63d13087-e47f-4e62-ad72-2faa6cb6f6b4"
    }
   },
   "source": [
    "\"Conditional Random Field\" ([CRF](https://en.wikipedia.org/wiki/Conditional_random_field)) is a class of statistical modelling methods used often in machine learning; CRF is very often used in Named Entity Recognition ([NER](https://en.wikipedia.org/wiki/Named-entity_recognition)) or other classification tasks. It is suitable to treat linguistic texts where the context of a token (i.e. the series of features of the preceding and following tokens) is often very important to guess the right tag.\n",
    "\n",
    "See [here](https://en.wikipedia.org/wiki/Conditional_random_field) for an introduction to CRF.\n",
    "\n",
    "In what follows we perform a very simple train/test splitting on the manually annotated letters of the [first volume of letters from Braun to Gehrard](http://arachne.uni-koeln.de/item/buch/2892) (1832-35). The original annotation is stored in [Webanno](http://nlp.dainst.org:18080/webanno/)."
   ]
  },
  {
   "cell_type": "markdown",
   "metadata": {
    "nbpresent": {
     "id": "23cf1572-0bc1-4007-a516-b0bdfd37307a"
    }
   },
   "source": [
    "## Load the data"
   ]
  },
  {
   "cell_type": "markdown",
   "metadata": {
    "nbpresent": {
     "id": "a786efc8-f3c1-45c3-9ad1-c7ca0d53c448"
    }
   },
   "source": [
    "This is mainly done for the purpose of inspection. The Trainer will reload the data in its own constructor!"
   ]
  },
  {
   "cell_type": "code",
   "execution_count": 4,
   "metadata": {
    "collapsed": true,
    "nbpresent": {
     "id": "bae13ee4-aacf-417d-9431-99ca075b046f"
    }
   },
   "outputs": [],
   "source": [
    "newcols = [\"words\", \"pos\", \"lemma\", \"textlayer\", \"chunk\", \"entityid\"]\n",
    "corpus = KorrIOBCorpusReader(\"../data/IOB_GOLD/\", r\".*\\.iob\", columntypes=newcols)"
   ]
  },
  {
   "cell_type": "markdown",
   "metadata": {
    "collapsed": true,
    "nbpresent": {
     "id": "42d7f808-c273-4600-ba3f-8742acb0da03"
    }
   },
   "source": [
    "With the previous code we have load the data that are saved in one of the DAI's servers (nlp.dainst.org). The corpus includes the following total number of annotated pages:"
   ]
  },
  {
   "cell_type": "code",
   "execution_count": 5,
   "metadata": {
    "nbpresent": {
     "id": "9eebd913-34c0-4366-a89e-033d9026ef91"
    }
   },
   "outputs": [
    {
     "data": {
      "text/plain": [
       "2291"
      ]
     },
     "execution_count": 5,
     "metadata": {},
     "output_type": "execute_result"
    }
   ],
   "source": [
    "len(corpus.fileids())"
   ]
  },
  {
   "cell_type": "markdown",
   "metadata": {
    "collapsed": true,
    "nbpresent": {
     "id": "9a039eef-35f1-4458-8e5a-e6ec29e1ff9d"
    }
   },
   "source": [
    "Here is one example of a file"
   ]
  },
  {
   "cell_type": "code",
   "execution_count": 6,
   "metadata": {
    "nbpresent": {
     "id": "86a633e0-e235-42b7-97d1-aebfd127c7d9"
    }
   },
   "outputs": [
    {
     "data": {
      "text/plain": [
       "'9_GerhardAnHenzen1843-1850_page231_tsv.iob'"
      ]
     },
     "execution_count": 6,
     "metadata": {},
     "output_type": "execute_result"
    }
   ],
   "source": [
    "corpus.fileids()[-1]"
   ]
  },
  {
   "cell_type": "markdown",
   "metadata": {
    "nbpresent": {
     "id": "a8494666-9e07-480b-9f80-1b1f52323655"
    }
   },
   "source": [
    "And here are a few annotated words as read by our corpus reader:"
   ]
  },
  {
   "cell_type": "code",
   "execution_count": 7,
   "metadata": {
    "nbpresent": {
     "id": "6e8e4f48-e9a6-42da-ab30-f931e2df07ed"
    }
   },
   "outputs": [
    {
     "data": {
      "text/plain": [
       "[('1832', 'CARD', '@card@', 'HEAD', 'I-DATEletter'),\n",
       " ('Mein', 'PPOSAT', 'mein', '_', 'O'),\n",
       " ('freundlichster', 'ADJA', '<unknown>', '_', 'O'),\n",
       " ('Herr', 'NN', 'Herr', '_', 'O'),\n",
       " ('Professor', 'NN', 'Professor', '_', 'O'),\n",
       " ('Die', 'ART', 'die', '_', 'O'),\n",
       " ('Wohlthat', 'NE', '<unknown>', '_', 'O'),\n",
       " ('und', 'KON', 'und', '_', 'O'),\n",
       " ('Annehmlichkeit', 'NN', 'Annehmlichkeit', '_', 'O'),\n",
       " ('in', 'APPR', 'in', '_', 'O'),\n",
       " ('Ihrer', 'PPOSAT', 'ihr', '_', 'O'),\n",
       " ('nächsten', 'ADJA', 'nah', '_', 'O'),\n",
       " ('Nähe', 'NN', 'Nähe', '_', 'O'),\n",
       " ('zu', 'APPR', 'zu', '_', 'O'),\n",
       " ('logiren', 'NN', '<unknown>', '_', 'O')]"
      ]
     },
     "execution_count": 7,
     "metadata": {},
     "output_type": "execute_result"
    }
   ],
   "source": [
    "corpus.full_tagged_words()[15:30]"
   ]
  },
  {
   "cell_type": "markdown",
   "metadata": {
    "nbpresent": {
     "id": "a1d6e3c5-7de4-464b-85e8-05c3ae3d0d30"
    }
   },
   "source": [
    "The length (in token number) of our corpus is:"
   ]
  },
  {
   "cell_type": "code",
   "execution_count": 9,
   "metadata": {
    "nbpresent": {
     "id": "4b0eab7f-ab11-407f-8ece-808070dd6861"
    }
   },
   "outputs": [
    {
     "data": {
      "text/plain": [
       "137197"
      ]
     },
     "execution_count": 9,
     "metadata": {},
     "output_type": "execute_result"
    }
   ],
   "source": [
    "len(corpus.words())"
   ]
  },
  {
   "cell_type": "markdown",
   "metadata": {
    "nbpresent": {
     "id": "188e4cf3-5042-4d4b-8ece-80db02479ca6"
    }
   },
   "source": [
    "# Training"
   ]
  },
  {
   "cell_type": "markdown",
   "metadata": {
    "nbpresent": {
     "id": "657d9570-7433-4d01-aed6-042e5bb44d55"
    }
   },
   "source": [
    "In order to train our models, we make use of the `Trainer` class defined in the code of this project. The class should be *reasonably* transportable to other corpora of letters. We can discuss of any problems."
   ]
  },
  {
   "cell_type": "code",
   "execution_count": 8,
   "metadata": {
    "collapsed": true,
    "nbpresent": {
     "id": "a8062276-c0fc-4908-bbf8-a399082b8dc9"
    }
   },
   "outputs": [],
   "source": [
    "from training import Trainer"
   ]
  },
  {
   "cell_type": "code",
   "execution_count": 9,
   "metadata": {
    "collapsed": true,
    "nbpresent": {
     "id": "e3c652f2-eb71-4bfb-a889-3b07edad0158"
    }
   },
   "outputs": [],
   "source": [
    "t = Trainer(\"../lib/config/korr_mac.json\")"
   ]
  },
  {
   "cell_type": "markdown",
   "metadata": {
    "nbpresent": {
     "id": "f6d722a8-9df6-43d7-8bab-071d82c53e28"
    }
   },
   "source": [
    "## Train and test split"
   ]
  },
  {
   "cell_type": "markdown",
   "metadata": {
    "nbpresent": {
     "id": "95d1309c-eb1c-436e-a39f-011a8a8faa32"
    }
   },
   "source": [
    "How do you evaluate the performance of a trained model? Basically, the simplest answer is to split your manually annotated data in a `train` and a `test` part: the model trained on the \n",
    "\n",
    "If you want to learn more about this approach to the problem I suggest this very nice [introductory tutorial](https://www.youtube.com/watch?v=0pP4EwWJgIU&index=5&list=PL5-da3qGB5ICeMbQuqbbCOQWcS6OYBr5A)."
   ]
  },
  {
   "cell_type": "markdown",
   "metadata": {
    "nbpresent": {
     "id": "e3d20ae5-9648-4d5b-94c4-18a36ab0c339"
    }
   },
   "source": [
    "CoNLL-like file structures have the peculiarity that they group the tokens into sentences, which must be kept together for the sake of linguistic coherence. Thus, methods of train-test splitting based on the randomized selection of tokens don't work. We have to come up with a custom solution.\n",
    "\n",
    "(Unless, that is, you want to do someting like K-fold cross-validation. In this case, you might assume that any effect of distortion introduced by varying sentence lengths will be level out in the process of K-fold validation)"
   ]
  },
  {
   "cell_type": "markdown",
   "metadata": {
    "nbpresent": {
     "id": "1cc1d7a3-7cd6-49f9-95e2-11f8be0661a1"
    }
   },
   "source": [
    "The Trainer object has a function that returns a train and a stesting split of the corpus using sentences as units. The counter will stop adding sentences to the `test` set after the last sentence break after the token counter has passed the select percentage (default: 20% test).\n",
    "\n",
    "The following is the docstring of the method:"
   ]
  },
  {
   "cell_type": "markdown",
   "metadata": {
    "nbpresent": {
     "id": "71e5da28-af7f-4a62-b1ed-0efa45ff0fc9"
    }
   },
   "source": [
    "```python\n",
    "def split(self, test_perc=0.2):\n",
    "    \"\"\"\n",
    "    Split the corpus into training and testing. Randomize the selection of sentences and add sentences\n",
    "    until the total number of tokens of the test section is equal or greater than test_perc.\n",
    "    :param test_perc: percentage of tokens saved for tests\n",
    "    :type test_perc: float (between 0 and 1)\n",
    "    :return: tuple (of lists): train corpus, test corpus\n",
    "    \"\"\"\n",
    "```"
   ]
  },
  {
   "cell_type": "code",
   "execution_count": 10,
   "metadata": {
    "collapsed": true,
    "nbpresent": {
     "id": "773e90a2-269a-40c5-9c2f-c14f4a4a40ec"
    }
   },
   "outputs": [],
   "source": [
    "training,test = t.split()"
   ]
  },
  {
   "cell_type": "markdown",
   "metadata": {
    "nbpresent": {
     "id": "51e36c73-d4fa-4f96-8a02-80285d4f378e"
    }
   },
   "source": [
    "As it can be seen, the training set is *roughly* equivalent to our given percentage (default = 80%). Given the mecahnism adopted to include sentences in the test set, the number of the training tokens will always be slightly inferior to selected one."
   ]
  },
  {
   "cell_type": "code",
   "execution_count": 7,
   "metadata": {
    "nbpresent": {
     "id": "6298adbe-39af-40f3-93b0-52a1b5c76d08"
    },
    "scrolled": true
   },
   "outputs": [
    {
     "data": {
      "text/plain": [
       "0.7999373164136242"
      ]
     },
     "execution_count": 7,
     "metadata": {},
     "output_type": "execute_result"
    }
   ],
   "source": [
    "len([w for t in training for w in t]) / 137197"
   ]
  },
  {
   "cell_type": "markdown",
   "metadata": {
    "nbpresent": {
     "id": "e4f351e3-bacd-4dea-8f70-5ec299c0a454"
    }
   },
   "source": [
    "Let us now assign these two sub-corpora to the `training` and `testing` properties of the Trainer"
   ]
  },
  {
   "cell_type": "code",
   "execution_count": 8,
   "metadata": {
    "collapsed": true,
    "nbpresent": {
     "id": "1d365c18-955e-44c9-984a-1dc77baff4b2"
    }
   },
   "outputs": [],
   "source": [
    "t.training = training\n",
    "t.test = test"
   ]
  },
  {
   "cell_type": "markdown",
   "metadata": {
    "nbpresent": {
     "id": "ef01b1d8-d62f-4fd1-8f0f-b3857a0be3f9"
    }
   },
   "source": [
    "## Feature selections"
   ]
  },
  {
   "cell_type": "markdown",
   "metadata": {
    "nbpresent": {
     "id": "0babf2b2-5fa7-4592-96d9-8f05334dd828"
    }
   },
   "source": [
    "In order to train a model you need three things:\n",
    "\n",
    "* a $X$ matrix of features for your training data\n",
    "* a $y$ vector of responses that correspond to these features\n",
    "* a `template` that list what features must go on $X$ for each token in the training corpus\n",
    "\n",
    "Optionally, if you have a test corpus, you want to extract $X$ and $y$ for your testing section as well, so that you will be able to use your trained model to the testing section too"
   ]
  },
  {
   "cell_type": "markdown",
   "metadata": {
    "nbpresent": {
     "id": "897e9597-4ff1-4204-bd02-ccb4eb3c95ff"
    }
   },
   "source": [
    "The trainer has a `set_feats_labels` functions that take care to create both $X$ and $y$ for both training and testing corpora.\n",
    "\n",
    "Training and testing corpus are taken from two properties of the Trainer, so no need to pass arguments. However, you'll need to import your template"
   ]
  },
  {
   "cell_type": "code",
   "execution_count": 9,
   "metadata": {
    "collapsed": true,
    "nbpresent": {
     "id": "79d21b20-b494-4019-a874-cbb2dea6b11b"
    }
   },
   "outputs": [],
   "source": [
    "from templates import template1"
   ]
  },
  {
   "cell_type": "markdown",
   "metadata": {
    "nbpresent": {
     "id": "ddc3435b-d3e9-4543-9505-d0939f449782"
    }
   },
   "source": [
    "Before we proceed, `t.X_train, t.X_test, t.y_train` and `t.y_test` are all empty; e.g."
   ]
  },
  {
   "cell_type": "code",
   "execution_count": 10,
   "metadata": {
    "nbpresent": {
     "id": "b3e8e9a4-e95d-46e5-b92b-01f1a3b41e04"
    }
   },
   "outputs": [
    {
     "name": "stdout",
     "output_type": "stream",
     "text": [
      "True\n",
      "True\n",
      "True\n",
      "True\n"
     ]
    }
   ],
   "source": [
    "print(t.X_train is None)\n",
    "print(t.X_train is None)\n",
    "print(t.y_train is None)\n",
    "print(t.y_test is None)"
   ]
  },
  {
   "cell_type": "code",
   "execution_count": 11,
   "metadata": {
    "nbpresent": {
     "id": "fba4c314-e9aa-4217-b1fe-d89b3341fb50"
    }
   },
   "outputs": [
    {
     "name": "stdout",
     "output_type": "stream",
     "text": [
      "CPU times: user 20.4 s, sys: 523 ms, total: 20.9 s\n",
      "Wall time: 21 s\n"
     ]
    }
   ],
   "source": [
    "%%time\n",
    "t.set_feats_labels(template1)"
   ]
  },
  {
   "cell_type": "markdown",
   "metadata": {
    "nbpresent": {
     "id": "676326a8-6a06-4dbd-9820-d164330bbf03"
    }
   },
   "source": [
    "What about now?"
   ]
  },
  {
   "cell_type": "code",
   "execution_count": 12,
   "metadata": {
    "nbpresent": {
     "id": "cf525f5e-b5a5-4ed5-857d-1db6d859c40a"
    }
   },
   "outputs": [
    {
     "data": {
      "text/plain": [
       "{'BOS': 'True',\n",
       " 'endsWithDigit[0]': 'False',\n",
       " 'endsWithDigit[1]': 'False',\n",
       " 'hasDigit[0]': 'False',\n",
       " 'hasDigit[1]': 'False',\n",
       " 'isDigit[0]': 'False',\n",
       " 'isDigit[1]': 'False',\n",
       " 'isInPersonDic[0]': 'False',\n",
       " 'isInPersonDic[1]': 'False',\n",
       " 'isInPersonDic[2]': 'False',\n",
       " 'isInPlaceDic[0]': 'False',\n",
       " 'isInPlaceDic[1]': 'True',\n",
       " 'isInPlaceDic[2]': 'False',\n",
       " 'isTitle[0]': 'True',\n",
       " 'isTitle[1]': 'True',\n",
       " 'isUpper[0]': 'False',\n",
       " 'isUpper[1]': 'False',\n",
       " 'lemma[0]': 'in',\n",
       " 'lemma[1]': 'Rom',\n",
       " 'pos[0]': 'APPR',\n",
       " 'pos[0]|pos[1]': 'APPR|NE',\n",
       " 'pos[0]|pos[1]|pos[2]': 'APPR|NE|VAFIN',\n",
       " 'pos[1]': 'NE',\n",
       " 'pos[1]|pos[2]': 'NE|VAFIN',\n",
       " 'pos[2]': 'VAFIN',\n",
       " 'prefix_long[0]': 'In',\n",
       " 'prefix_long[1]': 'Rom',\n",
       " 'prefix_long[2]': 'sind',\n",
       " 'prefix_short[0]': 'In',\n",
       " 'prefix_short[1]': 'Rom',\n",
       " 'prefix_short[2]': 'sin',\n",
       " 'rank[0]': '0',\n",
       " 'sent_rank[0]': '0',\n",
       " 'suffix_long[0]': 'In',\n",
       " 'suffix_long[0]|suffix_long[1]': 'In|Rom',\n",
       " 'suffix_long[0]|suffix_long[1]|suffix_long[2]': 'In|Rom|sind',\n",
       " 'suffix_long[1]': 'Rom',\n",
       " 'suffix_long[2]': 'sind',\n",
       " 'suffix_short[0]': 'In',\n",
       " 'suffix_short[0]|suffix_short[1]': 'In|om',\n",
       " 'suffix_short[0]|suffix_short[1]|suffix_short[2]': 'In|om|nd',\n",
       " 'suffix_short[1]': 'om',\n",
       " 'suffix_short[2]': 'nd',\n",
       " 'w[0]': 'In',\n",
       " 'w[0]|w[1]': 'In|Rom',\n",
       " 'w[1]': 'Rom',\n",
       " 'w[2]': 'sind',\n",
       " 'w_lower[0]': 'in',\n",
       " 'w_lower[1]': 'rom',\n",
       " 'w_lower[2]': 'sind'}"
      ]
     },
     "execution_count": 12,
     "metadata": {},
     "output_type": "execute_result"
    }
   ],
   "source": [
    "t.X_train[0][0]"
   ]
  },
  {
   "cell_type": "code",
   "execution_count": 13,
   "metadata": {
    "nbpresent": {
     "id": "97bc26b4-5fdd-45ee-9d88-7e12bef40214"
    }
   },
   "outputs": [
    {
     "data": {
      "text/plain": [
       "'O'"
      ]
     },
     "execution_count": 13,
     "metadata": {},
     "output_type": "execute_result"
    }
   ],
   "source": [
    "t.y_train[0][0]"
   ]
  },
  {
   "cell_type": "markdown",
   "metadata": {
    "nbpresent": {
     "id": "895c2347-1541-4af0-92a9-9676e24d896f"
    }
   },
   "source": [
    "Sanity check"
   ]
  },
  {
   "cell_type": "code",
   "execution_count": 15,
   "metadata": {
    "collapsed": true,
    "nbpresent": {
     "id": "d7a0ab5f-ab94-4a0f-8ecb-5e0baae47f05"
    }
   },
   "outputs": [],
   "source": [
    "assert len(t.y_train) == len(t.X_train)"
   ]
  },
  {
   "cell_type": "code",
   "execution_count": 17,
   "metadata": {
    "collapsed": true,
    "nbpresent": {
     "id": "c5de1221-5bae-47d1-9fb1-8a9471843507"
    }
   },
   "outputs": [],
   "source": [
    "assert len(t.y_test) == len(t.X_test)"
   ]
  },
  {
   "cell_type": "markdown",
   "metadata": {
    "nbpresent": {
     "id": "9ac1568f-fb71-4ef9-8784-5f713d2a51fc"
    }
   },
   "source": [
    "## Model fitting"
   ]
  },
  {
   "cell_type": "markdown",
   "metadata": {
    "nbpresent": {
     "id": "796acd26-febb-4772-981c-8d41e3e3954b"
    }
   },
   "source": [
    "The last step is fitting the model!"
   ]
  },
  {
   "cell_type": "code",
   "execution_count": 18,
   "metadata": {
    "nbpresent": {
     "id": "ecd05336-5738-4cdd-8555-25890dc80ced"
    }
   },
   "outputs": [
    {
     "name": "stdout",
     "output_type": "stream",
     "text": [
      "CPU times: user 3min 21s, sys: 5.82 s, total: 3min 26s\n",
      "Wall time: 3min 44s\n"
     ]
    }
   ],
   "source": [
    "%%time\n",
    "t.fit()"
   ]
  },
  {
   "cell_type": "markdown",
   "metadata": {
    "nbpresent": {
     "id": "b17c44b3-1d13-4347-bb0d-6bb2ecb55d3a"
    }
   },
   "source": [
    "# Evaluation"
   ]
  },
  {
   "cell_type": "markdown",
   "metadata": {
    "nbpresent": {
     "id": "0f3d5537-9e27-4a59-a9c2-f5924e0cde10"
    }
   },
   "source": [
    "## Built-in `evaluate` function"
   ]
  },
  {
   "cell_type": "markdown",
   "metadata": {
    "nbpresent": {
     "id": "1bce975f-3e0b-43bb-8bd8-3258d59e8ba7"
    }
   },
   "source": [
    "This is good enough for some basic numbers, like e.g. the F1 score or precision and recall for each label"
   ]
  },
  {
   "cell_type": "code",
   "execution_count": 26,
   "metadata": {
    "nbpresent": {
     "id": "0ce11f3c-6c32-47ba-b8a7-2a7d6586e925"
    }
   },
   "outputs": [
    {
     "name": "stderr",
     "output_type": "stream",
     "text": [
      "/Users/fmambrini/anaconda/lib/python3.6/site-packages/sklearn/metrics/classification.py:1113: UndefinedMetricWarning: F-score is ill-defined and being set to 0.0 in labels with no predicted samples.\n",
      "  'precision', 'predicted', average, warn_for)\n",
      "/Users/fmambrini/anaconda/lib/python3.6/site-packages/sklearn/metrics/classification.py:1115: UndefinedMetricWarning: F-score is ill-defined and being set to 0.0 in labels with no true samples.\n",
      "  'recall', 'true', average, warn_for)\n",
      "/Users/fmambrini/anaconda/lib/python3.6/site-packages/sklearn/metrics/classification.py:1113: UndefinedMetricWarning: Precision and F-score are ill-defined and being set to 0.0 in labels with no predicted samples.\n",
      "  'precision', 'predicted', average, warn_for)\n",
      "/Users/fmambrini/anaconda/lib/python3.6/site-packages/sklearn/metrics/classification.py:1115: UndefinedMetricWarning: Recall and F-score are ill-defined and being set to 0.0 in labels with no true samples.\n",
      "  'recall', 'true', average, warn_for)\n"
     ]
    }
   ],
   "source": [
    "ev = t.evaluate()"
   ]
  },
  {
   "cell_type": "code",
   "execution_count": 29,
   "metadata": {
    "nbpresent": {
     "id": "19e80305-d4af-4c5c-b966-9e3a2efae0a8"
    },
    "scrolled": false
   },
   "outputs": [
    {
     "name": "stdout",
     "output_type": "stream",
     "text": [
      "                  precision    recall  f1-score   support\n",
      "\n",
      "    B-DATEletter      0.945     0.939     0.942       147\n",
      "    I-DATEletter      0.954     0.961     0.957       406\n",
      " B-DATEmentioned      0.889     0.545     0.676        44\n",
      " I-DATEmentioned      0.809     0.585     0.679        94\n",
      "           B-LIT      0.862     0.543     0.667        46\n",
      "           I-LIT      0.810     0.321     0.459        53\n",
      "           B-OBJ      0.837     0.488     0.617        84\n",
      "           I-OBJ      0.763     0.408     0.532        71\n",
      "  B-ORGmentioned      0.932     0.775     0.846        71\n",
      "  I-ORGmentioned      0.769     0.385     0.513        26\n",
      "  B-PERaddressee      1.000     0.960     0.980       100\n",
      "  I-PERaddressee      1.000     1.000     1.000         4\n",
      "     B-PERauthor      0.981     0.946     0.963       111\n",
      "     I-PERauthor      1.000     0.750     0.857         8\n",
      "  B-PERmentioned      0.902     0.838     0.869       618\n",
      "  I-PERmentioned      0.769     0.676     0.719       148\n",
      "     B-PLACEfrom      0.992     0.970     0.981       133\n",
      "     I-PLACEfrom      1.000     0.667     0.800         9\n",
      "B-PLACEmentioned      0.970     0.932     0.950       206\n",
      "I-PLACEmentioned      1.000     0.125     0.222        16\n",
      "       B-PLACEto      0.000     0.000     0.000         0\n",
      "\n",
      "     avg / total      0.912     0.811     0.850      2395\n",
      "\n"
     ]
    }
   ],
   "source": [
    "print(ev[\"F1_class\"])"
   ]
  },
  {
   "cell_type": "markdown",
   "metadata": {
    "nbpresent": {
     "id": "5106fdd6-1575-4a25-a21d-f8122a84aa3f"
    }
   },
   "source": [
    "The built-in evaluation is also reporting the 20 top-most likely transitions and unlikely transitions learned"
   ]
  },
  {
   "cell_type": "code",
   "execution_count": 31,
   "metadata": {
    "nbpresent": {
     "id": "72d6744e-4a25-42c9-9f17-2dfd66768653"
    }
   },
   "outputs": [
    {
     "name": "stdout",
     "output_type": "stream",
     "text": [
      "B-DATEletter -> I-DATEletter 6.017387\n",
      "I-DATEmentioned -> I-DATEmentioned 5.336065\n",
      "I-PERmentioned -> I-PERmentioned 5.334186\n",
      "B-LIT  -> I-LIT   5.334048\n",
      "B-DATEmentioned -> I-DATEmentioned 5.325046\n",
      "B-ORGmentioned -> I-ORGmentioned 5.230235\n",
      "I-ORGmentioned -> I-ORGmentioned 5.153614\n",
      "I-DATEletter -> I-DATEletter 5.143415\n",
      "B-OBJ  -> I-OBJ   5.114480\n",
      "I-LIT  -> I-LIT   4.826870\n",
      "B-PERmentioned -> I-PERmentioned 4.560642\n",
      "B-PLACEmentioned -> I-PLACEmentioned 4.523414\n",
      "I-OBJ  -> I-OBJ   4.502887\n",
      "I-PLACEmentioned -> I-PLACEmentioned 4.214961\n",
      "B-PLACEfrom -> I-PLACEfrom 3.726875\n",
      "B-PERaddressee -> I-PERaddressee 3.489402\n",
      "I-PLACEfrom -> I-PLACEfrom 3.179804\n",
      "I-PERaddressee -> I-PERaddressee 2.955939\n",
      "B-PERauthor -> I-PERauthor 2.679517\n",
      "B-PERmentioned -> B-LIT   2.515660\n"
     ]
    }
   ],
   "source": [
    "for tr in ev[\"Top_likely_transitions\"]: print(tr)"
   ]
  },
  {
   "cell_type": "code",
   "execution_count": 32,
   "metadata": {
    "nbpresent": {
     "id": "6ffcffe7-6477-46c2-a8ee-0d67b9f56fc5"
    }
   },
   "outputs": [
    {
     "name": "stdout",
     "output_type": "stream",
     "text": [
      "I-LIT  -> B-PERmentioned -1.127396\n",
      "I-PERauthor -> O       -1.135229\n",
      "I-DATEmentioned -> I-DATEletter -1.375594\n",
      "B-PERmentioned -> I-LIT   -1.507606\n",
      "B-PERauthor -> B-PERauthor -1.527896\n",
      "I-DATEletter -> I-DATEmentioned -1.534933\n",
      "B-PERmentioned -> I-OBJ   -1.538121\n",
      "B-PERmentioned -> B-PERmentioned -1.592075\n",
      "B-PERaddressee -> O       -1.744607\n",
      "B-DATEletter -> O       -1.923546\n",
      "O      -> I-PLACEfrom -1.974725\n",
      "O      -> I-PERauthor -2.034647\n",
      "O      -> I-PERaddressee -2.428154\n",
      "O      -> I-PLACEmentioned -2.897769\n",
      "O      -> I-DATEletter -3.279177\n",
      "O      -> I-DATEmentioned -3.385009\n",
      "O      -> I-ORGmentioned -3.629834\n",
      "O      -> I-LIT   -4.995137\n",
      "O      -> I-OBJ   -5.420429\n",
      "O      -> I-PERmentioned -5.687708\n"
     ]
    }
   ],
   "source": [
    "for tr in ev[\"Top_unlikely_transitions\"]: print(tr)"
   ]
  },
  {
   "cell_type": "markdown",
   "metadata": {
    "nbpresent": {
     "id": "a41fcb47-6f7a-4406-a3ae-7b88f422944f"
    }
   },
   "source": [
    "## Evaluation with `eli5`"
   ]
  },
  {
   "cell_type": "markdown",
   "metadata": {
    "nbpresent": {
     "id": "09f55f0e-dc91-4d9e-920e-2df9daf0a646"
    }
   },
   "source": [
    "The module eli5 provides some nicer graphic and functions to inspect what are the most highly rewarded features in the learning process"
   ]
  },
  {
   "cell_type": "code",
   "execution_count": 33,
   "metadata": {
    "collapsed": true,
    "nbpresent": {
     "id": "fd63945e-2512-4592-a07e-982423676336"
    }
   },
   "outputs": [],
   "source": [
    "import eli5"
   ]
  },
  {
   "cell_type": "code",
   "execution_count": 40,
   "metadata": {
    "nbpresent": {
     "id": "60706c58-fb6c-4c9a-b02d-7e85fcae7649"
    }
   },
   "outputs": [
    {
     "data": {
      "text/html": [
       "\n",
       "    <style>\n",
       "    table.eli5-weights tr:hover {\n",
       "        filter: brightness(85%);\n",
       "    }\n",
       "</style>\n",
       "\n",
       "\n",
       "\n",
       "    \n",
       "\n",
       "    \n",
       "\n",
       "    \n",
       "        \n",
       "\n",
       "\n",
       "<table class=\"eli5-transition-features\" style=\"margin-bottom: 0.5em;\">\n",
       "    <thead>\n",
       "        <tr>\n",
       "            <td>From \\ To</td>\n",
       "            \n",
       "                <th>O</th>\n",
       "            \n",
       "                <th>B-PLACEmentioned</th>\n",
       "            \n",
       "                <th>I-PLACEmentioned</th>\n",
       "            \n",
       "        </tr>\n",
       "    </thead>\n",
       "    <tbody>\n",
       "        \n",
       "            \n",
       "                <tr>\n",
       "                    <th>O</th>\n",
       "                    \n",
       "                        <td style=\"background-color: hsl(120, 100.00%, 88.32%)\" title=\"O &rArr; O\">\n",
       "                            2.098\n",
       "                        </td>\n",
       "                    \n",
       "                        <td style=\"background-color: hsl(120, 100.00%, 90.25%)\" title=\"O &rArr; B-PLACEmentioned\">\n",
       "                            1.62\n",
       "                        </td>\n",
       "                    \n",
       "                        <td style=\"background-color: hsl(0, 100.00%, 85.36%)\" title=\"O &rArr; I-PLACEmentioned\">\n",
       "                            -2.898\n",
       "                        </td>\n",
       "                    \n",
       "                </tr>\n",
       "            \n",
       "                <tr>\n",
       "                    <th>B-PLACEmentioned</th>\n",
       "                    \n",
       "                        <td style=\"background-color: hsl(120, 100.00%, 97.80%)\" title=\"B-PLACEmentioned &rArr; O\">\n",
       "                            0.193\n",
       "                        </td>\n",
       "                    \n",
       "                        <td style=\"background-color: hsl(0, 100.00%, 96.64%)\" title=\"B-PLACEmentioned &rArr; B-PLACEmentioned\">\n",
       "                            -0.354\n",
       "                        </td>\n",
       "                    \n",
       "                        <td style=\"background-color: hsl(120, 100.00%, 80.00%)\" title=\"B-PLACEmentioned &rArr; I-PLACEmentioned\">\n",
       "                            4.523\n",
       "                        </td>\n",
       "                    \n",
       "                </tr>\n",
       "            \n",
       "                <tr>\n",
       "                    <th>I-PLACEmentioned</th>\n",
       "                    \n",
       "                        <td style=\"background-color: hsl(0, 100.00%, 98.83%)\" title=\"I-PLACEmentioned &rArr; O\">\n",
       "                            -0.079\n",
       "                        </td>\n",
       "                    \n",
       "                        <td style=\"background-color: hsl(120, 100.00%, 97.63%)\" title=\"I-PLACEmentioned &rArr; B-PLACEmentioned\">\n",
       "                            0.215\n",
       "                        </td>\n",
       "                    \n",
       "                        <td style=\"background-color: hsl(120, 100.00%, 80.96%)\" title=\"I-PLACEmentioned &rArr; I-PLACEmentioned\">\n",
       "                            4.215\n",
       "                        </td>\n",
       "                    \n",
       "                </tr>\n",
       "            \n",
       "        \n",
       "    </tbody>\n",
       "</table>\n",
       "    \n",
       "\n",
       "    \n",
       "\n",
       "    \n",
       "\n",
       "    \n",
       "\n",
       "\n",
       "    \n",
       "\n",
       "    \n",
       "\n",
       "    \n",
       "\n",
       "    \n",
       "        \n",
       "\n",
       "    \n",
       "        <table class=\"eli5-weights-wrapper\" style=\"border-collapse: collapse; border: none; margin-bottom: 1.5em;\">\n",
       "            <tr>\n",
       "                \n",
       "                    <td style=\"padding: 0.5em; border: 1px solid black; text-align: center;\">\n",
       "                        <b>\n",
       "    \n",
       "        y=O\n",
       "    \n",
       "</b>\n",
       "\n",
       "top features\n",
       "                    </td>\n",
       "                \n",
       "                    <td style=\"padding: 0.5em; border: 1px solid black; text-align: center;\">\n",
       "                        <b>\n",
       "    \n",
       "        y=B-PLACEmentioned\n",
       "    \n",
       "</b>\n",
       "\n",
       "top features\n",
       "                    </td>\n",
       "                \n",
       "                    <td style=\"padding: 0.5em; border: 1px solid black; text-align: center;\">\n",
       "                        <b>\n",
       "    \n",
       "        y=I-PLACEmentioned\n",
       "    \n",
       "</b>\n",
       "\n",
       "top features\n",
       "                    </td>\n",
       "                \n",
       "            </tr>\n",
       "            <tr>\n",
       "                \n",
       "                    \n",
       "                        <td style=\"padding: 0px; border: 1px solid black; vertical-align: top;\">\n",
       "                            \n",
       "                                \n",
       "                                    \n",
       "                                    \n",
       "    \n",
       "    <table class=\"eli5-weights\"\n",
       "           style=\"border-collapse: collapse; border: none; margin-top: 0em; table-layout: auto; width: 100%;\">\n",
       "        <thead>\n",
       "        <tr style=\"border: none;\">\n",
       "            \n",
       "                <th style=\"padding: 0 1em 0 0.5em; text-align: right; border: none;\" title=\"Feature weights. Note that weights do not account for feature value scales, so if feature values have different scales, features with highest weights might not be the most important.\">\n",
       "                    Weight<sup>?</sup>\n",
       "                </th>\n",
       "            \n",
       "            <th style=\"padding: 0 0.5em 0 0.5em; text-align: left; border: none;\">Feature</th>\n",
       "            \n",
       "        </tr>\n",
       "        </thead>\n",
       "        <tbody>\n",
       "        \n",
       "            <tr style=\"background-color: hsl(120, 100.00%, 83.13%); border: none;\">\n",
       "    <td style=\"padding: 0 1em 0 0.5em; text-align: right; border: none;\">\n",
       "        +3.574\n",
       "    </td>\n",
       "    <td style=\"padding: 0 0.5em 0 0.5em; text-align: left; border: none;\">\n",
       "        sent_rank[0]:1739\n",
       "    </td>\n",
       "    \n",
       "</tr>\n",
       "        \n",
       "            <tr style=\"background-color: hsl(120, 100.00%, 84.82%); border: none;\">\n",
       "    <td style=\"padding: 0 1em 0 0.5em; text-align: right; border: none;\">\n",
       "        +3.075\n",
       "    </td>\n",
       "    <td style=\"padding: 0 0.5em 0 0.5em; text-align: left; border: none;\">\n",
       "        sent_rank[0]:3798\n",
       "    </td>\n",
       "    \n",
       "</tr>\n",
       "        \n",
       "            <tr style=\"background-color: hsl(120, 100.00%, 85.96%); border: none;\">\n",
       "    <td style=\"padding: 0 1em 0 0.5em; text-align: right; border: none;\">\n",
       "        +2.750\n",
       "    </td>\n",
       "    <td style=\"padding: 0 0.5em 0 0.5em; text-align: left; border: none;\">\n",
       "        EOS:True\n",
       "    </td>\n",
       "    \n",
       "</tr>\n",
       "        \n",
       "            <tr style=\"background-color: hsl(120, 100.00%, 88.06%); border: none;\">\n",
       "    <td style=\"padding: 0 1em 0 0.5em; text-align: right; border: none;\">\n",
       "        +2.182\n",
       "    </td>\n",
       "    <td style=\"padding: 0 0.5em 0 0.5em; text-align: left; border: none;\">\n",
       "        pos[0]|pos[1]|pos[2]:NE|VAFIN|ADV\n",
       "    </td>\n",
       "    \n",
       "</tr>\n",
       "        \n",
       "            <tr style=\"background-color: hsl(120, 100.00%, 88.16%); border: none;\">\n",
       "    <td style=\"padding: 0 1em 0 0.5em; text-align: right; border: none;\">\n",
       "        +2.156\n",
       "    </td>\n",
       "    <td style=\"padding: 0 0.5em 0 0.5em; text-align: left; border: none;\">\n",
       "        BOS:True\n",
       "    </td>\n",
       "    \n",
       "</tr>\n",
       "        \n",
       "            <tr style=\"background-color: hsl(120, 100.00%, 88.16%); border: none;\">\n",
       "    <td style=\"padding: 0 1em 0 0.5em; text-align: right; border: none;\">\n",
       "        +2.156\n",
       "    </td>\n",
       "    <td style=\"padding: 0 0.5em 0 0.5em; text-align: left; border: none;\">\n",
       "        rank[0]:0\n",
       "    </td>\n",
       "    \n",
       "</tr>\n",
       "        \n",
       "            <tr style=\"background-color: hsl(120, 100.00%, 88.55%); border: none;\">\n",
       "    <td style=\"padding: 0 1em 0 0.5em; text-align: right; border: none;\">\n",
       "        +2.054\n",
       "    </td>\n",
       "    <td style=\"padding: 0 0.5em 0 0.5em; text-align: left; border: none;\">\n",
       "        isTitle[0]:False\n",
       "    </td>\n",
       "    \n",
       "</tr>\n",
       "        \n",
       "            <tr style=\"background-color: hsl(120, 100.00%, 88.61%); border: none;\">\n",
       "    <td style=\"padding: 0 1em 0 0.5em; text-align: right; border: none;\">\n",
       "        +2.039\n",
       "    </td>\n",
       "    <td style=\"padding: 0 0.5em 0 0.5em; text-align: left; border: none;\">\n",
       "        suffix_short[0]:ge\n",
       "    </td>\n",
       "    \n",
       "</tr>\n",
       "        \n",
       "        \n",
       "            <tr style=\"background-color: hsl(120, 100.00%, 88.61%); border: none;\">\n",
       "                <td colspan=\"2\" style=\"padding: 0 0.5em 0 0.5em; text-align: center; border: none; white-space: nowrap;\">\n",
       "                    <i>&hellip; 8656 more positive &hellip;</i>\n",
       "                </td>\n",
       "            </tr>\n",
       "        \n",
       "\n",
       "        \n",
       "            <tr style=\"background-color: hsl(0, 100.00%, 88.74%); border: none;\">\n",
       "                <td colspan=\"2\" style=\"padding: 0 0.5em 0 0.5em; text-align: center; border: none; white-space: nowrap;\">\n",
       "                    <i>&hellip; 7349 more negative &hellip;</i>\n",
       "                </td>\n",
       "            </tr>\n",
       "        \n",
       "        \n",
       "            <tr style=\"background-color: hsl(0, 100.00%, 88.74%); border: none;\">\n",
       "    <td style=\"padding: 0 1em 0 0.5em; text-align: right; border: none;\">\n",
       "        -2.006\n",
       "    </td>\n",
       "    <td style=\"padding: 0 0.5em 0 0.5em; text-align: left; border: none;\">\n",
       "        suffix_long[0]:cker\n",
       "    </td>\n",
       "    \n",
       "</tr>\n",
       "        \n",
       "            <tr style=\"background-color: hsl(0, 100.00%, 88.70%); border: none;\">\n",
       "    <td style=\"padding: 0 1em 0 0.5em; text-align: right; border: none;\">\n",
       "        -2.017\n",
       "    </td>\n",
       "    <td style=\"padding: 0 0.5em 0 0.5em; text-align: left; border: none;\">\n",
       "        pos[0]|pos[1]:$.|NN\n",
       "    </td>\n",
       "    \n",
       "</tr>\n",
       "        \n",
       "            <tr style=\"background-color: hsl(0, 100.00%, 88.65%); border: none;\">\n",
       "    <td style=\"padding: 0 1em 0 0.5em; text-align: right; border: none;\">\n",
       "        -2.030\n",
       "    </td>\n",
       "    <td style=\"padding: 0 0.5em 0 0.5em; text-align: left; border: none;\">\n",
       "        prefix_short[0]:ant\n",
       "    </td>\n",
       "    \n",
       "</tr>\n",
       "        \n",
       "            <tr style=\"background-color: hsl(0, 100.00%, 88.62%); border: none;\">\n",
       "    <td style=\"padding: 0 1em 0 0.5em; text-align: right; border: none;\">\n",
       "        -2.038\n",
       "    </td>\n",
       "    <td style=\"padding: 0 0.5em 0 0.5em; text-align: left; border: none;\">\n",
       "        pos[0]|pos[1]:$.|NE\n",
       "    </td>\n",
       "    \n",
       "</tr>\n",
       "        \n",
       "            <tr style=\"background-color: hsl(0, 100.00%, 88.27%); border: none;\">\n",
       "    <td style=\"padding: 0 1em 0 0.5em; text-align: right; border: none;\">\n",
       "        -2.125\n",
       "    </td>\n",
       "    <td style=\"padding: 0 0.5em 0 0.5em; text-align: left; border: none;\">\n",
       "        suffix_short[0]:os\n",
       "    </td>\n",
       "    \n",
       "</tr>\n",
       "        \n",
       "            <tr style=\"background-color: hsl(0, 100.00%, 87.86%); border: none;\">\n",
       "    <td style=\"padding: 0 1em 0 0.5em; text-align: right; border: none;\">\n",
       "        -2.235\n",
       "    </td>\n",
       "    <td style=\"padding: 0 0.5em 0 0.5em; text-align: left; border: none;\">\n",
       "        prefix_short[0]:Bun\n",
       "    </td>\n",
       "    \n",
       "</tr>\n",
       "        \n",
       "            <tr style=\"background-color: hsl(0, 100.00%, 87.82%); border: none;\">\n",
       "    <td style=\"padding: 0 1em 0 0.5em; text-align: right; border: none;\">\n",
       "        -2.245\n",
       "    </td>\n",
       "    <td style=\"padding: 0 0.5em 0 0.5em; text-align: left; border: none;\">\n",
       "        suffix_short[0]:rg\n",
       "    </td>\n",
       "    \n",
       "</tr>\n",
       "        \n",
       "            <tr style=\"background-color: hsl(0, 100.00%, 87.14%); border: none;\">\n",
       "    <td style=\"padding: 0 1em 0 0.5em; text-align: right; border: none;\">\n",
       "        -2.424\n",
       "    </td>\n",
       "    <td style=\"padding: 0 0.5em 0 0.5em; text-align: left; border: none;\">\n",
       "        prefix_short[0]:183\n",
       "    </td>\n",
       "    \n",
       "</tr>\n",
       "        \n",
       "            <tr style=\"background-color: hsl(0, 100.00%, 85.36%); border: none;\">\n",
       "    <td style=\"padding: 0 1em 0 0.5em; text-align: right; border: none;\">\n",
       "        -2.919\n",
       "    </td>\n",
       "    <td style=\"padding: 0 0.5em 0 0.5em; text-align: left; border: none;\">\n",
       "        prefix_short[0]:Mus\n",
       "    </td>\n",
       "    \n",
       "</tr>\n",
       "        \n",
       "            <tr style=\"background-color: hsl(0, 100.00%, 84.44%); border: none;\">\n",
       "    <td style=\"padding: 0 1em 0 0.5em; text-align: right; border: none;\">\n",
       "        -3.184\n",
       "    </td>\n",
       "    <td style=\"padding: 0 0.5em 0 0.5em; text-align: left; border: none;\">\n",
       "        isInPlaceDic[0]:True\n",
       "    </td>\n",
       "    \n",
       "</tr>\n",
       "        \n",
       "            <tr style=\"background-color: hsl(0, 100.00%, 84.25%); border: none;\">\n",
       "    <td style=\"padding: 0 1em 0 0.5em; text-align: right; border: none;\">\n",
       "        -3.241\n",
       "    </td>\n",
       "    <td style=\"padding: 0 0.5em 0 0.5em; text-align: left; border: none;\">\n",
       "        suffix_short[0]:ni\n",
       "    </td>\n",
       "    \n",
       "</tr>\n",
       "        \n",
       "            <tr style=\"background-color: hsl(0, 100.00%, 83.14%); border: none;\">\n",
       "    <td style=\"padding: 0 1em 0 0.5em; text-align: right; border: none;\">\n",
       "        -3.571\n",
       "    </td>\n",
       "    <td style=\"padding: 0 0.5em 0 0.5em; text-align: left; border: none;\">\n",
       "        isInPersonDic[0]:True\n",
       "    </td>\n",
       "    \n",
       "</tr>\n",
       "        \n",
       "\n",
       "        </tbody>\n",
       "    </table>\n",
       "\n",
       "                                \n",
       "                            \n",
       "                        </td>\n",
       "                    \n",
       "                        <td style=\"padding: 0px; border: 1px solid black; vertical-align: top;\">\n",
       "                            \n",
       "                                \n",
       "                                    \n",
       "                                    \n",
       "    \n",
       "    <table class=\"eli5-weights\"\n",
       "           style=\"border-collapse: collapse; border: none; margin-top: 0em; table-layout: auto; width: 100%;\">\n",
       "        <thead>\n",
       "        <tr style=\"border: none;\">\n",
       "            \n",
       "                <th style=\"padding: 0 1em 0 0.5em; text-align: right; border: none;\" title=\"Feature weights. Note that weights do not account for feature value scales, so if feature values have different scales, features with highest weights might not be the most important.\">\n",
       "                    Weight<sup>?</sup>\n",
       "                </th>\n",
       "            \n",
       "            <th style=\"padding: 0 0.5em 0 0.5em; text-align: left; border: none;\">Feature</th>\n",
       "            \n",
       "        </tr>\n",
       "        </thead>\n",
       "        <tbody>\n",
       "        \n",
       "            <tr style=\"background-color: hsl(120, 100.00%, 80.00%); border: none;\">\n",
       "    <td style=\"padding: 0 1em 0 0.5em; text-align: right; border: none;\">\n",
       "        +4.558\n",
       "    </td>\n",
       "    <td style=\"padding: 0 0.5em 0 0.5em; text-align: left; border: none;\">\n",
       "        isInPlaceDic[0]:True\n",
       "    </td>\n",
       "    \n",
       "</tr>\n",
       "        \n",
       "            <tr style=\"background-color: hsl(120, 100.00%, 87.22%); border: none;\">\n",
       "    <td style=\"padding: 0 1em 0 0.5em; text-align: right; border: none;\">\n",
       "        +2.404\n",
       "    </td>\n",
       "    <td style=\"padding: 0 0.5em 0 0.5em; text-align: left; border: none;\">\n",
       "        suffix_long[0]:land\n",
       "    </td>\n",
       "    \n",
       "</tr>\n",
       "        \n",
       "            <tr style=\"background-color: hsl(120, 100.00%, 89.63%); border: none;\">\n",
       "    <td style=\"padding: 0 1em 0 0.5em; text-align: right; border: none;\">\n",
       "        +1.783\n",
       "    </td>\n",
       "    <td style=\"padding: 0 0.5em 0 0.5em; text-align: left; border: none;\">\n",
       "        prefix_short[0]:Nea\n",
       "    </td>\n",
       "    \n",
       "</tr>\n",
       "        \n",
       "            <tr style=\"background-color: hsl(120, 100.00%, 90.37%); border: none;\">\n",
       "    <td style=\"padding: 0 1em 0 0.5em; text-align: right; border: none;\">\n",
       "        +1.603\n",
       "    </td>\n",
       "    <td style=\"padding: 0 0.5em 0 0.5em; text-align: left; border: none;\">\n",
       "        suffix_short[0]:nd\n",
       "    </td>\n",
       "    \n",
       "</tr>\n",
       "        \n",
       "            <tr style=\"background-color: hsl(120, 100.00%, 91.21%); border: none;\">\n",
       "    <td style=\"padding: 0 1em 0 0.5em; text-align: right; border: none;\">\n",
       "        +1.409\n",
       "    </td>\n",
       "    <td style=\"padding: 0 0.5em 0 0.5em; text-align: left; border: none;\">\n",
       "        prefix_short[0]:Bon\n",
       "    </td>\n",
       "    \n",
       "</tr>\n",
       "        \n",
       "            <tr style=\"background-color: hsl(120, 100.00%, 91.22%); border: none;\">\n",
       "    <td style=\"padding: 0 1em 0 0.5em; text-align: right; border: none;\">\n",
       "        +1.406\n",
       "    </td>\n",
       "    <td style=\"padding: 0 0.5em 0 0.5em; text-align: left; border: none;\">\n",
       "        suffix_short[0]:ia\n",
       "    </td>\n",
       "    \n",
       "</tr>\n",
       "        \n",
       "            <tr style=\"background-color: hsl(120, 100.00%, 92.22%); border: none;\">\n",
       "    <td style=\"padding: 0 1em 0 0.5em; text-align: right; border: none;\">\n",
       "        +1.184\n",
       "    </td>\n",
       "    <td style=\"padding: 0 0.5em 0 0.5em; text-align: left; border: none;\">\n",
       "        prefix_long[0]:Etrur\n",
       "    </td>\n",
       "    \n",
       "</tr>\n",
       "        \n",
       "            <tr style=\"background-color: hsl(120, 100.00%, 92.67%); border: none;\">\n",
       "    <td style=\"padding: 0 1em 0 0.5em; text-align: right; border: none;\">\n",
       "        +1.087\n",
       "    </td>\n",
       "    <td style=\"padding: 0 0.5em 0 0.5em; text-align: left; border: none;\">\n",
       "        prefix_short[0]:Etr\n",
       "    </td>\n",
       "    \n",
       "</tr>\n",
       "        \n",
       "            <tr style=\"background-color: hsl(120, 100.00%, 92.70%); border: none;\">\n",
       "    <td style=\"padding: 0 1em 0 0.5em; text-align: right; border: none;\">\n",
       "        +1.080\n",
       "    </td>\n",
       "    <td style=\"padding: 0 0.5em 0 0.5em; text-align: left; border: none;\">\n",
       "        pos[-2]:NE\n",
       "    </td>\n",
       "    \n",
       "</tr>\n",
       "        \n",
       "            <tr style=\"background-color: hsl(120, 100.00%, 93.15%); border: none;\">\n",
       "    <td style=\"padding: 0 1em 0 0.5em; text-align: right; border: none;\">\n",
       "        +0.986\n",
       "    </td>\n",
       "    <td style=\"padding: 0 0.5em 0 0.5em; text-align: left; border: none;\">\n",
       "        suffix_short[1]:he\n",
       "    </td>\n",
       "    \n",
       "</tr>\n",
       "        \n",
       "            <tr style=\"background-color: hsl(120, 100.00%, 93.21%); border: none;\">\n",
       "    <td style=\"padding: 0 1em 0 0.5em; text-align: right; border: none;\">\n",
       "        +0.973\n",
       "    </td>\n",
       "    <td style=\"padding: 0 0.5em 0 0.5em; text-align: left; border: none;\">\n",
       "        prefix_long[0]:Neape\n",
       "    </td>\n",
       "    \n",
       "</tr>\n",
       "        \n",
       "            <tr style=\"background-color: hsl(120, 100.00%, 93.21%); border: none;\">\n",
       "    <td style=\"padding: 0 1em 0 0.5em; text-align: right; border: none;\">\n",
       "        +0.973\n",
       "    </td>\n",
       "    <td style=\"padding: 0 0.5em 0 0.5em; text-align: left; border: none;\">\n",
       "        lemma[0]:Neapel\n",
       "    </td>\n",
       "    \n",
       "</tr>\n",
       "        \n",
       "            <tr style=\"background-color: hsl(120, 100.00%, 93.26%); border: none;\">\n",
       "    <td style=\"padding: 0 1em 0 0.5em; text-align: right; border: none;\">\n",
       "        +0.963\n",
       "    </td>\n",
       "    <td style=\"padding: 0 0.5em 0 0.5em; text-align: left; border: none;\">\n",
       "        suffix_short[0]:te\n",
       "    </td>\n",
       "    \n",
       "</tr>\n",
       "        \n",
       "            <tr style=\"background-color: hsl(120, 100.00%, 93.33%); border: none;\">\n",
       "    <td style=\"padding: 0 1em 0 0.5em; text-align: right; border: none;\">\n",
       "        +0.950\n",
       "    </td>\n",
       "    <td style=\"padding: 0 0.5em 0 0.5em; text-align: left; border: none;\">\n",
       "        sent_rank[0]:3813\n",
       "    </td>\n",
       "    \n",
       "</tr>\n",
       "        \n",
       "            <tr style=\"background-color: hsl(120, 100.00%, 93.49%); border: none;\">\n",
       "    <td style=\"padding: 0 1em 0 0.5em; text-align: right; border: none;\">\n",
       "        +0.916\n",
       "    </td>\n",
       "    <td style=\"padding: 0 0.5em 0 0.5em; text-align: left; border: none;\">\n",
       "        w_lower[0]:etrurien\n",
       "    </td>\n",
       "    \n",
       "</tr>\n",
       "        \n",
       "            <tr style=\"background-color: hsl(120, 100.00%, 93.49%); border: none;\">\n",
       "    <td style=\"padding: 0 1em 0 0.5em; text-align: right; border: none;\">\n",
       "        +0.916\n",
       "    </td>\n",
       "    <td style=\"padding: 0 0.5em 0 0.5em; text-align: left; border: none;\">\n",
       "        w[0]:Etrurien\n",
       "    </td>\n",
       "    \n",
       "</tr>\n",
       "        \n",
       "            <tr style=\"background-color: hsl(120, 100.00%, 93.73%); border: none;\">\n",
       "    <td style=\"padding: 0 1em 0 0.5em; text-align: right; border: none;\">\n",
       "        +0.869\n",
       "    </td>\n",
       "    <td style=\"padding: 0 0.5em 0 0.5em; text-align: left; border: none;\">\n",
       "        suffix_long[0]:ilia\n",
       "    </td>\n",
       "    \n",
       "</tr>\n",
       "        \n",
       "            <tr style=\"background-color: hsl(120, 100.00%, 93.74%); border: none;\">\n",
       "    <td style=\"padding: 0 1em 0 0.5em; text-align: right; border: none;\">\n",
       "        +0.867\n",
       "    </td>\n",
       "    <td style=\"padding: 0 0.5em 0 0.5em; text-align: left; border: none;\">\n",
       "        pos[-1]:APPR\n",
       "    </td>\n",
       "    \n",
       "</tr>\n",
       "        \n",
       "        \n",
       "            <tr style=\"background-color: hsl(120, 100.00%, 93.74%); border: none;\">\n",
       "                <td colspan=\"2\" style=\"padding: 0 0.5em 0 0.5em; text-align: center; border: none; white-space: nowrap;\">\n",
       "                    <i>&hellip; 1917 more positive &hellip;</i>\n",
       "                </td>\n",
       "            </tr>\n",
       "        \n",
       "\n",
       "        \n",
       "            <tr style=\"background-color: hsl(0, 100.00%, 93.34%); border: none;\">\n",
       "                <td colspan=\"2\" style=\"padding: 0 0.5em 0 0.5em; text-align: center; border: none; white-space: nowrap;\">\n",
       "                    <i>&hellip; 291 more negative &hellip;</i>\n",
       "                </td>\n",
       "            </tr>\n",
       "        \n",
       "        \n",
       "            <tr style=\"background-color: hsl(0, 100.00%, 93.34%); border: none;\">\n",
       "    <td style=\"padding: 0 1em 0 0.5em; text-align: right; border: none;\">\n",
       "        -0.948\n",
       "    </td>\n",
       "    <td style=\"padding: 0 0.5em 0 0.5em; text-align: left; border: none;\">\n",
       "        isTitle[0]:False\n",
       "    </td>\n",
       "    \n",
       "</tr>\n",
       "        \n",
       "            <tr style=\"background-color: hsl(0, 100.00%, 85.69%); border: none;\">\n",
       "    <td style=\"padding: 0 1em 0 0.5em; text-align: right; border: none;\">\n",
       "        -2.825\n",
       "    </td>\n",
       "    <td style=\"padding: 0 0.5em 0 0.5em; text-align: left; border: none;\">\n",
       "        isInPlaceDic[0]:False\n",
       "    </td>\n",
       "    \n",
       "</tr>\n",
       "        \n",
       "\n",
       "        </tbody>\n",
       "    </table>\n",
       "\n",
       "                                \n",
       "                            \n",
       "                        </td>\n",
       "                    \n",
       "                        <td style=\"padding: 0px; border: 1px solid black; vertical-align: top;\">\n",
       "                            \n",
       "                                \n",
       "                                    \n",
       "                                    \n",
       "    \n",
       "    <table class=\"eli5-weights\"\n",
       "           style=\"border-collapse: collapse; border: none; margin-top: 0em; table-layout: auto; width: 100%;\">\n",
       "        <thead>\n",
       "        <tr style=\"border: none;\">\n",
       "            \n",
       "                <th style=\"padding: 0 1em 0 0.5em; text-align: right; border: none;\" title=\"Feature weights. Note that weights do not account for feature value scales, so if feature values have different scales, features with highest weights might not be the most important.\">\n",
       "                    Weight<sup>?</sup>\n",
       "                </th>\n",
       "            \n",
       "            <th style=\"padding: 0 0.5em 0 0.5em; text-align: left; border: none;\">Feature</th>\n",
       "            \n",
       "        </tr>\n",
       "        </thead>\n",
       "        <tbody>\n",
       "        \n",
       "            <tr style=\"background-color: hsl(120, 100.00%, 93.63%); border: none;\">\n",
       "    <td style=\"padding: 0 1em 0 0.5em; text-align: right; border: none;\">\n",
       "        +0.889\n",
       "    </td>\n",
       "    <td style=\"padding: 0 0.5em 0 0.5em; text-align: left; border: none;\">\n",
       "        pos[-1]:NN\n",
       "    </td>\n",
       "    \n",
       "</tr>\n",
       "        \n",
       "            <tr style=\"background-color: hsl(120, 100.00%, 93.72%); border: none;\">\n",
       "    <td style=\"padding: 0 1em 0 0.5em; text-align: right; border: none;\">\n",
       "        +0.872\n",
       "    </td>\n",
       "    <td style=\"padding: 0 0.5em 0 0.5em; text-align: left; border: none;\">\n",
       "        suffix_short[-1]:on\n",
       "    </td>\n",
       "    \n",
       "</tr>\n",
       "        \n",
       "            <tr style=\"background-color: hsl(120, 100.00%, 93.81%); border: none;\">\n",
       "    <td style=\"padding: 0 1em 0 0.5em; text-align: right; border: none;\">\n",
       "        +0.853\n",
       "    </td>\n",
       "    <td style=\"padding: 0 0.5em 0 0.5em; text-align: left; border: none;\">\n",
       "        rank[0]:3\n",
       "    </td>\n",
       "    \n",
       "</tr>\n",
       "        \n",
       "            <tr style=\"background-color: hsl(120, 100.00%, 94.44%); border: none;\">\n",
       "    <td style=\"padding: 0 1em 0 0.5em; text-align: right; border: none;\">\n",
       "        +0.733\n",
       "    </td>\n",
       "    <td style=\"padding: 0 0.5em 0 0.5em; text-align: left; border: none;\">\n",
       "        sent_rank[0]:4799\n",
       "    </td>\n",
       "    \n",
       "</tr>\n",
       "        \n",
       "            <tr style=\"background-color: hsl(120, 100.00%, 94.53%); border: none;\">\n",
       "    <td style=\"padding: 0 1em 0 0.5em; text-align: right; border: none;\">\n",
       "        +0.714\n",
       "    </td>\n",
       "    <td style=\"padding: 0 0.5em 0 0.5em; text-align: left; border: none;\">\n",
       "        suffix_short[0]:so\n",
       "    </td>\n",
       "    \n",
       "</tr>\n",
       "        \n",
       "            <tr style=\"background-color: hsl(120, 100.00%, 94.74%); border: none;\">\n",
       "    <td style=\"padding: 0 1em 0 0.5em; text-align: right; border: none;\">\n",
       "        +0.676\n",
       "    </td>\n",
       "    <td style=\"padding: 0 0.5em 0 0.5em; text-align: left; border: none;\">\n",
       "        sent_rank[0]:6401\n",
       "    </td>\n",
       "    \n",
       "</tr>\n",
       "        \n",
       "            <tr style=\"background-color: hsl(120, 100.00%, 95.10%); border: none;\">\n",
       "    <td style=\"padding: 0 1em 0 0.5em; text-align: right; border: none;\">\n",
       "        +0.612\n",
       "    </td>\n",
       "    <td style=\"padding: 0 0.5em 0 0.5em; text-align: left; border: none;\">\n",
       "        sent_rank[0]:1551\n",
       "    </td>\n",
       "    \n",
       "</tr>\n",
       "        \n",
       "            <tr style=\"background-color: hsl(120, 100.00%, 95.33%); border: none;\">\n",
       "    <td style=\"padding: 0 1em 0 0.5em; text-align: right; border: none;\">\n",
       "        +0.571\n",
       "    </td>\n",
       "    <td style=\"padding: 0 0.5em 0 0.5em; text-align: left; border: none;\">\n",
       "        rank[0]:6\n",
       "    </td>\n",
       "    \n",
       "</tr>\n",
       "        \n",
       "            <tr style=\"background-color: hsl(120, 100.00%, 95.56%); border: none;\">\n",
       "    <td style=\"padding: 0 1em 0 0.5em; text-align: right; border: none;\">\n",
       "        +0.532\n",
       "    </td>\n",
       "    <td style=\"padding: 0 0.5em 0 0.5em; text-align: left; border: none;\">\n",
       "        prefix_short[-1]:Vil\n",
       "    </td>\n",
       "    \n",
       "</tr>\n",
       "        \n",
       "            <tr style=\"background-color: hsl(120, 100.00%, 95.56%); border: none;\">\n",
       "    <td style=\"padding: 0 1em 0 0.5em; text-align: right; border: none;\">\n",
       "        +0.532\n",
       "    </td>\n",
       "    <td style=\"padding: 0 0.5em 0 0.5em; text-align: left; border: none;\">\n",
       "        lemma[-1]:Villa\n",
       "    </td>\n",
       "    \n",
       "</tr>\n",
       "        \n",
       "            <tr style=\"background-color: hsl(120, 100.00%, 95.56%); border: none;\">\n",
       "    <td style=\"padding: 0 1em 0 0.5em; text-align: right; border: none;\">\n",
       "        +0.532\n",
       "    </td>\n",
       "    <td style=\"padding: 0 0.5em 0 0.5em; text-align: left; border: none;\">\n",
       "        w_lower[-1]:villa\n",
       "    </td>\n",
       "    \n",
       "</tr>\n",
       "        \n",
       "            <tr style=\"background-color: hsl(120, 100.00%, 95.56%); border: none;\">\n",
       "    <td style=\"padding: 0 1em 0 0.5em; text-align: right; border: none;\">\n",
       "        +0.532\n",
       "    </td>\n",
       "    <td style=\"padding: 0 0.5em 0 0.5em; text-align: left; border: none;\">\n",
       "        w[-1]:Villa\n",
       "    </td>\n",
       "    \n",
       "</tr>\n",
       "        \n",
       "            <tr style=\"background-color: hsl(120, 100.00%, 95.56%); border: none;\">\n",
       "    <td style=\"padding: 0 1em 0 0.5em; text-align: right; border: none;\">\n",
       "        +0.532\n",
       "    </td>\n",
       "    <td style=\"padding: 0 0.5em 0 0.5em; text-align: left; border: none;\">\n",
       "        prefix_long[-1]:Villa\n",
       "    </td>\n",
       "    \n",
       "</tr>\n",
       "        \n",
       "            <tr style=\"background-color: hsl(120, 100.00%, 95.56%); border: none;\">\n",
       "    <td style=\"padding: 0 1em 0 0.5em; text-align: right; border: none;\">\n",
       "        +0.531\n",
       "    </td>\n",
       "    <td style=\"padding: 0 0.5em 0 0.5em; text-align: left; border: none;\">\n",
       "        suffix_long[-1]:illa\n",
       "    </td>\n",
       "    \n",
       "</tr>\n",
       "        \n",
       "            <tr style=\"background-color: hsl(120, 100.00%, 95.60%); border: none;\">\n",
       "    <td style=\"padding: 0 1em 0 0.5em; text-align: right; border: none;\">\n",
       "        +0.524\n",
       "    </td>\n",
       "    <td style=\"padding: 0 0.5em 0 0.5em; text-align: left; border: none;\">\n",
       "        sent_rank[0]:87\n",
       "    </td>\n",
       "    \n",
       "</tr>\n",
       "        \n",
       "            <tr style=\"background-color: hsl(120, 100.00%, 95.62%); border: none;\">\n",
       "    <td style=\"padding: 0 1em 0 0.5em; text-align: right; border: none;\">\n",
       "        +0.521\n",
       "    </td>\n",
       "    <td style=\"padding: 0 0.5em 0 0.5em; text-align: left; border: none;\">\n",
       "        pos[-2]|pos[-1]:APPR|NN\n",
       "    </td>\n",
       "    \n",
       "</tr>\n",
       "        \n",
       "            <tr style=\"background-color: hsl(120, 100.00%, 95.64%); border: none;\">\n",
       "    <td style=\"padding: 0 1em 0 0.5em; text-align: right; border: none;\">\n",
       "        +0.517\n",
       "    </td>\n",
       "    <td style=\"padding: 0 0.5em 0 0.5em; text-align: left; border: none;\">\n",
       "        pos[0]:NE\n",
       "    </td>\n",
       "    \n",
       "</tr>\n",
       "        \n",
       "            <tr style=\"background-color: hsl(120, 100.00%, 95.74%); border: none;\">\n",
       "    <td style=\"padding: 0 1em 0 0.5em; text-align: right; border: none;\">\n",
       "        +0.500\n",
       "    </td>\n",
       "    <td style=\"padding: 0 0.5em 0 0.5em; text-align: left; border: none;\">\n",
       "        isInPersonDic[1]:True\n",
       "    </td>\n",
       "    \n",
       "</tr>\n",
       "        \n",
       "        \n",
       "            <tr style=\"background-color: hsl(120, 100.00%, 95.74%); border: none;\">\n",
       "                <td colspan=\"2\" style=\"padding: 0 0.5em 0 0.5em; text-align: center; border: none; white-space: nowrap;\">\n",
       "                    <i>&hellip; 596 more positive &hellip;</i>\n",
       "                </td>\n",
       "            </tr>\n",
       "        \n",
       "\n",
       "        \n",
       "            <tr style=\"background-color: hsl(0, 100.00%, 95.75%); border: none;\">\n",
       "                <td colspan=\"2\" style=\"padding: 0 0.5em 0 0.5em; text-align: center; border: none; white-space: nowrap;\">\n",
       "                    <i>&hellip; 19 more negative &hellip;</i>\n",
       "                </td>\n",
       "            </tr>\n",
       "        \n",
       "        \n",
       "            <tr style=\"background-color: hsl(0, 100.00%, 95.75%); border: none;\">\n",
       "    <td style=\"padding: 0 1em 0 0.5em; text-align: right; border: none;\">\n",
       "        -0.499\n",
       "    </td>\n",
       "    <td style=\"padding: 0 0.5em 0 0.5em; text-align: left; border: none;\">\n",
       "        pos[-1]:NE\n",
       "    </td>\n",
       "    \n",
       "</tr>\n",
       "        \n",
       "            <tr style=\"background-color: hsl(0, 100.00%, 95.47%); border: none;\">\n",
       "    <td style=\"padding: 0 1em 0 0.5em; text-align: right; border: none;\">\n",
       "        -0.546\n",
       "    </td>\n",
       "    <td style=\"padding: 0 0.5em 0 0.5em; text-align: left; border: none;\">\n",
       "        lemma[0]:&lt;unknown&gt;\n",
       "    </td>\n",
       "    \n",
       "</tr>\n",
       "        \n",
       "\n",
       "        </tbody>\n",
       "    </table>\n",
       "\n",
       "                                \n",
       "                            \n",
       "                        </td>\n",
       "                    \n",
       "                \n",
       "            </tr>\n",
       "        </table>\n",
       "    \n",
       "\n",
       "    \n",
       "        \n",
       "\n",
       "\n",
       "    \n",
       "        \n",
       "\n",
       "\n",
       "    \n",
       "        \n",
       "\n",
       "\n",
       "    \n",
       "\n",
       "\n",
       "    \n",
       "\n",
       "    \n",
       "\n",
       "    \n",
       "\n",
       "\n",
       "    \n",
       "\n",
       "    \n",
       "\n",
       "    \n",
       "\n",
       "    \n",
       "\n",
       "    \n",
       "\n",
       "    \n",
       "\n",
       "\n",
       "    \n",
       "\n",
       "    \n",
       "\n",
       "    \n",
       "\n",
       "    \n",
       "\n",
       "    \n",
       "\n",
       "    \n",
       "\n",
       "\n",
       "\n"
      ],
      "text/plain": [
       "<IPython.core.display.HTML object>"
      ]
     },
     "execution_count": 40,
     "metadata": {},
     "output_type": "execute_result"
    }
   ],
   "source": [
    "#eli5.show_weights(crf, top=10, targets=['O', 'B-ORG', 'I-ORG'])\n",
    "eli5.show_weights(t.crf, targets=['O','B-PLACEmentioned', \"I-PLACEmentioned\"])"
   ]
  },
  {
   "cell_type": "code",
   "execution_count": 52,
   "metadata": {
    "nbpresent": {
     "id": "1bdad3f4-aad3-4222-b42e-2d6bd6162627"
    }
   },
   "outputs": [
    {
     "data": {
      "text/html": [
       "\n",
       "    <style>\n",
       "    table.eli5-weights tr:hover {\n",
       "        filter: brightness(85%);\n",
       "    }\n",
       "</style>\n",
       "\n",
       "\n",
       "\n",
       "    \n",
       "\n",
       "    \n",
       "\n",
       "    \n",
       "\n",
       "    \n",
       "        \n",
       "\n",
       "    \n",
       "\n",
       "        \n",
       "            \n",
       "                \n",
       "                \n",
       "    \n",
       "        <p style=\"margin-bottom: 0.5em; margin-top: 0em\">\n",
       "            <b>\n",
       "    \n",
       "        y=O\n",
       "    \n",
       "</b>\n",
       "\n",
       "top features\n",
       "        </p>\n",
       "    \n",
       "    <table class=\"eli5-weights\"\n",
       "           style=\"border-collapse: collapse; border: none; margin-top: 0em; table-layout: auto; margin-bottom: 2em;\">\n",
       "        <thead>\n",
       "        <tr style=\"border: none;\">\n",
       "            \n",
       "                <th style=\"padding: 0 1em 0 0.5em; text-align: right; border: none;\" title=\"Feature weights. Note that weights do not account for feature value scales, so if feature values have different scales, features with highest weights might not be the most important.\">\n",
       "                    Weight<sup>?</sup>\n",
       "                </th>\n",
       "            \n",
       "            <th style=\"padding: 0 0.5em 0 0.5em; text-align: left; border: none;\">Feature</th>\n",
       "            \n",
       "        </tr>\n",
       "        </thead>\n",
       "        <tbody>\n",
       "        \n",
       "            <tr style=\"background-color: hsl(120, 100.00%, 87.47%); border: none;\">\n",
       "    <td style=\"padding: 0 1em 0 0.5em; text-align: right; border: none;\">\n",
       "        +1.202\n",
       "    </td>\n",
       "    <td style=\"padding: 0 0.5em 0 0.5em; text-align: left; border: none;\">\n",
       "        lemma[1]:drucken\n",
       "    </td>\n",
       "    \n",
       "</tr>\n",
       "        \n",
       "            <tr style=\"background-color: hsl(120, 100.00%, 88.72%); border: none;\">\n",
       "    <td style=\"padding: 0 1em 0 0.5em; text-align: right; border: none;\">\n",
       "        +1.034\n",
       "    </td>\n",
       "    <td style=\"padding: 0 0.5em 0 0.5em; text-align: left; border: none;\">\n",
       "        lemma[-1]:zu\n",
       "    </td>\n",
       "    \n",
       "</tr>\n",
       "        \n",
       "            <tr style=\"background-color: hsl(120, 100.00%, 91.01%); border: none;\">\n",
       "    <td style=\"padding: 0 1em 0 0.5em; text-align: right; border: none;\">\n",
       "        +0.748\n",
       "    </td>\n",
       "    <td style=\"padding: 0 0.5em 0 0.5em; text-align: left; border: none;\">\n",
       "        lemma[0]:La\n",
       "    </td>\n",
       "    \n",
       "</tr>\n",
       "        \n",
       "            <tr style=\"background-color: hsl(120, 100.00%, 91.58%); border: none;\">\n",
       "    <td style=\"padding: 0 1em 0 0.5em; text-align: right; border: none;\">\n",
       "        +0.681\n",
       "    </td>\n",
       "    <td style=\"padding: 0 0.5em 0 0.5em; text-align: left; border: none;\">\n",
       "        lemma[0]:in\n",
       "    </td>\n",
       "    \n",
       "</tr>\n",
       "        \n",
       "            <tr style=\"background-color: hsl(120, 100.00%, 92.00%); border: none;\">\n",
       "    <td style=\"padding: 0 1em 0 0.5em; text-align: right; border: none;\">\n",
       "        +0.633\n",
       "    </td>\n",
       "    <td style=\"padding: 0 0.5em 0 0.5em; text-align: left; border: none;\">\n",
       "        lemma[1]:einmal\n",
       "    </td>\n",
       "    \n",
       "</tr>\n",
       "        \n",
       "        \n",
       "            <tr style=\"background-color: hsl(120, 100.00%, 92.00%); border: none;\">\n",
       "                <td colspan=\"2\" style=\"padding: 0 0.5em 0 0.5em; text-align: center; border: none; white-space: nowrap;\">\n",
       "                    <i>&hellip; 278 more positive &hellip;</i>\n",
       "                </td>\n",
       "            </tr>\n",
       "        \n",
       "\n",
       "        \n",
       "            <tr style=\"background-color: hsl(0, 100.00%, 91.89%); border: none;\">\n",
       "                <td colspan=\"2\" style=\"padding: 0 0.5em 0 0.5em; text-align: center; border: none; white-space: nowrap;\">\n",
       "                    <i>&hellip; 329 more negative &hellip;</i>\n",
       "                </td>\n",
       "            </tr>\n",
       "        \n",
       "        \n",
       "            <tr style=\"background-color: hsl(0, 100.00%, 91.89%); border: none;\">\n",
       "    <td style=\"padding: 0 1em 0 0.5em; text-align: right; border: none;\">\n",
       "        -0.646\n",
       "    </td>\n",
       "    <td style=\"padding: 0 0.5em 0 0.5em; text-align: left; border: none;\">\n",
       "        lemma[-1]:Herr\n",
       "    </td>\n",
       "    \n",
       "</tr>\n",
       "        \n",
       "            <tr style=\"background-color: hsl(0, 100.00%, 91.54%); border: none;\">\n",
       "    <td style=\"padding: 0 1em 0 0.5em; text-align: right; border: none;\">\n",
       "        -0.686\n",
       "    </td>\n",
       "    <td style=\"padding: 0 0.5em 0 0.5em; text-align: left; border: none;\">\n",
       "        lemma[-1]:von\n",
       "    </td>\n",
       "    \n",
       "</tr>\n",
       "        \n",
       "            <tr style=\"background-color: hsl(0, 100.00%, 90.23%); border: none;\">\n",
       "    <td style=\"padding: 0 1em 0 0.5em; text-align: right; border: none;\">\n",
       "        -0.843\n",
       "    </td>\n",
       "    <td style=\"padding: 0 0.5em 0 0.5em; text-align: left; border: none;\">\n",
       "        lemma[0]:Annalen\n",
       "    </td>\n",
       "    \n",
       "</tr>\n",
       "        \n",
       "            <tr style=\"background-color: hsl(0, 100.00%, 89.14%); border: none;\">\n",
       "    <td style=\"padding: 0 1em 0 0.5em; text-align: right; border: none;\">\n",
       "        -0.979\n",
       "    </td>\n",
       "    <td style=\"padding: 0 0.5em 0 0.5em; text-align: left; border: none;\">\n",
       "        lemma[0]:&lt;unknown&gt;\n",
       "    </td>\n",
       "    \n",
       "</tr>\n",
       "        \n",
       "            <tr style=\"background-color: hsl(0, 100.00%, 84.42%); border: none;\">\n",
       "    <td style=\"padding: 0 1em 0 0.5em; text-align: right; border: none;\">\n",
       "        -1.640\n",
       "    </td>\n",
       "    <td style=\"padding: 0 0.5em 0 0.5em; text-align: left; border: none;\">\n",
       "        lemma[0]:Institut\n",
       "    </td>\n",
       "    \n",
       "</tr>\n",
       "        \n",
       "\n",
       "        </tbody>\n",
       "    </table>\n",
       "\n",
       "            \n",
       "        \n",
       "\n",
       "        \n",
       "\n",
       "\n",
       "\n",
       "    \n",
       "\n",
       "        \n",
       "            \n",
       "                \n",
       "                \n",
       "    \n",
       "        <p style=\"margin-bottom: 0.5em; margin-top: 0em\">\n",
       "            <b>\n",
       "    \n",
       "        y=B-DATEletter\n",
       "    \n",
       "</b>\n",
       "\n",
       "top features\n",
       "        </p>\n",
       "    \n",
       "    <table class=\"eli5-weights\"\n",
       "           style=\"border-collapse: collapse; border: none; margin-top: 0em; table-layout: auto; margin-bottom: 2em;\">\n",
       "        <thead>\n",
       "        <tr style=\"border: none;\">\n",
       "            \n",
       "                <th style=\"padding: 0 1em 0 0.5em; text-align: right; border: none;\" title=\"Feature weights. Note that weights do not account for feature value scales, so if feature values have different scales, features with highest weights might not be the most important.\">\n",
       "                    Weight<sup>?</sup>\n",
       "                </th>\n",
       "            \n",
       "            <th style=\"padding: 0 0.5em 0 0.5em; text-align: left; border: none;\">Feature</th>\n",
       "            \n",
       "        </tr>\n",
       "        </thead>\n",
       "        <tbody>\n",
       "        \n",
       "            <tr style=\"background-color: hsl(120, 100.00%, 92.65%); border: none;\">\n",
       "    <td style=\"padding: 0 1em 0 0.5em; text-align: right; border: none;\">\n",
       "        +0.561\n",
       "    </td>\n",
       "    <td style=\"padding: 0 0.5em 0 0.5em; text-align: left; border: none;\">\n",
       "        lemma[-1]:@card@\n",
       "    </td>\n",
       "    \n",
       "</tr>\n",
       "        \n",
       "            <tr style=\"background-color: hsl(120, 100.00%, 93.90%); border: none;\">\n",
       "    <td style=\"padding: 0 1em 0 0.5em; text-align: right; border: none;\">\n",
       "        +0.430\n",
       "    </td>\n",
       "    <td style=\"padding: 0 0.5em 0 0.5em; text-align: left; border: none;\">\n",
       "        lemma[0]:26\n",
       "    </td>\n",
       "    \n",
       "</tr>\n",
       "        \n",
       "            <tr style=\"background-color: hsl(120, 100.00%, 94.82%); border: none;\">\n",
       "    <td style=\"padding: 0 1em 0 0.5em; text-align: right; border: none;\">\n",
       "        +0.340\n",
       "    </td>\n",
       "    <td style=\"padding: 0 0.5em 0 0.5em; text-align: left; border: none;\">\n",
       "        lemma[0]:9\n",
       "    </td>\n",
       "    \n",
       "</tr>\n",
       "        \n",
       "            <tr style=\"background-color: hsl(120, 100.00%, 95.80%); border: none;\">\n",
       "    <td style=\"padding: 0 1em 0 0.5em; text-align: right; border: none;\">\n",
       "        +0.252\n",
       "    </td>\n",
       "    <td style=\"padding: 0 0.5em 0 0.5em; text-align: left; border: none;\">\n",
       "        lemma[1]:1\n",
       "    </td>\n",
       "    \n",
       "</tr>\n",
       "        \n",
       "            <tr style=\"background-color: hsl(120, 100.00%, 95.89%); border: none;\">\n",
       "    <td style=\"padding: 0 1em 0 0.5em; text-align: right; border: none;\">\n",
       "        +0.244\n",
       "    </td>\n",
       "    <td style=\"padding: 0 0.5em 0 0.5em; text-align: left; border: none;\">\n",
       "        lemma[-1]:Gerhard\n",
       "    </td>\n",
       "    \n",
       "</tr>\n",
       "        \n",
       "            <tr style=\"background-color: hsl(120, 100.00%, 96.49%); border: none;\">\n",
       "    <td style=\"padding: 0 1em 0 0.5em; text-align: right; border: none;\">\n",
       "        +0.195\n",
       "    </td>\n",
       "    <td style=\"padding: 0 0.5em 0 0.5em; text-align: left; border: none;\">\n",
       "        lemma[-1]:,\n",
       "    </td>\n",
       "    \n",
       "</tr>\n",
       "        \n",
       "            <tr style=\"background-color: hsl(120, 100.00%, 97.04%); border: none;\">\n",
       "    <td style=\"padding: 0 1em 0 0.5em; text-align: right; border: none;\">\n",
       "        +0.153\n",
       "    </td>\n",
       "    <td style=\"padding: 0 0.5em 0 0.5em; text-align: left; border: none;\">\n",
       "        lemma[1]:&lt;unknown&gt;\n",
       "    </td>\n",
       "    \n",
       "</tr>\n",
       "        \n",
       "            <tr style=\"background-color: hsl(120, 100.00%, 97.36%); border: none;\">\n",
       "    <td style=\"padding: 0 1em 0 0.5em; text-align: right; border: none;\">\n",
       "        +0.130\n",
       "    </td>\n",
       "    <td style=\"padding: 0 0.5em 0 0.5em; text-align: left; border: none;\">\n",
       "        lemma[0]:30\n",
       "    </td>\n",
       "    \n",
       "</tr>\n",
       "        \n",
       "            <tr style=\"background-color: hsl(120, 100.00%, 97.58%); border: none;\">\n",
       "    <td style=\"padding: 0 1em 0 0.5em; text-align: right; border: none;\">\n",
       "        +0.114\n",
       "    </td>\n",
       "    <td style=\"padding: 0 0.5em 0 0.5em; text-align: left; border: none;\">\n",
       "        lemma[0]:25\n",
       "    </td>\n",
       "    \n",
       "</tr>\n",
       "        \n",
       "        \n",
       "            <tr style=\"background-color: hsl(120, 100.00%, 97.58%); border: none;\">\n",
       "                <td colspan=\"2\" style=\"padding: 0 0.5em 0 0.5em; text-align: center; border: none; white-space: nowrap;\">\n",
       "                    <i>&hellip; 21 more positive &hellip;</i>\n",
       "                </td>\n",
       "            </tr>\n",
       "        \n",
       "\n",
       "        \n",
       "            <tr style=\"background-color: hsl(0, 100.00%, 97.70%); border: none;\">\n",
       "                <td colspan=\"2\" style=\"padding: 0 0.5em 0 0.5em; text-align: center; border: none; white-space: nowrap;\">\n",
       "                    <i>&hellip; 5 more negative &hellip;</i>\n",
       "                </td>\n",
       "            </tr>\n",
       "        \n",
       "        \n",
       "            <tr style=\"background-color: hsl(0, 100.00%, 97.70%); border: none;\">\n",
       "    <td style=\"padding: 0 1em 0 0.5em; text-align: right; border: none;\">\n",
       "        -0.106\n",
       "    </td>\n",
       "    <td style=\"padding: 0 0.5em 0 0.5em; text-align: left; border: none;\">\n",
       "        lemma[0]:1\n",
       "    </td>\n",
       "    \n",
       "</tr>\n",
       "        \n",
       "\n",
       "        </tbody>\n",
       "    </table>\n",
       "\n",
       "            \n",
       "        \n",
       "\n",
       "        \n",
       "\n",
       "\n",
       "\n",
       "    \n",
       "\n",
       "        \n",
       "            \n",
       "                \n",
       "                \n",
       "    \n",
       "        <p style=\"margin-bottom: 0.5em; margin-top: 0em\">\n",
       "            <b>\n",
       "    \n",
       "        y=I-DATEletter\n",
       "    \n",
       "</b>\n",
       "\n",
       "top features\n",
       "        </p>\n",
       "    \n",
       "    <table class=\"eli5-weights\"\n",
       "           style=\"border-collapse: collapse; border: none; margin-top: 0em; table-layout: auto; margin-bottom: 2em;\">\n",
       "        <thead>\n",
       "        <tr style=\"border: none;\">\n",
       "            \n",
       "                <th style=\"padding: 0 1em 0 0.5em; text-align: right; border: none;\" title=\"Feature weights. Note that weights do not account for feature value scales, so if feature values have different scales, features with highest weights might not be the most important.\">\n",
       "                    Weight<sup>?</sup>\n",
       "                </th>\n",
       "            \n",
       "            <th style=\"padding: 0 0.5em 0 0.5em; text-align: left; border: none;\">Feature</th>\n",
       "            \n",
       "        </tr>\n",
       "        </thead>\n",
       "        <tbody>\n",
       "        \n",
       "            <tr style=\"background-color: hsl(120, 100.00%, 85.41%); border: none;\">\n",
       "    <td style=\"padding: 0 1em 0 0.5em; text-align: right; border: none;\">\n",
       "        +1.493\n",
       "    </td>\n",
       "    <td style=\"padding: 0 0.5em 0 0.5em; text-align: left; border: none;\">\n",
       "        lemma[0]:@card@\n",
       "    </td>\n",
       "    \n",
       "</tr>\n",
       "        \n",
       "            <tr style=\"background-color: hsl(120, 100.00%, 93.41%); border: none;\">\n",
       "    <td style=\"padding: 0 1em 0 0.5em; text-align: right; border: none;\">\n",
       "        +0.480\n",
       "    </td>\n",
       "    <td style=\"padding: 0 0.5em 0 0.5em; text-align: left; border: none;\">\n",
       "        lemma[-1]:9\n",
       "    </td>\n",
       "    \n",
       "</tr>\n",
       "        \n",
       "            <tr style=\"background-color: hsl(120, 100.00%, 93.67%); border: none;\">\n",
       "    <td style=\"padding: 0 1em 0 0.5em; text-align: right; border: none;\">\n",
       "        +0.453\n",
       "    </td>\n",
       "    <td style=\"padding: 0 0.5em 0 0.5em; text-align: left; border: none;\">\n",
       "        lemma[0]:R.\n",
       "    </td>\n",
       "    \n",
       "</tr>\n",
       "        \n",
       "            <tr style=\"background-color: hsl(120, 100.00%, 94.16%); border: none;\">\n",
       "    <td style=\"padding: 0 1em 0 0.5em; text-align: right; border: none;\">\n",
       "        +0.404\n",
       "    </td>\n",
       "    <td style=\"padding: 0 0.5em 0 0.5em; text-align: left; border: none;\">\n",
       "        lemma[1]:@card@\n",
       "    </td>\n",
       "    \n",
       "</tr>\n",
       "        \n",
       "            <tr style=\"background-color: hsl(120, 100.00%, 94.48%); border: none;\">\n",
       "    <td style=\"padding: 0 1em 0 0.5em; text-align: right; border: none;\">\n",
       "        +0.373\n",
       "    </td>\n",
       "    <td style=\"padding: 0 0.5em 0 0.5em; text-align: left; border: none;\">\n",
       "        lemma[-1]:27\n",
       "    </td>\n",
       "    \n",
       "</tr>\n",
       "        \n",
       "            <tr style=\"background-color: hsl(120, 100.00%, 94.52%); border: none;\">\n",
       "    <td style=\"padding: 0 1em 0 0.5em; text-align: right; border: none;\">\n",
       "        +0.369\n",
       "    </td>\n",
       "    <td style=\"padding: 0 0.5em 0 0.5em; text-align: left; border: none;\">\n",
       "        lemma[-1]:Juli\n",
       "    </td>\n",
       "    \n",
       "</tr>\n",
       "        \n",
       "            <tr style=\"background-color: hsl(120, 100.00%, 95.38%); border: none;\">\n",
       "    <td style=\"padding: 0 1em 0 0.5em; text-align: right; border: none;\">\n",
       "        +0.289\n",
       "    </td>\n",
       "    <td style=\"padding: 0 0.5em 0 0.5em; text-align: left; border: none;\">\n",
       "        lemma[-1]:26\n",
       "    </td>\n",
       "    \n",
       "</tr>\n",
       "        \n",
       "        \n",
       "            <tr style=\"background-color: hsl(120, 100.00%, 95.38%); border: none;\">\n",
       "                <td colspan=\"2\" style=\"padding: 0 0.5em 0 0.5em; text-align: center; border: none; white-space: nowrap;\">\n",
       "                    <i>&hellip; 34 more positive &hellip;</i>\n",
       "                </td>\n",
       "            </tr>\n",
       "        \n",
       "\n",
       "        \n",
       "            <tr style=\"background-color: hsl(0, 100.00%, 90.83%); border: none;\">\n",
       "                <td colspan=\"2\" style=\"padding: 0 0.5em 0 0.5em; text-align: center; border: none; white-space: nowrap;\">\n",
       "                    <i>&hellip; 20 more negative &hellip;</i>\n",
       "                </td>\n",
       "            </tr>\n",
       "        \n",
       "        \n",
       "            <tr style=\"background-color: hsl(0, 100.00%, 90.83%); border: none;\">\n",
       "    <td style=\"padding: 0 1em 0 0.5em; text-align: right; border: none;\">\n",
       "        -0.769\n",
       "    </td>\n",
       "    <td style=\"padding: 0 0.5em 0 0.5em; text-align: left; border: none;\">\n",
       "        lemma[-1]:@card@\n",
       "    </td>\n",
       "    \n",
       "</tr>\n",
       "        \n",
       "            <tr style=\"background-color: hsl(0, 100.00%, 90.18%); border: none;\">\n",
       "    <td style=\"padding: 0 1em 0 0.5em; text-align: right; border: none;\">\n",
       "        -0.848\n",
       "    </td>\n",
       "    <td style=\"padding: 0 0.5em 0 0.5em; text-align: left; border: none;\">\n",
       "        lemma[0]:&lt;unknown&gt;\n",
       "    </td>\n",
       "    \n",
       "</tr>\n",
       "        \n",
       "            <tr style=\"background-color: hsl(0, 100.00%, 82.13%); border: none;\">\n",
       "    <td style=\"padding: 0 1em 0 0.5em; text-align: right; border: none;\">\n",
       "        -1.995\n",
       "    </td>\n",
       "    <td style=\"padding: 0 0.5em 0 0.5em; text-align: left; border: none;\">\n",
       "        lemma[1]:&lt;unknown&gt;\n",
       "    </td>\n",
       "    \n",
       "</tr>\n",
       "        \n",
       "\n",
       "        </tbody>\n",
       "    </table>\n",
       "\n",
       "            \n",
       "        \n",
       "\n",
       "        \n",
       "\n",
       "\n",
       "\n",
       "    \n",
       "\n",
       "        \n",
       "            \n",
       "                \n",
       "                \n",
       "    \n",
       "        <p style=\"margin-bottom: 0.5em; margin-top: 0em\">\n",
       "            <b>\n",
       "    \n",
       "        y=B-DATEmentioned\n",
       "    \n",
       "</b>\n",
       "\n",
       "top features\n",
       "        </p>\n",
       "    \n",
       "    <table class=\"eli5-weights\"\n",
       "           style=\"border-collapse: collapse; border: none; margin-top: 0em; table-layout: auto; margin-bottom: 2em;\">\n",
       "        <thead>\n",
       "        <tr style=\"border: none;\">\n",
       "            \n",
       "                <th style=\"padding: 0 1em 0 0.5em; text-align: right; border: none;\" title=\"Feature weights. Note that weights do not account for feature value scales, so if feature values have different scales, features with highest weights might not be the most important.\">\n",
       "                    Weight<sup>?</sup>\n",
       "                </th>\n",
       "            \n",
       "            <th style=\"padding: 0 0.5em 0 0.5em; text-align: left; border: none;\">Feature</th>\n",
       "            \n",
       "        </tr>\n",
       "        </thead>\n",
       "        <tbody>\n",
       "        \n",
       "            <tr style=\"background-color: hsl(120, 100.00%, 93.94%); border: none;\">\n",
       "    <td style=\"padding: 0 1em 0 0.5em; text-align: right; border: none;\">\n",
       "        +0.426\n",
       "    </td>\n",
       "    <td style=\"padding: 0 0.5em 0 0.5em; text-align: left; border: none;\">\n",
       "        lemma[0]:Ende\n",
       "    </td>\n",
       "    \n",
       "</tr>\n",
       "        \n",
       "            <tr style=\"background-color: hsl(120, 100.00%, 93.99%); border: none;\">\n",
       "    <td style=\"padding: 0 1em 0 0.5em; text-align: right; border: none;\">\n",
       "        +0.421\n",
       "    </td>\n",
       "    <td style=\"padding: 0 0.5em 0 0.5em; text-align: left; border: none;\">\n",
       "        lemma[1]:sein\n",
       "    </td>\n",
       "    \n",
       "</tr>\n",
       "        \n",
       "            <tr style=\"background-color: hsl(120, 100.00%, 94.75%); border: none;\">\n",
       "    <td style=\"padding: 0 1em 0 0.5em; text-align: right; border: none;\">\n",
       "        +0.347\n",
       "    </td>\n",
       "    <td style=\"padding: 0 0.5em 0 0.5em; text-align: left; border: none;\">\n",
       "        lemma[0]:21\n",
       "    </td>\n",
       "    \n",
       "</tr>\n",
       "        \n",
       "            <tr style=\"background-color: hsl(120, 100.00%, 94.95%); border: none;\">\n",
       "    <td style=\"padding: 0 1em 0 0.5em; text-align: right; border: none;\">\n",
       "        +0.328\n",
       "    </td>\n",
       "    <td style=\"padding: 0 0.5em 0 0.5em; text-align: left; border: none;\">\n",
       "        lemma[1]:@card@\n",
       "    </td>\n",
       "    \n",
       "</tr>\n",
       "        \n",
       "            <tr style=\"background-color: hsl(120, 100.00%, 95.72%); border: none;\">\n",
       "    <td style=\"padding: 0 1em 0 0.5em; text-align: right; border: none;\">\n",
       "        +0.259\n",
       "    </td>\n",
       "    <td style=\"padding: 0 0.5em 0 0.5em; text-align: left; border: none;\">\n",
       "        lemma[1]:durchkommen\n",
       "    </td>\n",
       "    \n",
       "</tr>\n",
       "        \n",
       "            <tr style=\"background-color: hsl(120, 100.00%, 95.97%); border: none;\">\n",
       "    <td style=\"padding: 0 1em 0 0.5em; text-align: right; border: none;\">\n",
       "        +0.238\n",
       "    </td>\n",
       "    <td style=\"padding: 0 0.5em 0 0.5em; text-align: left; border: none;\">\n",
       "        lemma[-1]:die\n",
       "    </td>\n",
       "    \n",
       "</tr>\n",
       "        \n",
       "            <tr style=\"background-color: hsl(120, 100.00%, 96.03%); border: none;\">\n",
       "    <td style=\"padding: 0 1em 0 0.5em; text-align: right; border: none;\">\n",
       "        +0.232\n",
       "    </td>\n",
       "    <td style=\"padding: 0 0.5em 0 0.5em; text-align: left; border: none;\">\n",
       "        lemma[0]:Winter\n",
       "    </td>\n",
       "    \n",
       "</tr>\n",
       "        \n",
       "            <tr style=\"background-color: hsl(120, 100.00%, 96.06%); border: none;\">\n",
       "    <td style=\"padding: 0 1em 0 0.5em; text-align: right; border: none;\">\n",
       "        +0.230\n",
       "    </td>\n",
       "    <td style=\"padding: 0 0.5em 0 0.5em; text-align: left; border: none;\">\n",
       "        lemma[0]:Morgen\n",
       "    </td>\n",
       "    \n",
       "</tr>\n",
       "        \n",
       "            <tr style=\"background-color: hsl(120, 100.00%, 96.49%); border: none;\">\n",
       "    <td style=\"padding: 0 1em 0 0.5em; text-align: right; border: none;\">\n",
       "        +0.195\n",
       "    </td>\n",
       "    <td style=\"padding: 0 0.5em 0 0.5em; text-align: left; border: none;\">\n",
       "        lemma[1]:Autor\n",
       "    </td>\n",
       "    \n",
       "</tr>\n",
       "        \n",
       "            <tr style=\"background-color: hsl(120, 100.00%, 96.52%); border: none;\">\n",
       "    <td style=\"padding: 0 1em 0 0.5em; text-align: right; border: none;\">\n",
       "        +0.193\n",
       "    </td>\n",
       "    <td style=\"padding: 0 0.5em 0 0.5em; text-align: left; border: none;\">\n",
       "        lemma[0]:Anfang\n",
       "    </td>\n",
       "    \n",
       "</tr>\n",
       "        \n",
       "        \n",
       "            <tr style=\"background-color: hsl(120, 100.00%, 96.52%); border: none;\">\n",
       "                <td colspan=\"2\" style=\"padding: 0 0.5em 0 0.5em; text-align: center; border: none; white-space: nowrap;\">\n",
       "                    <i>&hellip; 34 more positive &hellip;</i>\n",
       "                </td>\n",
       "            </tr>\n",
       "        \n",
       "\n",
       "        \n",
       "            <tr style=\"background-color: hsl(0, 100.00%, 80.00%); border: none;\">\n",
       "                <td colspan=\"2\" style=\"padding: 0 0.5em 0 0.5em; text-align: center; border: none; white-space: nowrap;\">\n",
       "                    <i>&hellip; 8 more negative &hellip;</i>\n",
       "                </td>\n",
       "            </tr>\n",
       "        \n",
       "        \n",
       "\n",
       "        </tbody>\n",
       "    </table>\n",
       "\n",
       "            \n",
       "        \n",
       "\n",
       "        \n",
       "\n",
       "\n",
       "\n",
       "    \n",
       "\n",
       "        \n",
       "            \n",
       "                \n",
       "                \n",
       "    \n",
       "        <p style=\"margin-bottom: 0.5em; margin-top: 0em\">\n",
       "            <b>\n",
       "    \n",
       "        y=I-DATEmentioned\n",
       "    \n",
       "</b>\n",
       "\n",
       "top features\n",
       "        </p>\n",
       "    \n",
       "    <table class=\"eli5-weights\"\n",
       "           style=\"border-collapse: collapse; border: none; margin-top: 0em; table-layout: auto; margin-bottom: 2em;\">\n",
       "        <thead>\n",
       "        <tr style=\"border: none;\">\n",
       "            \n",
       "                <th style=\"padding: 0 1em 0 0.5em; text-align: right; border: none;\" title=\"Feature weights. Note that weights do not account for feature value scales, so if feature values have different scales, features with highest weights might not be the most important.\">\n",
       "                    Weight<sup>?</sup>\n",
       "                </th>\n",
       "            \n",
       "            <th style=\"padding: 0 0.5em 0 0.5em; text-align: left; border: none;\">Feature</th>\n",
       "            \n",
       "        </tr>\n",
       "        </thead>\n",
       "        <tbody>\n",
       "        \n",
       "            <tr style=\"background-color: hsl(120, 100.00%, 92.78%); border: none;\">\n",
       "    <td style=\"padding: 0 1em 0 0.5em; text-align: right; border: none;\">\n",
       "        +0.547\n",
       "    </td>\n",
       "    <td style=\"padding: 0 0.5em 0 0.5em; text-align: left; border: none;\">\n",
       "        lemma[-1]:21\n",
       "    </td>\n",
       "    \n",
       "</tr>\n",
       "        \n",
       "            <tr style=\"background-color: hsl(120, 100.00%, 94.92%); border: none;\">\n",
       "    <td style=\"padding: 0 1em 0 0.5em; text-align: right; border: none;\">\n",
       "        +0.331\n",
       "    </td>\n",
       "    <td style=\"padding: 0 0.5em 0 0.5em; text-align: left; border: none;\">\n",
       "        lemma[0]:April\n",
       "    </td>\n",
       "    \n",
       "</tr>\n",
       "        \n",
       "            <tr style=\"background-color: hsl(120, 100.00%, 95.42%); border: none;\">\n",
       "    <td style=\"padding: 0 1em 0 0.5em; text-align: right; border: none;\">\n",
       "        +0.285\n",
       "    </td>\n",
       "    <td style=\"padding: 0 0.5em 0 0.5em; text-align: left; border: none;\">\n",
       "        lemma[-1]:1861\n",
       "    </td>\n",
       "    \n",
       "</tr>\n",
       "        \n",
       "            <tr style=\"background-color: hsl(120, 100.00%, 96.19%); border: none;\">\n",
       "    <td style=\"padding: 0 1em 0 0.5em; text-align: right; border: none;\">\n",
       "        +0.219\n",
       "    </td>\n",
       "    <td style=\"padding: 0 0.5em 0 0.5em; text-align: left; border: none;\">\n",
       "        lemma[1]:\\;\n",
       "    </td>\n",
       "    \n",
       "</tr>\n",
       "        \n",
       "            <tr style=\"background-color: hsl(120, 100.00%, 96.23%); border: none;\">\n",
       "    <td style=\"padding: 0 1em 0 0.5em; text-align: right; border: none;\">\n",
       "        +0.216\n",
       "    </td>\n",
       "    <td style=\"padding: 0 0.5em 0 0.5em; text-align: left; border: none;\">\n",
       "        lemma[1]:sollen\n",
       "    </td>\n",
       "    \n",
       "</tr>\n",
       "        \n",
       "            <tr style=\"background-color: hsl(120, 100.00%, 96.28%); border: none;\">\n",
       "    <td style=\"padding: 0 1em 0 0.5em; text-align: right; border: none;\">\n",
       "        +0.212\n",
       "    </td>\n",
       "    <td style=\"padding: 0 0.5em 0 0.5em; text-align: left; border: none;\">\n",
       "        lemma[-1]:Ende\n",
       "    </td>\n",
       "    \n",
       "</tr>\n",
       "        \n",
       "            <tr style=\"background-color: hsl(120, 100.00%, 96.31%); border: none;\">\n",
       "    <td style=\"padding: 0 1em 0 0.5em; text-align: right; border: none;\">\n",
       "        +0.210\n",
       "    </td>\n",
       "    <td style=\"padding: 0 0.5em 0 0.5em; text-align: left; border: none;\">\n",
       "        lemma[-1]:8\n",
       "    </td>\n",
       "    \n",
       "</tr>\n",
       "        \n",
       "            <tr style=\"background-color: hsl(120, 100.00%, 96.31%); border: none;\">\n",
       "    <td style=\"padding: 0 1em 0 0.5em; text-align: right; border: none;\">\n",
       "        +0.209\n",
       "    </td>\n",
       "    <td style=\"padding: 0 0.5em 0 0.5em; text-align: left; border: none;\">\n",
       "        lemma[0]:Monat\n",
       "    </td>\n",
       "    \n",
       "</tr>\n",
       "        \n",
       "        \n",
       "            <tr style=\"background-color: hsl(120, 100.00%, 96.31%); border: none;\">\n",
       "                <td colspan=\"2\" style=\"padding: 0 0.5em 0 0.5em; text-align: center; border: none; white-space: nowrap;\">\n",
       "                    <i>&hellip; 49 more positive &hellip;</i>\n",
       "                </td>\n",
       "            </tr>\n",
       "        \n",
       "\n",
       "        \n",
       "            <tr style=\"background-color: hsl(0, 100.00%, 93.85%); border: none;\">\n",
       "                <td colspan=\"2\" style=\"padding: 0 0.5em 0 0.5em; text-align: center; border: none; white-space: nowrap;\">\n",
       "                    <i>&hellip; 14 more negative &hellip;</i>\n",
       "                </td>\n",
       "            </tr>\n",
       "        \n",
       "        \n",
       "            <tr style=\"background-color: hsl(0, 100.00%, 93.85%); border: none;\">\n",
       "    <td style=\"padding: 0 1em 0 0.5em; text-align: right; border: none;\">\n",
       "        -0.435\n",
       "    </td>\n",
       "    <td style=\"padding: 0 0.5em 0 0.5em; text-align: left; border: none;\">\n",
       "        lemma[-1]:&lt;unknown&gt;\n",
       "    </td>\n",
       "    \n",
       "</tr>\n",
       "        \n",
       "            <tr style=\"background-color: hsl(0, 100.00%, 86.14%); border: none;\">\n",
       "    <td style=\"padding: 0 1em 0 0.5em; text-align: right; border: none;\">\n",
       "        -1.388\n",
       "    </td>\n",
       "    <td style=\"padding: 0 0.5em 0 0.5em; text-align: left; border: none;\">\n",
       "        lemma[-1]:@card@\n",
       "    </td>\n",
       "    \n",
       "</tr>\n",
       "        \n",
       "\n",
       "        </tbody>\n",
       "    </table>\n",
       "\n",
       "            \n",
       "        \n",
       "\n",
       "        \n",
       "\n",
       "\n",
       "\n",
       "    \n",
       "\n",
       "        \n",
       "            \n",
       "                \n",
       "                \n",
       "    \n",
       "        <p style=\"margin-bottom: 0.5em; margin-top: 0em\">\n",
       "            <b>\n",
       "    \n",
       "        y=B-LIT\n",
       "    \n",
       "</b>\n",
       "\n",
       "top features\n",
       "        </p>\n",
       "    \n",
       "    <table class=\"eli5-weights\"\n",
       "           style=\"border-collapse: collapse; border: none; margin-top: 0em; table-layout: auto; margin-bottom: 2em;\">\n",
       "        <thead>\n",
       "        <tr style=\"border: none;\">\n",
       "            \n",
       "                <th style=\"padding: 0 1em 0 0.5em; text-align: right; border: none;\" title=\"Feature weights. Note that weights do not account for feature value scales, so if feature values have different scales, features with highest weights might not be the most important.\">\n",
       "                    Weight<sup>?</sup>\n",
       "                </th>\n",
       "            \n",
       "            <th style=\"padding: 0 0.5em 0 0.5em; text-align: left; border: none;\">Feature</th>\n",
       "            \n",
       "        </tr>\n",
       "        </thead>\n",
       "        <tbody>\n",
       "        \n",
       "            <tr style=\"background-color: hsl(120, 100.00%, 90.38%); border: none;\">\n",
       "    <td style=\"padding: 0 1em 0 0.5em; text-align: right; border: none;\">\n",
       "        +0.824\n",
       "    </td>\n",
       "    <td style=\"padding: 0 0.5em 0 0.5em; text-align: left; border: none;\">\n",
       "        lemma[0]:Annalen\n",
       "    </td>\n",
       "    \n",
       "</tr>\n",
       "        \n",
       "            <tr style=\"background-color: hsl(120, 100.00%, 90.73%); border: none;\">\n",
       "    <td style=\"padding: 0 1em 0 0.5em; text-align: right; border: none;\">\n",
       "        +0.781\n",
       "    </td>\n",
       "    <td style=\"padding: 0 0.5em 0 0.5em; text-align: left; border: none;\">\n",
       "        lemma[-1]:Müller\n",
       "    </td>\n",
       "    \n",
       "</tr>\n",
       "        \n",
       "            <tr style=\"background-color: hsl(120, 100.00%, 91.42%); border: none;\">\n",
       "    <td style=\"padding: 0 1em 0 0.5em; text-align: right; border: none;\">\n",
       "        +0.699\n",
       "    </td>\n",
       "    <td style=\"padding: 0 0.5em 0 0.5em; text-align: left; border: none;\">\n",
       "        lemma[0]:Kunstblatt\n",
       "    </td>\n",
       "    \n",
       "</tr>\n",
       "        \n",
       "            <tr style=\"background-color: hsl(120, 100.00%, 91.73%); border: none;\">\n",
       "    <td style=\"padding: 0 1em 0 0.5em; text-align: right; border: none;\">\n",
       "        +0.663\n",
       "    </td>\n",
       "    <td style=\"padding: 0 0.5em 0 0.5em; text-align: left; border: none;\">\n",
       "        lemma[1]:schenken\n",
       "    </td>\n",
       "    \n",
       "</tr>\n",
       "        \n",
       "            <tr style=\"background-color: hsl(120, 100.00%, 91.83%); border: none;\">\n",
       "    <td style=\"padding: 0 1em 0 0.5em; text-align: right; border: none;\">\n",
       "        +0.653\n",
       "    </td>\n",
       "    <td style=\"padding: 0 0.5em 0 0.5em; text-align: left; border: none;\">\n",
       "        lemma[0]:Jahrbuch\n",
       "    </td>\n",
       "    \n",
       "</tr>\n",
       "        \n",
       "            <tr style=\"background-color: hsl(120, 100.00%, 93.06%); border: none;\">\n",
       "    <td style=\"padding: 0 1em 0 0.5em; text-align: right; border: none;\">\n",
       "        +0.517\n",
       "    </td>\n",
       "    <td style=\"padding: 0 0.5em 0 0.5em; text-align: left; border: none;\">\n",
       "        lemma[0]:&lt;unknown&gt;\n",
       "    </td>\n",
       "    \n",
       "</tr>\n",
       "        \n",
       "            <tr style=\"background-color: hsl(120, 100.00%, 93.59%); border: none;\">\n",
       "    <td style=\"padding: 0 1em 0 0.5em; text-align: right; border: none;\">\n",
       "        +0.461\n",
       "    </td>\n",
       "    <td style=\"padding: 0 0.5em 0 0.5em; text-align: left; border: none;\">\n",
       "        lemma[-1]:sein\n",
       "    </td>\n",
       "    \n",
       "</tr>\n",
       "        \n",
       "            <tr style=\"background-color: hsl(120, 100.00%, 93.80%); border: none;\">\n",
       "    <td style=\"padding: 0 1em 0 0.5em; text-align: right; border: none;\">\n",
       "        +0.440\n",
       "    </td>\n",
       "    <td style=\"padding: 0 0.5em 0 0.5em; text-align: left; border: none;\">\n",
       "        lemma[-1]:Bouillon\n",
       "    </td>\n",
       "    \n",
       "</tr>\n",
       "        \n",
       "            <tr style=\"background-color: hsl(120, 100.00%, 94.04%); border: none;\">\n",
       "    <td style=\"padding: 0 1em 0 0.5em; text-align: right; border: none;\">\n",
       "        +0.416\n",
       "    </td>\n",
       "    <td style=\"padding: 0 0.5em 0 0.5em; text-align: left; border: none;\">\n",
       "        lemma[1]:liegen\n",
       "    </td>\n",
       "    \n",
       "</tr>\n",
       "        \n",
       "        \n",
       "            <tr style=\"background-color: hsl(120, 100.00%, 94.04%); border: none;\">\n",
       "                <td colspan=\"2\" style=\"padding: 0 0.5em 0 0.5em; text-align: center; border: none; white-space: nowrap;\">\n",
       "                    <i>&hellip; 85 more positive &hellip;</i>\n",
       "                </td>\n",
       "            </tr>\n",
       "        \n",
       "\n",
       "        \n",
       "            <tr style=\"background-color: hsl(0, 100.00%, 91.87%); border: none;\">\n",
       "                <td colspan=\"2\" style=\"padding: 0 0.5em 0 0.5em; text-align: center; border: none; white-space: nowrap;\">\n",
       "                    <i>&hellip; 3 more negative &hellip;</i>\n",
       "                </td>\n",
       "            </tr>\n",
       "        \n",
       "        \n",
       "            <tr style=\"background-color: hsl(0, 100.00%, 91.87%); border: none;\">\n",
       "    <td style=\"padding: 0 1em 0 0.5em; text-align: right; border: none;\">\n",
       "        -0.648\n",
       "    </td>\n",
       "    <td style=\"padding: 0 0.5em 0 0.5em; text-align: left; border: none;\">\n",
       "        lemma[1]:sein\n",
       "    </td>\n",
       "    \n",
       "</tr>\n",
       "        \n",
       "\n",
       "        </tbody>\n",
       "    </table>\n",
       "\n",
       "            \n",
       "        \n",
       "\n",
       "        \n",
       "\n",
       "\n",
       "\n",
       "    \n",
       "\n",
       "        \n",
       "            \n",
       "                \n",
       "                \n",
       "    \n",
       "        <p style=\"margin-bottom: 0.5em; margin-top: 0em\">\n",
       "            <b>\n",
       "    \n",
       "        y=I-LIT\n",
       "    \n",
       "</b>\n",
       "\n",
       "top features\n",
       "        </p>\n",
       "    \n",
       "    <table class=\"eli5-weights\"\n",
       "           style=\"border-collapse: collapse; border: none; margin-top: 0em; table-layout: auto; margin-bottom: 2em;\">\n",
       "        <thead>\n",
       "        <tr style=\"border: none;\">\n",
       "            \n",
       "                <th style=\"padding: 0 1em 0 0.5em; text-align: right; border: none;\" title=\"Feature weights. Note that weights do not account for feature value scales, so if feature values have different scales, features with highest weights might not be the most important.\">\n",
       "                    Weight<sup>?</sup>\n",
       "                </th>\n",
       "            \n",
       "            <th style=\"padding: 0 0.5em 0 0.5em; text-align: left; border: none;\">Feature</th>\n",
       "            \n",
       "        </tr>\n",
       "        </thead>\n",
       "        <tbody>\n",
       "        \n",
       "            <tr style=\"background-color: hsl(120, 100.00%, 92.47%); border: none;\">\n",
       "    <td style=\"padding: 0 1em 0 0.5em; text-align: right; border: none;\">\n",
       "        +0.581\n",
       "    </td>\n",
       "    <td style=\"padding: 0 0.5em 0 0.5em; text-align: left; border: none;\">\n",
       "        lemma[1]:von\n",
       "    </td>\n",
       "    \n",
       "</tr>\n",
       "        \n",
       "            <tr style=\"background-color: hsl(120, 100.00%, 93.13%); border: none;\">\n",
       "    <td style=\"padding: 0 1em 0 0.5em; text-align: right; border: none;\">\n",
       "        +0.509\n",
       "    </td>\n",
       "    <td style=\"padding: 0 0.5em 0 0.5em; text-align: left; border: none;\">\n",
       "        lemma[0]:Zeitung\n",
       "    </td>\n",
       "    \n",
       "</tr>\n",
       "        \n",
       "            <tr style=\"background-color: hsl(120, 100.00%, 94.43%); border: none;\">\n",
       "    <td style=\"padding: 0 1em 0 0.5em; text-align: right; border: none;\">\n",
       "        +0.378\n",
       "    </td>\n",
       "    <td style=\"padding: 0 0.5em 0 0.5em; text-align: left; border: none;\">\n",
       "        lemma[0]:Schrift\n",
       "    </td>\n",
       "    \n",
       "</tr>\n",
       "        \n",
       "            <tr style=\"background-color: hsl(120, 100.00%, 95.24%); border: none;\">\n",
       "    <td style=\"padding: 0 1em 0 0.5em; text-align: right; border: none;\">\n",
       "        +0.302\n",
       "    </td>\n",
       "    <td style=\"padding: 0 0.5em 0 0.5em; text-align: left; border: none;\">\n",
       "        lemma[0]:Museum\n",
       "    </td>\n",
       "    \n",
       "</tr>\n",
       "        \n",
       "            <tr style=\"background-color: hsl(120, 100.00%, 95.42%); border: none;\">\n",
       "    <td style=\"padding: 0 1em 0 0.5em; text-align: right; border: none;\">\n",
       "        +0.285\n",
       "    </td>\n",
       "    <td style=\"padding: 0 0.5em 0 0.5em; text-align: left; border: none;\">\n",
       "        lemma[1]:13\n",
       "    </td>\n",
       "    \n",
       "</tr>\n",
       "        \n",
       "            <tr style=\"background-color: hsl(120, 100.00%, 95.78%); border: none;\">\n",
       "    <td style=\"padding: 0 1em 0 0.5em; text-align: right; border: none;\">\n",
       "        +0.254\n",
       "    </td>\n",
       "    <td style=\"padding: 0 0.5em 0 0.5em; text-align: left; border: none;\">\n",
       "        lemma[-1]:die\n",
       "    </td>\n",
       "    \n",
       "</tr>\n",
       "        \n",
       "            <tr style=\"background-color: hsl(120, 100.00%, 96.12%); border: none;\">\n",
       "    <td style=\"padding: 0 1em 0 0.5em; text-align: right; border: none;\">\n",
       "        +0.226\n",
       "    </td>\n",
       "    <td style=\"padding: 0 0.5em 0 0.5em; text-align: left; border: none;\">\n",
       "        lemma[0]:Werk\n",
       "    </td>\n",
       "    \n",
       "</tr>\n",
       "        \n",
       "            <tr style=\"background-color: hsl(120, 100.00%, 96.26%); border: none;\">\n",
       "    <td style=\"padding: 0 1em 0 0.5em; text-align: right; border: none;\">\n",
       "        +0.214\n",
       "    </td>\n",
       "    <td style=\"padding: 0 0.5em 0 0.5em; text-align: left; border: none;\">\n",
       "        lemma[-1]:archäologisch\n",
       "    </td>\n",
       "    \n",
       "</tr>\n",
       "        \n",
       "            <tr style=\"background-color: hsl(120, 100.00%, 96.30%); border: none;\">\n",
       "    <td style=\"padding: 0 1em 0 0.5em; text-align: right; border: none;\">\n",
       "        +0.211\n",
       "    </td>\n",
       "    <td style=\"padding: 0 0.5em 0 0.5em; text-align: left; border: none;\">\n",
       "        lemma[0]:.\n",
       "    </td>\n",
       "    \n",
       "</tr>\n",
       "        \n",
       "        \n",
       "            <tr style=\"background-color: hsl(120, 100.00%, 96.30%); border: none;\">\n",
       "                <td colspan=\"2\" style=\"padding: 0 0.5em 0 0.5em; text-align: center; border: none; white-space: nowrap;\">\n",
       "                    <i>&hellip; 85 more positive &hellip;</i>\n",
       "                </td>\n",
       "            </tr>\n",
       "        \n",
       "\n",
       "        \n",
       "            <tr style=\"background-color: hsl(0, 100.00%, 95.21%); border: none;\">\n",
       "                <td colspan=\"2\" style=\"padding: 0 0.5em 0 0.5em; text-align: center; border: none; white-space: nowrap;\">\n",
       "                    <i>&hellip; 7 more negative &hellip;</i>\n",
       "                </td>\n",
       "            </tr>\n",
       "        \n",
       "        \n",
       "            <tr style=\"background-color: hsl(0, 100.00%, 95.21%); border: none;\">\n",
       "    <td style=\"padding: 0 1em 0 0.5em; text-align: right; border: none;\">\n",
       "        -0.304\n",
       "    </td>\n",
       "    <td style=\"padding: 0 0.5em 0 0.5em; text-align: left; border: none;\">\n",
       "        lemma[1]:haben\n",
       "    </td>\n",
       "    \n",
       "</tr>\n",
       "        \n",
       "\n",
       "        </tbody>\n",
       "    </table>\n",
       "\n",
       "            \n",
       "        \n",
       "\n",
       "        \n",
       "\n",
       "\n",
       "\n",
       "    \n",
       "\n",
       "        \n",
       "            \n",
       "                \n",
       "                \n",
       "    \n",
       "        <p style=\"margin-bottom: 0.5em; margin-top: 0em\">\n",
       "            <b>\n",
       "    \n",
       "        y=B-OBJ\n",
       "    \n",
       "</b>\n",
       "\n",
       "top features\n",
       "        </p>\n",
       "    \n",
       "    <table class=\"eli5-weights\"\n",
       "           style=\"border-collapse: collapse; border: none; margin-top: 0em; table-layout: auto; margin-bottom: 2em;\">\n",
       "        <thead>\n",
       "        <tr style=\"border: none;\">\n",
       "            \n",
       "                <th style=\"padding: 0 1em 0 0.5em; text-align: right; border: none;\" title=\"Feature weights. Note that weights do not account for feature value scales, so if feature values have different scales, features with highest weights might not be the most important.\">\n",
       "                    Weight<sup>?</sup>\n",
       "                </th>\n",
       "            \n",
       "            <th style=\"padding: 0 0.5em 0 0.5em; text-align: left; border: none;\">Feature</th>\n",
       "            \n",
       "        </tr>\n",
       "        </thead>\n",
       "        <tbody>\n",
       "        \n",
       "            <tr style=\"background-color: hsl(120, 100.00%, 86.02%); border: none;\">\n",
       "    <td style=\"padding: 0 1em 0 0.5em; text-align: right; border: none;\">\n",
       "        +1.405\n",
       "    </td>\n",
       "    <td style=\"padding: 0 0.5em 0 0.5em; text-align: left; border: none;\">\n",
       "        lemma[0]:Gemälde\n",
       "    </td>\n",
       "    \n",
       "</tr>\n",
       "        \n",
       "            <tr style=\"background-color: hsl(120, 100.00%, 89.51%); border: none;\">\n",
       "    <td style=\"padding: 0 1em 0 0.5em; text-align: right; border: none;\">\n",
       "        +0.932\n",
       "    </td>\n",
       "    <td style=\"padding: 0 0.5em 0 0.5em; text-align: left; border: none;\">\n",
       "        lemma[0]:&lt;unknown&gt;\n",
       "    </td>\n",
       "    \n",
       "</tr>\n",
       "        \n",
       "            <tr style=\"background-color: hsl(120, 100.00%, 91.37%); border: none;\">\n",
       "    <td style=\"padding: 0 1em 0 0.5em; text-align: right; border: none;\">\n",
       "        +0.706\n",
       "    </td>\n",
       "    <td style=\"padding: 0 0.5em 0 0.5em; text-align: left; border: none;\">\n",
       "        lemma[0]:Inschrift\n",
       "    </td>\n",
       "    \n",
       "</tr>\n",
       "        \n",
       "            <tr style=\"background-color: hsl(120, 100.00%, 91.52%); border: none;\">\n",
       "    <td style=\"padding: 0 1em 0 0.5em; text-align: right; border: none;\">\n",
       "        +0.688\n",
       "    </td>\n",
       "    <td style=\"padding: 0 0.5em 0 0.5em; text-align: left; border: none;\">\n",
       "        lemma[0]:Mosaik\n",
       "    </td>\n",
       "    \n",
       "</tr>\n",
       "        \n",
       "            <tr style=\"background-color: hsl(120, 100.00%, 91.82%); border: none;\">\n",
       "    <td style=\"padding: 0 1em 0 0.5em; text-align: right; border: none;\">\n",
       "        +0.653\n",
       "    </td>\n",
       "    <td style=\"padding: 0 0.5em 0 0.5em; text-align: left; border: none;\">\n",
       "        lemma[0]:Vase\n",
       "    </td>\n",
       "    \n",
       "</tr>\n",
       "        \n",
       "            <tr style=\"background-color: hsl(120, 100.00%, 91.92%); border: none;\">\n",
       "    <td style=\"padding: 0 1em 0 0.5em; text-align: right; border: none;\">\n",
       "        +0.643\n",
       "    </td>\n",
       "    <td style=\"padding: 0 0.5em 0 0.5em; text-align: left; border: none;\">\n",
       "        lemma[1]:können\n",
       "    </td>\n",
       "    \n",
       "</tr>\n",
       "        \n",
       "            <tr style=\"background-color: hsl(120, 100.00%, 92.43%); border: none;\">\n",
       "    <td style=\"padding: 0 1em 0 0.5em; text-align: right; border: none;\">\n",
       "        +0.585\n",
       "    </td>\n",
       "    <td style=\"padding: 0 0.5em 0 0.5em; text-align: left; border: none;\">\n",
       "        lemma[1]:erpressen\n",
       "    </td>\n",
       "    \n",
       "</tr>\n",
       "        \n",
       "            <tr style=\"background-color: hsl(120, 100.00%, 92.65%); border: none;\">\n",
       "    <td style=\"padding: 0 1em 0 0.5em; text-align: right; border: none;\">\n",
       "        +0.561\n",
       "    </td>\n",
       "    <td style=\"padding: 0 0.5em 0 0.5em; text-align: left; border: none;\">\n",
       "        lemma[1]:;\n",
       "    </td>\n",
       "    \n",
       "</tr>\n",
       "        \n",
       "            <tr style=\"background-color: hsl(120, 100.00%, 93.06%); border: none;\">\n",
       "    <td style=\"padding: 0 1em 0 0.5em; text-align: right; border: none;\">\n",
       "        +0.517\n",
       "    </td>\n",
       "    <td style=\"padding: 0 0.5em 0 0.5em; text-align: left; border: none;\">\n",
       "        lemma[1]:sein\n",
       "    </td>\n",
       "    \n",
       "</tr>\n",
       "        \n",
       "            <tr style=\"background-color: hsl(120, 100.00%, 93.13%); border: none;\">\n",
       "    <td style=\"padding: 0 1em 0 0.5em; text-align: right; border: none;\">\n",
       "        +0.509\n",
       "    </td>\n",
       "    <td style=\"padding: 0 0.5em 0 0.5em; text-align: left; border: none;\">\n",
       "        lemma[-1]:interessant\n",
       "    </td>\n",
       "    \n",
       "</tr>\n",
       "        \n",
       "        \n",
       "            <tr style=\"background-color: hsl(120, 100.00%, 93.13%); border: none;\">\n",
       "                <td colspan=\"2\" style=\"padding: 0 0.5em 0 0.5em; text-align: center; border: none; white-space: nowrap;\">\n",
       "                    <i>&hellip; 96 more positive &hellip;</i>\n",
       "                </td>\n",
       "            </tr>\n",
       "        \n",
       "\n",
       "        \n",
       "            <tr style=\"background-color: hsl(0, 100.00%, 80.00%); border: none;\">\n",
       "                <td colspan=\"2\" style=\"padding: 0 0.5em 0 0.5em; text-align: center; border: none; white-space: nowrap;\">\n",
       "                    <i>&hellip; 8 more negative &hellip;</i>\n",
       "                </td>\n",
       "            </tr>\n",
       "        \n",
       "        \n",
       "\n",
       "        </tbody>\n",
       "    </table>\n",
       "\n",
       "            \n",
       "        \n",
       "\n",
       "        \n",
       "\n",
       "\n",
       "\n",
       "    \n",
       "\n",
       "        \n",
       "            \n",
       "                \n",
       "                \n",
       "    \n",
       "        <p style=\"margin-bottom: 0.5em; margin-top: 0em\">\n",
       "            <b>\n",
       "    \n",
       "        y=I-OBJ\n",
       "    \n",
       "</b>\n",
       "\n",
       "top features\n",
       "        </p>\n",
       "    \n",
       "    <table class=\"eli5-weights\"\n",
       "           style=\"border-collapse: collapse; border: none; margin-top: 0em; table-layout: auto; margin-bottom: 2em;\">\n",
       "        <thead>\n",
       "        <tr style=\"border: none;\">\n",
       "            \n",
       "                <th style=\"padding: 0 1em 0 0.5em; text-align: right; border: none;\" title=\"Feature weights. Note that weights do not account for feature value scales, so if feature values have different scales, features with highest weights might not be the most important.\">\n",
       "                    Weight<sup>?</sup>\n",
       "                </th>\n",
       "            \n",
       "            <th style=\"padding: 0 0.5em 0 0.5em; text-align: left; border: none;\">Feature</th>\n",
       "            \n",
       "        </tr>\n",
       "        </thead>\n",
       "        <tbody>\n",
       "        \n",
       "            <tr style=\"background-color: hsl(120, 100.00%, 92.14%); border: none;\">\n",
       "    <td style=\"padding: 0 1em 0 0.5em; text-align: right; border: none;\">\n",
       "        +0.617\n",
       "    </td>\n",
       "    <td style=\"padding: 0 0.5em 0 0.5em; text-align: left; border: none;\">\n",
       "        lemma[0]:Inschrift\n",
       "    </td>\n",
       "    \n",
       "</tr>\n",
       "        \n",
       "            <tr style=\"background-color: hsl(120, 100.00%, 93.24%); border: none;\">\n",
       "    <td style=\"padding: 0 1em 0 0.5em; text-align: right; border: none;\">\n",
       "        +0.497\n",
       "    </td>\n",
       "    <td style=\"padding: 0 0.5em 0 0.5em; text-align: left; border: none;\">\n",
       "        lemma[1]:beschreiben\n",
       "    </td>\n",
       "    \n",
       "</tr>\n",
       "        \n",
       "            <tr style=\"background-color: hsl(120, 100.00%, 93.31%); border: none;\">\n",
       "    <td style=\"padding: 0 1em 0 0.5em; text-align: right; border: none;\">\n",
       "        +0.490\n",
       "    </td>\n",
       "    <td style=\"padding: 0 0.5em 0 0.5em; text-align: left; border: none;\">\n",
       "        lemma[0]:Bronze\n",
       "    </td>\n",
       "    \n",
       "</tr>\n",
       "        \n",
       "            <tr style=\"background-color: hsl(120, 100.00%, 93.51%); border: none;\">\n",
       "    <td style=\"padding: 0 1em 0 0.5em; text-align: right; border: none;\">\n",
       "        +0.469\n",
       "    </td>\n",
       "    <td style=\"padding: 0 0.5em 0 0.5em; text-align: left; border: none;\">\n",
       "        lemma[0]:Spiegel\n",
       "    </td>\n",
       "    \n",
       "</tr>\n",
       "        \n",
       "            <tr style=\"background-color: hsl(120, 100.00%, 94.30%); border: none;\">\n",
       "    <td style=\"padding: 0 1em 0 0.5em; text-align: right; border: none;\">\n",
       "        +0.390\n",
       "    </td>\n",
       "    <td style=\"padding: 0 0.5em 0 0.5em; text-align: left; border: none;\">\n",
       "        lemma[-1]:mit\n",
       "    </td>\n",
       "    \n",
       "</tr>\n",
       "        \n",
       "            <tr style=\"background-color: hsl(120, 100.00%, 95.30%); border: none;\">\n",
       "    <td style=\"padding: 0 1em 0 0.5em; text-align: right; border: none;\">\n",
       "        +0.296\n",
       "    </td>\n",
       "    <td style=\"padding: 0 0.5em 0 0.5em; text-align: left; border: none;\">\n",
       "        lemma[0]:ten\n",
       "    </td>\n",
       "    \n",
       "</tr>\n",
       "        \n",
       "            <tr style=\"background-color: hsl(120, 100.00%, 95.89%); border: none;\">\n",
       "    <td style=\"padding: 0 1em 0 0.5em; text-align: right; border: none;\">\n",
       "        +0.245\n",
       "    </td>\n",
       "    <td style=\"padding: 0 0.5em 0 0.5em; text-align: left; border: none;\">\n",
       "        lemma[-1]:eine\n",
       "    </td>\n",
       "    \n",
       "</tr>\n",
       "        \n",
       "            <tr style=\"background-color: hsl(120, 100.00%, 96.05%); border: none;\">\n",
       "    <td style=\"padding: 0 1em 0 0.5em; text-align: right; border: none;\">\n",
       "        +0.231\n",
       "    </td>\n",
       "    <td style=\"padding: 0 0.5em 0 0.5em; text-align: left; border: none;\">\n",
       "        lemma[0]:Vase\n",
       "    </td>\n",
       "    \n",
       "</tr>\n",
       "        \n",
       "            <tr style=\"background-color: hsl(120, 100.00%, 96.11%); border: none;\">\n",
       "    <td style=\"padding: 0 1em 0 0.5em; text-align: right; border: none;\">\n",
       "        +0.226\n",
       "    </td>\n",
       "    <td style=\"padding: 0 0.5em 0 0.5em; text-align: left; border: none;\">\n",
       "        lemma[0]:Papa\n",
       "    </td>\n",
       "    \n",
       "</tr>\n",
       "        \n",
       "        \n",
       "            <tr style=\"background-color: hsl(120, 100.00%, 96.11%); border: none;\">\n",
       "                <td colspan=\"2\" style=\"padding: 0 0.5em 0 0.5em; text-align: center; border: none; white-space: nowrap;\">\n",
       "                    <i>&hellip; 80 more positive &hellip;</i>\n",
       "                </td>\n",
       "            </tr>\n",
       "        \n",
       "\n",
       "        \n",
       "            <tr style=\"background-color: hsl(0, 100.00%, 95.40%); border: none;\">\n",
       "                <td colspan=\"2\" style=\"padding: 0 0.5em 0 0.5em; text-align: center; border: none; white-space: nowrap;\">\n",
       "                    <i>&hellip; 5 more negative &hellip;</i>\n",
       "                </td>\n",
       "            </tr>\n",
       "        \n",
       "        \n",
       "            <tr style=\"background-color: hsl(0, 100.00%, 95.40%); border: none;\">\n",
       "    <td style=\"padding: 0 1em 0 0.5em; text-align: right; border: none;\">\n",
       "        -0.287\n",
       "    </td>\n",
       "    <td style=\"padding: 0 0.5em 0 0.5em; text-align: left; border: none;\">\n",
       "        lemma[-1]:&lt;unknown&gt;\n",
       "    </td>\n",
       "    \n",
       "</tr>\n",
       "        \n",
       "\n",
       "        </tbody>\n",
       "    </table>\n",
       "\n",
       "            \n",
       "        \n",
       "\n",
       "        \n",
       "\n",
       "\n",
       "\n",
       "    \n",
       "\n",
       "        \n",
       "            \n",
       "                \n",
       "                \n",
       "    \n",
       "        <p style=\"margin-bottom: 0.5em; margin-top: 0em\">\n",
       "            <b>\n",
       "    \n",
       "        y=B-ORGmentioned\n",
       "    \n",
       "</b>\n",
       "\n",
       "top features\n",
       "        </p>\n",
       "    \n",
       "    <table class=\"eli5-weights\"\n",
       "           style=\"border-collapse: collapse; border: none; margin-top: 0em; table-layout: auto; margin-bottom: 2em;\">\n",
       "        <thead>\n",
       "        <tr style=\"border: none;\">\n",
       "            \n",
       "                <th style=\"padding: 0 1em 0 0.5em; text-align: right; border: none;\" title=\"Feature weights. Note that weights do not account for feature value scales, so if feature values have different scales, features with highest weights might not be the most important.\">\n",
       "                    Weight<sup>?</sup>\n",
       "                </th>\n",
       "            \n",
       "            <th style=\"padding: 0 0.5em 0 0.5em; text-align: left; border: none;\">Feature</th>\n",
       "            \n",
       "        </tr>\n",
       "        </thead>\n",
       "        <tbody>\n",
       "        \n",
       "            <tr style=\"background-color: hsl(120, 100.00%, 80.00%); border: none;\">\n",
       "    <td style=\"padding: 0 1em 0 0.5em; text-align: right; border: none;\">\n",
       "        +2.344\n",
       "    </td>\n",
       "    <td style=\"padding: 0 0.5em 0 0.5em; text-align: left; border: none;\">\n",
       "        lemma[0]:Institut\n",
       "    </td>\n",
       "    \n",
       "</tr>\n",
       "        \n",
       "            <tr style=\"background-color: hsl(120, 100.00%, 90.05%); border: none;\">\n",
       "    <td style=\"padding: 0 1em 0 0.5em; text-align: right; border: none;\">\n",
       "        +0.864\n",
       "    </td>\n",
       "    <td style=\"padding: 0 0.5em 0 0.5em; text-align: left; border: none;\">\n",
       "        lemma[-1]:in\n",
       "    </td>\n",
       "    \n",
       "</tr>\n",
       "        \n",
       "            <tr style=\"background-color: hsl(120, 100.00%, 91.08%); border: none;\">\n",
       "    <td style=\"padding: 0 1em 0 0.5em; text-align: right; border: none;\">\n",
       "        +0.740\n",
       "    </td>\n",
       "    <td style=\"padding: 0 0.5em 0 0.5em; text-align: left; border: none;\">\n",
       "        lemma[0]:Bibliothek\n",
       "    </td>\n",
       "    \n",
       "</tr>\n",
       "        \n",
       "            <tr style=\"background-color: hsl(120, 100.00%, 91.51%); border: none;\">\n",
       "    <td style=\"padding: 0 1em 0 0.5em; text-align: right; border: none;\">\n",
       "        +0.690\n",
       "    </td>\n",
       "    <td style=\"padding: 0 0.5em 0 0.5em; text-align: left; border: none;\">\n",
       "        lemma[0]:Akademie\n",
       "    </td>\n",
       "    \n",
       "</tr>\n",
       "        \n",
       "            <tr style=\"background-color: hsl(120, 100.00%, 92.53%); border: none;\">\n",
       "    <td style=\"padding: 0 1em 0 0.5em; text-align: right; border: none;\">\n",
       "        +0.574\n",
       "    </td>\n",
       "    <td style=\"padding: 0 0.5em 0 0.5em; text-align: left; border: none;\">\n",
       "        lemma[0]:Museum\n",
       "    </td>\n",
       "    \n",
       "</tr>\n",
       "        \n",
       "            <tr style=\"background-color: hsl(120, 100.00%, 93.10%); border: none;\">\n",
       "    <td style=\"padding: 0 1em 0 0.5em; text-align: right; border: none;\">\n",
       "        +0.513\n",
       "    </td>\n",
       "    <td style=\"padding: 0 0.5em 0 0.5em; text-align: left; border: none;\">\n",
       "        lemma[-1]:die\n",
       "    </td>\n",
       "    \n",
       "</tr>\n",
       "        \n",
       "            <tr style=\"background-color: hsl(120, 100.00%, 93.88%); border: none;\">\n",
       "    <td style=\"padding: 0 1em 0 0.5em; text-align: right; border: none;\">\n",
       "        +0.431\n",
       "    </td>\n",
       "    <td style=\"padding: 0 0.5em 0 0.5em; text-align: left; border: none;\">\n",
       "        lemma[1]:per\n",
       "    </td>\n",
       "    \n",
       "</tr>\n",
       "        \n",
       "            <tr style=\"background-color: hsl(120, 100.00%, 94.35%); border: none;\">\n",
       "    <td style=\"padding: 0 1em 0 0.5em; text-align: right; border: none;\">\n",
       "        +0.385\n",
       "    </td>\n",
       "    <td style=\"padding: 0 0.5em 0 0.5em; text-align: left; border: none;\">\n",
       "        lemma[0]:Via\n",
       "    </td>\n",
       "    \n",
       "</tr>\n",
       "        \n",
       "            <tr style=\"background-color: hsl(120, 100.00%, 94.52%); border: none;\">\n",
       "    <td style=\"padding: 0 1em 0 0.5em; text-align: right; border: none;\">\n",
       "        +0.369\n",
       "    </td>\n",
       "    <td style=\"padding: 0 0.5em 0 0.5em; text-align: left; border: none;\">\n",
       "        lemma[1]:Sammlung\n",
       "    </td>\n",
       "    \n",
       "</tr>\n",
       "        \n",
       "            <tr style=\"background-color: hsl(120, 100.00%, 94.92%); border: none;\">\n",
       "    <td style=\"padding: 0 1em 0 0.5em; text-align: right; border: none;\">\n",
       "        +0.331\n",
       "    </td>\n",
       "    <td style=\"padding: 0 0.5em 0 0.5em; text-align: left; border: none;\">\n",
       "        lemma[-1]:bei\n",
       "    </td>\n",
       "    \n",
       "</tr>\n",
       "        \n",
       "        \n",
       "            <tr style=\"background-color: hsl(120, 100.00%, 94.92%); border: none;\">\n",
       "                <td colspan=\"2\" style=\"padding: 0 0.5em 0 0.5em; text-align: center; border: none; white-space: nowrap;\">\n",
       "                    <i>&hellip; 39 more positive &hellip;</i>\n",
       "                </td>\n",
       "            </tr>\n",
       "        \n",
       "\n",
       "        \n",
       "            <tr style=\"background-color: hsl(0, 100.00%, 80.00%); border: none;\">\n",
       "                <td colspan=\"2\" style=\"padding: 0 0.5em 0 0.5em; text-align: center; border: none; white-space: nowrap;\">\n",
       "                    <i>&hellip; 6 more negative &hellip;</i>\n",
       "                </td>\n",
       "            </tr>\n",
       "        \n",
       "        \n",
       "\n",
       "        </tbody>\n",
       "    </table>\n",
       "\n",
       "            \n",
       "        \n",
       "\n",
       "        \n",
       "\n",
       "\n",
       "\n",
       "    \n",
       "\n",
       "        \n",
       "            \n",
       "                \n",
       "                \n",
       "    \n",
       "        <p style=\"margin-bottom: 0.5em; margin-top: 0em\">\n",
       "            <b>\n",
       "    \n",
       "        y=I-ORGmentioned\n",
       "    \n",
       "</b>\n",
       "\n",
       "top features\n",
       "        </p>\n",
       "    \n",
       "    <table class=\"eli5-weights\"\n",
       "           style=\"border-collapse: collapse; border: none; margin-top: 0em; table-layout: auto; margin-bottom: 2em;\">\n",
       "        <thead>\n",
       "        <tr style=\"border: none;\">\n",
       "            \n",
       "                <th style=\"padding: 0 1em 0 0.5em; text-align: right; border: none;\" title=\"Feature weights. Note that weights do not account for feature value scales, so if feature values have different scales, features with highest weights might not be the most important.\">\n",
       "                    Weight<sup>?</sup>\n",
       "                </th>\n",
       "            \n",
       "            <th style=\"padding: 0 0.5em 0 0.5em; text-align: left; border: none;\">Feature</th>\n",
       "            \n",
       "        </tr>\n",
       "        </thead>\n",
       "        <tbody>\n",
       "        \n",
       "            <tr style=\"background-color: hsl(120, 100.00%, 94.46%); border: none;\">\n",
       "    <td style=\"padding: 0 1em 0 0.5em; text-align: right; border: none;\">\n",
       "        +0.374\n",
       "    </td>\n",
       "    <td style=\"padding: 0 0.5em 0 0.5em; text-align: left; border: none;\">\n",
       "        lemma[0]:Sammlung\n",
       "    </td>\n",
       "    \n",
       "</tr>\n",
       "        \n",
       "            <tr style=\"background-color: hsl(120, 100.00%, 94.63%); border: none;\">\n",
       "    <td style=\"padding: 0 1em 0 0.5em; text-align: right; border: none;\">\n",
       "        +0.358\n",
       "    </td>\n",
       "    <td style=\"padding: 0 0.5em 0 0.5em; text-align: left; border: none;\">\n",
       "        lemma[-1]:&lt;unknown&gt;\n",
       "    </td>\n",
       "    \n",
       "</tr>\n",
       "        \n",
       "            <tr style=\"background-color: hsl(120, 100.00%, 95.17%); border: none;\">\n",
       "    <td style=\"padding: 0 1em 0 0.5em; text-align: right; border: none;\">\n",
       "        +0.308\n",
       "    </td>\n",
       "    <td style=\"padding: 0 0.5em 0 0.5em; text-align: left; border: none;\">\n",
       "        lemma[-1]:Via\n",
       "    </td>\n",
       "    \n",
       "</tr>\n",
       "        \n",
       "            <tr style=\"background-color: hsl(120, 100.00%, 95.57%); border: none;\">\n",
       "    <td style=\"padding: 0 1em 0 0.5em; text-align: right; border: none;\">\n",
       "        +0.272\n",
       "    </td>\n",
       "    <td style=\"padding: 0 0.5em 0 0.5em; text-align: left; border: none;\">\n",
       "        lemma[0]:Institut\n",
       "    </td>\n",
       "    \n",
       "</tr>\n",
       "        \n",
       "            <tr style=\"background-color: hsl(120, 100.00%, 96.00%); border: none;\">\n",
       "    <td style=\"padding: 0 1em 0 0.5em; text-align: right; border: none;\">\n",
       "        +0.235\n",
       "    </td>\n",
       "    <td style=\"padding: 0 0.5em 0 0.5em; text-align: left; border: none;\">\n",
       "        lemma[0]:Universität\n",
       "    </td>\n",
       "    \n",
       "</tr>\n",
       "        \n",
       "            <tr style=\"background-color: hsl(120, 100.00%, 96.21%); border: none;\">\n",
       "    <td style=\"padding: 0 1em 0 0.5em; text-align: right; border: none;\">\n",
       "        +0.218\n",
       "    </td>\n",
       "    <td style=\"padding: 0 0.5em 0 0.5em; text-align: left; border: none;\">\n",
       "        lemma[0]:die\n",
       "    </td>\n",
       "    \n",
       "</tr>\n",
       "        \n",
       "            <tr style=\"background-color: hsl(120, 100.00%, 96.35%); border: none;\">\n",
       "    <td style=\"padding: 0 1em 0 0.5em; text-align: right; border: none;\">\n",
       "        +0.206\n",
       "    </td>\n",
       "    <td style=\"padding: 0 0.5em 0 0.5em; text-align: left; border: none;\">\n",
       "        lemma[-1]:General\n",
       "    </td>\n",
       "    \n",
       "</tr>\n",
       "        \n",
       "            <tr style=\"background-color: hsl(120, 100.00%, 96.49%); border: none;\">\n",
       "    <td style=\"padding: 0 1em 0 0.5em; text-align: right; border: none;\">\n",
       "        +0.195\n",
       "    </td>\n",
       "    <td style=\"padding: 0 0.5em 0 0.5em; text-align: left; border: none;\">\n",
       "        lemma[-1]:die\n",
       "    </td>\n",
       "    \n",
       "</tr>\n",
       "        \n",
       "            <tr style=\"background-color: hsl(120, 100.00%, 96.50%); border: none;\">\n",
       "    <td style=\"padding: 0 1em 0 0.5em; text-align: right; border: none;\">\n",
       "        +0.195\n",
       "    </td>\n",
       "    <td style=\"padding: 0 0.5em 0 0.5em; text-align: left; border: none;\">\n",
       "        lemma[-1]:archäologisch\n",
       "    </td>\n",
       "    \n",
       "</tr>\n",
       "        \n",
       "        \n",
       "            <tr style=\"background-color: hsl(120, 100.00%, 96.50%); border: none;\">\n",
       "                <td colspan=\"2\" style=\"padding: 0 0.5em 0 0.5em; text-align: center; border: none; white-space: nowrap;\">\n",
       "                    <i>&hellip; 30 more positive &hellip;</i>\n",
       "                </td>\n",
       "            </tr>\n",
       "        \n",
       "\n",
       "        \n",
       "            <tr style=\"background-color: hsl(0, 100.00%, 96.79%); border: none;\">\n",
       "                <td colspan=\"2\" style=\"padding: 0 0.5em 0 0.5em; text-align: center; border: none; white-space: nowrap;\">\n",
       "                    <i>&hellip; 2 more negative &hellip;</i>\n",
       "                </td>\n",
       "            </tr>\n",
       "        \n",
       "        \n",
       "            <tr style=\"background-color: hsl(0, 100.00%, 96.79%); border: none;\">\n",
       "    <td style=\"padding: 0 1em 0 0.5em; text-align: right; border: none;\">\n",
       "        -0.172\n",
       "    </td>\n",
       "    <td style=\"padding: 0 0.5em 0 0.5em; text-align: left; border: none;\">\n",
       "        lemma[-1]:Institut\n",
       "    </td>\n",
       "    \n",
       "</tr>\n",
       "        \n",
       "\n",
       "        </tbody>\n",
       "    </table>\n",
       "\n",
       "            \n",
       "        \n",
       "\n",
       "        \n",
       "\n",
       "\n",
       "\n",
       "    \n",
       "\n",
       "        \n",
       "            \n",
       "                \n",
       "                \n",
       "    \n",
       "        <p style=\"margin-bottom: 0.5em; margin-top: 0em\">\n",
       "            <b>\n",
       "    \n",
       "        y=B-PERaddressee\n",
       "    \n",
       "</b>\n",
       "\n",
       "top features\n",
       "        </p>\n",
       "    \n",
       "    <table class=\"eli5-weights\"\n",
       "           style=\"border-collapse: collapse; border: none; margin-top: 0em; table-layout: auto; margin-bottom: 2em;\">\n",
       "        <thead>\n",
       "        <tr style=\"border: none;\">\n",
       "            \n",
       "                <th style=\"padding: 0 1em 0 0.5em; text-align: right; border: none;\" title=\"Feature weights. Note that weights do not account for feature value scales, so if feature values have different scales, features with highest weights might not be the most important.\">\n",
       "                    Weight<sup>?</sup>\n",
       "                </th>\n",
       "            \n",
       "            <th style=\"padding: 0 0.5em 0 0.5em; text-align: left; border: none;\">Feature</th>\n",
       "            \n",
       "        </tr>\n",
       "        </thead>\n",
       "        <tbody>\n",
       "        \n",
       "            <tr style=\"background-color: hsl(120, 100.00%, 90.58%); border: none;\">\n",
       "    <td style=\"padding: 0 1em 0 0.5em; text-align: right; border: none;\">\n",
       "        +0.799\n",
       "    </td>\n",
       "    <td style=\"padding: 0 0.5em 0 0.5em; text-align: left; border: none;\">\n",
       "        lemma[0]:Gerhard\n",
       "    </td>\n",
       "    \n",
       "</tr>\n",
       "        \n",
       "            <tr style=\"background-color: hsl(120, 100.00%, 93.48%); border: none;\">\n",
       "    <td style=\"padding: 0 1em 0 0.5em; text-align: right; border: none;\">\n",
       "        +0.472\n",
       "    </td>\n",
       "    <td style=\"padding: 0 0.5em 0 0.5em; text-align: left; border: none;\">\n",
       "        lemma[-1]:an\n",
       "    </td>\n",
       "    \n",
       "</tr>\n",
       "        \n",
       "            <tr style=\"background-color: hsl(120, 100.00%, 93.80%); border: none;\">\n",
       "    <td style=\"padding: 0 1em 0 0.5em; text-align: right; border: none;\">\n",
       "        +0.440\n",
       "    </td>\n",
       "    <td style=\"padding: 0 0.5em 0 0.5em; text-align: left; border: none;\">\n",
       "        lemma[-1]:Gerhard\n",
       "    </td>\n",
       "    \n",
       "</tr>\n",
       "        \n",
       "            <tr style=\"background-color: hsl(120, 100.00%, 94.22%); border: none;\">\n",
       "    <td style=\"padding: 0 1em 0 0.5em; text-align: right; border: none;\">\n",
       "        +0.398\n",
       "    </td>\n",
       "    <td style=\"padding: 0 0.5em 0 0.5em; text-align: left; border: none;\">\n",
       "        lemma[1]:Freund\n",
       "    </td>\n",
       "    \n",
       "</tr>\n",
       "        \n",
       "            <tr style=\"background-color: hsl(120, 100.00%, 94.46%); border: none;\">\n",
       "    <td style=\"padding: 0 1em 0 0.5em; text-align: right; border: none;\">\n",
       "        +0.375\n",
       "    </td>\n",
       "    <td style=\"padding: 0 0.5em 0 0.5em; text-align: left; border: none;\">\n",
       "        lemma[0]:Prof\n",
       "    </td>\n",
       "    \n",
       "</tr>\n",
       "        \n",
       "            <tr style=\"background-color: hsl(120, 100.00%, 96.25%); border: none;\">\n",
       "    <td style=\"padding: 0 1em 0 0.5em; text-align: right; border: none;\">\n",
       "        +0.215\n",
       "    </td>\n",
       "    <td style=\"padding: 0 0.5em 0 0.5em; text-align: left; border: none;\">\n",
       "        lemma[1]:darüber\n",
       "    </td>\n",
       "    \n",
       "</tr>\n",
       "        \n",
       "            <tr style=\"background-color: hsl(120, 100.00%, 96.54%); border: none;\">\n",
       "    <td style=\"padding: 0 1em 0 0.5em; text-align: right; border: none;\">\n",
       "        +0.192\n",
       "    </td>\n",
       "    <td style=\"padding: 0 0.5em 0 0.5em; text-align: left; border: none;\">\n",
       "        lemma[0]:Hochverehrte\n",
       "    </td>\n",
       "    \n",
       "</tr>\n",
       "        \n",
       "            <tr style=\"background-color: hsl(120, 100.00%, 96.86%); border: none;\">\n",
       "    <td style=\"padding: 0 1em 0 0.5em; text-align: right; border: none;\">\n",
       "        +0.166\n",
       "    </td>\n",
       "    <td style=\"padding: 0 0.5em 0 0.5em; text-align: left; border: none;\">\n",
       "        lemma[1]:Berlin\n",
       "    </td>\n",
       "    \n",
       "</tr>\n",
       "        \n",
       "            <tr style=\"background-color: hsl(120, 100.00%, 97.69%); border: none;\">\n",
       "    <td style=\"padding: 0 1em 0 0.5em; text-align: right; border: none;\">\n",
       "        +0.108\n",
       "    </td>\n",
       "    <td style=\"padding: 0 0.5em 0 0.5em; text-align: left; border: none;\">\n",
       "        lemma[-1]:@card@\n",
       "    </td>\n",
       "    \n",
       "</tr>\n",
       "        \n",
       "        \n",
       "            <tr style=\"background-color: hsl(120, 100.00%, 97.69%); border: none;\">\n",
       "                <td colspan=\"2\" style=\"padding: 0 0.5em 0 0.5em; text-align: center; border: none; white-space: nowrap;\">\n",
       "                    <i>&hellip; 15 more positive &hellip;</i>\n",
       "                </td>\n",
       "            </tr>\n",
       "        \n",
       "\n",
       "        \n",
       "            <tr style=\"background-color: hsl(0, 100.00%, 97.18%); border: none;\">\n",
       "                <td colspan=\"2\" style=\"padding: 0 0.5em 0 0.5em; text-align: center; border: none; white-space: nowrap;\">\n",
       "                    <i>&hellip; 2 more negative &hellip;</i>\n",
       "                </td>\n",
       "            </tr>\n",
       "        \n",
       "        \n",
       "            <tr style=\"background-color: hsl(0, 100.00%, 97.18%); border: none;\">\n",
       "    <td style=\"padding: 0 1em 0 0.5em; text-align: right; border: none;\">\n",
       "        -0.143\n",
       "    </td>\n",
       "    <td style=\"padding: 0 0.5em 0 0.5em; text-align: left; border: none;\">\n",
       "        lemma[0]:&lt;unknown&gt;\n",
       "    </td>\n",
       "    \n",
       "</tr>\n",
       "        \n",
       "\n",
       "        </tbody>\n",
       "    </table>\n",
       "\n",
       "            \n",
       "        \n",
       "\n",
       "        \n",
       "\n",
       "\n",
       "\n",
       "    \n",
       "\n",
       "        \n",
       "            \n",
       "                \n",
       "                \n",
       "    \n",
       "        <p style=\"margin-bottom: 0.5em; margin-top: 0em\">\n",
       "            <b>\n",
       "    \n",
       "        y=I-PERaddressee\n",
       "    \n",
       "</b>\n",
       "\n",
       "top features\n",
       "        </p>\n",
       "    \n",
       "    <table class=\"eli5-weights\"\n",
       "           style=\"border-collapse: collapse; border: none; margin-top: 0em; table-layout: auto; margin-bottom: 2em;\">\n",
       "        <thead>\n",
       "        <tr style=\"border: none;\">\n",
       "            \n",
       "                <th style=\"padding: 0 1em 0 0.5em; text-align: right; border: none;\" title=\"Feature weights. Note that weights do not account for feature value scales, so if feature values have different scales, features with highest weights might not be the most important.\">\n",
       "                    Weight<sup>?</sup>\n",
       "                </th>\n",
       "            \n",
       "            <th style=\"padding: 0 0.5em 0 0.5em; text-align: left; border: none;\">Feature</th>\n",
       "            \n",
       "        </tr>\n",
       "        </thead>\n",
       "        <tbody>\n",
       "        \n",
       "            <tr style=\"background-color: hsl(120, 100.00%, 95.20%); border: none;\">\n",
       "    <td style=\"padding: 0 1em 0 0.5em; text-align: right; border: none;\">\n",
       "        +0.306\n",
       "    </td>\n",
       "    <td style=\"padding: 0 0.5em 0 0.5em; text-align: left; border: none;\">\n",
       "        lemma[-1]:Prof\n",
       "    </td>\n",
       "    \n",
       "</tr>\n",
       "        \n",
       "            <tr style=\"background-color: hsl(120, 100.00%, 95.67%); border: none;\">\n",
       "    <td style=\"padding: 0 1em 0 0.5em; text-align: right; border: none;\">\n",
       "        +0.263\n",
       "    </td>\n",
       "    <td style=\"padding: 0 0.5em 0 0.5em; text-align: left; border: none;\">\n",
       "        lemma[0]:Freund\n",
       "    </td>\n",
       "    \n",
       "</tr>\n",
       "        \n",
       "            <tr style=\"background-color: hsl(120, 100.00%, 95.82%); border: none;\">\n",
       "    <td style=\"padding: 0 1em 0 0.5em; text-align: right; border: none;\">\n",
       "        +0.250\n",
       "    </td>\n",
       "    <td style=\"padding: 0 0.5em 0 0.5em; text-align: left; border: none;\">\n",
       "        lemma[0]:Ancona\n",
       "    </td>\n",
       "    \n",
       "</tr>\n",
       "        \n",
       "            <tr style=\"background-color: hsl(120, 100.00%, 96.21%); border: none;\">\n",
       "    <td style=\"padding: 0 1em 0 0.5em; text-align: right; border: none;\">\n",
       "        +0.218\n",
       "    </td>\n",
       "    <td style=\"padding: 0 0.5em 0 0.5em; text-align: left; border: none;\">\n",
       "        lemma[-1]:.\n",
       "    </td>\n",
       "    \n",
       "</tr>\n",
       "        \n",
       "            <tr style=\"background-color: hsl(120, 100.00%, 96.23%); border: none;\">\n",
       "    <td style=\"padding: 0 1em 0 0.5em; text-align: right; border: none;\">\n",
       "        +0.216\n",
       "    </td>\n",
       "    <td style=\"padding: 0 0.5em 0 0.5em; text-align: left; border: none;\">\n",
       "        lemma[-1]:Freund\n",
       "    </td>\n",
       "    \n",
       "</tr>\n",
       "        \n",
       "            <tr style=\"background-color: hsl(120, 100.00%, 97.63%); border: none;\">\n",
       "    <td style=\"padding: 0 1em 0 0.5em; text-align: right; border: none;\">\n",
       "        +0.111\n",
       "    </td>\n",
       "    <td style=\"padding: 0 0.5em 0 0.5em; text-align: left; border: none;\">\n",
       "        lemma[-1]:Hochverehrte\n",
       "    </td>\n",
       "    \n",
       "</tr>\n",
       "        \n",
       "            <tr style=\"background-color: hsl(120, 100.00%, 98.11%); border: none;\">\n",
       "    <td style=\"padding: 0 1em 0 0.5em; text-align: right; border: none;\">\n",
       "        +0.081\n",
       "    </td>\n",
       "    <td style=\"padding: 0 0.5em 0 0.5em; text-align: left; border: none;\">\n",
       "        lemma[1]:Rom\n",
       "    </td>\n",
       "    \n",
       "</tr>\n",
       "        \n",
       "            <tr style=\"background-color: hsl(120, 100.00%, 98.39%); border: none;\">\n",
       "    <td style=\"padding: 0 1em 0 0.5em; text-align: right; border: none;\">\n",
       "        +0.064\n",
       "    </td>\n",
       "    <td style=\"padding: 0 0.5em 0 0.5em; text-align: left; border: none;\">\n",
       "        lemma[-1]:~\n",
       "    </td>\n",
       "    \n",
       "</tr>\n",
       "        \n",
       "        \n",
       "            <tr style=\"background-color: hsl(120, 100.00%, 98.39%); border: none;\">\n",
       "                <td colspan=\"2\" style=\"padding: 0 0.5em 0 0.5em; text-align: center; border: none; white-space: nowrap;\">\n",
       "                    <i>&hellip; 7 more positive &hellip;</i>\n",
       "                </td>\n",
       "            </tr>\n",
       "        \n",
       "\n",
       "        \n",
       "            <tr style=\"background-color: hsl(0, 100.00%, 96.09%); border: none;\">\n",
       "                <td colspan=\"2\" style=\"padding: 0 0.5em 0 0.5em; text-align: center; border: none; white-space: nowrap;\">\n",
       "                    <i>&hellip; 1 more negative &hellip;</i>\n",
       "                </td>\n",
       "            </tr>\n",
       "        \n",
       "        \n",
       "            <tr style=\"background-color: hsl(0, 100.00%, 96.09%); border: none;\">\n",
       "    <td style=\"padding: 0 1em 0 0.5em; text-align: right; border: none;\">\n",
       "        -0.228\n",
       "    </td>\n",
       "    <td style=\"padding: 0 0.5em 0 0.5em; text-align: left; border: none;\">\n",
       "        lemma[1]:&lt;unknown&gt;\n",
       "    </td>\n",
       "    \n",
       "</tr>\n",
       "        \n",
       "            <tr style=\"background-color: hsl(0, 100.00%, 93.86%); border: none;\">\n",
       "    <td style=\"padding: 0 1em 0 0.5em; text-align: right; border: none;\">\n",
       "        -0.433\n",
       "    </td>\n",
       "    <td style=\"padding: 0 0.5em 0 0.5em; text-align: left; border: none;\">\n",
       "        lemma[0]:&lt;unknown&gt;\n",
       "    </td>\n",
       "    \n",
       "</tr>\n",
       "        \n",
       "\n",
       "        </tbody>\n",
       "    </table>\n",
       "\n",
       "            \n",
       "        \n",
       "\n",
       "        \n",
       "\n",
       "\n",
       "\n",
       "    \n",
       "\n",
       "        \n",
       "            \n",
       "                \n",
       "                \n",
       "    \n",
       "        <p style=\"margin-bottom: 0.5em; margin-top: 0em\">\n",
       "            <b>\n",
       "    \n",
       "        y=B-PERauthor\n",
       "    \n",
       "</b>\n",
       "\n",
       "top features\n",
       "        </p>\n",
       "    \n",
       "    <table class=\"eli5-weights\"\n",
       "           style=\"border-collapse: collapse; border: none; margin-top: 0em; table-layout: auto; margin-bottom: 2em;\">\n",
       "        <thead>\n",
       "        <tr style=\"border: none;\">\n",
       "            \n",
       "                <th style=\"padding: 0 1em 0 0.5em; text-align: right; border: none;\" title=\"Feature weights. Note that weights do not account for feature value scales, so if feature values have different scales, features with highest weights might not be the most important.\">\n",
       "                    Weight<sup>?</sup>\n",
       "                </th>\n",
       "            \n",
       "            <th style=\"padding: 0 0.5em 0 0.5em; text-align: left; border: none;\">Feature</th>\n",
       "            \n",
       "        </tr>\n",
       "        </thead>\n",
       "        <tbody>\n",
       "        \n",
       "            <tr style=\"background-color: hsl(120, 100.00%, 85.85%); border: none;\">\n",
       "    <td style=\"padding: 0 1em 0 0.5em; text-align: right; border: none;\">\n",
       "        +1.430\n",
       "    </td>\n",
       "    <td style=\"padding: 0 0.5em 0 0.5em; text-align: left; border: none;\">\n",
       "        lemma[0]:Aug.\n",
       "    </td>\n",
       "    \n",
       "</tr>\n",
       "        \n",
       "            <tr style=\"background-color: hsl(120, 100.00%, 89.44%); border: none;\">\n",
       "    <td style=\"padding: 0 1em 0 0.5em; text-align: right; border: none;\">\n",
       "        +0.941\n",
       "    </td>\n",
       "    <td style=\"padding: 0 0.5em 0 0.5em; text-align: left; border: none;\">\n",
       "        lemma[-1]:@card@\n",
       "    </td>\n",
       "    \n",
       "</tr>\n",
       "        \n",
       "            <tr style=\"background-color: hsl(120, 100.00%, 92.26%); border: none;\">\n",
       "    <td style=\"padding: 0 1em 0 0.5em; text-align: right; border: none;\">\n",
       "        +0.603\n",
       "    </td>\n",
       "    <td style=\"padding: 0 0.5em 0 0.5em; text-align: left; border: none;\">\n",
       "        lemma[-1]:ihr\n",
       "    </td>\n",
       "    \n",
       "</tr>\n",
       "        \n",
       "            <tr style=\"background-color: hsl(120, 100.00%, 92.85%); border: none;\">\n",
       "    <td style=\"padding: 0 1em 0 0.5em; text-align: right; border: none;\">\n",
       "        +0.539\n",
       "    </td>\n",
       "    <td style=\"padding: 0 0.5em 0 0.5em; text-align: left; border: none;\">\n",
       "        lemma[0]:Braun\n",
       "    </td>\n",
       "    \n",
       "</tr>\n",
       "        \n",
       "            <tr style=\"background-color: hsl(120, 100.00%, 93.70%); border: none;\">\n",
       "    <td style=\"padding: 0 1em 0 0.5em; text-align: right; border: none;\">\n",
       "        +0.450\n",
       "    </td>\n",
       "    <td style=\"padding: 0 0.5em 0 0.5em; text-align: left; border: none;\">\n",
       "        lemma[1]:an\n",
       "    </td>\n",
       "    \n",
       "</tr>\n",
       "        \n",
       "            <tr style=\"background-color: hsl(120, 100.00%, 93.92%); border: none;\">\n",
       "    <td style=\"padding: 0 1em 0 0.5em; text-align: right; border: none;\">\n",
       "        +0.428\n",
       "    </td>\n",
       "    <td style=\"padding: 0 0.5em 0 0.5em; text-align: left; border: none;\">\n",
       "        lemma[1]:Braun\n",
       "    </td>\n",
       "    \n",
       "</tr>\n",
       "        \n",
       "            <tr style=\"background-color: hsl(120, 100.00%, 94.29%); border: none;\">\n",
       "    <td style=\"padding: 0 1em 0 0.5em; text-align: right; border: none;\">\n",
       "        +0.391\n",
       "    </td>\n",
       "    <td style=\"padding: 0 0.5em 0 0.5em; text-align: left; border: none;\">\n",
       "        lemma[-1]:&lt;unknown&gt;\n",
       "    </td>\n",
       "    \n",
       "</tr>\n",
       "        \n",
       "            <tr style=\"background-color: hsl(120, 100.00%, 94.32%); border: none;\">\n",
       "    <td style=\"padding: 0 1em 0 0.5em; text-align: right; border: none;\">\n",
       "        +0.388\n",
       "    </td>\n",
       "    <td style=\"padding: 0 0.5em 0 0.5em; text-align: left; border: none;\">\n",
       "        lemma[0]:B.\n",
       "    </td>\n",
       "    \n",
       "</tr>\n",
       "        \n",
       "            <tr style=\"background-color: hsl(120, 100.00%, 94.83%); border: none;\">\n",
       "    <td style=\"padding: 0 1em 0 0.5em; text-align: right; border: none;\">\n",
       "        +0.339\n",
       "    </td>\n",
       "    <td style=\"padding: 0 0.5em 0 0.5em; text-align: left; border: none;\">\n",
       "        lemma[0]:E\n",
       "    </td>\n",
       "    \n",
       "</tr>\n",
       "        \n",
       "        \n",
       "            <tr style=\"background-color: hsl(120, 100.00%, 94.83%); border: none;\">\n",
       "                <td colspan=\"2\" style=\"padding: 0 0.5em 0 0.5em; text-align: center; border: none; white-space: nowrap;\">\n",
       "                    <i>&hellip; 21 more positive &hellip;</i>\n",
       "                </td>\n",
       "            </tr>\n",
       "        \n",
       "\n",
       "        \n",
       "            <tr style=\"background-color: hsl(0, 100.00%, 88.87%); border: none;\">\n",
       "                <td colspan=\"2\" style=\"padding: 0 0.5em 0 0.5em; text-align: center; border: none; white-space: nowrap;\">\n",
       "                    <i>&hellip; 6 more negative &hellip;</i>\n",
       "                </td>\n",
       "            </tr>\n",
       "        \n",
       "        \n",
       "            <tr style=\"background-color: hsl(0, 100.00%, 88.87%); border: none;\">\n",
       "    <td style=\"padding: 0 1em 0 0.5em; text-align: right; border: none;\">\n",
       "        -1.015\n",
       "    </td>\n",
       "    <td style=\"padding: 0 0.5em 0 0.5em; text-align: left; border: none;\">\n",
       "        lemma[1]:&lt;unknown&gt;\n",
       "    </td>\n",
       "    \n",
       "</tr>\n",
       "        \n",
       "\n",
       "        </tbody>\n",
       "    </table>\n",
       "\n",
       "            \n",
       "        \n",
       "\n",
       "        \n",
       "\n",
       "\n",
       "\n",
       "    \n",
       "\n",
       "        \n",
       "            \n",
       "                \n",
       "                \n",
       "    \n",
       "        <p style=\"margin-bottom: 0.5em; margin-top: 0em\">\n",
       "            <b>\n",
       "    \n",
       "        y=I-PERauthor\n",
       "    \n",
       "</b>\n",
       "\n",
       "top features\n",
       "        </p>\n",
       "    \n",
       "    <table class=\"eli5-weights\"\n",
       "           style=\"border-collapse: collapse; border: none; margin-top: 0em; table-layout: auto; margin-bottom: 2em;\">\n",
       "        <thead>\n",
       "        <tr style=\"border: none;\">\n",
       "            \n",
       "                <th style=\"padding: 0 1em 0 0.5em; text-align: right; border: none;\" title=\"Feature weights. Note that weights do not account for feature value scales, so if feature values have different scales, features with highest weights might not be the most important.\">\n",
       "                    Weight<sup>?</sup>\n",
       "                </th>\n",
       "            \n",
       "            <th style=\"padding: 0 0.5em 0 0.5em; text-align: left; border: none;\">Feature</th>\n",
       "            \n",
       "        </tr>\n",
       "        </thead>\n",
       "        <tbody>\n",
       "        \n",
       "            <tr style=\"background-color: hsl(120, 100.00%, 94.02%); border: none;\">\n",
       "    <td style=\"padding: 0 1em 0 0.5em; text-align: right; border: none;\">\n",
       "        +0.418\n",
       "    </td>\n",
       "    <td style=\"padding: 0 0.5em 0 0.5em; text-align: left; border: none;\">\n",
       "        lemma[-1]:Emil\n",
       "    </td>\n",
       "    \n",
       "</tr>\n",
       "        \n",
       "            <tr style=\"background-color: hsl(120, 100.00%, 94.41%); border: none;\">\n",
       "    <td style=\"padding: 0 1em 0 0.5em; text-align: right; border: none;\">\n",
       "        +0.380\n",
       "    </td>\n",
       "    <td style=\"padding: 0 0.5em 0 0.5em; text-align: left; border: none;\">\n",
       "        lemma[1]:&lt;unknown&gt;\n",
       "    </td>\n",
       "    \n",
       "</tr>\n",
       "        \n",
       "            <tr style=\"background-color: hsl(120, 100.00%, 94.79%); border: none;\">\n",
       "    <td style=\"padding: 0 1em 0 0.5em; text-align: right; border: none;\">\n",
       "        +0.343\n",
       "    </td>\n",
       "    <td style=\"padding: 0 0.5em 0 0.5em; text-align: left; border: none;\">\n",
       "        lemma[0]:Braun\n",
       "    </td>\n",
       "    \n",
       "</tr>\n",
       "        \n",
       "            <tr style=\"background-color: hsl(120, 100.00%, 95.34%); border: none;\">\n",
       "    <td style=\"padding: 0 1em 0 0.5em; text-align: right; border: none;\">\n",
       "        +0.292\n",
       "    </td>\n",
       "    <td style=\"padding: 0 0.5em 0 0.5em; text-align: left; border: none;\">\n",
       "        lemma[-1]:.\n",
       "    </td>\n",
       "    \n",
       "</tr>\n",
       "        \n",
       "            <tr style=\"background-color: hsl(120, 100.00%, 96.86%); border: none;\">\n",
       "    <td style=\"padding: 0 1em 0 0.5em; text-align: right; border: none;\">\n",
       "        +0.166\n",
       "    </td>\n",
       "    <td style=\"padding: 0 0.5em 0 0.5em; text-align: left; border: none;\">\n",
       "        lemma[1]:Braun\n",
       "    </td>\n",
       "    \n",
       "</tr>\n",
       "        \n",
       "            <tr style=\"background-color: hsl(120, 100.00%, 96.96%); border: none;\">\n",
       "    <td style=\"padding: 0 1em 0 0.5em; text-align: right; border: none;\">\n",
       "        +0.159\n",
       "    </td>\n",
       "    <td style=\"padding: 0 0.5em 0 0.5em; text-align: left; border: none;\">\n",
       "        lemma[1]:an\n",
       "    </td>\n",
       "    \n",
       "</tr>\n",
       "        \n",
       "            <tr style=\"background-color: hsl(120, 100.00%, 97.09%); border: none;\">\n",
       "    <td style=\"padding: 0 1em 0 0.5em; text-align: right; border: none;\">\n",
       "        +0.149\n",
       "    </td>\n",
       "    <td style=\"padding: 0 0.5em 0 0.5em; text-align: left; border: none;\">\n",
       "        lemma[-1]:E\n",
       "    </td>\n",
       "    \n",
       "</tr>\n",
       "        \n",
       "            <tr style=\"background-color: hsl(120, 100.00%, 97.31%); border: none;\">\n",
       "    <td style=\"padding: 0 1em 0 0.5em; text-align: right; border: none;\">\n",
       "        +0.134\n",
       "    </td>\n",
       "    <td style=\"padding: 0 0.5em 0 0.5em; text-align: left; border: none;\">\n",
       "        lemma[0]:Brunn\n",
       "    </td>\n",
       "    \n",
       "</tr>\n",
       "        \n",
       "            <tr style=\"background-color: hsl(120, 100.00%, 97.78%); border: none;\">\n",
       "    <td style=\"padding: 0 1em 0 0.5em; text-align: right; border: none;\">\n",
       "        +0.101\n",
       "    </td>\n",
       "    <td style=\"padding: 0 0.5em 0 0.5em; text-align: left; border: none;\">\n",
       "        lemma[0]:.\n",
       "    </td>\n",
       "    \n",
       "</tr>\n",
       "        \n",
       "            <tr style=\"background-color: hsl(120, 100.00%, 99.10%); border: none;\">\n",
       "    <td style=\"padding: 0 1em 0 0.5em; text-align: right; border: none;\">\n",
       "        +0.028\n",
       "    </td>\n",
       "    <td style=\"padding: 0 0.5em 0 0.5em; text-align: left; border: none;\">\n",
       "        lemma[-1]:H\n",
       "    </td>\n",
       "    \n",
       "</tr>\n",
       "        \n",
       "        \n",
       "            <tr style=\"background-color: hsl(120, 100.00%, 99.10%); border: none;\">\n",
       "                <td colspan=\"2\" style=\"padding: 0 0.5em 0 0.5em; text-align: center; border: none; white-space: nowrap;\">\n",
       "                    <i>&hellip; 2 more positive &hellip;</i>\n",
       "                </td>\n",
       "            </tr>\n",
       "        \n",
       "\n",
       "        \n",
       "            <tr style=\"background-color: hsl(0, 100.00%, 80.00%); border: none;\">\n",
       "                <td colspan=\"2\" style=\"padding: 0 0.5em 0 0.5em; text-align: center; border: none; white-space: nowrap;\">\n",
       "                    <i>&hellip; 1 more negative &hellip;</i>\n",
       "                </td>\n",
       "            </tr>\n",
       "        \n",
       "        \n",
       "\n",
       "        </tbody>\n",
       "    </table>\n",
       "\n",
       "            \n",
       "        \n",
       "\n",
       "        \n",
       "\n",
       "\n",
       "\n",
       "    \n",
       "\n",
       "        \n",
       "            \n",
       "                \n",
       "                \n",
       "    \n",
       "        <p style=\"margin-bottom: 0.5em; margin-top: 0em\">\n",
       "            <b>\n",
       "    \n",
       "        y=B-PERmentioned\n",
       "    \n",
       "</b>\n",
       "\n",
       "top features\n",
       "        </p>\n",
       "    \n",
       "    <table class=\"eli5-weights\"\n",
       "           style=\"border-collapse: collapse; border: none; margin-top: 0em; table-layout: auto; margin-bottom: 2em;\">\n",
       "        <thead>\n",
       "        <tr style=\"border: none;\">\n",
       "            \n",
       "                <th style=\"padding: 0 1em 0 0.5em; text-align: right; border: none;\" title=\"Feature weights. Note that weights do not account for feature value scales, so if feature values have different scales, features with highest weights might not be the most important.\">\n",
       "                    Weight<sup>?</sup>\n",
       "                </th>\n",
       "            \n",
       "            <th style=\"padding: 0 0.5em 0 0.5em; text-align: left; border: none;\">Feature</th>\n",
       "            \n",
       "        </tr>\n",
       "        </thead>\n",
       "        <tbody>\n",
       "        \n",
       "            <tr style=\"background-color: hsl(120, 100.00%, 85.50%); border: none;\">\n",
       "    <td style=\"padding: 0 1em 0 0.5em; text-align: right; border: none;\">\n",
       "        +1.481\n",
       "    </td>\n",
       "    <td style=\"padding: 0 0.5em 0 0.5em; text-align: left; border: none;\">\n",
       "        lemma[0]:&lt;unknown&gt;\n",
       "    </td>\n",
       "    \n",
       "</tr>\n",
       "        \n",
       "            <tr style=\"background-color: hsl(120, 100.00%, 86.21%); border: none;\">\n",
       "    <td style=\"padding: 0 1em 0 0.5em; text-align: right; border: none;\">\n",
       "        +1.378\n",
       "    </td>\n",
       "    <td style=\"padding: 0 0.5em 0 0.5em; text-align: left; border: none;\">\n",
       "        lemma[0]:Müller\n",
       "    </td>\n",
       "    \n",
       "</tr>\n",
       "        \n",
       "            <tr style=\"background-color: hsl(120, 100.00%, 89.32%); border: none;\">\n",
       "    <td style=\"padding: 0 1em 0 0.5em; text-align: right; border: none;\">\n",
       "        +0.957\n",
       "    </td>\n",
       "    <td style=\"padding: 0 0.5em 0 0.5em; text-align: left; border: none;\">\n",
       "        lemma[0]:Franzen\n",
       "    </td>\n",
       "    \n",
       "</tr>\n",
       "        \n",
       "            <tr style=\"background-color: hsl(120, 100.00%, 89.76%); border: none;\">\n",
       "    <td style=\"padding: 0 1em 0 0.5em; text-align: right; border: none;\">\n",
       "        +0.901\n",
       "    </td>\n",
       "    <td style=\"padding: 0 0.5em 0 0.5em; text-align: left; border: none;\">\n",
       "        lemma[0]:König\n",
       "    </td>\n",
       "    \n",
       "</tr>\n",
       "        \n",
       "            <tr style=\"background-color: hsl(120, 100.00%, 90.22%); border: none;\">\n",
       "    <td style=\"padding: 0 1em 0 0.5em; text-align: right; border: none;\">\n",
       "        +0.843\n",
       "    </td>\n",
       "    <td style=\"padding: 0 0.5em 0 0.5em; text-align: left; border: none;\">\n",
       "        lemma[-1]:alt\n",
       "    </td>\n",
       "    \n",
       "</tr>\n",
       "        \n",
       "            <tr style=\"background-color: hsl(120, 100.00%, 90.34%); border: none;\">\n",
       "    <td style=\"padding: 0 1em 0 0.5em; text-align: right; border: none;\">\n",
       "        +0.828\n",
       "    </td>\n",
       "    <td style=\"padding: 0 0.5em 0 0.5em; text-align: left; border: none;\">\n",
       "        lemma[-1]:bei\n",
       "    </td>\n",
       "    \n",
       "</tr>\n",
       "        \n",
       "            <tr style=\"background-color: hsl(120, 100.00%, 90.59%); border: none;\">\n",
       "    <td style=\"padding: 0 1em 0 0.5em; text-align: right; border: none;\">\n",
       "        +0.798\n",
       "    </td>\n",
       "    <td style=\"padding: 0 0.5em 0 0.5em; text-align: left; border: none;\">\n",
       "        lemma[0]:Prete\n",
       "    </td>\n",
       "    \n",
       "</tr>\n",
       "        \n",
       "            <tr style=\"background-color: hsl(120, 100.00%, 91.05%); border: none;\">\n",
       "    <td style=\"padding: 0 1em 0 0.5em; text-align: right; border: none;\">\n",
       "        +0.743\n",
       "    </td>\n",
       "    <td style=\"padding: 0 0.5em 0 0.5em; text-align: left; border: none;\">\n",
       "        lemma[-1]:dass\n",
       "    </td>\n",
       "    \n",
       "</tr>\n",
       "        \n",
       "            <tr style=\"background-color: hsl(120, 100.00%, 91.29%); border: none;\">\n",
       "    <td style=\"padding: 0 1em 0 0.5em; text-align: right; border: none;\">\n",
       "        +0.715\n",
       "    </td>\n",
       "    <td style=\"padding: 0 0.5em 0 0.5em; text-align: left; border: none;\">\n",
       "        lemma[0]:Prinz\n",
       "    </td>\n",
       "    \n",
       "</tr>\n",
       "        \n",
       "        \n",
       "            <tr style=\"background-color: hsl(120, 100.00%, 91.29%); border: none;\">\n",
       "                <td colspan=\"2\" style=\"padding: 0 0.5em 0 0.5em; text-align: center; border: none; white-space: nowrap;\">\n",
       "                    <i>&hellip; 214 more positive &hellip;</i>\n",
       "                </td>\n",
       "            </tr>\n",
       "        \n",
       "\n",
       "        \n",
       "            <tr style=\"background-color: hsl(0, 100.00%, 91.08%); border: none;\">\n",
       "                <td colspan=\"2\" style=\"padding: 0 0.5em 0 0.5em; text-align: center; border: none; white-space: nowrap;\">\n",
       "                    <i>&hellip; 47 more negative &hellip;</i>\n",
       "                </td>\n",
       "            </tr>\n",
       "        \n",
       "        \n",
       "            <tr style=\"background-color: hsl(0, 100.00%, 91.08%); border: none;\">\n",
       "    <td style=\"padding: 0 1em 0 0.5em; text-align: right; border: none;\">\n",
       "        -0.740\n",
       "    </td>\n",
       "    <td style=\"padding: 0 0.5em 0 0.5em; text-align: left; border: none;\">\n",
       "        lemma[-1]:in\n",
       "    </td>\n",
       "    \n",
       "</tr>\n",
       "        \n",
       "\n",
       "        </tbody>\n",
       "    </table>\n",
       "\n",
       "            \n",
       "        \n",
       "\n",
       "        \n",
       "\n",
       "\n",
       "\n",
       "    \n",
       "\n",
       "        \n",
       "            \n",
       "                \n",
       "                \n",
       "    \n",
       "        <p style=\"margin-bottom: 0.5em; margin-top: 0em\">\n",
       "            <b>\n",
       "    \n",
       "        y=I-PERmentioned\n",
       "    \n",
       "</b>\n",
       "\n",
       "top features\n",
       "        </p>\n",
       "    \n",
       "    <table class=\"eli5-weights\"\n",
       "           style=\"border-collapse: collapse; border: none; margin-top: 0em; table-layout: auto; margin-bottom: 2em;\">\n",
       "        <thead>\n",
       "        <tr style=\"border: none;\">\n",
       "            \n",
       "                <th style=\"padding: 0 1em 0 0.5em; text-align: right; border: none;\" title=\"Feature weights. Note that weights do not account for feature value scales, so if feature values have different scales, features with highest weights might not be the most important.\">\n",
       "                    Weight<sup>?</sup>\n",
       "                </th>\n",
       "            \n",
       "            <th style=\"padding: 0 0.5em 0 0.5em; text-align: left; border: none;\">Feature</th>\n",
       "            \n",
       "        </tr>\n",
       "        </thead>\n",
       "        <tbody>\n",
       "        \n",
       "            <tr style=\"background-color: hsl(120, 100.00%, 91.34%); border: none;\">\n",
       "    <td style=\"padding: 0 1em 0 0.5em; text-align: right; border: none;\">\n",
       "        +0.708\n",
       "    </td>\n",
       "    <td style=\"padding: 0 0.5em 0 0.5em; text-align: left; border: none;\">\n",
       "        lemma[-1]:Graf\n",
       "    </td>\n",
       "    \n",
       "</tr>\n",
       "        \n",
       "            <tr style=\"background-color: hsl(120, 100.00%, 92.84%); border: none;\">\n",
       "    <td style=\"padding: 0 1em 0 0.5em; text-align: right; border: none;\">\n",
       "        +0.541\n",
       "    </td>\n",
       "    <td style=\"padding: 0 0.5em 0 0.5em; text-align: left; border: none;\">\n",
       "        lemma[-1]:Baron\n",
       "    </td>\n",
       "    \n",
       "</tr>\n",
       "        \n",
       "            <tr style=\"background-color: hsl(120, 100.00%, 93.36%); border: none;\">\n",
       "    <td style=\"padding: 0 1em 0 0.5em; text-align: right; border: none;\">\n",
       "        +0.485\n",
       "    </td>\n",
       "    <td style=\"padding: 0 0.5em 0 0.5em; text-align: left; border: none;\">\n",
       "        lemma[0]:Schwester\n",
       "    </td>\n",
       "    \n",
       "</tr>\n",
       "        \n",
       "            <tr style=\"background-color: hsl(120, 100.00%, 93.61%); border: none;\">\n",
       "    <td style=\"padding: 0 1em 0 0.5em; text-align: right; border: none;\">\n",
       "        +0.459\n",
       "    </td>\n",
       "    <td style=\"padding: 0 0.5em 0 0.5em; text-align: left; border: none;\">\n",
       "        lemma[0]:&lt;unknown&gt;\n",
       "    </td>\n",
       "    \n",
       "</tr>\n",
       "        \n",
       "            <tr style=\"background-color: hsl(120, 100.00%, 94.11%); border: none;\">\n",
       "    <td style=\"padding: 0 1em 0 0.5em; text-align: right; border: none;\">\n",
       "        +0.409\n",
       "    </td>\n",
       "    <td style=\"padding: 0 0.5em 0 0.5em; text-align: left; border: none;\">\n",
       "        lemma[-1]:De\n",
       "    </td>\n",
       "    \n",
       "</tr>\n",
       "        \n",
       "            <tr style=\"background-color: hsl(120, 100.00%, 94.30%); border: none;\">\n",
       "    <td style=\"padding: 0 1em 0 0.5em; text-align: right; border: none;\">\n",
       "        +0.390\n",
       "    </td>\n",
       "    <td style=\"padding: 0 0.5em 0 0.5em; text-align: left; border: none;\">\n",
       "        lemma[-1]:von\n",
       "    </td>\n",
       "    \n",
       "</tr>\n",
       "        \n",
       "            <tr style=\"background-color: hsl(120, 100.00%, 94.37%); border: none;\">\n",
       "    <td style=\"padding: 0 1em 0 0.5em; text-align: right; border: none;\">\n",
       "        +0.384\n",
       "    </td>\n",
       "    <td style=\"padding: 0 0.5em 0 0.5em; text-align: left; border: none;\">\n",
       "        lemma[0]:Bruder\n",
       "    </td>\n",
       "    \n",
       "</tr>\n",
       "        \n",
       "            <tr style=\"background-color: hsl(120, 100.00%, 94.96%); border: none;\">\n",
       "    <td style=\"padding: 0 1em 0 0.5em; text-align: right; border: none;\">\n",
       "        +0.327\n",
       "    </td>\n",
       "    <td style=\"padding: 0 0.5em 0 0.5em; text-align: left; border: none;\">\n",
       "        lemma[1]:\\;\n",
       "    </td>\n",
       "    \n",
       "</tr>\n",
       "        \n",
       "            <tr style=\"background-color: hsl(120, 100.00%, 95.10%); border: none;\">\n",
       "    <td style=\"padding: 0 1em 0 0.5em; text-align: right; border: none;\">\n",
       "        +0.315\n",
       "    </td>\n",
       "    <td style=\"padding: 0 0.5em 0 0.5em; text-align: left; border: none;\">\n",
       "        lemma[-1]:Camp\n",
       "    </td>\n",
       "    \n",
       "</tr>\n",
       "        \n",
       "        \n",
       "            <tr style=\"background-color: hsl(120, 100.00%, 95.10%); border: none;\">\n",
       "                <td colspan=\"2\" style=\"padding: 0 0.5em 0 0.5em; text-align: center; border: none; white-space: nowrap;\">\n",
       "                    <i>&hellip; 97 more positive &hellip;</i>\n",
       "                </td>\n",
       "            </tr>\n",
       "        \n",
       "\n",
       "        \n",
       "            <tr style=\"background-color: hsl(0, 100.00%, 91.71%); border: none;\">\n",
       "                <td colspan=\"2\" style=\"padding: 0 0.5em 0 0.5em; text-align: center; border: none; white-space: nowrap;\">\n",
       "                    <i>&hellip; 16 more negative &hellip;</i>\n",
       "                </td>\n",
       "            </tr>\n",
       "        \n",
       "        \n",
       "            <tr style=\"background-color: hsl(0, 100.00%, 91.71%); border: none;\">\n",
       "    <td style=\"padding: 0 1em 0 0.5em; text-align: right; border: none;\">\n",
       "        -0.667\n",
       "    </td>\n",
       "    <td style=\"padding: 0 0.5em 0 0.5em; text-align: left; border: none;\">\n",
       "        lemma[-1]:&lt;unknown&gt;\n",
       "    </td>\n",
       "    \n",
       "</tr>\n",
       "        \n",
       "\n",
       "        </tbody>\n",
       "    </table>\n",
       "\n",
       "            \n",
       "        \n",
       "\n",
       "        \n",
       "\n",
       "\n",
       "\n",
       "    \n",
       "\n",
       "        \n",
       "            \n",
       "                \n",
       "                \n",
       "    \n",
       "        <p style=\"margin-bottom: 0.5em; margin-top: 0em\">\n",
       "            <b>\n",
       "    \n",
       "        y=B-PLACEfrom\n",
       "    \n",
       "</b>\n",
       "\n",
       "top features\n",
       "        </p>\n",
       "    \n",
       "    <table class=\"eli5-weights\"\n",
       "           style=\"border-collapse: collapse; border: none; margin-top: 0em; table-layout: auto; margin-bottom: 2em;\">\n",
       "        <thead>\n",
       "        <tr style=\"border: none;\">\n",
       "            \n",
       "                <th style=\"padding: 0 1em 0 0.5em; text-align: right; border: none;\" title=\"Feature weights. Note that weights do not account for feature value scales, so if feature values have different scales, features with highest weights might not be the most important.\">\n",
       "                    Weight<sup>?</sup>\n",
       "                </th>\n",
       "            \n",
       "            <th style=\"padding: 0 0.5em 0 0.5em; text-align: left; border: none;\">Feature</th>\n",
       "            \n",
       "        </tr>\n",
       "        </thead>\n",
       "        <tbody>\n",
       "        \n",
       "            <tr style=\"background-color: hsl(120, 100.00%, 92.28%); border: none;\">\n",
       "    <td style=\"padding: 0 1em 0 0.5em; text-align: right; border: none;\">\n",
       "        +0.602\n",
       "    </td>\n",
       "    <td style=\"padding: 0 0.5em 0 0.5em; text-align: left; border: none;\">\n",
       "        lemma[0]:Rom\n",
       "    </td>\n",
       "    \n",
       "</tr>\n",
       "        \n",
       "            <tr style=\"background-color: hsl(120, 100.00%, 92.33%); border: none;\">\n",
       "    <td style=\"padding: 0 1em 0 0.5em; text-align: right; border: none;\">\n",
       "        +0.596\n",
       "    </td>\n",
       "    <td style=\"padding: 0 0.5em 0 0.5em; text-align: left; border: none;\">\n",
       "        lemma[-1]:@card@\n",
       "    </td>\n",
       "    \n",
       "</tr>\n",
       "        \n",
       "            <tr style=\"background-color: hsl(120, 100.00%, 93.11%); border: none;\">\n",
       "    <td style=\"padding: 0 1em 0 0.5em; text-align: right; border: none;\">\n",
       "        +0.511\n",
       "    </td>\n",
       "    <td style=\"padding: 0 0.5em 0 0.5em; text-align: left; border: none;\">\n",
       "        lemma[0]:5\n",
       "    </td>\n",
       "    \n",
       "</tr>\n",
       "        \n",
       "            <tr style=\"background-color: hsl(120, 100.00%, 95.33%); border: none;\">\n",
       "    <td style=\"padding: 0 1em 0 0.5em; text-align: right; border: none;\">\n",
       "        +0.294\n",
       "    </td>\n",
       "    <td style=\"padding: 0 0.5em 0 0.5em; text-align: left; border: none;\">\n",
       "        lemma[0]:Berlin\n",
       "    </td>\n",
       "    \n",
       "</tr>\n",
       "        \n",
       "            <tr style=\"background-color: hsl(120, 100.00%, 95.55%); border: none;\">\n",
       "    <td style=\"padding: 0 1em 0 0.5em; text-align: right; border: none;\">\n",
       "        +0.274\n",
       "    </td>\n",
       "    <td style=\"padding: 0 0.5em 0 0.5em; text-align: left; border: none;\">\n",
       "        lemma[0]:Roma\n",
       "    </td>\n",
       "    \n",
       "</tr>\n",
       "        \n",
       "            <tr style=\"background-color: hsl(120, 100.00%, 95.55%); border: none;\">\n",
       "    <td style=\"padding: 0 1em 0 0.5em; text-align: right; border: none;\">\n",
       "        +0.274\n",
       "    </td>\n",
       "    <td style=\"padding: 0 0.5em 0 0.5em; text-align: left; border: none;\">\n",
       "        lemma[0]:19\n",
       "    </td>\n",
       "    \n",
       "</tr>\n",
       "        \n",
       "            <tr style=\"background-color: hsl(120, 100.00%, 96.09%); border: none;\">\n",
       "    <td style=\"padding: 0 1em 0 0.5em; text-align: right; border: none;\">\n",
       "        +0.228\n",
       "    </td>\n",
       "    <td style=\"padding: 0 0.5em 0 0.5em; text-align: left; border: none;\">\n",
       "        lemma[0]:28\n",
       "    </td>\n",
       "    \n",
       "</tr>\n",
       "        \n",
       "            <tr style=\"background-color: hsl(120, 100.00%, 96.14%); border: none;\">\n",
       "    <td style=\"padding: 0 1em 0 0.5em; text-align: right; border: none;\">\n",
       "        +0.224\n",
       "    </td>\n",
       "    <td style=\"padding: 0 0.5em 0 0.5em; text-align: left; border: none;\">\n",
       "        lemma[0]:Juli\n",
       "    </td>\n",
       "    \n",
       "</tr>\n",
       "        \n",
       "        \n",
       "            <tr style=\"background-color: hsl(120, 100.00%, 96.14%); border: none;\">\n",
       "                <td colspan=\"2\" style=\"padding: 0 0.5em 0 0.5em; text-align: center; border: none; white-space: nowrap;\">\n",
       "                    <i>&hellip; 26 more positive &hellip;</i>\n",
       "                </td>\n",
       "            </tr>\n",
       "        \n",
       "\n",
       "        \n",
       "            <tr style=\"background-color: hsl(0, 100.00%, 95.77%); border: none;\">\n",
       "                <td colspan=\"2\" style=\"padding: 0 0.5em 0 0.5em; text-align: center; border: none; white-space: nowrap;\">\n",
       "                    <i>&hellip; 2 more negative &hellip;</i>\n",
       "                </td>\n",
       "            </tr>\n",
       "        \n",
       "        \n",
       "            <tr style=\"background-color: hsl(0, 100.00%, 95.77%); border: none;\">\n",
       "    <td style=\"padding: 0 1em 0 0.5em; text-align: right; border: none;\">\n",
       "        -0.255\n",
       "    </td>\n",
       "    <td style=\"padding: 0 0.5em 0 0.5em; text-align: left; border: none;\">\n",
       "        lemma[0]:@card@\n",
       "    </td>\n",
       "    \n",
       "</tr>\n",
       "        \n",
       "            <tr style=\"background-color: hsl(0, 100.00%, 91.20%); border: none;\">\n",
       "    <td style=\"padding: 0 1em 0 0.5em; text-align: right; border: none;\">\n",
       "        -0.725\n",
       "    </td>\n",
       "    <td style=\"padding: 0 0.5em 0 0.5em; text-align: left; border: none;\">\n",
       "        lemma[0]:&lt;unknown&gt;\n",
       "    </td>\n",
       "    \n",
       "</tr>\n",
       "        \n",
       "\n",
       "        </tbody>\n",
       "    </table>\n",
       "\n",
       "            \n",
       "        \n",
       "\n",
       "        \n",
       "\n",
       "\n",
       "\n",
       "    \n",
       "\n",
       "        \n",
       "            \n",
       "                \n",
       "                \n",
       "    \n",
       "        <p style=\"margin-bottom: 0.5em; margin-top: 0em\">\n",
       "            <b>\n",
       "    \n",
       "        y=I-PLACEfrom\n",
       "    \n",
       "</b>\n",
       "\n",
       "top features\n",
       "        </p>\n",
       "    \n",
       "    <table class=\"eli5-weights\"\n",
       "           style=\"border-collapse: collapse; border: none; margin-top: 0em; table-layout: auto; margin-bottom: 2em;\">\n",
       "        <thead>\n",
       "        <tr style=\"border: none;\">\n",
       "            \n",
       "                <th style=\"padding: 0 1em 0 0.5em; text-align: right; border: none;\" title=\"Feature weights. Note that weights do not account for feature value scales, so if feature values have different scales, features with highest weights might not be the most important.\">\n",
       "                    Weight<sup>?</sup>\n",
       "                </th>\n",
       "            \n",
       "            <th style=\"padding: 0 0.5em 0 0.5em; text-align: left; border: none;\">Feature</th>\n",
       "            \n",
       "        </tr>\n",
       "        </thead>\n",
       "        <tbody>\n",
       "        \n",
       "            <tr style=\"background-color: hsl(120, 100.00%, 92.29%); border: none;\">\n",
       "    <td style=\"padding: 0 1em 0 0.5em; text-align: right; border: none;\">\n",
       "        +0.601\n",
       "    </td>\n",
       "    <td style=\"padding: 0 0.5em 0 0.5em; text-align: left; border: none;\">\n",
       "        lemma[-1]:Oktober\n",
       "    </td>\n",
       "    \n",
       "</tr>\n",
       "        \n",
       "            <tr style=\"background-color: hsl(120, 100.00%, 94.34%); border: none;\">\n",
       "    <td style=\"padding: 0 1em 0 0.5em; text-align: right; border: none;\">\n",
       "        +0.386\n",
       "    </td>\n",
       "    <td style=\"padding: 0 0.5em 0 0.5em; text-align: left; border: none;\">\n",
       "        lemma[0]:@card@\n",
       "    </td>\n",
       "    \n",
       "</tr>\n",
       "        \n",
       "            <tr style=\"background-color: hsl(120, 100.00%, 95.06%); border: none;\">\n",
       "    <td style=\"padding: 0 1em 0 0.5em; text-align: right; border: none;\">\n",
       "        +0.318\n",
       "    </td>\n",
       "    <td style=\"padding: 0 0.5em 0 0.5em; text-align: left; border: none;\">\n",
       "        lemma[-1]:28\n",
       "    </td>\n",
       "    \n",
       "</tr>\n",
       "        \n",
       "            <tr style=\"background-color: hsl(120, 100.00%, 95.52%); border: none;\">\n",
       "    <td style=\"padding: 0 1em 0 0.5em; text-align: right; border: none;\">\n",
       "        +0.276\n",
       "    </td>\n",
       "    <td style=\"padding: 0 0.5em 0 0.5em; text-align: left; border: none;\">\n",
       "        lemma[0]:Juli\n",
       "    </td>\n",
       "    \n",
       "</tr>\n",
       "        \n",
       "            <tr style=\"background-color: hsl(120, 100.00%, 96.09%); border: none;\">\n",
       "    <td style=\"padding: 0 1em 0 0.5em; text-align: right; border: none;\">\n",
       "        +0.227\n",
       "    </td>\n",
       "    <td style=\"padding: 0 0.5em 0 0.5em; text-align: left; border: none;\">\n",
       "        lemma[-1]:.\n",
       "    </td>\n",
       "    \n",
       "</tr>\n",
       "        \n",
       "            <tr style=\"background-color: hsl(120, 100.00%, 96.32%); border: none;\">\n",
       "    <td style=\"padding: 0 1em 0 0.5em; text-align: right; border: none;\">\n",
       "        +0.209\n",
       "    </td>\n",
       "    <td style=\"padding: 0 0.5em 0 0.5em; text-align: left; border: none;\">\n",
       "        lemma[1]:@card@\n",
       "    </td>\n",
       "    \n",
       "</tr>\n",
       "        \n",
       "            <tr style=\"background-color: hsl(120, 100.00%, 96.54%); border: none;\">\n",
       "    <td style=\"padding: 0 1em 0 0.5em; text-align: right; border: none;\">\n",
       "        +0.191\n",
       "    </td>\n",
       "    <td style=\"padding: 0 0.5em 0 0.5em; text-align: left; border: none;\">\n",
       "        lemma[-1]:19\n",
       "    </td>\n",
       "    \n",
       "</tr>\n",
       "        \n",
       "            <tr style=\"background-color: hsl(120, 100.00%, 97.10%); border: none;\">\n",
       "    <td style=\"padding: 0 1em 0 0.5em; text-align: right; border: none;\">\n",
       "        +0.149\n",
       "    </td>\n",
       "    <td style=\"padding: 0 0.5em 0 0.5em; text-align: left; border: none;\">\n",
       "        lemma[0]:Oktober\n",
       "    </td>\n",
       "    \n",
       "</tr>\n",
       "        \n",
       "            <tr style=\"background-color: hsl(120, 100.00%, 97.49%); border: none;\">\n",
       "    <td style=\"padding: 0 1em 0 0.5em; text-align: right; border: none;\">\n",
       "        +0.121\n",
       "    </td>\n",
       "    <td style=\"padding: 0 0.5em 0 0.5em; text-align: left; border: none;\">\n",
       "        lemma[-1]:5\n",
       "    </td>\n",
       "    \n",
       "</tr>\n",
       "        \n",
       "        \n",
       "            <tr style=\"background-color: hsl(120, 100.00%, 97.49%); border: none;\">\n",
       "                <td colspan=\"2\" style=\"padding: 0 0.5em 0 0.5em; text-align: center; border: none; white-space: nowrap;\">\n",
       "                    <i>&hellip; 7 more positive &hellip;</i>\n",
       "                </td>\n",
       "            </tr>\n",
       "        \n",
       "\n",
       "        \n",
       "        \n",
       "            <tr style=\"background-color: hsl(0, 100.00%, 96.96%); border: none;\">\n",
       "    <td style=\"padding: 0 1em 0 0.5em; text-align: right; border: none;\">\n",
       "        -0.159\n",
       "    </td>\n",
       "    <td style=\"padding: 0 0.5em 0 0.5em; text-align: left; border: none;\">\n",
       "        lemma[0]:&lt;unknown&gt;\n",
       "    </td>\n",
       "    \n",
       "</tr>\n",
       "        \n",
       "\n",
       "        </tbody>\n",
       "    </table>\n",
       "\n",
       "            \n",
       "        \n",
       "\n",
       "        \n",
       "\n",
       "\n",
       "\n",
       "    \n",
       "\n",
       "        \n",
       "            \n",
       "                \n",
       "                \n",
       "    \n",
       "        <p style=\"margin-bottom: 0.5em; margin-top: 0em\">\n",
       "            <b>\n",
       "    \n",
       "        y=B-PLACEmentioned\n",
       "    \n",
       "</b>\n",
       "\n",
       "top features\n",
       "        </p>\n",
       "    \n",
       "    <table class=\"eli5-weights\"\n",
       "           style=\"border-collapse: collapse; border: none; margin-top: 0em; table-layout: auto; margin-bottom: 2em;\">\n",
       "        <thead>\n",
       "        <tr style=\"border: none;\">\n",
       "            \n",
       "                <th style=\"padding: 0 1em 0 0.5em; text-align: right; border: none;\" title=\"Feature weights. Note that weights do not account for feature value scales, so if feature values have different scales, features with highest weights might not be the most important.\">\n",
       "                    Weight<sup>?</sup>\n",
       "                </th>\n",
       "            \n",
       "            <th style=\"padding: 0 0.5em 0 0.5em; text-align: left; border: none;\">Feature</th>\n",
       "            \n",
       "        </tr>\n",
       "        </thead>\n",
       "        <tbody>\n",
       "        \n",
       "            <tr style=\"background-color: hsl(120, 100.00%, 89.19%); border: none;\">\n",
       "    <td style=\"padding: 0 1em 0 0.5em; text-align: right; border: none;\">\n",
       "        +0.973\n",
       "    </td>\n",
       "    <td style=\"padding: 0 0.5em 0 0.5em; text-align: left; border: none;\">\n",
       "        lemma[0]:Neapel\n",
       "    </td>\n",
       "    \n",
       "</tr>\n",
       "        \n",
       "            <tr style=\"background-color: hsl(120, 100.00%, 90.38%); border: none;\">\n",
       "    <td style=\"padding: 0 1em 0 0.5em; text-align: right; border: none;\">\n",
       "        +0.824\n",
       "    </td>\n",
       "    <td style=\"padding: 0 0.5em 0 0.5em; text-align: left; border: none;\">\n",
       "        lemma[0]:Roma\n",
       "    </td>\n",
       "    \n",
       "</tr>\n",
       "        \n",
       "            <tr style=\"background-color: hsl(120, 100.00%, 91.72%); border: none;\">\n",
       "    <td style=\"padding: 0 1em 0 0.5em; text-align: right; border: none;\">\n",
       "        +0.665\n",
       "    </td>\n",
       "    <td style=\"padding: 0 0.5em 0 0.5em; text-align: left; border: none;\">\n",
       "        lemma[-1]:in\n",
       "    </td>\n",
       "    \n",
       "</tr>\n",
       "        \n",
       "            <tr style=\"background-color: hsl(120, 100.00%, 92.26%); border: none;\">\n",
       "    <td style=\"padding: 0 1em 0 0.5em; text-align: right; border: none;\">\n",
       "        +0.604\n",
       "    </td>\n",
       "    <td style=\"padding: 0 0.5em 0 0.5em; text-align: left; border: none;\">\n",
       "        lemma[0]:Italien\n",
       "    </td>\n",
       "    \n",
       "</tr>\n",
       "        \n",
       "            <tr style=\"background-color: hsl(120, 100.00%, 93.57%); border: none;\">\n",
       "    <td style=\"padding: 0 1em 0 0.5em; text-align: right; border: none;\">\n",
       "        +0.463\n",
       "    </td>\n",
       "    <td style=\"padding: 0 0.5em 0 0.5em; text-align: left; border: none;\">\n",
       "        lemma[0]:Pariser\n",
       "    </td>\n",
       "    \n",
       "</tr>\n",
       "        \n",
       "            <tr style=\"background-color: hsl(120, 100.00%, 93.79%); border: none;\">\n",
       "    <td style=\"padding: 0 1em 0 0.5em; text-align: right; border: none;\">\n",
       "        +0.441\n",
       "    </td>\n",
       "    <td style=\"padding: 0 0.5em 0 0.5em; text-align: left; border: none;\">\n",
       "        lemma[1]:nichts\n",
       "    </td>\n",
       "    \n",
       "</tr>\n",
       "        \n",
       "            <tr style=\"background-color: hsl(120, 100.00%, 93.86%); border: none;\">\n",
       "    <td style=\"padding: 0 1em 0 0.5em; text-align: right; border: none;\">\n",
       "        +0.434\n",
       "    </td>\n",
       "    <td style=\"padding: 0 0.5em 0 0.5em; text-align: left; border: none;\">\n",
       "        lemma[0]:Villa\n",
       "    </td>\n",
       "    \n",
       "</tr>\n",
       "        \n",
       "            <tr style=\"background-color: hsl(120, 100.00%, 94.05%); border: none;\">\n",
       "    <td style=\"padding: 0 1em 0 0.5em; text-align: right; border: none;\">\n",
       "        +0.414\n",
       "    </td>\n",
       "    <td style=\"padding: 0 0.5em 0 0.5em; text-align: left; border: none;\">\n",
       "        lemma[-1]:nach\n",
       "    </td>\n",
       "    \n",
       "</tr>\n",
       "        \n",
       "            <tr style=\"background-color: hsl(120, 100.00%, 94.30%); border: none;\">\n",
       "    <td style=\"padding: 0 1em 0 0.5em; text-align: right; border: none;\">\n",
       "        +0.390\n",
       "    </td>\n",
       "    <td style=\"padding: 0 0.5em 0 0.5em; text-align: left; border: none;\">\n",
       "        lemma[0]:Monte\n",
       "    </td>\n",
       "    \n",
       "</tr>\n",
       "        \n",
       "        \n",
       "            <tr style=\"background-color: hsl(120, 100.00%, 94.30%); border: none;\">\n",
       "                <td colspan=\"2\" style=\"padding: 0 0.5em 0 0.5em; text-align: center; border: none; white-space: nowrap;\">\n",
       "                    <i>&hellip; 53 more positive &hellip;</i>\n",
       "                </td>\n",
       "            </tr>\n",
       "        \n",
       "\n",
       "        \n",
       "            <tr style=\"background-color: hsl(0, 100.00%, 90.75%); border: none;\">\n",
       "                <td colspan=\"2\" style=\"padding: 0 0.5em 0 0.5em; text-align: center; border: none; white-space: nowrap;\">\n",
       "                    <i>&hellip; 10 more negative &hellip;</i>\n",
       "                </td>\n",
       "            </tr>\n",
       "        \n",
       "        \n",
       "            <tr style=\"background-color: hsl(0, 100.00%, 90.75%); border: none;\">\n",
       "    <td style=\"padding: 0 1em 0 0.5em; text-align: right; border: none;\">\n",
       "        -0.779\n",
       "    </td>\n",
       "    <td style=\"padding: 0 0.5em 0 0.5em; text-align: left; border: none;\">\n",
       "        lemma[-1]:an\n",
       "    </td>\n",
       "    \n",
       "</tr>\n",
       "        \n",
       "\n",
       "        </tbody>\n",
       "    </table>\n",
       "\n",
       "            \n",
       "        \n",
       "\n",
       "        \n",
       "\n",
       "\n",
       "\n",
       "    \n",
       "\n",
       "        \n",
       "            \n",
       "                \n",
       "                \n",
       "    \n",
       "        <p style=\"margin-bottom: 0.5em; margin-top: 0em\">\n",
       "            <b>\n",
       "    \n",
       "        y=I-PLACEmentioned\n",
       "    \n",
       "</b>\n",
       "\n",
       "top features\n",
       "        </p>\n",
       "    \n",
       "    <table class=\"eli5-weights\"\n",
       "           style=\"border-collapse: collapse; border: none; margin-top: 0em; table-layout: auto; margin-bottom: 2em;\">\n",
       "        <thead>\n",
       "        <tr style=\"border: none;\">\n",
       "            \n",
       "                <th style=\"padding: 0 1em 0 0.5em; text-align: right; border: none;\" title=\"Feature weights. Note that weights do not account for feature value scales, so if feature values have different scales, features with highest weights might not be the most important.\">\n",
       "                    Weight<sup>?</sup>\n",
       "                </th>\n",
       "            \n",
       "            <th style=\"padding: 0 0.5em 0 0.5em; text-align: left; border: none;\">Feature</th>\n",
       "            \n",
       "        </tr>\n",
       "        </thead>\n",
       "        <tbody>\n",
       "        \n",
       "            <tr style=\"background-color: hsl(120, 100.00%, 92.92%); border: none;\">\n",
       "    <td style=\"padding: 0 1em 0 0.5em; text-align: right; border: none;\">\n",
       "        +0.532\n",
       "    </td>\n",
       "    <td style=\"padding: 0 0.5em 0 0.5em; text-align: left; border: none;\">\n",
       "        lemma[-1]:Villa\n",
       "    </td>\n",
       "    \n",
       "</tr>\n",
       "        \n",
       "            <tr style=\"background-color: hsl(120, 100.00%, 94.61%); border: none;\">\n",
       "    <td style=\"padding: 0 1em 0 0.5em; text-align: right; border: none;\">\n",
       "        +0.360\n",
       "    </td>\n",
       "    <td style=\"padding: 0 0.5em 0 0.5em; text-align: left; border: none;\">\n",
       "        lemma[-1]:di\n",
       "    </td>\n",
       "    \n",
       "</tr>\n",
       "        \n",
       "            <tr style=\"background-color: hsl(120, 100.00%, 95.20%); border: none;\">\n",
       "    <td style=\"padding: 0 1em 0 0.5em; text-align: right; border: none;\">\n",
       "        +0.305\n",
       "    </td>\n",
       "    <td style=\"padding: 0 0.5em 0 0.5em; text-align: left; border: none;\">\n",
       "        lemma[-1]:Monte\n",
       "    </td>\n",
       "    \n",
       "</tr>\n",
       "        \n",
       "            <tr style=\"background-color: hsl(120, 100.00%, 96.73%); border: none;\">\n",
       "    <td style=\"padding: 0 1em 0 0.5em; text-align: right; border: none;\">\n",
       "        +0.176\n",
       "    </td>\n",
       "    <td style=\"padding: 0 0.5em 0 0.5em; text-align: left; border: none;\">\n",
       "        lemma[-1]:17\n",
       "    </td>\n",
       "    \n",
       "</tr>\n",
       "        \n",
       "            <tr style=\"background-color: hsl(120, 100.00%, 97.06%); border: none;\">\n",
       "    <td style=\"padding: 0 1em 0 0.5em; text-align: right; border: none;\">\n",
       "        +0.152\n",
       "    </td>\n",
       "    <td style=\"padding: 0 0.5em 0 0.5em; text-align: left; border: none;\">\n",
       "        lemma[-1]:&#x27;\n",
       "    </td>\n",
       "    \n",
       "</tr>\n",
       "        \n",
       "            <tr style=\"background-color: hsl(120, 100.00%, 97.37%); border: none;\">\n",
       "    <td style=\"padding: 0 1em 0 0.5em; text-align: right; border: none;\">\n",
       "        +0.129\n",
       "    </td>\n",
       "    <td style=\"padding: 0 0.5em 0 0.5em; text-align: left; border: none;\">\n",
       "        lemma[1]:obenstehend\n",
       "    </td>\n",
       "    \n",
       "</tr>\n",
       "        \n",
       "            <tr style=\"background-color: hsl(120, 100.00%, 97.40%); border: none;\">\n",
       "    <td style=\"padding: 0 1em 0 0.5em; text-align: right; border: none;\">\n",
       "        +0.127\n",
       "    </td>\n",
       "    <td style=\"padding: 0 0.5em 0 0.5em; text-align: left; border: none;\">\n",
       "        lemma[-1]:S\n",
       "    </td>\n",
       "    \n",
       "</tr>\n",
       "        \n",
       "            <tr style=\"background-color: hsl(120, 100.00%, 97.55%); border: none;\">\n",
       "    <td style=\"padding: 0 1em 0 0.5em; text-align: right; border: none;\">\n",
       "        +0.117\n",
       "    </td>\n",
       "    <td style=\"padding: 0 0.5em 0 0.5em; text-align: left; border: none;\">\n",
       "        lemma[1]:Aug.\n",
       "    </td>\n",
       "    \n",
       "</tr>\n",
       "        \n",
       "            <tr style=\"background-color: hsl(120, 100.00%, 97.57%); border: none;\">\n",
       "    <td style=\"padding: 0 1em 0 0.5em; text-align: right; border: none;\">\n",
       "        +0.115\n",
       "    </td>\n",
       "    <td style=\"padding: 0 0.5em 0 0.5em; text-align: left; border: none;\">\n",
       "        lemma[0]:S\n",
       "    </td>\n",
       "    \n",
       "</tr>\n",
       "        \n",
       "        \n",
       "            <tr style=\"background-color: hsl(120, 100.00%, 97.57%); border: none;\">\n",
       "                <td colspan=\"2\" style=\"padding: 0 0.5em 0 0.5em; text-align: center; border: none; white-space: nowrap;\">\n",
       "                    <i>&hellip; 17 more positive &hellip;</i>\n",
       "                </td>\n",
       "            </tr>\n",
       "        \n",
       "\n",
       "        \n",
       "        \n",
       "            <tr style=\"background-color: hsl(0, 100.00%, 92.78%); border: none;\">\n",
       "    <td style=\"padding: 0 1em 0 0.5em; text-align: right; border: none;\">\n",
       "        -0.546\n",
       "    </td>\n",
       "    <td style=\"padding: 0 0.5em 0 0.5em; text-align: left; border: none;\">\n",
       "        lemma[0]:&lt;unknown&gt;\n",
       "    </td>\n",
       "    \n",
       "</tr>\n",
       "        \n",
       "\n",
       "        </tbody>\n",
       "    </table>\n",
       "\n",
       "            \n",
       "        \n",
       "\n",
       "        \n",
       "\n",
       "\n",
       "\n",
       "    \n",
       "\n",
       "        \n",
       "            \n",
       "                \n",
       "                \n",
       "    \n",
       "        <p style=\"margin-bottom: 0.5em; margin-top: 0em\">\n",
       "            <b>\n",
       "    \n",
       "        y=B-PLACEto\n",
       "    \n",
       "</b>\n",
       "\n",
       "top features\n",
       "        </p>\n",
       "    \n",
       "    <table class=\"eli5-weights\"\n",
       "           style=\"border-collapse: collapse; border: none; margin-top: 0em; table-layout: auto; margin-bottom: 2em;\">\n",
       "        <thead>\n",
       "        <tr style=\"border: none;\">\n",
       "            \n",
       "                <th style=\"padding: 0 1em 0 0.5em; text-align: right; border: none;\" title=\"Feature weights. Note that weights do not account for feature value scales, so if feature values have different scales, features with highest weights might not be the most important.\">\n",
       "                    Weight<sup>?</sup>\n",
       "                </th>\n",
       "            \n",
       "            <th style=\"padding: 0 0.5em 0 0.5em; text-align: left; border: none;\">Feature</th>\n",
       "            \n",
       "        </tr>\n",
       "        </thead>\n",
       "        <tbody>\n",
       "        \n",
       "            <tr style=\"background-color: hsl(120, 100.00%, 96.62%); border: none;\">\n",
       "    <td style=\"padding: 0 1em 0 0.5em; text-align: right; border: none;\">\n",
       "        +0.185\n",
       "    </td>\n",
       "    <td style=\"padding: 0 0.5em 0 0.5em; text-align: left; border: none;\">\n",
       "        lemma[1]:28\n",
       "    </td>\n",
       "    \n",
       "</tr>\n",
       "        \n",
       "            <tr style=\"background-color: hsl(120, 100.00%, 98.09%); border: none;\">\n",
       "    <td style=\"padding: 0 1em 0 0.5em; text-align: right; border: none;\">\n",
       "        +0.082\n",
       "    </td>\n",
       "    <td style=\"padding: 0 0.5em 0 0.5em; text-align: left; border: none;\">\n",
       "        lemma[-1]:an\n",
       "    </td>\n",
       "    \n",
       "</tr>\n",
       "        \n",
       "        \n",
       "\n",
       "        \n",
       "        \n",
       "\n",
       "        </tbody>\n",
       "    </table>\n",
       "\n",
       "            \n",
       "        \n",
       "\n",
       "        \n",
       "\n",
       "\n",
       "\n",
       "    \n",
       "\n",
       "    \n",
       "\n",
       "    \n",
       "\n",
       "    \n",
       "\n",
       "\n",
       "\n"
      ],
      "text/plain": [
       "<IPython.core.display.HTML object>"
      ]
     },
     "execution_count": 52,
     "metadata": {},
     "output_type": "execute_result"
    }
   ],
   "source": [
    "eli5.show_weights(t.crf, top=10, feature_re='^lemma',\n",
    "                  horizontal_layout=False, show=['targets'])"
   ]
  },
  {
   "cell_type": "markdown",
   "metadata": {
    "nbpresent": {
     "id": "69c0efa2-b538-418b-8b2d-30d475da304a"
    }
   },
   "source": [
    "# Final model"
   ]
  },
  {
   "cell_type": "markdown",
   "metadata": {
    "nbpresent": {
     "id": "71c92dec-12fc-4a83-9a2c-f878efcc9077"
    }
   },
   "source": [
    "The final model is trained with the totality of the corpus."
   ]
  },
  {
   "cell_type": "code",
   "execution_count": 41,
   "metadata": {
    "collapsed": true,
    "nbpresent": {
     "id": "22ee5a15-0fd2-4b4b-b8d1-e81311f74d0b"
    }
   },
   "outputs": [],
   "source": [
    "tfinal = Trainer(\"../lib/config/korr_doc.json\")"
   ]
  },
  {
   "cell_type": "code",
   "execution_count": 45,
   "metadata": {
    "collapsed": true,
    "nbpresent": {
     "id": "5455bfa0-ca5a-4337-a096-c8757d5ec201"
    }
   },
   "outputs": [],
   "source": [
    "assert len(tfinal._corpus.sents()) == len(tfinal.training)"
   ]
  },
  {
   "cell_type": "code",
   "execution_count": 46,
   "metadata": {
    "nbpresent": {
     "id": "50a7c82c-2fc4-49ef-b239-f0dabf7b7688"
    }
   },
   "outputs": [
    {
     "name": "stdout",
     "output_type": "stream",
     "text": [
      "CPU times: user 26 s, sys: 1.19 s, total: 27.2 s\n",
      "Wall time: 46.4 s\n"
     ]
    }
   ],
   "source": [
    "%%time\n",
    "tfinal.set_feats_labels(template1)"
   ]
  },
  {
   "cell_type": "code",
   "execution_count": 47,
   "metadata": {
    "nbpresent": {
     "id": "4ebdf529-e123-417e-a715-7b3aa551cf61"
    }
   },
   "outputs": [
    {
     "name": "stdout",
     "output_type": "stream",
     "text": [
      "CPU times: user 4min 9s, sys: 8.87 s, total: 4min 18s\n",
      "Wall time: 4min 31s\n"
     ]
    }
   ],
   "source": [
    "%%time\n",
    "tfinal.fit()"
   ]
  },
  {
   "cell_type": "markdown",
   "metadata": {
    "nbpresent": {
     "id": "7c036a83-5472-4dbf-8ef3-e79882897a23"
    }
   },
   "source": [
    "Now, let's write everything down"
   ]
  },
  {
   "cell_type": "code",
   "execution_count": 48,
   "metadata": {
    "collapsed": true,
    "nbpresent": {
     "id": "66ab51c0-dc03-4462-ad53-7c802ae1753d"
    }
   },
   "outputs": [],
   "source": [
    "import pickle\n",
    "pickle.dump( tfinal.crf, open( \"../lib/models/korrespondez_model_stage3.pickle\", \"wb\" ) )"
   ]
  },
  {
   "cell_type": "markdown",
   "metadata": {
    "nbpresent": {
     "id": "95271018-ea16-43c5-9c77-204610e41312"
    }
   },
   "source": [
    "(let's verify that everything went smoothly)"
   ]
  },
  {
   "cell_type": "code",
   "execution_count": 53,
   "metadata": {
    "collapsed": true,
    "nbpresent": {
     "id": "c59f95c1-ef77-4fec-af99-fd38edd53ad7"
    }
   },
   "outputs": [],
   "source": [
    "with open(\"../lib/models/korrespondez_model_stage3.pickle\", \"rb\") as f:\n",
    "    crf = pickle.load(f)"
   ]
  },
  {
   "cell_type": "code",
   "execution_count": 55,
   "metadata": {
    "nbpresent": {
     "id": "5f0637ad-13a4-4bdd-978a-ce60c56275df"
    },
    "scrolled": true
   },
   "outputs": [
    {
     "data": {
      "text/plain": [
       "['O', 'O', 'O', 'O', 'O', 'O', 'O', 'O', 'O']"
      ]
     },
     "execution_count": 55,
     "metadata": {},
     "output_type": "execute_result"
    }
   ],
   "source": [
    "crf.predict(t.X_test)[0]"
   ]
  },
  {
   "cell_type": "markdown",
   "metadata": {
    "nbpresent": {
     "id": "63b3c215-7742-46af-8ebb-cfb293663c5b"
    }
   },
   "source": [
    "# Summary"
   ]
  },
  {
   "cell_type": "markdown",
   "metadata": {
    "nbpresent": {
     "id": "1fc31fb2-e190-41bf-a83b-117153069de8"
    }
   },
   "source": [
    "All the previous operations in one cell"
   ]
  },
  {
   "cell_type": "markdown",
   "metadata": {
    "nbpresent": {
     "id": "b84578cd-3865-47f2-9ed1-5dc731781f91"
    }
   },
   "source": [
    "## With training/test splitting"
   ]
  },
  {
   "cell_type": "markdown",
   "metadata": {
    "nbpresent": {
     "id": "79dc4a0a-35bd-46d9-8c88-37d68541d98b"
    }
   },
   "source": [
    "Use the following cell if you want to do train/test splitting. Adjust the test percentage and the path to the config as you see fit"
   ]
  },
  {
   "cell_type": "code",
   "execution_count": 6,
   "metadata": {
    "nbpresent": {
     "id": "f301d040-8cf6-4941-a2bc-a12612103b2e"
    }
   },
   "outputs": [
    {
     "name": "stderr",
     "output_type": "stream",
     "text": [
      "/usr/local/share/.virtualenvs/nlppy3/lib/python3.4/site-packages/sklearn/metrics/classification.py:1113: UndefinedMetricWarning: F-score is ill-defined and being set to 0.0 in labels with no predicted samples.\n",
      "  'precision', 'predicted', average, warn_for)\n",
      "/usr/local/share/.virtualenvs/nlppy3/lib/python3.4/site-packages/sklearn/metrics/classification.py:1115: UndefinedMetricWarning: F-score is ill-defined and being set to 0.0 in labels with no true samples.\n",
      "  'recall', 'true', average, warn_for)\n",
      "/usr/local/share/.virtualenvs/nlppy3/lib/python3.4/site-packages/sklearn/metrics/classification.py:1113: UndefinedMetricWarning: Precision and F-score are ill-defined and being set to 0.0 in labels with no predicted samples.\n",
      "  'precision', 'predicted', average, warn_for)\n",
      "/usr/local/share/.virtualenvs/nlppy3/lib/python3.4/site-packages/sklearn/metrics/classification.py:1115: UndefinedMetricWarning: Recall and F-score are ill-defined and being set to 0.0 in labels with no true samples.\n",
      "  'recall', 'true', average, warn_for)\n"
     ]
    },
    {
     "name": "stdout",
     "output_type": "stream",
     "text": [
      "CPU times: user 7min 17s, sys: 2.14 s, total: 7min 19s\n",
      "Wall time: 7min 19s\n"
     ]
    }
   ],
   "source": [
    "%%time\n",
    "\n",
    "from templates import template1\n",
    "\n",
    "t = Trainer(\"../lib/config/korr_nlp.json\")\n",
    "train,test = t.split()\n",
    "t.train = train\n",
    "t.test = test\n",
    "\n",
    "t.set_feats_labels(template1)\n",
    "t.fit()\n",
    "\n",
    "ev = t.evaluate()"
   ]
  },
  {
   "cell_type": "code",
   "execution_count": null,
   "metadata": {
    "collapsed": true
   },
   "outputs": [],
   "source": []
  },
  {
   "cell_type": "code",
   "execution_count": 7,
   "metadata": {
    "nbpresent": {
     "id": "e04f0f4a-ebb1-42c8-8f78-85942a7537a5"
    }
   },
   "outputs": [
    {
     "name": "stdout",
     "output_type": "stream",
     "text": [
      "0.970718309856\n",
      "                  precision    recall  f1-score   support\n",
      "\n",
      "  B-DATEanswered      0.917     0.917     0.917        12\n",
      "  I-DATEanswered      0.885     0.885     0.885        26\n",
      "    B-DATEletter      0.982     1.000     0.991       220\n",
      "    I-DATEletter      0.983     0.997     0.990       580\n",
      " B-DATEmentioned      0.988     1.000     0.994        80\n",
      " I-DATEmentioned      1.000     0.983     0.991        58\n",
      "  B-DATErecieved      1.000     0.952     0.976        21\n",
      "  I-DATErecieved      1.000     0.932     0.965        59\n",
      "           B-LIT      1.000     0.895     0.944        38\n",
      "           I-LIT      1.000     0.611     0.759        54\n",
      "           B-OBJ      1.000     0.940     0.969       182\n",
      "           I-OBJ      1.000     0.700     0.824       120\n",
      "  B-ORGaddressee      0.000     0.000     0.000         0\n",
      "  I-ORGaddressee      0.000     0.000     0.000         0\n",
      "  B-ORGmentioned      1.000     0.984     0.992       128\n",
      "  I-ORGmentioned      1.000     0.787     0.881        47\n",
      "  B-PERaddressee      0.979     1.000     0.989       228\n",
      "  I-PERaddressee      1.000     0.920     0.958        25\n",
      "     B-PERauthor      0.966     0.981     0.974       263\n",
      "     I-PERauthor      0.760     0.920     0.833       100\n",
      "  B-PERmentioned      0.998     0.987     0.992       864\n",
      "  I-PERmentioned      0.980     0.920     0.949       163\n",
      "     B-PLACEfrom      0.986     0.990     0.988       208\n",
      "     I-PLACEfrom      1.000     0.400     0.571         5\n",
      "B-PLACEmentioned      0.994     0.997     0.995       331\n",
      "I-PLACEmentioned      1.000     1.000     1.000        33\n",
      "       B-PLACEto      0.667     1.000     0.800         2\n",
      "          B-TIME      0.000     0.000     0.000         0\n",
      "          I-TIME      0.000     0.000     0.000         0\n",
      "\n",
      "     avg / total      0.982     0.963     0.971      3847\n",
      "\n"
     ]
    }
   ],
   "source": [
    "#inspect ev for the evaluation\n",
    "print(ev[\"F1_general\"])\n",
    "print(ev[\"F1_class\"])"
   ]
  },
  {
   "cell_type": "code",
   "execution_count": null,
   "metadata": {
    "collapsed": true
   },
   "outputs": [],
   "source": []
  },
  {
   "cell_type": "markdown",
   "metadata": {
    "nbpresent": {
     "id": "5aca4b3e-1afc-4f33-b670-9653b4ca1782"
    }
   },
   "source": [
    "## Train with the full corpus"
   ]
  },
  {
   "cell_type": "markdown",
   "metadata": {
    "nbpresent": {
     "id": "b9c3d189-df48-4c82-adcd-1147d08c6997"
    }
   },
   "source": [
    "Use the following cell if you want to use the full corpus for training"
   ]
  },
  {
   "cell_type": "code",
   "execution_count": 11,
   "metadata": {
    "collapsed": true
   },
   "outputs": [],
   "source": [
    "from training import Trainer\n",
    "from templates import template1\n",
    "import pickle\n",
    "\n",
    "#t = Trainer(\"../lib/config/korr_nlp.json\")\n",
    "t = Trainer(\"../lib/config/korr_mac.json\")"
   ]
  },
  {
   "cell_type": "code",
   "execution_count": 12,
   "metadata": {
    "nbpresent": {
     "id": "ffda3e68-f078-4443-982f-1c53c07e5070"
    }
   },
   "outputs": [
    {
     "name": "stdout",
     "output_type": "stream",
     "text": [
      "CPU times: user 16min 57s, sys: 32.7 s, total: 17min 29s\n",
      "Wall time: 18min 45s\n"
     ]
    }
   ],
   "source": [
    "%%time\n",
    "t.set_feats_labels(template1)\n",
    "t.fit()"
   ]
  },
  {
   "cell_type": "markdown",
   "metadata": {
    "nbpresent": {
     "id": "de2f154f-52f9-446d-b300-36a6bbb06600"
    }
   },
   "source": [
    "Use the following cell to write everything to a pickle file.\n",
    "\n",
    "Don't forget to **update the output file name**!"
   ]
  },
  {
   "cell_type": "code",
   "execution_count": 13,
   "metadata": {
    "collapsed": true,
    "nbpresent": {
     "id": "d1262485-d483-4839-b49b-747d966fb8c0"
    }
   },
   "outputs": [],
   "source": [
    "outpath = '../lib/models/korrespondez_model_stage9.pickle'\n",
    "with open(outpath, 'wb') as out:\n",
    "    pickle.dump( t.crf, out)"
   ]
  },
  {
   "cell_type": "markdown",
   "metadata": {},
   "source": [
    "---"
   ]
  },
  {
   "cell_type": "code",
   "execution_count": 38,
   "metadata": {
    "collapsed": true
   },
   "outputs": [],
   "source": [
    "def reorder(string):\n",
    "    s = string.split(\"\\n\")\n",
    "    lines = [l.split(\"\\t\") for l in s]\n",
    "    previds = lines[0][0].split(\"-\")\n",
    "    #sentid = previds[0]\n",
    "    for l in lines:\n",
    "        currids = l[0].split(\"-\")\n",
    "        if currids[0] != previds[0]:\n",
    "            ids = '{}-{}'.format( previds[0], int(previds[1]) + 1)\n",
    "        else:\n",
    "            ids = '-'.join(currids)\n",
    "        previds = ids.split('-')\n",
    "        print('{}\\t{}'.format(ids, \"\\t\".join(l[1:])))"
   ]
  },
  {
   "cell_type": "code",
   "execution_count": 77,
   "metadata": {
    "collapsed": true
   },
   "outputs": [],
   "source": [
    "s = '''1-1\t431\tCARD\t@card@\t_\tO\tO\t\n",
    "1-2\tGerhard\tNE\tGerhard\t_\tB-webanno.custom.LetterEntity_\tB-PERmentioned\t\n",
    "1-3\tan\tAPPR\tan\t_\tO\tO\t\n",
    "1-4\tBraun\tNE\tBraun\t_\tB-webanno.custom.LetterEntity_\tB-PERaddressee\t\n",
    "1-5\tBerlin\tNE\tBerlin\t_\tB-webanno.custom.LetterEntity_\tB-PLACEfrom\t\n",
    "1-6\t,\t$,\t,\t_\tO\tO\t\n",
    "1-7\t20\tCARD\t20\t_\tB-webanno.custom.LetterEntity_\tB-DATEletter\t\n",
    "1-8\t.\t$.\t.\t_\tI-webanno.custom.LetterEntity_\tI-DATEletter\t\n",
    "2-1\tOktober\tNN\tOktober\t_\tI-webanno.custom.LetterEntity_\tI-DATEletter\t\n",
    "2-2\t1844\tCARD\t1844\t_\tI-webanno.custom.LetterEntity_\tI-DATEletter\t\n",
    "2-3\tA.\tAPPR\tan\t_\tO\tO\t\n",
    "2-4\td.\tART\td.\t_\tO\tO\t\n",
    "2-5\tDir.\tNN\tDir.\t_\tO\tO\t'''"
   ]
  },
  {
   "cell_type": "code",
   "execution_count": 121,
   "metadata": {},
   "outputs": [
    {
     "name": "stdout",
     "output_type": "stream",
     "text": [
      "1-1\t431\tCARD\t@card@\t_\tO\tO\t\n",
      "1-2\tGerhard\tNE\tGerhard\t_\tB-webanno.custom.LetterEntity_\tB-PERmentioned\t\n",
      "1-3\tan\tAPPR\tan\t_\tO\tO\t\n",
      "1-4\tBraun\tNE\tBraun\t_\tB-webanno.custom.LetterEntity_\tB-PERaddressee\t\n",
      "1-5\tBerlin\tNE\tBerlin\t_\tB-webanno.custom.LetterEntity_\tB-PLACEfrom\t\n",
      "1-6\t,\t$,\t,\t_\tO\tO\t\n",
      "1-7\t20\tCARD\t20\t_\tB-webanno.custom.LetterEntity_\tB-DATEletter\t\n",
      "1-8\t.\t$.\t.\t_\tI-webanno.custom.LetterEntity_\tI-DATEletter\t\n",
      "1-9\tOktober\tNN\tOktober\t_\tI-webanno.custom.LetterEntity_\tI-DATEletter\t\n",
      "1-10\t1844\tCARD\t1844\t_\tI-webanno.custom.LetterEntity_\tI-DATEletter\t\n",
      "1-11\tA.\tAPPR\tan\t_\tO\tO\t\n",
      "1-12\td.\tART\td.\t_\tO\tO\t\n",
      "1-13\tDir.\tNN\tDir.\t_\tO\tO\t\n"
     ]
    }
   ],
   "source": [
    "reorder(s)"
   ]
  },
  {
   "cell_type": "code",
   "execution_count": 138,
   "metadata": {
    "collapsed": true
   },
   "outputs": [],
   "source": [
    "def pos_tag_sents(tokenized_sents):\n",
    "    from treetagger import TreeTagger\n",
    "\n",
    "    tagged_sents = []\n",
    "    for i, s in enumerate(tokenized_sents):\n",
    "        tt = TreeTagger(language='german')\n",
    "        tags = [t for t in tt.tag(s) if len(t) > 1]\n",
    "        tags = [tuple(tag + [\"_\", \"\"]) for tag in tags]\n",
    "        tagged_sents.append(tags)\n",
    "    return tagged_sents"
   ]
  },
  {
   "cell_type": "code",
   "execution_count": 139,
   "metadata": {},
   "outputs": [
    {
     "data": {
      "text/plain": [
       "[[('Hallo', 'ITJ', 'hallo', '_', ''),\n",
       "  (',', '$,', ',', '_', ''),\n",
       "  ('wie', 'KOUS', 'wie', '_', ''),\n",
       "  ('geht', 'VVFIN', 'gehen', '_', ''),\n",
       "  ('es', 'PPER', 'es', '_', ''),\n",
       "  ('dir', 'PPER', 'du', '_', ''),\n",
       "  ('?', '$.', '?', '_', '')]]"
      ]
     },
     "execution_count": 139,
     "metadata": {},
     "output_type": "execute_result"
    }
   ],
   "source": [
    "pos_tag_sents([\"Hallo , wie geht <> es dir?\"])"
   ]
  },
  {
   "cell_type": "code",
   "execution_count": 126,
   "metadata": {
    "collapsed": true
   },
   "outputs": [],
   "source": [
    "from treetagger import TreeTagger\n",
    "tt = TreeTagger(language='german')"
   ]
  },
  {
   "cell_type": "code",
   "execution_count": 135,
   "metadata": {},
   "outputs": [],
   "source": [
    "tags = tt.tag(\"Hallo , wie geht \\<\\> es dir?\")"
   ]
  },
  {
   "cell_type": "code",
   "execution_count": 136,
   "metadata": {},
   "outputs": [
    {
     "data": {
      "text/plain": [
       "[['Hallo', 'ITJ', 'hallo'],\n",
       " [',', '$,', ','],\n",
       " ['wie', 'KOUS', 'wie'],\n",
       " ['geht', 'VVFIN', 'gehen'],\n",
       " ['\\\\', 'XY', '\\\\'],\n",
       " ['<\\\\>'],\n",
       " ['es', 'PPER', 'es'],\n",
       " ['dir', 'PPER', 'du'],\n",
       " ['?', '$.', '?']]"
      ]
     },
     "execution_count": 136,
     "metadata": {},
     "output_type": "execute_result"
    }
   ],
   "source": [
    "tags"
   ]
  },
  {
   "cell_type": "code",
   "execution_count": null,
   "metadata": {
    "collapsed": true
   },
   "outputs": [],
   "source": []
  },
  {
   "cell_type": "code",
   "execution_count": null,
   "metadata": {
    "collapsed": true
   },
   "outputs": [],
   "source": []
  }
 ],
 "metadata": {
  "kernelspec": {
   "display_name": "Python [default]",
   "language": "python",
   "name": "python3"
  },
  "language_info": {
   "codemirror_mode": {
    "name": "ipython",
    "version": 3
   },
   "file_extension": ".py",
   "mimetype": "text/x-python",
   "name": "python",
   "nbconvert_exporter": "python",
   "pygments_lexer": "ipython3",
   "version": "3.6.3"
  },
  "nav_menu": {},
  "nbpresent": {
   "slides": {
    "02fbf60e-656a-4fc3-9e14-c2c7a17620bd": {
     "id": "02fbf60e-656a-4fc3-9e14-c2c7a17620bd",
     "prev": "8db914d5-99b0-4389-b218-b73f685acf48",
     "regions": {
      "142d82d8-3a9e-4b30-90ab-24d36b447737": {
       "attrs": {
        "height": 0.8,
        "width": 0.8,
        "x": 0.1,
        "y": 0.1
       },
       "content": {
        "cell": "6298adbe-39af-40f3-93b0-52a1b5c76d08",
        "part": "whole"
       },
       "id": "142d82d8-3a9e-4b30-90ab-24d36b447737"
      }
     }
    },
    "0330da5e-2948-4d4e-ad7e-d33ea8b49a44": {
     "id": "0330da5e-2948-4d4e-ad7e-d33ea8b49a44",
     "prev": "161ca3c7-7aee-458b-8a64-7974e113e072",
     "regions": {
      "33ac8bb6-cc89-4696-9eb5-69394d8cb7a8": {
       "attrs": {
        "height": 0.8,
        "width": 0.8,
        "x": 0.1,
        "y": 0.1
       },
       "content": {
        "cell": "cf525f5e-b5a5-4ed5-857d-1db6d859c40a",
        "part": "whole"
       },
       "id": "33ac8bb6-cc89-4696-9eb5-69394d8cb7a8"
      }
     }
    },
    "06855141-9c24-4e0b-b41c-3ebdf3ff33a0": {
     "id": "06855141-9c24-4e0b-b41c-3ebdf3ff33a0",
     "prev": "848c833d-14a1-430a-9d1b-2c067bca423b",
     "regions": {
      "7271dbb2-e142-4aa7-899c-07404b70cc1d": {
       "attrs": {
        "height": 0.8,
        "width": 0.8,
        "x": 0.1,
        "y": 0.1
       },
       "content": {
        "cell": "4ebdf529-e123-417e-a715-7b3aa551cf61",
        "part": "whole"
       },
       "id": "7271dbb2-e142-4aa7-899c-07404b70cc1d"
      }
     }
    },
    "06d687b9-5541-4e61-9c36-4a5b4f66fac3": {
     "id": "06d687b9-5541-4e61-9c36-4a5b4f66fac3",
     "prev": "9f2ea203-ec84-48cd-af66-c9ed72c9e21d",
     "regions": {
      "e5afbdb5-78b5-4b85-9663-84fee8117c72": {
       "attrs": {
        "height": 0.8,
        "width": 0.8,
        "x": 0.1,
        "y": 0.1
       },
       "content": {
        "cell": "95271018-ea16-43c5-9c77-204610e41312",
        "part": "whole"
       },
       "id": "e5afbdb5-78b5-4b85-9663-84fee8117c72"
      }
     }
    },
    "07a0145f-1f28-4204-b8fc-b10010d4a2de": {
     "id": "07a0145f-1f28-4204-b8fc-b10010d4a2de",
     "prev": "9c7ea419-ad66-4583-83e2-7aed5d9956f3",
     "regions": {
      "707acfe6-426a-4694-b231-b72ff1e38360": {
       "attrs": {
        "height": 0.8,
        "width": 0.8,
        "x": 0.1,
        "y": 0.1
       },
       "content": {
        "cell": "95d1309c-eb1c-436e-a39f-011a8a8faa32",
        "part": "whole"
       },
       "id": "707acfe6-426a-4694-b231-b72ff1e38360"
      }
     }
    },
    "07f77607-471a-4902-9f71-c9893b75b44e": {
     "id": "07f77607-471a-4902-9f71-c9893b75b44e",
     "prev": "d23bbf17-2a60-4dcf-8a52-dd67a685c004",
     "regions": {
      "fc54b4ec-1f1e-474a-aee9-b8a9f422e4da": {
       "attrs": {
        "height": 0.8,
        "width": 0.8,
        "x": 0.1,
        "y": 0.1
       },
       "content": {
        "cell": "188e4cf3-5042-4d4b-8ece-80db02479ca6",
        "part": "whole"
       },
       "id": "fc54b4ec-1f1e-474a-aee9-b8a9f422e4da"
      }
     }
    },
    "09e1acb8-3dff-4853-bb0a-0edb0588f963": {
     "id": "09e1acb8-3dff-4853-bb0a-0edb0588f963",
     "prev": "0c96fb3e-66b1-4533-807c-64e01c441855",
     "regions": {
      "9f1cd99c-c539-4f2d-870f-ca2596ad7bd2": {
       "attrs": {
        "height": 0.8,
        "width": 0.8,
        "x": 0.1,
        "y": 0.1
       },
       "content": {
        "cell": "a786efc8-f3c1-45c3-9ad1-c7ca0d53c448",
        "part": "whole"
       },
       "id": "9f1cd99c-c539-4f2d-870f-ca2596ad7bd2"
      }
     }
    },
    "0ae39364-fd57-4184-86a7-83b55aff92fa": {
     "id": "0ae39364-fd57-4184-86a7-83b55aff92fa",
     "prev": "86c1dcc0-6389-4a2b-866b-a7be1f8e3157",
     "regions": {
      "9af64c48-b180-45cb-ad81-ae029cbf17a0": {
       "attrs": {
        "height": 0.8,
        "width": 0.8,
        "x": 0.1,
        "y": 0.1
       },
       "content": {
        "cell": "9ac1568f-fb71-4ef9-8784-5f713d2a51fc",
        "part": "whole"
       },
       "id": "9af64c48-b180-45cb-ad81-ae029cbf17a0"
      }
     }
    },
    "0b917da5-ddb5-4c42-b7ae-34aca6dbb450": {
     "id": "0b917da5-ddb5-4c42-b7ae-34aca6dbb450",
     "prev": "29d09a66-a69b-4272-8f85-17c83391c6c9",
     "regions": {
      "9283931b-69be-457c-b4a1-101fa4f0e384": {
       "attrs": {
        "height": 0.8,
        "width": 0.8,
        "x": 0.1,
        "y": 0.1
       },
       "content": {
        "cell": "b3e8e9a4-e95d-46e5-b92b-01f1a3b41e04",
        "part": "whole"
       },
       "id": "9283931b-69be-457c-b4a1-101fa4f0e384"
      }
     }
    },
    "0c96fb3e-66b1-4533-807c-64e01c441855": {
     "id": "0c96fb3e-66b1-4533-807c-64e01c441855",
     "prev": "9a724387-516e-462b-acde-67bf8d26d2ab",
     "regions": {
      "041b1f3e-1f86-4891-8ee4-cb3610edaf6c": {
       "attrs": {
        "height": 0.8,
        "width": 0.8,
        "x": 0.1,
        "y": 0.1
       },
       "content": {
        "cell": "23cf1572-0bc1-4007-a516-b0bdfd37307a",
        "part": "whole"
       },
       "id": "041b1f3e-1f86-4891-8ee4-cb3610edaf6c"
      }
     }
    },
    "0d35fceb-cc31-41c3-a315-781215a79eb1": {
     "id": "0d35fceb-cc31-41c3-a315-781215a79eb1",
     "prev": "792ab2e4-7cde-4030-aa9a-6866e3b5e4cd",
     "regions": {
      "9a452edf-a523-40da-84f6-38f7adfca268": {
       "attrs": {
        "height": 0.8,
        "width": 0.8,
        "x": 0.1,
        "y": 0.1
       },
       "content": {
        "cell": "79dc4a0a-35bd-46d9-8c88-37d68541d98b",
        "part": "whole"
       },
       "id": "9a452edf-a523-40da-84f6-38f7adfca268"
      }
     }
    },
    "1294ca09-be00-4e72-b71b-b8880a6e3eb3": {
     "id": "1294ca09-be00-4e72-b71b-b8880a6e3eb3",
     "prev": "3267f45c-e02c-4679-b72e-4ab71610cc9c",
     "regions": {
      "62e87cf4-197b-432b-a04a-8a1fdb978bec": {
       "attrs": {
        "height": 0.8,
        "width": 0.8,
        "x": 0.1,
        "y": 0.1
       },
       "content": {
        "cell": "19e80305-d4af-4c5c-b966-9e3a2efae0a8",
        "part": "whole"
       },
       "id": "62e87cf4-197b-432b-a04a-8a1fdb978bec"
      }
     }
    },
    "1382eb8b-f3c0-4e03-a96a-4ac5c5fa181e": {
     "id": "1382eb8b-f3c0-4e03-a96a-4ac5c5fa181e",
     "prev": "7d8be655-0a08-418b-b3e4-0d401931f1a3",
     "regions": {
      "7e74df53-ddbf-4c25-89aa-de7f89e73ba3": {
       "attrs": {
        "height": 0.8,
        "width": 0.8,
        "x": 0.1,
        "y": 0.1
       },
       "content": {
        "cell": "f08af3e1-e3e8-4d6a-bfed-c7a44fa3f924",
        "part": "whole"
       },
       "id": "7e74df53-ddbf-4c25-89aa-de7f89e73ba3"
      }
     }
    },
    "14771567-3cce-42f3-ad7d-562cf5b29282": {
     "id": "14771567-3cce-42f3-ad7d-562cf5b29282",
     "prev": "bba2d8b4-cd9b-49bb-bb4d-6cbe690e641a",
     "regions": {
      "c157fac6-f433-43e6-96ee-95b1516eba8c": {
       "attrs": {
        "height": 0.8,
        "width": 0.8,
        "x": 0.1,
        "y": 0.1
       },
       "content": {
        "cell": "a41fcb47-6f7a-4406-a3ae-7b88f422944f",
        "part": "whole"
       },
       "id": "c157fac6-f433-43e6-96ee-95b1516eba8c"
      }
     }
    },
    "161ca3c7-7aee-458b-8a64-7974e113e072": {
     "id": "161ca3c7-7aee-458b-8a64-7974e113e072",
     "prev": "560ec814-86c4-4caf-90aa-1adaf9ba27f6",
     "regions": {
      "2a3697dc-7b1d-41ae-8493-6390a11fb35c": {
       "attrs": {
        "height": 0.8,
        "width": 0.8,
        "x": 0.1,
        "y": 0.1
       },
       "content": {
        "cell": "676326a8-6a06-4dbd-9820-d164330bbf03",
        "part": "whole"
       },
       "id": "2a3697dc-7b1d-41ae-8493-6390a11fb35c"
      }
     }
    },
    "1e7b7d3a-cf55-4213-95db-0a22537c8db2": {
     "id": "1e7b7d3a-cf55-4213-95db-0a22537c8db2",
     "prev": "6a35e218-e62a-49ba-a8ea-207eb94e41af",
     "regions": {
      "7954334f-33eb-421a-95f3-19fb14ee55a3": {
       "attrs": {
        "height": 0.8,
        "width": 0.8,
        "x": 0.1,
        "y": 0.1
       },
       "content": {
        "cell": "ecd05336-5738-4cdd-8555-25890dc80ced",
        "part": "whole"
       },
       "id": "7954334f-33eb-421a-95f3-19fb14ee55a3"
      }
     }
    },
    "1eb914f3-960f-4c5a-9fb3-5738f3077cb1": {
     "id": "1eb914f3-960f-4c5a-9fb3-5738f3077cb1",
     "prev": "29df3309-ec91-404f-a8dc-d21d4204adff",
     "regions": {
      "38d545c3-90c3-4951-b108-71f5b937c7dc": {
       "attrs": {
        "height": 0.8,
        "width": 0.8,
        "x": 0.1,
        "y": 0.1
       },
       "content": {
        "cell": "23cf1572-0bc1-4007-a516-b0bdfd37307a",
        "part": "whole"
       },
       "id": "38d545c3-90c3-4951-b108-71f5b937c7dc"
      }
     }
    },
    "20f886e1-4bc4-4211-bc33-c7ccfaf5ce21": {
     "id": "20f886e1-4bc4-4211-bc33-c7ccfaf5ce21",
     "prev": "24d8eb68-e7f1-4108-a0bb-0c788a0200dc",
     "regions": {
      "3bf250b0-65ad-4d15-8cfb-f256dcdea3a6": {
       "attrs": {
        "height": 0.8,
        "width": 0.8,
        "x": 0.1,
        "y": 0.1
       },
       "content": null,
       "id": "3bf250b0-65ad-4d15-8cfb-f256dcdea3a6"
      }
     }
    },
    "21abe475-d80b-4859-9775-182700924576": {
     "id": "21abe475-d80b-4859-9775-182700924576",
     "prev": "52002ab2-900d-473b-b58f-5a0c79106784",
     "regions": {
      "a80a2435-8b5a-406b-b82b-84115e258ef7": {
       "attrs": {
        "height": 0.8,
        "width": 0.8,
        "x": 0.1,
        "y": 0.1
       },
       "content": {
        "cell": "86a633e0-e235-42b7-97d1-aebfd127c7d9",
        "part": "whole"
       },
       "id": "a80a2435-8b5a-406b-b82b-84115e258ef7"
      }
     }
    },
    "243fecdd-e22f-475e-9762-5894f345a162": {
     "id": "243fecdd-e22f-475e-9762-5894f345a162",
     "prev": "99644bc3-d1e1-433d-9c8c-79cd74329233",
     "regions": {
      "b023b56d-64e7-4e49-9206-2a2776fa3701": {
       "attrs": {
        "height": 0.8,
        "width": 0.8,
        "x": 0.1,
        "y": 0.1
       },
       "content": {
        "cell": "69c0efa2-b538-418b-8b2d-30d475da304a",
        "part": "whole"
       },
       "id": "b023b56d-64e7-4e49-9206-2a2776fa3701"
      }
     }
    },
    "24d8eb68-e7f1-4108-a0bb-0c788a0200dc": {
     "id": "24d8eb68-e7f1-4108-a0bb-0c788a0200dc",
     "prev": "53d320c5-6f34-4846-9d0f-9370bcc46614",
     "regions": {
      "cb5e29d3-e239-4b24-85e3-7c0224fa160d": {
       "attrs": {
        "height": 0.8,
        "width": 0.8,
        "x": 0.1,
        "y": 0.1
       },
       "content": {
        "cell": "f08af3e1-e3e8-4d6a-bfed-c7a44fa3f924",
        "part": "whole"
       },
       "id": "cb5e29d3-e239-4b24-85e3-7c0224fa160d"
      }
     }
    },
    "281f096d-e70f-4019-9337-d620d72f9484": {
     "id": "281f096d-e70f-4019-9337-d620d72f9484",
     "prev": "eb11ca5b-19c6-47d1-9358-ca7a1a3dc0ca",
     "regions": {
      "09261447-47f0-4d24-baea-d83586f86016": {
       "attrs": {
        "height": 0.8,
        "width": 0.8,
        "x": 0.1,
        "y": 0.1
       },
       "content": {
        "cell": "6298adbe-39af-40f3-93b0-52a1b5c76d08",
        "part": "whole"
       },
       "id": "09261447-47f0-4d24-baea-d83586f86016"
      }
     }
    },
    "29d09a66-a69b-4272-8f85-17c83391c6c9": {
     "id": "29d09a66-a69b-4272-8f85-17c83391c6c9",
     "prev": "831d88e1-1734-4a89-9782-8dfb912c5450",
     "regions": {
      "cbabcee8-7777-4df9-8288-18876b5fe9d4": {
       "attrs": {
        "height": 0.8,
        "width": 0.8,
        "x": 0.1,
        "y": 0.1
       },
       "content": {
        "cell": "ddc3435b-d3e9-4543-9505-d0939f449782",
        "part": "whole"
       },
       "id": "cbabcee8-7777-4df9-8288-18876b5fe9d4"
      }
     }
    },
    "29df3309-ec91-404f-a8dc-d21d4204adff": {
     "id": "29df3309-ec91-404f-a8dc-d21d4204adff",
     "prev": "a77df7f3-7dcb-4cf6-958d-009d397fac3b",
     "regions": {
      "47fdd141-6be9-4e68-bac0-83c78a65f6fe": {
       "attrs": {
        "height": 0.8,
        "width": 0.8,
        "x": 0.1,
        "y": 0.1
       },
       "content": {
        "cell": "63d13087-e47f-4e62-ad72-2faa6cb6f6b4",
        "part": "whole"
       },
       "id": "47fdd141-6be9-4e68-bac0-83c78a65f6fe"
      }
     }
    },
    "29f0e8ea-d62b-4b39-8b08-13caf82a2836": {
     "id": "29f0e8ea-d62b-4b39-8b08-13caf82a2836",
     "prev": "ae706690-69b9-4c97-ba97-3216fb897411",
     "regions": {
      "ac183386-e570-4c55-8667-395a3cb65138": {
       "attrs": {
        "height": 0.8,
        "width": 0.8,
        "x": 0.1,
        "y": 0.1
       },
       "content": {
        "cell": "0f3d5537-9e27-4a59-a9c2-f5924e0cde10",
        "part": "whole"
       },
       "id": "ac183386-e570-4c55-8667-395a3cb65138"
      }
     }
    },
    "2bf3bddc-9c37-4605-a85d-5a7cc4559c16": {
     "id": "2bf3bddc-9c37-4605-a85d-5a7cc4559c16",
     "prev": "d8b0eb5b-ce29-4cb2-bab3-b851f6b054ca",
     "regions": {
      "59ca14d4-7aff-4f43-b6a3-37b77da22fcb": {
       "attrs": {
        "height": 0.8,
        "width": 0.8,
        "x": 0.1,
        "y": 0.1
       },
       "content": {
        "cell": "b84578cd-3865-47f2-9ed1-5dc731781f91",
        "part": "whole"
       },
       "id": "59ca14d4-7aff-4f43-b6a3-37b77da22fcb"
      }
     }
    },
    "2bf6222f-9861-4cb5-aa15-bde961c52392": {
     "id": "2bf6222f-9861-4cb5-aa15-bde961c52392",
     "prev": "9b147b4b-ec92-4365-b8e4-5407a71e8957",
     "regions": {
      "577bb23f-273a-430c-ad29-6de48a3d6cb5": {
       "attrs": {
        "height": 0.8,
        "width": 0.8,
        "x": 0.1,
        "y": 0.1
       },
       "content": {
        "cell": "00ea367c-5e95-4794-8e10-1d6389fcff87",
        "part": "whole"
       },
       "id": "577bb23f-273a-430c-ad29-6de48a3d6cb5"
      }
     }
    },
    "2f0db81f-cb6f-4d5e-9e34-fa7dff8a1459": {
     "id": "2f0db81f-cb6f-4d5e-9e34-fa7dff8a1459",
     "prev": "eea3f6cd-f9ac-47ab-915a-d5b4fb68e19a",
     "regions": {
      "55717b5c-c71d-4882-aca6-f0931a6d2661": {
       "attrs": {
        "height": 0.8,
        "width": 0.8,
        "x": 0.1,
        "y": 0.1
       },
       "content": {
        "cell": "4ebdf529-e123-417e-a715-7b3aa551cf61",
        "part": "whole"
       },
       "id": "55717b5c-c71d-4882-aca6-f0931a6d2661"
      }
     }
    },
    "2f7dee1e-5217-49d7-b2c8-d213993c2cc6": {
     "id": "2f7dee1e-5217-49d7-b2c8-d213993c2cc6",
     "prev": "fdec0a0b-2dbc-44a2-b53f-94136e1df74f",
     "regions": {
      "f8eb86f5-e691-4938-981c-ddf76419720c": {
       "attrs": {
        "height": 0.8,
        "width": 0.8,
        "x": 0.1,
        "y": 0.1
       },
       "content": {
        "cell": "66ab51c0-dc03-4462-ad53-7c802ae1753d",
        "part": "whole"
       },
       "id": "f8eb86f5-e691-4938-981c-ddf76419720c"
      }
     }
    },
    "30ac1a36-b20a-43ff-8b6e-4d8b1cbf709c": {
     "id": "30ac1a36-b20a-43ff-8b6e-4d8b1cbf709c",
     "prev": "d85918e6-46c4-496e-a794-7c919dfacb23",
     "regions": {
      "eae464a2-ebea-499e-83a7-86b4580972d2": {
       "attrs": {
        "height": 0.8,
        "width": 0.8,
        "x": 0.1,
        "y": 0.1
       },
       "content": {
        "cell": "fd63945e-2512-4592-a07e-982423676336",
        "part": "whole"
       },
       "id": "eae464a2-ebea-499e-83a7-86b4580972d2"
      }
     }
    },
    "3267f45c-e02c-4679-b72e-4ab71610cc9c": {
     "id": "3267f45c-e02c-4679-b72e-4ab71610cc9c",
     "prev": "7e8b6bed-0156-408d-af64-528517448269",
     "regions": {
      "6db3b7d0-a486-42a1-9e38-46dadd8c224f": {
       "attrs": {
        "height": 0.8,
        "width": 0.8,
        "x": 0.1,
        "y": 0.1
       },
       "content": {
        "cell": "0ce11f3c-6c32-47ba-b8a7-2a7d6586e925",
        "part": "whole"
       },
       "id": "6db3b7d0-a486-42a1-9e38-46dadd8c224f"
      }
     }
    },
    "32a37073-c6b6-458f-87a9-01307ae78edb": {
     "id": "32a37073-c6b6-458f-87a9-01307ae78edb",
     "prev": "61e5935d-0810-4a41-a79e-01d27b7e7a6b",
     "regions": {
      "12297282-a690-4db4-99a9-85ffa8761d12": {
       "attrs": {
        "height": 0.8,
        "width": 0.8,
        "x": 0.1,
        "y": 0.1
       },
       "content": {
        "cell": "895c2347-1541-4af0-92a9-9676e24d896f",
        "part": "whole"
       },
       "id": "12297282-a690-4db4-99a9-85ffa8761d12"
      }
     }
    },
    "33462e7d-e95a-4d85-b2eb-6534e183a566": {
     "id": "33462e7d-e95a-4d85-b2eb-6534e183a566",
     "prev": "e6c8beaf-e692-45bd-809a-0a77155bd1b3",
     "regions": {
      "00464a1d-7097-481b-ad17-d4404e3f0676": {
       "attrs": {
        "height": 0.8,
        "width": 0.8,
        "x": 0.1,
        "y": 0.1
       },
       "content": {
        "cell": "5aca4b3e-1afc-4f33-b670-9653b4ca1782",
        "part": "whole"
       },
       "id": "00464a1d-7097-481b-ad17-d4404e3f0676"
      }
     }
    },
    "3a9dc5c9-9ef5-47f7-ba48-667cf99685fd": {
     "id": "3a9dc5c9-9ef5-47f7-ba48-667cf99685fd",
     "prev": "e4c6de82-0a46-41d5-83a1-6090f47f69eb",
     "regions": {
      "8ef81183-74e1-4cf7-be59-b0ffe0e187b2": {
       "attrs": {
        "height": 0.8,
        "width": 0.8,
        "x": 0.1,
        "y": 0.1
       },
       "content": {
        "cell": "ddc3435b-d3e9-4543-9505-d0939f449782",
        "part": "whole"
       },
       "id": "8ef81183-74e1-4cf7-be59-b0ffe0e187b2"
      }
     }
    },
    "3c043242-175d-4d99-b80b-b556109c175e": {
     "id": "3c043242-175d-4d99-b80b-b556109c175e",
     "prev": "ea889f0a-c881-4343-9e6b-2d4034314fff",
     "regions": {
      "cc99ba7e-022a-429f-ae53-c71c4ea4c72c": {
       "attrs": {
        "height": 0.8,
        "width": 0.8,
        "x": 0.1,
        "y": 0.1
       },
       "content": {
        "cell": "1d365c18-955e-44c9-984a-1dc77baff4b2",
        "part": "whole"
       },
       "id": "cc99ba7e-022a-429f-ae53-c71c4ea4c72c"
      }
     }
    },
    "3d759714-6086-44a6-ade0-20df8c95a2c6": {
     "id": "3d759714-6086-44a6-ade0-20df8c95a2c6",
     "prev": "915f73e3-8300-42ad-8822-810d17dcd587",
     "regions": {
      "9d87d48d-7de5-4ecd-b619-91ba473717b5": {
       "attrs": {
        "height": 0.8,
        "width": 0.8,
        "x": 0.1,
        "y": 0.1
       },
       "content": {
        "cell": "de2f154f-52f9-446d-b300-36a6bbb06600",
        "part": "whole"
       },
       "id": "9d87d48d-7de5-4ecd-b619-91ba473717b5"
      }
     }
    },
    "3f00da4c-a9e6-429c-a560-a0080c9d291f": {
     "id": "3f00da4c-a9e6-429c-a560-a0080c9d291f",
     "prev": "29f0e8ea-d62b-4b39-8b08-13caf82a2836",
     "regions": {
      "414d0aa8-24e4-44f8-8bad-123bcdfb3f37": {
       "attrs": {
        "height": 0.8,
        "width": 0.8,
        "x": 0.1,
        "y": 0.1
       },
       "content": {
        "cell": "1bce975f-3e0b-43bb-8bd8-3258d59e8ba7",
        "part": "whole"
       },
       "id": "414d0aa8-24e4-44f8-8bad-123bcdfb3f37"
      }
     }
    },
    "4007f9b4-373f-4436-b1f0-2b53b8f3c41e": {
     "id": "4007f9b4-373f-4436-b1f0-2b53b8f3c41e",
     "prev": "5a250a07-92a1-4326-ab7b-fbe07ccb26d5",
     "regions": {
      "cd0dae66-398d-4835-ba4a-12d4efb1a453": {
       "attrs": {
        "height": 0.8,
        "width": 0.8,
        "x": 0.1,
        "y": 0.1
       },
       "content": {
        "cell": "ef01b1d8-d62f-4fd1-8f0f-b3857a0be3f9",
        "part": "whole"
       },
       "id": "cd0dae66-398d-4835-ba4a-12d4efb1a453"
      }
     }
    },
    "42d0b8e5-eb36-427c-a3fc-1ba9dedd3ec7": {
     "id": "42d0b8e5-eb36-427c-a3fc-1ba9dedd3ec7",
     "prev": "8eb3ecad-406d-4ecd-9972-d1c30c119a86",
     "regions": {
      "1307e0b6-79eb-4be6-b3f7-fe61053ed637": {
       "attrs": {
        "height": 0.8,
        "width": 0.8,
        "x": 0.1,
        "y": 0.1
       },
       "content": {
        "cell": "e463e05f-f7d6-4c2e-b0a7-c715f4020738",
        "part": "whole"
       },
       "id": "1307e0b6-79eb-4be6-b3f7-fe61053ed637"
      }
     }
    },
    "45696fad-4898-4049-a9dc-492cb2f5e6ff": {
     "id": "45696fad-4898-4049-a9dc-492cb2f5e6ff",
     "prev": "e4cf83c7-6d7a-44b1-a8f4-d258cf67621c",
     "regions": {
      "dfadc441-96d0-413d-9cdd-b6752f5c2686": {
       "attrs": {
        "height": 0.8,
        "width": 0.8,
        "x": 0.1,
        "y": 0.1
       },
       "content": {
        "cell": "897e9597-4ff1-4204-bd02-ccb4eb3c95ff",
        "part": "whole"
       },
       "id": "dfadc441-96d0-413d-9cdd-b6752f5c2686"
      }
     }
    },
    "471968ed-e718-4754-9ea9-c76595abefb6": {
     "id": "471968ed-e718-4754-9ea9-c76595abefb6",
     "prev": "daeacaf4-dd7c-47a3-9b03-20df687deb9c",
     "regions": {
      "f1587ab7-562d-4f20-9af8-04de8a9cd9b4": {
       "attrs": {
        "height": 0.8,
        "width": 0.8,
        "x": 0.1,
        "y": 0.1
       },
       "content": {
        "cell": "42d7f808-c273-4600-ba3f-8742acb0da03",
        "part": "whole"
       },
       "id": "f1587ab7-562d-4f20-9af8-04de8a9cd9b4"
      }
     }
    },
    "48c1417b-f378-4b4a-adfa-18acdf336903": {
     "id": "48c1417b-f378-4b4a-adfa-18acdf336903",
     "prev": "30ac1a36-b20a-43ff-8b6e-4d8b1cbf709c",
     "regions": {
      "dabb5431-6680-4832-a870-385b354d3549": {
       "attrs": {
        "height": 0.8,
        "width": 0.8,
        "x": 0.1,
        "y": 0.1
       },
       "content": {
        "cell": "60706c58-fb6c-4c9a-b02d-7e85fcae7649",
        "part": "whole"
       },
       "id": "dabb5431-6680-4832-a870-385b354d3549"
      }
     }
    },
    "4a4ebf1e-0088-4311-b4ea-387e8128b718": {
     "id": "4a4ebf1e-0088-4311-b4ea-387e8128b718",
     "prev": "14771567-3cce-42f3-ad7d-562cf5b29282",
     "regions": {
      "bb818a89-5345-4c9a-a441-94e327b7d92c": {
       "attrs": {
        "height": 0.8,
        "width": 0.8,
        "x": 0.1,
        "y": 0.1
       },
       "content": {
        "cell": "09f55f0e-dc91-4d9e-920e-2df9daf0a646",
        "part": "whole"
       },
       "id": "bb818a89-5345-4c9a-a441-94e327b7d92c"
      }
     }
    },
    "4b2045c2-10a1-4474-80d7-63e8b43ab0ff": {
     "id": "4b2045c2-10a1-4474-80d7-63e8b43ab0ff",
     "prev": "33462e7d-e95a-4d85-b2eb-6534e183a566",
     "regions": {
      "d786c353-0fba-49cd-b342-394c34612d22": {
       "attrs": {
        "height": 0.8,
        "width": 0.8,
        "x": 0.1,
        "y": 0.1
       },
       "content": {
        "cell": "b9c3d189-df48-4c82-adcd-1147d08c6997",
        "part": "whole"
       },
       "id": "d786c353-0fba-49cd-b342-394c34612d22"
      }
     }
    },
    "4c256b10-2d61-4c61-9804-6a5db0f6bf63": {
     "id": "4c256b10-2d61-4c61-9804-6a5db0f6bf63",
     "prev": "6e622ea5-c427-483c-b0ed-45bcfa89fed7",
     "regions": {
      "586e2cf0-be1f-4091-a21f-93b4894587e0": {
       "attrs": {
        "height": 0.8,
        "width": 0.8,
        "x": 0.1,
        "y": 0.1
       },
       "content": {
        "cell": "71e5da28-af7f-4a62-b1ed-0efa45ff0fc9",
        "part": "whole"
       },
       "id": "586e2cf0-be1f-4091-a21f-93b4894587e0"
      }
     }
    },
    "4cc40cfb-1afa-4ae5-a43e-64e4ddd190f5": {
     "id": "4cc40cfb-1afa-4ae5-a43e-64e4ddd190f5",
     "prev": "d363b567-6085-432c-9b81-21aa4dbc84d3",
     "regions": {
      "bf225a53-d92e-402d-9586-3ba7492fe0f5": {
       "attrs": {
        "height": 0.8,
        "width": 0.8,
        "x": 0.1,
        "y": 0.1
       },
       "content": {
        "cell": "e3d20ae5-9648-4d5b-94c4-18a36ab0c339",
        "part": "whole"
       },
       "id": "bf225a53-d92e-402d-9586-3ba7492fe0f5"
      }
     }
    },
    "4f38581b-03df-4d1c-8504-2b7fa269881d": {
     "id": "4f38581b-03df-4d1c-8504-2b7fa269881d",
     "prev": "62a58f66-092e-4c8a-891d-e0b8952c2ccc",
     "regions": {
      "23d204d3-5d8a-49f6-8570-c98ad4b66522": {
       "attrs": {
        "height": 0.8,
        "width": 0.8,
        "x": 0.1,
        "y": 0.1
       },
       "content": {
        "cell": "0f3d5537-9e27-4a59-a9c2-f5924e0cde10",
        "part": "whole"
       },
       "id": "23d204d3-5d8a-49f6-8570-c98ad4b66522"
      }
     }
    },
    "4f6e9795-cf80-4552-a65c-63ef87127b85": {
     "id": "4f6e9795-cf80-4552-a65c-63ef87127b85",
     "prev": "1294ca09-be00-4e72-b71b-b8880a6e3eb3",
     "regions": {
      "f47f3db4-1546-4935-804a-8dee1af0ddaf": {
       "attrs": {
        "height": 0.8,
        "width": 0.8,
        "x": 0.1,
        "y": 0.1
       },
       "content": {
        "cell": "5106fdd6-1575-4a25-a21d-f8122a84aa3f",
        "part": "whole"
       },
       "id": "f47f3db4-1546-4935-804a-8dee1af0ddaf"
      }
     }
    },
    "4ffaf52e-8086-42f0-a9d0-6d12e9585a7b": {
     "id": "4ffaf52e-8086-42f0-a9d0-6d12e9585a7b",
     "prev": "c484d7f5-cd42-4216-93d4-31cca7ab5d9d",
     "regions": {
      "44c7b1ed-7e8a-4fa2-86cf-678a83405b1e": {
       "attrs": {
        "height": 0.8,
        "width": 0.8,
        "x": 0.1,
        "y": 0.1
       },
       "content": {
        "cell": "188e4cf3-5042-4d4b-8ece-80db02479ca6",
        "part": "whole"
       },
       "id": "44c7b1ed-7e8a-4fa2-86cf-678a83405b1e"
      }
     }
    },
    "50fe2042-61e5-4b0c-9f00-eb809b96cff2": {
     "id": "50fe2042-61e5-4b0c-9f00-eb809b96cff2",
     "prev": "c3c117eb-5c68-4af2-bf3b-7ecfd4a73cd0",
     "regions": {
      "54d6e327-7c7d-408b-a335-9f5488f8dfa3": {
       "attrs": {
        "height": 0.8,
        "width": 0.8,
        "x": 0.1,
        "y": 0.1
       },
       "content": {
        "cell": "f301d040-8cf6-4941-a2bc-a12612103b2e",
        "part": "whole"
       },
       "id": "54d6e327-7c7d-408b-a335-9f5488f8dfa3"
      }
     }
    },
    "51b24b24-1648-4702-bfc6-af6c48e33754": {
     "id": "51b24b24-1648-4702-bfc6-af6c48e33754",
     "prev": "bd2500b9-b32e-4603-9737-de46d4179de5",
     "regions": {
      "511bfec6-1125-4557-a8d3-6d50d4869708": {
       "attrs": {
        "height": 0.8,
        "width": 0.8,
        "x": 0.1,
        "y": 0.1
       },
       "content": {
        "cell": "9eebd913-34c0-4366-a89e-033d9026ef91",
        "part": "whole"
       },
       "id": "511bfec6-1125-4557-a8d3-6d50d4869708"
      }
     }
    },
    "52002ab2-900d-473b-b58f-5a0c79106784": {
     "id": "52002ab2-900d-473b-b58f-5a0c79106784",
     "prev": "51b24b24-1648-4702-bfc6-af6c48e33754",
     "regions": {
      "9057b934-f7ad-497c-95d8-a60e82aa9d91": {
       "attrs": {
        "height": 0.8,
        "width": 0.8,
        "x": 0.1,
        "y": 0.1
       },
       "content": {
        "cell": "9a039eef-35f1-4458-8e5a-e6ec29e1ff9d",
        "part": "whole"
       },
       "id": "9057b934-f7ad-497c-95d8-a60e82aa9d91"
      }
     }
    },
    "525ea56d-21fa-482a-93f4-2e8ae4222bf6": {
     "id": "525ea56d-21fa-482a-93f4-2e8ae4222bf6",
     "prev": "b8e9a599-05f6-4052-97d0-a045159e0db4",
     "regions": {
      "bb47bfe9-b98a-4d47-842e-7f79f00f21bb": {
       "attrs": {
        "height": 0.8,
        "width": 0.8,
        "x": 0.1,
        "y": 0.1
       },
       "content": {
        "cell": "d1262485-d483-4839-b49b-747d966fb8c0",
        "part": "whole"
       },
       "id": "bb47bfe9-b98a-4d47-842e-7f79f00f21bb"
      }
     }
    },
    "52f231c5-646a-4de6-bcad-083f91d7248b": {
     "id": "52f231c5-646a-4de6-bcad-083f91d7248b",
     "prev": "f2ebe011-279d-45da-8f30-27af5a7609ed",
     "regions": {
      "3ee5fb75-f08e-4ba5-ae7e-425bf9e5bd1a": {
       "attrs": {
        "height": 0.8,
        "width": 0.8,
        "x": 0.1,
        "y": 0.1
       },
       "content": {
        "cell": "5106fdd6-1575-4a25-a21d-f8122a84aa3f",
        "part": "whole"
       },
       "id": "3ee5fb75-f08e-4ba5-ae7e-425bf9e5bd1a"
      }
     }
    },
    "5351ed29-c1d3-4635-beaf-eecd1c44044d": {
     "id": "5351ed29-c1d3-4635-beaf-eecd1c44044d",
     "prev": "4c256b10-2d61-4c61-9804-6a5db0f6bf63",
     "regions": {
      "2d2275c9-63b9-4e23-b078-60ea6b4ae68f": {
       "attrs": {
        "height": 0.8,
        "width": 0.8,
        "x": 0.1,
        "y": 0.1
       },
       "content": {
        "cell": "773e90a2-269a-40c5-9c2f-c14f4a4a40ec",
        "part": "whole"
       },
       "id": "2d2275c9-63b9-4e23-b078-60ea6b4ae68f"
      }
     }
    },
    "53d320c5-6f34-4846-9d0f-9370bcc46614": {
     "id": "53d320c5-6f34-4846-9d0f-9370bcc46614",
     "prev": null,
     "regions": {
      "e7789a7b-31fd-42a4-af72-4cfa7f5d4f02": {
       "attrs": {
        "height": 0.8,
        "width": 0.8,
        "x": 0.1,
        "y": 0.1
       },
       "content": {
        "cell": "cad53dd8-02cd-47ee-93fd-fa8322be4d25",
        "part": "whole"
       },
       "id": "e7789a7b-31fd-42a4-af72-4cfa7f5d4f02"
      }
     }
    },
    "54f972fa-773b-46e7-a93f-07ae1deb1d37": {
     "id": "54f972fa-773b-46e7-a93f-07ae1deb1d37",
     "prev": "21abe475-d80b-4859-9775-182700924576",
     "regions": {
      "b2e19735-2d1d-4025-ae0a-9e89e2c51b1f": {
       "attrs": {
        "height": 0.8,
        "width": 0.8,
        "x": 0.1,
        "y": 0.1
       },
       "content": {
        "cell": "a8494666-9e07-480b-9f80-1b1f52323655",
        "part": "whole"
       },
       "id": "b2e19735-2d1d-4025-ae0a-9e89e2c51b1f"
      }
     }
    },
    "55fa88c2-803d-4f3c-94f9-80f7729302ff": {
     "id": "55fa88c2-803d-4f3c-94f9-80f7729302ff",
     "prev": "97e9db76-2eff-4e0b-97cb-580b76a79eff",
     "regions": {
      "f19c961f-a4bb-4ee3-8611-9cd2efccc1a8": {
       "attrs": {
        "height": 0.8,
        "width": 0.8,
        "x": 0.1,
        "y": 0.1
       },
       "content": {
        "cell": "85e46911-1f34-4c4c-b092-a787d24c8640",
        "part": "whole"
       },
       "id": "f19c961f-a4bb-4ee3-8611-9cd2efccc1a8"
      }
     }
    },
    "560ec814-86c4-4caf-90aa-1adaf9ba27f6": {
     "id": "560ec814-86c4-4caf-90aa-1adaf9ba27f6",
     "prev": "a17c14bf-48d2-4d5b-9f00-34961c8ff242",
     "regions": {
      "6a92bbe0-be73-4f2e-a12b-17c193d6a7bd": {
       "attrs": {
        "height": 0.8,
        "width": 0.8,
        "x": 0.1,
        "y": 0.1
       },
       "content": {
        "cell": "fba4c314-e9aa-4217-b1fe-d89b3341fb50",
        "part": "whole"
       },
       "id": "6a92bbe0-be73-4f2e-a12b-17c193d6a7bd"
      }
     }
    },
    "592bdb1a-528c-4e04-8c26-72bec9ea28d0": {
     "id": "592bdb1a-528c-4e04-8c26-72bec9ea28d0",
     "prev": "243fecdd-e22f-475e-9762-5894f345a162",
     "regions": {
      "0fe2aba1-e79f-4554-b24a-4429f3149482": {
       "attrs": {
        "height": 0.8,
        "width": 0.8,
        "x": 0.1,
        "y": 0.1
       },
       "content": {
        "cell": "71c92dec-12fc-4a83-9a2c-f878efcc9077",
        "part": "whole"
       },
       "id": "0fe2aba1-e79f-4554-b24a-4429f3149482"
      }
     }
    },
    "5a250a07-92a1-4326-ab7b-fbe07ccb26d5": {
     "id": "5a250a07-92a1-4326-ab7b-fbe07ccb26d5",
     "prev": "a002c6ec-27f6-42d8-b287-3dca2cde3a98",
     "regions": {
      "b85e18bf-bb37-46d0-81b2-c4e97f735f9f": {
       "attrs": {
        "height": 0.8,
        "width": 0.8,
        "x": 0.1,
        "y": 0.1
       },
       "content": {
        "cell": "1d365c18-955e-44c9-984a-1dc77baff4b2",
        "part": "whole"
       },
       "id": "b85e18bf-bb37-46d0-81b2-c4e97f735f9f"
      }
     }
    },
    "5bb002ca-1d76-4dfc-a306-30c526c0257b": {
     "id": "5bb002ca-1d76-4dfc-a306-30c526c0257b",
     "prev": "0b917da5-ddb5-4c42-b7ae-34aca6dbb450",
     "regions": {
      "615d18e9-4a2c-48e1-8a56-397f2b6c3c17": {
       "attrs": {
        "height": 0.8,
        "width": 0.8,
        "x": 0.1,
        "y": 0.1
       },
       "content": {
        "cell": "fba4c314-e9aa-4217-b1fe-d89b3341fb50",
        "part": "whole"
       },
       "id": "615d18e9-4a2c-48e1-8a56-397f2b6c3c17"
      }
     }
    },
    "5c8b1fce-7ebf-4dab-b393-80ec462c8038": {
     "id": "5c8b1fce-7ebf-4dab-b393-80ec462c8038",
     "prev": "63d28a21-e1d0-407c-bbb0-a81e10ad3570",
     "regions": {
      "5f466ffa-407e-4927-a9a1-4976422a38cf": {
       "attrs": {
        "height": 0.8,
        "width": 0.8,
        "x": 0.1,
        "y": 0.1
       },
       "content": {
        "cell": "85e46911-1f34-4c4c-b092-a787d24c8640",
        "part": "whole"
       },
       "id": "5f466ffa-407e-4927-a9a1-4976422a38cf"
      }
     }
    },
    "5e655367-f421-47fd-9ebc-308aa3b2fe7d": {
     "id": "5e655367-f421-47fd-9ebc-308aa3b2fe7d",
     "prev": "0330da5e-2948-4d4e-ad7e-d33ea8b49a44",
     "regions": {
      "ab72edcb-38ce-44be-8a86-b5f77cbc40b5": {
       "attrs": {
        "height": 0.8,
        "width": 0.8,
        "x": 0.1,
        "y": 0.1
       },
       "content": {
        "cell": "97bc26b4-5fdd-45ee-9d88-7e12bef40214",
        "part": "whole"
       },
       "id": "ab72edcb-38ce-44be-8a86-b5f77cbc40b5"
      }
     }
    },
    "61e5935d-0810-4a41-a79e-01d27b7e7a6b": {
     "id": "61e5935d-0810-4a41-a79e-01d27b7e7a6b",
     "prev": "fc98327b-20ea-4a64-bb4c-b47d99c00cb6",
     "regions": {
      "74186142-843d-4e7b-9538-8c2200aa7721": {
       "attrs": {
        "height": 0.8,
        "width": 0.8,
        "x": 0.1,
        "y": 0.1
       },
       "content": {
        "cell": "97bc26b4-5fdd-45ee-9d88-7e12bef40214",
        "part": "whole"
       },
       "id": "74186142-843d-4e7b-9538-8c2200aa7721"
      }
     }
    },
    "62a58f66-092e-4c8a-891d-e0b8952c2ccc": {
     "id": "62a58f66-092e-4c8a-891d-e0b8952c2ccc",
     "prev": "1e7b7d3a-cf55-4213-95db-0a22537c8db2",
     "regions": {
      "0b168987-ab3b-4c43-b114-b84212bf06bb": {
       "attrs": {
        "height": 0.8,
        "width": 0.8,
        "x": 0.1,
        "y": 0.1
       },
       "content": {
        "cell": "b17c44b3-1d13-4347-bb0d-6bb2ecb55d3a",
        "part": "whole"
       },
       "id": "0b168987-ab3b-4c43-b114-b84212bf06bb"
      }
     }
    },
    "62ca0c12-429a-44a2-bf4c-473f2a73a5fc": {
     "id": "62ca0c12-429a-44a2-bf4c-473f2a73a5fc",
     "prev": "e4a3254b-7365-4426-82eb-1a235705b3fa",
     "regions": {
      "9ddd31c4-5ba6-4ffd-902f-6d1da394e7cc": {
       "attrs": {
        "height": 0.8,
        "width": 0.8,
        "x": 0.1,
        "y": 0.1
       },
       "content": {
        "cell": "ecd05336-5738-4cdd-8555-25890dc80ced",
        "part": "whole"
       },
       "id": "9ddd31c4-5ba6-4ffd-902f-6d1da394e7cc"
      }
     }
    },
    "63d28a21-e1d0-407c-bbb0-a81e10ad3570": {
     "id": "63d28a21-e1d0-407c-bbb0-a81e10ad3570",
     "prev": "1382eb8b-f3c0-4e03-a96a-4ac5c5fa181e",
     "regions": {
      "32e805f7-2219-4bda-85b7-b932300ce7fb": {
       "attrs": {
        "height": 0.8,
        "width": 0.8,
        "x": 0.1,
        "y": 0.1
       },
       "content": {
        "cell": "1c1de9ae-9cc9-41db-8f85-e019c27b52b4",
        "part": "whole"
       },
       "id": "32e805f7-2219-4bda-85b7-b932300ce7fb"
      }
     }
    },
    "686f4a01-568e-4a4f-a04a-4251f20e3ff8": {
     "id": "686f4a01-568e-4a4f-a04a-4251f20e3ff8",
     "prev": "ae5105ba-f3ee-4955-a6a8-ed060421baea",
     "regions": {
      "4fc276fa-ed0a-4265-bb1b-9e2c8d0fdbc0": {
       "attrs": {
        "height": 0.8,
        "width": 0.8,
        "x": 0.1,
        "y": 0.1
       },
       "content": {
        "cell": "e04f0f4a-ebb1-42c8-8f78-85942a7537a5",
        "part": "whole"
       },
       "id": "4fc276fa-ed0a-4265-bb1b-9e2c8d0fdbc0"
      }
     }
    },
    "6965ad8d-29c1-4bef-b56a-44f54ad1b353": {
     "id": "6965ad8d-29c1-4bef-b56a-44f54ad1b353",
     "prev": "96f0a1e6-f3fa-43f9-9d44-b230d46611fe",
     "regions": {
      "4709160f-eac6-4bd4-a05d-1c8c29a61353": {
       "attrs": {
        "height": 0.8,
        "width": 0.8,
        "x": 0.1,
        "y": 0.1
       },
       "content": {
        "cell": "71e5da28-af7f-4a62-b1ed-0efa45ff0fc9",
        "part": "whole"
       },
       "id": "4709160f-eac6-4bd4-a05d-1c8c29a61353"
      }
     }
    },
    "6a35e218-e62a-49ba-a8ea-207eb94e41af": {
     "id": "6a35e218-e62a-49ba-a8ea-207eb94e41af",
     "prev": "0ae39364-fd57-4184-86a7-83b55aff92fa",
     "regions": {
      "9c21b8a7-250c-45e2-8029-7b14e4d0c3f4": {
       "attrs": {
        "height": 0.8,
        "width": 0.8,
        "x": 0.1,
        "y": 0.1
       },
       "content": {
        "cell": "796acd26-febb-4772-981c-8d41e3e3954b",
        "part": "whole"
       },
       "id": "9c21b8a7-250c-45e2-8029-7b14e4d0c3f4"
      }
     }
    },
    "6b2ed6f9-cc74-41d6-9217-3146c6bb639b": {
     "id": "6b2ed6f9-cc74-41d6-9217-3146c6bb639b",
     "prev": "b4e87bff-5a38-49a8-9f3d-884dd63bee76",
     "regions": {
      "c48d7fed-e437-4936-871c-80fdd8177655": {
       "attrs": {
        "height": 0.8,
        "width": 0.8,
        "x": 0.1,
        "y": 0.1
       },
       "content": {
        "cell": "c5de1221-5bae-47d1-9fb1-8a9471843507",
        "part": "whole"
       },
       "id": "c48d7fed-e437-4936-871c-80fdd8177655"
      }
     }
    },
    "6ba99870-219a-4406-bcb8-7667bea5371d": {
     "id": "6ba99870-219a-4406-bcb8-7667bea5371d",
     "prev": "96211285-6263-4c57-a2e9-fb3923460fce",
     "regions": {
      "107464ea-b974-4371-b34e-7e17887609e6": {
       "attrs": {
        "height": 0.8,
        "width": 0.8,
        "x": 0.1,
        "y": 0.1
       },
       "content": {
        "cell": "22ee5a15-0fd2-4b4b-b8d1-e81311f74d0b",
        "part": "whole"
       },
       "id": "107464ea-b974-4371-b34e-7e17887609e6"
      }
     }
    },
    "6ddfa4cb-3800-482f-85c2-c2d20009e3ab": {
     "id": "6ddfa4cb-3800-482f-85c2-c2d20009e3ab",
     "prev": "cf5de199-fd6b-4836-b77f-53df6f2fee14",
     "regions": {
      "e24d697c-b853-42de-bd60-bf1d9226fd4a": {
       "attrs": {
        "height": 0.8,
        "width": 0.8,
        "x": 0.1,
        "y": 0.1
       },
       "content": {
        "cell": "a8494666-9e07-480b-9f80-1b1f52323655",
        "part": "whole"
       },
       "id": "e24d697c-b853-42de-bd60-bf1d9226fd4a"
      }
     }
    },
    "6e622ea5-c427-483c-b0ed-45bcfa89fed7": {
     "id": "6e622ea5-c427-483c-b0ed-45bcfa89fed7",
     "prev": "f7c7381d-9298-4ab2-bf5e-a45080dbe2e0",
     "regions": {
      "21d12c48-0177-4f55-8bf9-377ac642962d": {
       "attrs": {
        "height": 0.8,
        "width": 0.8,
        "x": 0.1,
        "y": 0.1
       },
       "content": {
        "cell": "1cc1d7a3-7cd6-49f9-95e2-11f8be0661a1",
        "part": "whole"
       },
       "id": "21d12c48-0177-4f55-8bf9-377ac642962d"
      }
     }
    },
    "6eca0ea0-94c0-4ac9-b158-caa0bdab8ea9": {
     "id": "6eca0ea0-94c0-4ac9-b158-caa0bdab8ea9",
     "prev": "d1504953-2447-4025-bce7-823dd83cd50c",
     "regions": {
      "eb92a2a3-e4a0-4edf-a936-9638dfa92dd8": {
       "attrs": {
        "height": 0.8,
        "width": 0.8,
        "x": 0.1,
        "y": 0.1
       },
       "content": {
        "cell": "b9c3d189-df48-4c82-adcd-1147d08c6997",
        "part": "whole"
       },
       "id": "eb92a2a3-e4a0-4edf-a936-9638dfa92dd8"
      }
     }
    },
    "729fd456-9ce7-47c4-81d5-9ffb6c4c779e": {
     "id": "729fd456-9ce7-47c4-81d5-9ffb6c4c779e",
     "prev": "a4be3072-90e2-46f1-ae8b-6bd8fac1fd9d",
     "regions": {
      "d1329d6b-9a15-4d48-a23c-9d67748b63e1": {
       "attrs": {
        "height": 0.8,
        "width": 0.8,
        "x": 0.1,
        "y": 0.1
       },
       "content": {
        "cell": "1fc31fb2-e190-41bf-a83b-117153069de8",
        "part": "whole"
       },
       "id": "d1329d6b-9a15-4d48-a23c-9d67748b63e1"
      }
     }
    },
    "7579ed8f-5b89-4010-a9bf-405020052717": {
     "id": "7579ed8f-5b89-4010-a9bf-405020052717",
     "prev": "3d759714-6086-44a6-ade0-20df8c95a2c6",
     "regions": {
      "e2888a22-3a3e-476c-b37f-531952bdece9": {
       "attrs": {
        "height": 0.8,
        "width": 0.8,
        "x": 0.1,
        "y": 0.1
       },
       "content": {
        "cell": "d1262485-d483-4839-b49b-747d966fb8c0",
        "part": "whole"
       },
       "id": "e2888a22-3a3e-476c-b37f-531952bdece9"
      }
     }
    },
    "78337949-35e5-429e-9729-792621b2b48d": {
     "id": "78337949-35e5-429e-9729-792621b2b48d",
     "prev": "592bdb1a-528c-4e04-8c26-72bec9ea28d0",
     "regions": {
      "401bae12-f9c1-4c55-8deb-54e4412746ee": {
       "attrs": {
        "height": 0.8,
        "width": 0.8,
        "x": 0.1,
        "y": 0.1
       },
       "content": {
        "cell": "22ee5a15-0fd2-4b4b-b8d1-e81311f74d0b",
        "part": "whole"
       },
       "id": "401bae12-f9c1-4c55-8deb-54e4412746ee"
      }
     }
    },
    "792ab2e4-7cde-4030-aa9a-6866e3b5e4cd": {
     "id": "792ab2e4-7cde-4030-aa9a-6866e3b5e4cd",
     "prev": "729fd456-9ce7-47c4-81d5-9ffb6c4c779e",
     "regions": {
      "a9fda70e-5982-4f4d-be09-365917e3fb9b": {
       "attrs": {
        "height": 0.8,
        "width": 0.8,
        "x": 0.1,
        "y": 0.1
       },
       "content": {
        "cell": "b84578cd-3865-47f2-9ed1-5dc731781f91",
        "part": "whole"
       },
       "id": "a9fda70e-5982-4f4d-be09-365917e3fb9b"
      }
     }
    },
    "7d8be655-0a08-418b-b3e4-0d401931f1a3": {
     "id": "7d8be655-0a08-418b-b3e4-0d401931f1a3",
     "prev": null,
     "regions": {
      "6b19ab8c-f267-4d00-a752-837494b655c4": {
       "attrs": {
        "height": 0.8,
        "width": 0.8,
        "x": 0.1,
        "y": 0.1
       },
       "content": {
        "cell": "cad53dd8-02cd-47ee-93fd-fa8322be4d25",
        "part": "whole"
       },
       "id": "6b19ab8c-f267-4d00-a752-837494b655c4"
      }
     }
    },
    "7e8b6bed-0156-408d-af64-528517448269": {
     "id": "7e8b6bed-0156-408d-af64-528517448269",
     "prev": "4f38581b-03df-4d1c-8504-2b7fa269881d",
     "regions": {
      "e9ec11fb-7861-43b9-86b9-6817dbf5b039": {
       "attrs": {
        "height": 0.8,
        "width": 0.8,
        "x": 0.1,
        "y": 0.1
       },
       "content": {
        "cell": "1bce975f-3e0b-43bb-8bd8-3258d59e8ba7",
        "part": "whole"
       },
       "id": "e9ec11fb-7861-43b9-86b9-6817dbf5b039"
      }
     }
    },
    "80ead9a9-908e-43e0-b00b-f3838eee8097": {
     "id": "80ead9a9-908e-43e0-b00b-f3838eee8097",
     "prev": "d926f98b-c3b4-4b3d-9ade-ed11901413b5",
     "regions": {
      "852eb0e3-a8a0-4e31-88a3-e0ccded63c28": {
       "attrs": {
        "height": 0.8,
        "width": 0.8,
        "x": 0.1,
        "y": 0.1
       },
       "content": {
        "cell": "d7a0ab5f-ab94-4a0f-8ecb-5e0baae47f05",
        "part": "whole"
       },
       "id": "852eb0e3-a8a0-4e31-88a3-e0ccded63c28"
      }
     }
    },
    "831d88e1-1734-4a89-9782-8dfb912c5450": {
     "id": "831d88e1-1734-4a89-9782-8dfb912c5450",
     "prev": "8d232c98-fe4c-484b-87b0-a60235d608c9",
     "regions": {
      "7f12b532-dc03-444e-8567-ca9594b1698b": {
       "attrs": {
        "height": 0.8,
        "width": 0.8,
        "x": 0.1,
        "y": 0.1
       },
       "content": {
        "cell": "79d21b20-b494-4019-a874-cbb2dea6b11b",
        "part": "whole"
       },
       "id": "7f12b532-dc03-444e-8567-ca9594b1698b"
      }
     }
    },
    "848c833d-14a1-430a-9d1b-2c067bca423b": {
     "id": "848c833d-14a1-430a-9d1b-2c067bca423b",
     "prev": "cddf7f36-cafe-46d1-a44e-93867e90220b",
     "regions": {
      "b73c7d6c-48c9-4e00-b180-7f0c8dfccb30": {
       "attrs": {
        "height": 0.8,
        "width": 0.8,
        "x": 0.1,
        "y": 0.1
       },
       "content": {
        "cell": "50a7c82c-2fc4-49ef-b239-f0dabf7b7688",
        "part": "whole"
       },
       "id": "b73c7d6c-48c9-4e00-b180-7f0c8dfccb30"
      }
     }
    },
    "86c1dcc0-6389-4a2b-866b-a7be1f8e3157": {
     "id": "86c1dcc0-6389-4a2b-866b-a7be1f8e3157",
     "prev": "80ead9a9-908e-43e0-b00b-f3838eee8097",
     "regions": {
      "d6ce4bba-baee-4590-bdfb-7dd4b66b579a": {
       "attrs": {
        "height": 0.8,
        "width": 0.8,
        "x": 0.1,
        "y": 0.1
       },
       "content": {
        "cell": "c5de1221-5bae-47d1-9fb1-8a9471843507",
        "part": "whole"
       },
       "id": "d6ce4bba-baee-4590-bdfb-7dd4b66b579a"
      }
     }
    },
    "88ce08cc-616e-4af9-a0d1-ad41095a7cd3": {
     "id": "88ce08cc-616e-4af9-a0d1-ad41095a7cd3",
     "prev": "2f0db81f-cb6f-4d5e-9e34-fa7dff8a1459",
     "regions": {
      "3bd75e60-5df8-4de6-8624-655a190000e4": {
       "attrs": {
        "height": 0.8,
        "width": 0.8,
        "x": 0.1,
        "y": 0.1
       },
       "content": {
        "cell": "7c036a83-5472-4dbf-8ef3-e79882897a23",
        "part": "whole"
       },
       "id": "3bd75e60-5df8-4de6-8624-655a190000e4"
      }
     }
    },
    "8a971b3b-e5f3-4f3f-af82-65808ca04531": {
     "id": "8a971b3b-e5f3-4f3f-af82-65808ca04531",
     "prev": "4007f9b4-373f-4436-b1f0-2b53b8f3c41e",
     "regions": {
      "43e2dead-8623-4721-9f88-099052a11623": {
       "attrs": {
        "height": 0.8,
        "width": 0.8,
        "x": 0.1,
        "y": 0.1
       },
       "content": {
        "cell": "0babf2b2-5fa7-4592-96d9-8f05334dd828",
        "part": "whole"
       },
       "id": "43e2dead-8623-4721-9f88-099052a11623"
      }
     }
    },
    "8d232c98-fe4c-484b-87b0-a60235d608c9": {
     "id": "8d232c98-fe4c-484b-87b0-a60235d608c9",
     "prev": "8a971b3b-e5f3-4f3f-af82-65808ca04531",
     "regions": {
      "9f5780d4-7cb5-4290-b884-4174f08d3595": {
       "attrs": {
        "height": 0.8,
        "width": 0.8,
        "x": 0.1,
        "y": 0.1
       },
       "content": {
        "cell": "897e9597-4ff1-4204-bd02-ccb4eb3c95ff",
        "part": "whole"
       },
       "id": "9f5780d4-7cb5-4290-b884-4174f08d3595"
      }
     }
    },
    "8db914d5-99b0-4389-b218-b73f685acf48": {
     "id": "8db914d5-99b0-4389-b218-b73f685acf48",
     "prev": "fbe29fd4-659e-41f3-bf5d-6f3cc5e6f169",
     "regions": {
      "d65a0d02-caaf-4c58-933d-78bc19283b81": {
       "attrs": {
        "height": 0.8,
        "width": 0.8,
        "x": 0.1,
        "y": 0.1
       },
       "content": {
        "cell": "51e36c73-d4fa-4f96-8a02-80285d4f378e",
        "part": "whole"
       },
       "id": "d65a0d02-caaf-4c58-933d-78bc19283b81"
      }
     }
    },
    "8eb3ecad-406d-4ecd-9972-d1c30c119a86": {
     "id": "8eb3ecad-406d-4ecd-9972-d1c30c119a86",
     "prev": "5c8b1fce-7ebf-4dab-b393-80ec462c8038",
     "regions": {
      "5270a498-12c0-47bd-9d02-dd8f51354d8d": {
       "attrs": {
        "height": 0.8,
        "width": 0.8,
        "x": 0.1,
        "y": 0.1
       },
       "content": {
        "cell": "59bc62a1-908c-4198-987d-086a0c20437d",
        "part": "whole"
       },
       "id": "5270a498-12c0-47bd-9d02-dd8f51354d8d"
      }
     }
    },
    "915f73e3-8300-42ad-8822-810d17dcd587": {
     "id": "915f73e3-8300-42ad-8822-810d17dcd587",
     "prev": "4b2045c2-10a1-4474-80d7-63e8b43ab0ff",
     "regions": {
      "2d970f21-e516-41e8-9a9c-657e96397b40": {
       "attrs": {
        "height": 0.8,
        "width": 0.8,
        "x": 0.1,
        "y": 0.1
       },
       "content": {
        "cell": "ffda3e68-f078-4443-982f-1c53c07e5070",
        "part": "whole"
       },
       "id": "2d970f21-e516-41e8-9a9c-657e96397b40"
      }
     }
    },
    "96211285-6263-4c57-a2e9-fb3923460fce": {
     "id": "96211285-6263-4c57-a2e9-fb3923460fce",
     "prev": "e4616151-dd02-4cae-9242-0ce7a9bcabf1",
     "regions": {
      "08a0c207-1e80-4f7e-88eb-2c14eb781d9f": {
       "attrs": {
        "height": 0.8,
        "width": 0.8,
        "x": 0.1,
        "y": 0.1
       },
       "content": {
        "cell": "71c92dec-12fc-4a83-9a2c-f878efcc9077",
        "part": "whole"
       },
       "id": "08a0c207-1e80-4f7e-88eb-2c14eb781d9f"
      }
     }
    },
    "96f0a1e6-f3fa-43f9-9d44-b230d46611fe": {
     "id": "96f0a1e6-f3fa-43f9-9d44-b230d46611fe",
     "prev": "4cc40cfb-1afa-4ae5-a43e-64e4ddd190f5",
     "regions": {
      "2e304c72-7aa8-4185-b5cb-fd84b1affd66": {
       "attrs": {
        "height": 0.8,
        "width": 0.8,
        "x": 0.1,
        "y": 0.1
       },
       "content": {
        "cell": "1cc1d7a3-7cd6-49f9-95e2-11f8be0661a1",
        "part": "whole"
       },
       "id": "2e304c72-7aa8-4185-b5cb-fd84b1affd66"
      }
     }
    },
    "97e9db76-2eff-4e0b-97cb-580b76a79eff": {
     "id": "97e9db76-2eff-4e0b-97cb-580b76a79eff",
     "prev": "20f886e1-4bc4-4211-bc33-c7ccfaf5ce21",
     "regions": {
      "652ca83b-204f-4b92-a1aa-9404309e452c": {
       "attrs": {
        "height": 0.8,
        "width": 0.8,
        "x": 0.1,
        "y": 0.1
       },
       "content": {
        "cell": "1c1de9ae-9cc9-41db-8f85-e019c27b52b4",
        "part": "whole"
       },
       "id": "652ca83b-204f-4b92-a1aa-9404309e452c"
      }
     }
    },
    "99644bc3-d1e1-433d-9c8c-79cd74329233": {
     "id": "99644bc3-d1e1-433d-9c8c-79cd74329233",
     "prev": "ece8b5a5-71a0-4525-ad92-8cb822e335e5",
     "regions": {
      "e54ef019-b554-4f2f-a6f2-d562389968e4": {
       "attrs": {
        "height": 0.8,
        "width": 0.8,
        "x": 0.1,
        "y": 0.1
       },
       "content": {
        "cell": "1bdad3f4-aad3-4222-b42e-2d6bd6162627",
        "part": "whole"
       },
       "id": "e54ef019-b554-4f2f-a6f2-d562389968e4"
      }
     }
    },
    "9a724387-516e-462b-acde-67bf8d26d2ab": {
     "id": "9a724387-516e-462b-acde-67bf8d26d2ab",
     "prev": "2bf6222f-9861-4cb5-aa15-bde961c52392",
     "regions": {
      "f656e31f-e09e-4784-a41c-d2be9ad597e3": {
       "attrs": {
        "height": 0.8,
        "width": 0.8,
        "x": 0.1,
        "y": 0.1
       },
       "content": {
        "cell": "63d13087-e47f-4e62-ad72-2faa6cb6f6b4",
        "part": "whole"
       },
       "id": "f656e31f-e09e-4784-a41c-d2be9ad597e3"
      }
     }
    },
    "9b147b4b-ec92-4365-b8e4-5407a71e8957": {
     "id": "9b147b4b-ec92-4365-b8e4-5407a71e8957",
     "prev": "f990d431-feb6-4d18-bfd5-e51390afacad",
     "regions": {
      "084f7539-2d6f-4a5a-8390-ba41f0b16e11": {
       "attrs": {
        "height": 0.8,
        "width": 0.8,
        "x": 0.1,
        "y": 0.1
       },
       "content": {
        "cell": "e463e05f-f7d6-4c2e-b0a7-c715f4020738",
        "part": "whole"
       },
       "id": "084f7539-2d6f-4a5a-8390-ba41f0b16e11"
      }
     }
    },
    "9beab722-2987-4275-b00a-9a55cc053953": {
     "id": "9beab722-2987-4275-b00a-9a55cc053953",
     "prev": "1eb914f3-960f-4c5a-9fb3-5738f3077cb1",
     "regions": {
      "e9024623-ea0c-4c54-a10a-d0212b9e1e32": {
       "attrs": {
        "height": 0.8,
        "width": 0.8,
        "x": 0.1,
        "y": 0.1
       },
       "content": {
        "cell": "a786efc8-f3c1-45c3-9ad1-c7ca0d53c448",
        "part": "whole"
       },
       "id": "e9024623-ea0c-4c54-a10a-d0212b9e1e32"
      }
     }
    },
    "9c7ea419-ad66-4583-83e2-7aed5d9956f3": {
     "id": "9c7ea419-ad66-4583-83e2-7aed5d9956f3",
     "prev": "abb9cce1-72a6-4064-9c2e-efba8058d92c",
     "regions": {
      "0404582f-6209-4817-a722-81f85f89da32": {
       "attrs": {
        "height": 0.8,
        "width": 0.8,
        "x": 0.1,
        "y": 0.1
       },
       "content": {
        "cell": "f6d722a8-9df6-43d7-8bab-071d82c53e28",
        "part": "whole"
       },
       "id": "0404582f-6209-4817-a722-81f85f89da32"
      }
     }
    },
    "9e6d6f39-fe16-4e0b-b30b-bec0c2500dcd": {
     "id": "9e6d6f39-fe16-4e0b-b30b-bec0c2500dcd",
     "prev": "b4781362-9f1e-4685-b69a-45c861cfa902",
     "regions": {
      "2128269c-ded5-412c-b1bc-10509178b826": {
       "attrs": {
        "height": 0.8,
        "width": 0.8,
        "x": 0.1,
        "y": 0.1
       },
       "content": {
        "cell": "a1d6e3c5-7de4-464b-85e8-05c3ae3d0d30",
        "part": "whole"
       },
       "id": "2128269c-ded5-412c-b1bc-10509178b826"
      }
     }
    },
    "9f2ea203-ec84-48cd-af66-c9ed72c9e21d": {
     "id": "9f2ea203-ec84-48cd-af66-c9ed72c9e21d",
     "prev": "88ce08cc-616e-4af9-a0d1-ad41095a7cd3",
     "regions": {
      "62a750da-43c5-4542-a869-9b74e4e990da": {
       "attrs": {
        "height": 0.8,
        "width": 0.8,
        "x": 0.1,
        "y": 0.1
       },
       "content": {
        "cell": "66ab51c0-dc03-4462-ad53-7c802ae1753d",
        "part": "whole"
       },
       "id": "62a750da-43c5-4542-a869-9b74e4e990da"
      }
     }
    },
    "9f4bb7fd-f7cc-4616-8844-63a8ababcebf": {
     "id": "9f4bb7fd-f7cc-4616-8844-63a8ababcebf",
     "prev": "4ffaf52e-8086-42f0-a9d0-6d12e9585a7b",
     "regions": {
      "72be1bd0-c871-4637-967f-15e6fdc024a6": {
       "attrs": {
        "height": 0.8,
        "width": 0.8,
        "x": 0.1,
        "y": 0.1
       },
       "content": {
        "cell": "657d9570-7433-4d01-aed6-042e5bb44d55",
        "part": "whole"
       },
       "id": "72be1bd0-c871-4637-967f-15e6fdc024a6"
      }
     }
    },
    "a002c6ec-27f6-42d8-b287-3dca2cde3a98": {
     "id": "a002c6ec-27f6-42d8-b287-3dca2cde3a98",
     "prev": "281f096d-e70f-4019-9337-d620d72f9484",
     "regions": {
      "7e3a3b26-b0ee-4730-83f8-914167ba26bc": {
       "attrs": {
        "height": 0.8,
        "width": 0.8,
        "x": 0.1,
        "y": 0.1
       },
       "content": {
        "cell": "e4f351e3-bacd-4dea-8f70-5ec299c0a454",
        "part": "whole"
       },
       "id": "7e3a3b26-b0ee-4730-83f8-914167ba26bc"
      }
     }
    },
    "a0296b5c-6d37-42a3-9517-9297ada3293c": {
     "id": "a0296b5c-6d37-42a3-9517-9297ada3293c",
     "prev": "78337949-35e5-429e-9729-792621b2b48d",
     "regions": {
      "84ef04e0-45c4-43c4-ba5b-661294d6f48d": {
       "attrs": {
        "height": 0.8,
        "width": 0.8,
        "x": 0.1,
        "y": 0.1
       },
       "content": {
        "cell": "5455bfa0-ca5a-4337-a096-c8757d5ec201",
        "part": "whole"
       },
       "id": "84ef04e0-45c4-43c4-ba5b-661294d6f48d"
      }
     }
    },
    "a17c14bf-48d2-4d5b-9f00-34961c8ff242": {
     "id": "a17c14bf-48d2-4d5b-9f00-34961c8ff242",
     "prev": "3a9dc5c9-9ef5-47f7-ba48-667cf99685fd",
     "regions": {
      "d2ab2390-f5f4-4134-ba75-0d41bb7e7f83": {
       "attrs": {
        "height": 0.8,
        "width": 0.8,
        "x": 0.1,
        "y": 0.1
       },
       "content": {
        "cell": "b3e8e9a4-e95d-46e5-b92b-01f1a3b41e04",
        "part": "whole"
       },
       "id": "d2ab2390-f5f4-4134-ba75-0d41bb7e7f83"
      }
     }
    },
    "a4be3072-90e2-46f1-ae8b-6bd8fac1fd9d": {
     "id": "a4be3072-90e2-46f1-ae8b-6bd8fac1fd9d",
     "prev": "e7a19da1-a8fc-48e4-bee8-17fcb396178d",
     "regions": {
      "85a6534c-dccb-4cec-bb32-83a4158d7092": {
       "attrs": {
        "height": 0.8,
        "width": 0.8,
        "x": 0.1,
        "y": 0.1
       },
       "content": {
        "cell": "63b3c215-7742-46af-8ebb-cfb293663c5b",
        "part": "whole"
       },
       "id": "85a6534c-dccb-4cec-bb32-83a4158d7092"
      }
     }
    },
    "a5175c3b-6e24-482d-a0e3-b25e189ee2ad": {
     "id": "a5175c3b-6e24-482d-a0e3-b25e189ee2ad",
     "prev": "cfe4b608-8df3-4a2f-b2bf-5b140bc44ee3",
     "regions": {
      "cb1f9cee-fa93-46e9-a46a-eafc630ab5eb": {
       "attrs": {
        "height": 0.8,
        "width": 0.8,
        "x": 0.1,
        "y": 0.1
       },
       "content": {
        "cell": "63b3c215-7742-46af-8ebb-cfb293663c5b",
        "part": "whole"
       },
       "id": "cb1f9cee-fa93-46e9-a46a-eafc630ab5eb"
      }
     }
    },
    "a77df7f3-7dcb-4cf6-958d-009d397fac3b": {
     "id": "a77df7f3-7dcb-4cf6-958d-009d397fac3b",
     "prev": "42d0b8e5-eb36-427c-a3fc-1ba9dedd3ec7",
     "regions": {
      "d0ed2923-9902-453d-a490-7dd403ca9a7b": {
       "attrs": {
        "height": 0.8,
        "width": 0.8,
        "x": 0.1,
        "y": 0.1
       },
       "content": {
        "cell": "00ea367c-5e95-4794-8e10-1d6389fcff87",
        "part": "whole"
       },
       "id": "d0ed2923-9902-453d-a490-7dd403ca9a7b"
      }
     }
    },
    "a9838761-3791-4445-b459-4b08d208392c": {
     "id": "a9838761-3791-4445-b459-4b08d208392c",
     "prev": "2f7dee1e-5217-49d7-b2c8-d213993c2cc6",
     "regions": {
      "ec09262b-f8b3-4105-bdd4-3d4237ac3f96": {
       "attrs": {
        "height": 0.8,
        "width": 0.8,
        "x": 0.1,
        "y": 0.1
       },
       "content": {
        "cell": "95271018-ea16-43c5-9c77-204610e41312",
        "part": "whole"
       },
       "id": "ec09262b-f8b3-4105-bdd4-3d4237ac3f96"
      }
     }
    },
    "abb9cce1-72a6-4064-9c2e-efba8058d92c": {
     "id": "abb9cce1-72a6-4064-9c2e-efba8058d92c",
     "prev": "e8e08ed0-2f8b-4a22-8fec-a7ac772b9989",
     "regions": {
      "cef49269-7e2d-4f8b-b56f-700e5efd7c1f": {
       "attrs": {
        "height": 0.8,
        "width": 0.8,
        "x": 0.1,
        "y": 0.1
       },
       "content": {
        "cell": "e3c652f2-eb71-4bfb-a889-3b07edad0158",
        "part": "whole"
       },
       "id": "cef49269-7e2d-4f8b-b56f-700e5efd7c1f"
      }
     }
    },
    "ae5105ba-f3ee-4955-a6a8-ed060421baea": {
     "id": "ae5105ba-f3ee-4955-a6a8-ed060421baea",
     "prev": "0d35fceb-cc31-41c3-a315-781215a79eb1",
     "regions": {
      "3a1d3b48-3f06-4e3e-8c16-f4c086161504": {
       "attrs": {
        "height": 0.8,
        "width": 0.8,
        "x": 0.1,
        "y": 0.1
       },
       "content": {
        "cell": "f301d040-8cf6-4941-a2bc-a12612103b2e",
        "part": "whole"
       },
       "id": "3a1d3b48-3f06-4e3e-8c16-f4c086161504"
      }
     }
    },
    "ae706690-69b9-4c97-ba97-3216fb897411": {
     "id": "ae706690-69b9-4c97-ba97-3216fb897411",
     "prev": "62ca0c12-429a-44a2-bf4c-473f2a73a5fc",
     "regions": {
      "783c01fe-da15-4fb8-ab5a-3bd9bfe5290d": {
       "attrs": {
        "height": 0.8,
        "width": 0.8,
        "x": 0.1,
        "y": 0.1
       },
       "content": {
        "cell": "b17c44b3-1d13-4347-bb0d-6bb2ecb55d3a",
        "part": "whole"
       },
       "id": "783c01fe-da15-4fb8-ab5a-3bd9bfe5290d"
      }
     }
    },
    "afdf9dcc-83da-49c0-abc5-fb4ecbee2611": {
     "id": "afdf9dcc-83da-49c0-abc5-fb4ecbee2611",
     "prev": "5bb002ca-1d76-4dfc-a306-30c526c0257b",
     "regions": {
      "94536eb6-8343-4e6a-8fe9-ad34398f9299": {
       "attrs": {
        "height": 0.8,
        "width": 0.8,
        "x": 0.1,
        "y": 0.1
       },
       "content": {
        "cell": "676326a8-6a06-4dbd-9820-d164330bbf03",
        "part": "whole"
       },
       "id": "94536eb6-8343-4e6a-8fe9-ad34398f9299"
      }
     }
    },
    "b4781362-9f1e-4685-b69a-45c861cfa902": {
     "id": "b4781362-9f1e-4685-b69a-45c861cfa902",
     "prev": "6ddfa4cb-3800-482f-85c2-c2d20009e3ab",
     "regions": {
      "42282dfd-cbed-4092-bbe9-9e66017cba91": {
       "attrs": {
        "height": 0.8,
        "width": 0.8,
        "x": 0.1,
        "y": 0.1
       },
       "content": {
        "cell": "6e8e4f48-e9a6-42da-ab30-f931e2df07ed",
        "part": "whole"
       },
       "id": "42282dfd-cbed-4092-bbe9-9e66017cba91"
      }
     }
    },
    "b4e87bff-5a38-49a8-9f3d-884dd63bee76": {
     "id": "b4e87bff-5a38-49a8-9f3d-884dd63bee76",
     "prev": "32a37073-c6b6-458f-87a9-01307ae78edb",
     "regions": {
      "dd9c3698-a4ff-43bf-a0a2-c117d03e2aa2": {
       "attrs": {
        "height": 0.8,
        "width": 0.8,
        "x": 0.1,
        "y": 0.1
       },
       "content": {
        "cell": "d7a0ab5f-ab94-4a0f-8ecb-5e0baae47f05",
        "part": "whole"
       },
       "id": "dd9c3698-a4ff-43bf-a0a2-c117d03e2aa2"
      }
     }
    },
    "b7cd1fdc-5f59-4ca8-8e55-4e8178660dd8": {
     "id": "b7cd1fdc-5f59-4ca8-8e55-4e8178660dd8",
     "prev": "6eca0ea0-94c0-4ac9-b158-caa0bdab8ea9",
     "regions": {
      "3607f072-9190-45b5-884e-07c8fce24e13": {
       "attrs": {
        "height": 0.8,
        "width": 0.8,
        "x": 0.1,
        "y": 0.1
       },
       "content": {
        "cell": "ffda3e68-f078-4443-982f-1c53c07e5070",
        "part": "whole"
       },
       "id": "3607f072-9190-45b5-884e-07c8fce24e13"
      }
     }
    },
    "b8e9a599-05f6-4052-97d0-a045159e0db4": {
     "id": "b8e9a599-05f6-4052-97d0-a045159e0db4",
     "prev": "b7cd1fdc-5f59-4ca8-8e55-4e8178660dd8",
     "regions": {
      "7ea00e35-441a-4750-8e7e-577be272fd56": {
       "attrs": {
        "height": 0.8,
        "width": 0.8,
        "x": 0.1,
        "y": 0.1
       },
       "content": {
        "cell": "de2f154f-52f9-446d-b300-36a6bbb06600",
        "part": "whole"
       },
       "id": "7ea00e35-441a-4750-8e7e-577be272fd56"
      }
     }
    },
    "b941c5ba-9450-466d-963f-8fe5051b1600": {
     "id": "b941c5ba-9450-466d-963f-8fe5051b1600",
     "prev": "6b2ed6f9-cc74-41d6-9217-3146c6bb639b",
     "regions": {
      "4cb91644-46cb-456a-a1fc-495fc9dbd4ce": {
       "attrs": {
        "height": 0.8,
        "width": 0.8,
        "x": 0.1,
        "y": 0.1
       },
       "content": {
        "cell": "9ac1568f-fb71-4ef9-8784-5f713d2a51fc",
        "part": "whole"
       },
       "id": "4cb91644-46cb-456a-a1fc-495fc9dbd4ce"
      }
     }
    },
    "b9a90bb1-007b-4a01-9db5-085a09570a5d": {
     "id": "b9a90bb1-007b-4a01-9db5-085a09570a5d",
     "prev": "07f77607-471a-4902-9f71-c9893b75b44e",
     "regions": {
      "4c9bb1d0-9067-496f-9676-3bb3141583d4": {
       "attrs": {
        "height": 0.8,
        "width": 0.8,
        "x": 0.1,
        "y": 0.1
       },
       "content": {
        "cell": "657d9570-7433-4d01-aed6-042e5bb44d55",
        "part": "whole"
       },
       "id": "4c9bb1d0-9067-496f-9676-3bb3141583d4"
      }
     }
    },
    "bba2d8b4-cd9b-49bb-bb4d-6cbe690e641a": {
     "id": "bba2d8b4-cd9b-49bb-bb4d-6cbe690e641a",
     "prev": "cb1d1625-fe4c-4d3f-a9af-1e60d8ae5d83",
     "regions": {
      "b66e02fd-deea-4dc9-a47b-9297b2f499dd": {
       "attrs": {
        "height": 0.8,
        "width": 0.8,
        "x": 0.1,
        "y": 0.1
       },
       "content": {
        "cell": "6ffcffe7-6477-46c2-a8ee-0d67b9f56fc5",
        "part": "whole"
       },
       "id": "b66e02fd-deea-4dc9-a47b-9297b2f499dd"
      }
     }
    },
    "bd2500b9-b32e-4603-9737-de46d4179de5": {
     "id": "bd2500b9-b32e-4603-9737-de46d4179de5",
     "prev": "f997ce2a-bf68-4d09-a07b-6c397c4337f8",
     "regions": {
      "cbfe5837-8c4c-400b-a566-5bae4af82837": {
       "attrs": {
        "height": 0.8,
        "width": 0.8,
        "x": 0.1,
        "y": 0.1
       },
       "content": {
        "cell": "42d7f808-c273-4600-ba3f-8742acb0da03",
        "part": "whole"
       },
       "id": "cbfe5837-8c4c-400b-a566-5bae4af82837"
      }
     }
    },
    "c1bcfb76-5669-4efd-b635-f195218d42f9": {
     "id": "c1bcfb76-5669-4efd-b635-f195218d42f9",
     "prev": "54f972fa-773b-46e7-a93f-07ae1deb1d37",
     "regions": {
      "66222ce7-a363-4aaf-8716-f5147cca0cf7": {
       "attrs": {
        "height": 0.8,
        "width": 0.8,
        "x": 0.1,
        "y": 0.1
       },
       "content": {
        "cell": "6e8e4f48-e9a6-42da-ab30-f931e2df07ed",
        "part": "whole"
       },
       "id": "66222ce7-a363-4aaf-8716-f5147cca0cf7"
      }
     }
    },
    "c3c117eb-5c68-4af2-bf3b-7ecfd4a73cd0": {
     "id": "c3c117eb-5c68-4af2-bf3b-7ecfd4a73cd0",
     "prev": "2bf3bddc-9c37-4605-a85d-5a7cc4559c16",
     "regions": {
      "a6062cff-a9cc-4ccb-97cd-923510be1149": {
       "attrs": {
        "height": 0.8,
        "width": 0.8,
        "x": 0.1,
        "y": 0.1
       },
       "content": {
        "cell": "79dc4a0a-35bd-46d9-8c88-37d68541d98b",
        "part": "whole"
       },
       "id": "a6062cff-a9cc-4ccb-97cd-923510be1149"
      }
     }
    },
    "c484d7f5-cd42-4216-93d4-31cca7ab5d9d": {
     "id": "c484d7f5-cd42-4216-93d4-31cca7ab5d9d",
     "prev": "dbc47076-8551-46cf-8f35-d85133f6af51",
     "regions": {
      "3677686c-9dc1-41d2-895b-73f7c03bc5fd": {
       "attrs": {
        "height": 0.8,
        "width": 0.8,
        "x": 0.1,
        "y": 0.1
       },
       "content": {
        "cell": "4b0eab7f-ab11-407f-8ece-808070dd6861",
        "part": "whole"
       },
       "id": "3677686c-9dc1-41d2-895b-73f7c03bc5fd"
      }
     }
    },
    "cb1d1625-fe4c-4d3f-a9af-1e60d8ae5d83": {
     "id": "cb1d1625-fe4c-4d3f-a9af-1e60d8ae5d83",
     "prev": "4f6e9795-cf80-4552-a65c-63ef87127b85",
     "regions": {
      "0ad7b602-66cf-48b3-859a-72f1026c601c": {
       "attrs": {
        "height": 0.8,
        "width": 0.8,
        "x": 0.1,
        "y": 0.1
       },
       "content": {
        "cell": "72d6744e-4a25-42c9-9f17-2dfd66768653",
        "part": "whole"
       },
       "id": "0ad7b602-66cf-48b3-859a-72f1026c601c"
      }
     }
    },
    "cddf7f36-cafe-46d1-a44e-93867e90220b": {
     "id": "cddf7f36-cafe-46d1-a44e-93867e90220b",
     "prev": "6ba99870-219a-4406-bcb8-7667bea5371d",
     "regions": {
      "8c552e5d-2712-40a6-aa48-ef28b81544c1": {
       "attrs": {
        "height": 0.8,
        "width": 0.8,
        "x": 0.1,
        "y": 0.1
       },
       "content": {
        "cell": "5455bfa0-ca5a-4337-a096-c8757d5ec201",
        "part": "whole"
       },
       "id": "8c552e5d-2712-40a6-aa48-ef28b81544c1"
      }
     }
    },
    "cf5de199-fd6b-4836-b77f-53df6f2fee14": {
     "id": "cf5de199-fd6b-4836-b77f-53df6f2fee14",
     "prev": "def89b08-532d-41db-aaf1-0c40b1fbde7f",
     "regions": {
      "0188dd04-9b28-4a0e-9202-bf7dac848237": {
       "attrs": {
        "height": 0.8,
        "width": 0.8,
        "x": 0.1,
        "y": 0.1
       },
       "content": {
        "cell": "86a633e0-e235-42b7-97d1-aebfd127c7d9",
        "part": "whole"
       },
       "id": "0188dd04-9b28-4a0e-9202-bf7dac848237"
      }
     }
    },
    "cfe4b608-8df3-4a2f-b2bf-5b140bc44ee3": {
     "id": "cfe4b608-8df3-4a2f-b2bf-5b140bc44ee3",
     "prev": "f2d7c5d5-8636-454c-b2a7-1fc99563001d",
     "regions": {
      "19e309be-d119-405b-bc16-6e564f2c0ecd": {
       "attrs": {
        "height": 0.8,
        "width": 0.8,
        "x": 0.1,
        "y": 0.1
       },
       "content": {
        "cell": "5f0637ad-13a4-4bdd-978a-ce60c56275df",
        "part": "whole"
       },
       "id": "19e309be-d119-405b-bc16-6e564f2c0ecd"
      }
     }
    },
    "d1504953-2447-4025-bce7-823dd83cd50c": {
     "id": "d1504953-2447-4025-bce7-823dd83cd50c",
     "prev": "686f4a01-568e-4a4f-a04a-4251f20e3ff8",
     "regions": {
      "7da579ce-7eee-4e45-87ef-b36717f2f44c": {
       "attrs": {
        "height": 0.8,
        "width": 0.8,
        "x": 0.1,
        "y": 0.1
       },
       "content": {
        "cell": "5aca4b3e-1afc-4f33-b670-9653b4ca1782",
        "part": "whole"
       },
       "id": "7da579ce-7eee-4e45-87ef-b36717f2f44c"
      }
     }
    },
    "d23bbf17-2a60-4dcf-8a52-dd67a685c004": {
     "id": "d23bbf17-2a60-4dcf-8a52-dd67a685c004",
     "prev": "9e6d6f39-fe16-4e0b-b30b-bec0c2500dcd",
     "regions": {
      "5b52fd35-3223-48d8-b673-301df8f5d279": {
       "attrs": {
        "height": 0.8,
        "width": 0.8,
        "x": 0.1,
        "y": 0.1
       },
       "content": {
        "cell": "4b0eab7f-ab11-407f-8ece-808070dd6861",
        "part": "whole"
       },
       "id": "5b52fd35-3223-48d8-b673-301df8f5d279"
      }
     }
    },
    "d363b567-6085-432c-9b81-21aa4dbc84d3": {
     "id": "d363b567-6085-432c-9b81-21aa4dbc84d3",
     "prev": "eedec4a6-36f0-41b1-a892-2c2a29106274",
     "regions": {
      "c201cd6d-2bbd-40f5-b18e-44c9ffc0a394": {
       "attrs": {
        "height": 0.8,
        "width": 0.8,
        "x": 0.1,
        "y": 0.1
       },
       "content": {
        "cell": "95d1309c-eb1c-436e-a39f-011a8a8faa32",
        "part": "whole"
       },
       "id": "c201cd6d-2bbd-40f5-b18e-44c9ffc0a394"
      }
     }
    },
    "d3a78d59-9acb-4368-8316-d2fdcca89732": {
     "id": "d3a78d59-9acb-4368-8316-d2fdcca89732",
     "prev": "d6a48327-36e2-42cb-8aab-2c364a5117c0",
     "regions": {
      "68a21e3e-eb90-4950-b743-5820b8db3054": {
       "attrs": {
        "height": 0.8,
        "width": 0.8,
        "x": 0.1,
        "y": 0.1
       },
       "content": {
        "cell": "e3c652f2-eb71-4bfb-a889-3b07edad0158",
        "part": "whole"
       },
       "id": "68a21e3e-eb90-4950-b743-5820b8db3054"
      }
     }
    },
    "d6a48327-36e2-42cb-8aab-2c364a5117c0": {
     "id": "d6a48327-36e2-42cb-8aab-2c364a5117c0",
     "prev": "b9a90bb1-007b-4a01-9db5-085a09570a5d",
     "regions": {
      "78fe7a97-5635-4fa5-b5bf-cb406a85599d": {
       "attrs": {
        "height": 0.8,
        "width": 0.8,
        "x": 0.1,
        "y": 0.1
       },
       "content": {
        "cell": "a8062276-c0fc-4908-bbf8-a399082b8dc9",
        "part": "whole"
       },
       "id": "78fe7a97-5635-4fa5-b5bf-cb406a85599d"
      }
     }
    },
    "d85918e6-46c4-496e-a794-7c919dfacb23": {
     "id": "d85918e6-46c4-496e-a794-7c919dfacb23",
     "prev": "fd9fc647-eaa9-4253-af6a-a0a88600bda8",
     "regions": {
      "3b89a386-79e5-4601-a991-4b74ff4651cc": {
       "attrs": {
        "height": 0.8,
        "width": 0.8,
        "x": 0.1,
        "y": 0.1
       },
       "content": {
        "cell": "09f55f0e-dc91-4d9e-920e-2df9daf0a646",
        "part": "whole"
       },
       "id": "3b89a386-79e5-4601-a991-4b74ff4651cc"
      }
     }
    },
    "d8b0eb5b-ce29-4cb2-bab3-b851f6b054ca": {
     "id": "d8b0eb5b-ce29-4cb2-bab3-b851f6b054ca",
     "prev": "a5175c3b-6e24-482d-a0e3-b25e189ee2ad",
     "regions": {
      "32fed108-57df-4e14-a8b5-69cb707506b9": {
       "attrs": {
        "height": 0.8,
        "width": 0.8,
        "x": 0.1,
        "y": 0.1
       },
       "content": {
        "cell": "1fc31fb2-e190-41bf-a83b-117153069de8",
        "part": "whole"
       },
       "id": "32fed108-57df-4e14-a8b5-69cb707506b9"
      }
     }
    },
    "d926f98b-c3b4-4b3d-9ade-ed11901413b5": {
     "id": "d926f98b-c3b4-4b3d-9ade-ed11901413b5",
     "prev": "5e655367-f421-47fd-9ebc-308aa3b2fe7d",
     "regions": {
      "bd322475-2692-4918-9dff-75c3f8d03449": {
       "attrs": {
        "height": 0.8,
        "width": 0.8,
        "x": 0.1,
        "y": 0.1
       },
       "content": {
        "cell": "895c2347-1541-4af0-92a9-9676e24d896f",
        "part": "whole"
       },
       "id": "bd322475-2692-4918-9dff-75c3f8d03449"
      }
     }
    },
    "daeacaf4-dd7c-47a3-9b03-20df687deb9c": {
     "id": "daeacaf4-dd7c-47a3-9b03-20df687deb9c",
     "prev": "9beab722-2987-4275-b00a-9a55cc053953",
     "regions": {
      "fa4f2fc5-0998-4ca6-9aff-41f15f5f63a0": {
       "attrs": {
        "height": 0.8,
        "width": 0.8,
        "x": 0.1,
        "y": 0.1
       },
       "content": {
        "cell": "bae13ee4-aacf-417d-9431-99ca075b046f",
        "part": "whole"
       },
       "id": "fa4f2fc5-0998-4ca6-9aff-41f15f5f63a0"
      }
     }
    },
    "dbc47076-8551-46cf-8f35-d85133f6af51": {
     "id": "dbc47076-8551-46cf-8f35-d85133f6af51",
     "prev": "c1bcfb76-5669-4efd-b635-f195218d42f9",
     "regions": {
      "0054b701-73d5-40bd-a328-8122bd1a61fb": {
       "attrs": {
        "height": 0.8,
        "width": 0.8,
        "x": 0.1,
        "y": 0.1
       },
       "content": {
        "cell": "a1d6e3c5-7de4-464b-85e8-05c3ae3d0d30",
        "part": "whole"
       },
       "id": "0054b701-73d5-40bd-a328-8122bd1a61fb"
      }
     }
    },
    "def89b08-532d-41db-aaf1-0c40b1fbde7f": {
     "id": "def89b08-532d-41db-aaf1-0c40b1fbde7f",
     "prev": "e4593a39-5a87-4cde-9d56-72f8530e3e7b",
     "regions": {
      "115c5f6f-f3fc-46f5-9ed5-2deeec29403f": {
       "attrs": {
        "height": 0.8,
        "width": 0.8,
        "x": 0.1,
        "y": 0.1
       },
       "content": {
        "cell": "9a039eef-35f1-4458-8e5a-e6ec29e1ff9d",
        "part": "whole"
       },
       "id": "115c5f6f-f3fc-46f5-9ed5-2deeec29403f"
      }
     }
    },
    "e3b5fb58-362b-4d5b-9d34-338824a424a9": {
     "id": "e3b5fb58-362b-4d5b-9d34-338824a424a9",
     "prev": "52f231c5-646a-4de6-bcad-083f91d7248b",
     "regions": {
      "669ff44f-1a8f-4dc3-9133-aa00f8f923f4": {
       "attrs": {
        "height": 0.8,
        "width": 0.8,
        "x": 0.1,
        "y": 0.1
       },
       "content": {
        "cell": "72d6744e-4a25-42c9-9f17-2dfd66768653",
        "part": "whole"
       },
       "id": "669ff44f-1a8f-4dc3-9133-aa00f8f923f4"
      }
     }
    },
    "e4593a39-5a87-4cde-9d56-72f8530e3e7b": {
     "id": "e4593a39-5a87-4cde-9d56-72f8530e3e7b",
     "prev": "471968ed-e718-4754-9ea9-c76595abefb6",
     "regions": {
      "edac569d-3e61-4c09-896c-af8a642b7ee1": {
       "attrs": {
        "height": 0.8,
        "width": 0.8,
        "x": 0.1,
        "y": 0.1
       },
       "content": {
        "cell": "9eebd913-34c0-4366-a89e-033d9026ef91",
        "part": "whole"
       },
       "id": "edac569d-3e61-4c09-896c-af8a642b7ee1"
      }
     }
    },
    "e4616151-dd02-4cae-9242-0ce7a9bcabf1": {
     "id": "e4616151-dd02-4cae-9242-0ce7a9bcabf1",
     "prev": "f651b58e-7c1f-45ce-9f6a-7658b0d74046",
     "regions": {
      "2fe7b158-1afa-4069-bdc7-12d79421f52a": {
       "attrs": {
        "height": 0.8,
        "width": 0.8,
        "x": 0.1,
        "y": 0.1
       },
       "content": {
        "cell": "69c0efa2-b538-418b-8b2d-30d475da304a",
        "part": "whole"
       },
       "id": "2fe7b158-1afa-4069-bdc7-12d79421f52a"
      }
     }
    },
    "e4a3254b-7365-4426-82eb-1a235705b3fa": {
     "id": "e4a3254b-7365-4426-82eb-1a235705b3fa",
     "prev": "b941c5ba-9450-466d-963f-8fe5051b1600",
     "regions": {
      "c0889613-a4fe-485c-a60c-87cdfba1d7dd": {
       "attrs": {
        "height": 0.8,
        "width": 0.8,
        "x": 0.1,
        "y": 0.1
       },
       "content": {
        "cell": "796acd26-febb-4772-981c-8d41e3e3954b",
        "part": "whole"
       },
       "id": "c0889613-a4fe-485c-a60c-87cdfba1d7dd"
      }
     }
    },
    "e4c6de82-0a46-41d5-83a1-6090f47f69eb": {
     "id": "e4c6de82-0a46-41d5-83a1-6090f47f69eb",
     "prev": "45696fad-4898-4049-a9dc-492cb2f5e6ff",
     "regions": {
      "37dc609f-8763-46a1-bcca-06b012055bea": {
       "attrs": {
        "height": 0.8,
        "width": 0.8,
        "x": 0.1,
        "y": 0.1
       },
       "content": {
        "cell": "79d21b20-b494-4019-a874-cbb2dea6b11b",
        "part": "whole"
       },
       "id": "37dc609f-8763-46a1-bcca-06b012055bea"
      }
     }
    },
    "e4cf83c7-6d7a-44b1-a8f4-d258cf67621c": {
     "id": "e4cf83c7-6d7a-44b1-a8f4-d258cf67621c",
     "prev": "ed4c5046-496e-4a64-804b-4b4329e1bc8d",
     "regions": {
      "41d36c4b-89f8-403d-9bba-ff6f4c137ff9": {
       "attrs": {
        "height": 0.8,
        "width": 0.8,
        "x": 0.1,
        "y": 0.1
       },
       "content": {
        "cell": "0babf2b2-5fa7-4592-96d9-8f05334dd828",
        "part": "whole"
       },
       "id": "41d36c4b-89f8-403d-9bba-ff6f4c137ff9"
      }
     }
    },
    "e6c8beaf-e692-45bd-809a-0a77155bd1b3": {
     "id": "e6c8beaf-e692-45bd-809a-0a77155bd1b3",
     "prev": "50fe2042-61e5-4b0c-9f00-eb809b96cff2",
     "regions": {
      "b4f22370-bba9-4214-b89e-1781610c5893": {
       "attrs": {
        "height": 0.8,
        "width": 0.8,
        "x": 0.1,
        "y": 0.1
       },
       "content": {
        "cell": "e04f0f4a-ebb1-42c8-8f78-85942a7537a5",
        "part": "whole"
       },
       "id": "b4f22370-bba9-4214-b89e-1781610c5893"
      }
     }
    },
    "e7a19da1-a8fc-48e4-bee8-17fcb396178d": {
     "id": "e7a19da1-a8fc-48e4-bee8-17fcb396178d",
     "prev": "f66f624b-2b57-415d-bb9e-52afbc78b04e",
     "regions": {
      "70c279db-930f-4788-be62-00ab7d7d013e": {
       "attrs": {
        "height": 0.8,
        "width": 0.8,
        "x": 0.1,
        "y": 0.1
       },
       "content": {
        "cell": "5f0637ad-13a4-4bdd-978a-ce60c56275df",
        "part": "whole"
       },
       "id": "70c279db-930f-4788-be62-00ab7d7d013e"
      }
     }
    },
    "e8e08ed0-2f8b-4a22-8fec-a7ac772b9989": {
     "id": "e8e08ed0-2f8b-4a22-8fec-a7ac772b9989",
     "prev": "9f4bb7fd-f7cc-4616-8844-63a8ababcebf",
     "regions": {
      "6f914074-d558-4615-a1d2-34ef9158d0ca": {
       "attrs": {
        "height": 0.8,
        "width": 0.8,
        "x": 0.1,
        "y": 0.1
       },
       "content": {
        "cell": "a8062276-c0fc-4908-bbf8-a399082b8dc9",
        "part": "whole"
       },
       "id": "6f914074-d558-4615-a1d2-34ef9158d0ca"
      }
     }
    },
    "e9e0c1de-5fc7-4dac-80b0-6892fd26e618": {
     "id": "e9e0c1de-5fc7-4dac-80b0-6892fd26e618",
     "prev": "4a4ebf1e-0088-4311-b4ea-387e8128b718",
     "regions": {
      "ecd5202c-93d4-408c-ba4b-76aba5122052": {
       "attrs": {
        "height": 0.8,
        "width": 0.8,
        "x": 0.1,
        "y": 0.1
       },
       "content": {
        "cell": "fd63945e-2512-4592-a07e-982423676336",
        "part": "whole"
       },
       "id": "ecd5202c-93d4-408c-ba4b-76aba5122052"
      }
     }
    },
    "ea889f0a-c881-4343-9e6b-2d4034314fff": {
     "id": "ea889f0a-c881-4343-9e6b-2d4034314fff",
     "prev": "02fbf60e-656a-4fc3-9e14-c2c7a17620bd",
     "regions": {
      "03b46f6e-cabe-47bb-a816-055e17e8ce84": {
       "attrs": {
        "height": 0.8,
        "width": 0.8,
        "x": 0.1,
        "y": 0.1
       },
       "content": {
        "cell": "e4f351e3-bacd-4dea-8f70-5ec299c0a454",
        "part": "whole"
       },
       "id": "03b46f6e-cabe-47bb-a816-055e17e8ce84"
      }
     }
    },
    "eb11ca5b-19c6-47d1-9358-ca7a1a3dc0ca": {
     "id": "eb11ca5b-19c6-47d1-9358-ca7a1a3dc0ca",
     "prev": "5351ed29-c1d3-4635-beaf-eecd1c44044d",
     "regions": {
      "da787749-48a9-4f4e-b208-8e800186d15c": {
       "attrs": {
        "height": 0.8,
        "width": 0.8,
        "x": 0.1,
        "y": 0.1
       },
       "content": {
        "cell": "51e36c73-d4fa-4f96-8a02-80285d4f378e",
        "part": "whole"
       },
       "id": "da787749-48a9-4f4e-b208-8e800186d15c"
      }
     }
    },
    "ece8b5a5-71a0-4525-ad92-8cb822e335e5": {
     "id": "ece8b5a5-71a0-4525-ad92-8cb822e335e5",
     "prev": "e9e0c1de-5fc7-4dac-80b0-6892fd26e618",
     "regions": {
      "f7345d0d-a5cf-4e9a-aef4-5ac8d829d35e": {
       "attrs": {
        "height": 0.8,
        "width": 0.8,
        "x": 0.1,
        "y": 0.1
       },
       "content": {
        "cell": "60706c58-fb6c-4c9a-b02d-7e85fcae7649",
        "part": "whole"
       },
       "id": "f7345d0d-a5cf-4e9a-aef4-5ac8d829d35e"
      }
     }
    },
    "ed4c5046-496e-4a64-804b-4b4329e1bc8d": {
     "id": "ed4c5046-496e-4a64-804b-4b4329e1bc8d",
     "prev": "3c043242-175d-4d99-b80b-b556109c175e",
     "regions": {
      "fde3cc86-10e7-4f04-ad36-c4c81bfcbcbb": {
       "attrs": {
        "height": 0.8,
        "width": 0.8,
        "x": 0.1,
        "y": 0.1
       },
       "content": {
        "cell": "ef01b1d8-d62f-4fd1-8f0f-b3857a0be3f9",
        "part": "whole"
       },
       "id": "fde3cc86-10e7-4f04-ad36-c4c81bfcbcbb"
      }
     }
    },
    "eea3f6cd-f9ac-47ab-915a-d5b4fb68e19a": {
     "id": "eea3f6cd-f9ac-47ab-915a-d5b4fb68e19a",
     "prev": "a0296b5c-6d37-42a3-9517-9297ada3293c",
     "regions": {
      "15d97529-fea0-4b93-8fc7-41fcc467c267": {
       "attrs": {
        "height": 0.8,
        "width": 0.8,
        "x": 0.1,
        "y": 0.1
       },
       "content": {
        "cell": "50a7c82c-2fc4-49ef-b239-f0dabf7b7688",
        "part": "whole"
       },
       "id": "15d97529-fea0-4b93-8fc7-41fcc467c267"
      }
     }
    },
    "eea63a9b-92e2-427f-8641-7344c7acf3e3": {
     "id": "eea63a9b-92e2-427f-8641-7344c7acf3e3",
     "prev": "3f00da4c-a9e6-429c-a560-a0080c9d291f",
     "regions": {
      "677d4bac-91c8-4405-9ffc-865d905d5c03": {
       "attrs": {
        "height": 0.8,
        "width": 0.8,
        "x": 0.1,
        "y": 0.1
       },
       "content": {
        "cell": "0ce11f3c-6c32-47ba-b8a7-2a7d6586e925",
        "part": "whole"
       },
       "id": "677d4bac-91c8-4405-9ffc-865d905d5c03"
      }
     }
    },
    "eedec4a6-36f0-41b1-a892-2c2a29106274": {
     "id": "eedec4a6-36f0-41b1-a892-2c2a29106274",
     "prev": "d3a78d59-9acb-4368-8316-d2fdcca89732",
     "regions": {
      "9df71dc2-416b-4a3d-b72e-e0e1f915be8c": {
       "attrs": {
        "height": 0.8,
        "width": 0.8,
        "x": 0.1,
        "y": 0.1
       },
       "content": {
        "cell": "f6d722a8-9df6-43d7-8bab-071d82c53e28",
        "part": "whole"
       },
       "id": "9df71dc2-416b-4a3d-b72e-e0e1f915be8c"
      }
     }
    },
    "f1dd96c2-c38b-4a6d-a5b7-66c619eca1a3": {
     "id": "f1dd96c2-c38b-4a6d-a5b7-66c619eca1a3",
     "prev": "e3b5fb58-362b-4d5b-9d34-338824a424a9",
     "regions": {
      "80d8c383-e351-4087-a3d5-bf66af1d524d": {
       "attrs": {
        "height": 0.8,
        "width": 0.8,
        "x": 0.1,
        "y": 0.1
       },
       "content": {
        "cell": "6ffcffe7-6477-46c2-a8ee-0d67b9f56fc5",
        "part": "whole"
       },
       "id": "80d8c383-e351-4087-a3d5-bf66af1d524d"
      }
     }
    },
    "f2d7c5d5-8636-454c-b2a7-1fc99563001d": {
     "id": "f2d7c5d5-8636-454c-b2a7-1fc99563001d",
     "prev": "a9838761-3791-4445-b459-4b08d208392c",
     "regions": {
      "4bfd4eb0-a933-42c0-9904-46e35e3a5fb3": {
       "attrs": {
        "height": 0.8,
        "width": 0.8,
        "x": 0.1,
        "y": 0.1
       },
       "content": {
        "cell": "c59f95c1-ef77-4fec-af99-fd38edd53ad7",
        "part": "whole"
       },
       "id": "4bfd4eb0-a933-42c0-9904-46e35e3a5fb3"
      }
     }
    },
    "f2ebe011-279d-45da-8f30-27af5a7609ed": {
     "id": "f2ebe011-279d-45da-8f30-27af5a7609ed",
     "prev": "eea63a9b-92e2-427f-8641-7344c7acf3e3",
     "regions": {
      "e8a7f746-b4df-4a40-86e0-81ba5cb4dee5": {
       "attrs": {
        "height": 0.8,
        "width": 0.8,
        "x": 0.1,
        "y": 0.1
       },
       "content": {
        "cell": "19e80305-d4af-4c5c-b966-9e3a2efae0a8",
        "part": "whole"
       },
       "id": "e8a7f746-b4df-4a40-86e0-81ba5cb4dee5"
      }
     }
    },
    "f651b58e-7c1f-45ce-9f6a-7658b0d74046": {
     "id": "f651b58e-7c1f-45ce-9f6a-7658b0d74046",
     "prev": "48c1417b-f378-4b4a-adfa-18acdf336903",
     "regions": {
      "8114e89c-1f6a-4f42-b780-c795dd158d94": {
       "attrs": {
        "height": 0.8,
        "width": 0.8,
        "x": 0.1,
        "y": 0.1
       },
       "content": {
        "cell": "1bdad3f4-aad3-4222-b42e-2d6bd6162627",
        "part": "whole"
       },
       "id": "8114e89c-1f6a-4f42-b780-c795dd158d94"
      }
     }
    },
    "f66f624b-2b57-415d-bb9e-52afbc78b04e": {
     "id": "f66f624b-2b57-415d-bb9e-52afbc78b04e",
     "prev": "06d687b9-5541-4e61-9c36-4a5b4f66fac3",
     "regions": {
      "d4fc202d-1a0a-47b4-bada-34e2f7a4dc07": {
       "attrs": {
        "height": 0.8,
        "width": 0.8,
        "x": 0.1,
        "y": 0.1
       },
       "content": {
        "cell": "c59f95c1-ef77-4fec-af99-fd38edd53ad7",
        "part": "whole"
       },
       "id": "d4fc202d-1a0a-47b4-bada-34e2f7a4dc07"
      }
     }
    },
    "f7c7381d-9298-4ab2-bf5e-a45080dbe2e0": {
     "id": "f7c7381d-9298-4ab2-bf5e-a45080dbe2e0",
     "prev": "07a0145f-1f28-4204-b8fc-b10010d4a2de",
     "regions": {
      "0632eb5f-340f-4497-baf9-125498ba47a0": {
       "attrs": {
        "height": 0.8,
        "width": 0.8,
        "x": 0.1,
        "y": 0.1
       },
       "content": {
        "cell": "e3d20ae5-9648-4d5b-94c4-18a36ab0c339",
        "part": "whole"
       },
       "id": "0632eb5f-340f-4497-baf9-125498ba47a0"
      }
     }
    },
    "f990d431-feb6-4d18-bfd5-e51390afacad": {
     "id": "f990d431-feb6-4d18-bfd5-e51390afacad",
     "prev": "55fa88c2-803d-4f3c-94f9-80f7729302ff",
     "regions": {
      "224a1a1f-2a2c-4eb6-bd09-348a4842ed48": {
       "attrs": {
        "height": 0.8,
        "width": 0.8,
        "x": 0.1,
        "y": 0.1
       },
       "content": {
        "cell": "59bc62a1-908c-4198-987d-086a0c20437d",
        "part": "whole"
       },
       "id": "224a1a1f-2a2c-4eb6-bd09-348a4842ed48"
      }
     }
    },
    "f997ce2a-bf68-4d09-a07b-6c397c4337f8": {
     "id": "f997ce2a-bf68-4d09-a07b-6c397c4337f8",
     "prev": "09e1acb8-3dff-4853-bb0a-0edb0588f963",
     "regions": {
      "b6007892-7740-4f2e-a899-4d6575d4beb1": {
       "attrs": {
        "height": 0.8,
        "width": 0.8,
        "x": 0.1,
        "y": 0.1
       },
       "content": {
        "cell": "bae13ee4-aacf-417d-9431-99ca075b046f",
        "part": "whole"
       },
       "id": "b6007892-7740-4f2e-a899-4d6575d4beb1"
      }
     }
    },
    "fbe29fd4-659e-41f3-bf5d-6f3cc5e6f169": {
     "id": "fbe29fd4-659e-41f3-bf5d-6f3cc5e6f169",
     "prev": "6965ad8d-29c1-4bef-b56a-44f54ad1b353",
     "regions": {
      "f68e99a3-6d0e-41cc-9ced-5ba0d667cfe8": {
       "attrs": {
        "height": 0.8,
        "width": 0.8,
        "x": 0.1,
        "y": 0.1
       },
       "content": {
        "cell": "773e90a2-269a-40c5-9c2f-c14f4a4a40ec",
        "part": "whole"
       },
       "id": "f68e99a3-6d0e-41cc-9ced-5ba0d667cfe8"
      }
     }
    },
    "fc98327b-20ea-4a64-bb4c-b47d99c00cb6": {
     "id": "fc98327b-20ea-4a64-bb4c-b47d99c00cb6",
     "prev": "afdf9dcc-83da-49c0-abc5-fb4ecbee2611",
     "regions": {
      "4ebf5ef6-b3ae-448c-8f71-f225ee383371": {
       "attrs": {
        "height": 0.8,
        "width": 0.8,
        "x": 0.1,
        "y": 0.1
       },
       "content": {
        "cell": "cf525f5e-b5a5-4ed5-857d-1db6d859c40a",
        "part": "whole"
       },
       "id": "4ebf5ef6-b3ae-448c-8f71-f225ee383371"
      }
     }
    },
    "fd9fc647-eaa9-4253-af6a-a0a88600bda8": {
     "id": "fd9fc647-eaa9-4253-af6a-a0a88600bda8",
     "prev": "f1dd96c2-c38b-4a6d-a5b7-66c619eca1a3",
     "regions": {
      "2334c7b5-eff0-40dc-ac26-bc79e5b7ebfd": {
       "attrs": {
        "height": 0.8,
        "width": 0.8,
        "x": 0.1,
        "y": 0.1
       },
       "content": {
        "cell": "a41fcb47-6f7a-4406-a3ae-7b88f422944f",
        "part": "whole"
       },
       "id": "2334c7b5-eff0-40dc-ac26-bc79e5b7ebfd"
      }
     }
    },
    "fdec0a0b-2dbc-44a2-b53f-94136e1df74f": {
     "id": "fdec0a0b-2dbc-44a2-b53f-94136e1df74f",
     "prev": "06855141-9c24-4e0b-b41c-3ebdf3ff33a0",
     "regions": {
      "8bc9375b-ce8f-42ee-bf75-6d862d76fc34": {
       "attrs": {
        "height": 0.8,
        "width": 0.8,
        "x": 0.1,
        "y": 0.1
       },
       "content": {
        "cell": "7c036a83-5472-4dbf-8ef3-e79882897a23",
        "part": "whole"
       },
       "id": "8bc9375b-ce8f-42ee-bf75-6d862d76fc34"
      }
     }
    }
   },
   "themes": {}
  },
  "toc": {
   "nav_menu": {},
   "number_sections": true,
   "sideBar": true,
   "skip_h1_title": false,
   "title_cell": "Table of Contents",
   "title_sidebar": "Contents",
   "toc_cell": false,
   "toc_position": {
    "height": "calc(100% - 180px)",
    "left": "10px",
    "top": "150px",
    "width": "201px"
   },
   "toc_section_display": "block",
   "toc_window_display": true
  },
  "widgets": {
   "state": {},
   "version": "1.1.2"
  }
 },
 "nbformat": 4,
 "nbformat_minor": 2
}

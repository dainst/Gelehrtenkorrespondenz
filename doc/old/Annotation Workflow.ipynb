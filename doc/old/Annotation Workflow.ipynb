{
 "cells": [
  {
   "cell_type": "code",
   "execution_count": 1,
   "metadata": {
    "init_cell": true,
    "nbpresent": {
     "id": "4d4c762d-f869-4378-b9bc-e3b1a09fcdd6"
    },
    "slideshow": {
     "slide_type": "-"
    }
   },
   "outputs": [
    {
     "ename": "ModuleNotFoundError",
     "evalue": "No module named 'NBAdvancementBar'",
     "output_type": "error",
     "traceback": [
      "\u001b[0;31m---------------------------------------------------------------------------\u001b[0m",
      "\u001b[0;31mModuleNotFoundError\u001b[0m                       Traceback (most recent call last)",
      "\u001b[0;32m<ipython-input-1-1ff354c7b158>\u001b[0m in \u001b[0;36m<module>\u001b[0;34m()\u001b[0m\n\u001b[1;32m      8\u001b[0m \u001b[0;32mimport\u001b[0m \u001b[0mnumpy\u001b[0m \u001b[0;32mas\u001b[0m \u001b[0mnp\u001b[0m\u001b[0;34m\u001b[0m\u001b[0m\n\u001b[1;32m      9\u001b[0m \u001b[0;32mfrom\u001b[0m \u001b[0mmatplotlib\u001b[0m \u001b[0;32mimport\u001b[0m \u001b[0mpyplot\u001b[0m \u001b[0;32mas\u001b[0m \u001b[0mplt\u001b[0m\u001b[0;34m\u001b[0m\u001b[0m\n\u001b[0;32m---> 10\u001b[0;31m \u001b[0;32mfrom\u001b[0m \u001b[0mNBAdvancementBar\u001b[0m \u001b[0;32mimport\u001b[0m \u001b[0mlog_progress\u001b[0m\u001b[0;34m\u001b[0m\u001b[0m\n\u001b[0m\u001b[1;32m     11\u001b[0m \u001b[0;32mfrom\u001b[0m \u001b[0midai_journals\u001b[0m\u001b[0;34m.\u001b[0m\u001b[0mnlp\u001b[0m \u001b[0;32mimport\u001b[0m \u001b[0mtagDAI\u001b[0m\u001b[0;34m,\u001b[0m \u001b[0mtagDAINer\u001b[0m\u001b[0;34m,\u001b[0m \u001b[0mrecognizeLang\u001b[0m\u001b[0;34m\u001b[0m\u001b[0m\n\u001b[1;32m     12\u001b[0m \u001b[0;32mfrom\u001b[0m \u001b[0midai_journals\u001b[0m\u001b[0;34m.\u001b[0m\u001b[0mutils\u001b[0m \u001b[0;32mimport\u001b[0m \u001b[0mreg_tok\u001b[0m\u001b[0;34m\u001b[0m\u001b[0m\n",
      "\u001b[0;31mModuleNotFoundError\u001b[0m: No module named 'NBAdvancementBar'"
     ]
    }
   ],
   "source": [
    "import re\n",
    "import os\n",
    "from glob import glob\n",
    "import pywebanno\n",
    "from importlib import reload\n",
    "from lxml import etree\n",
    "import pandas as pd\n",
    "import numpy as np\n",
    "from matplotlib import pyplot as plt\n",
    "from NBAdvancementBar import log_progress\n",
    "from idai_journals.nlp import tagDAI, tagDAINer, recognizeLang\n",
    "from idai_journals.utils import reg_tok\n",
    "from collections import namedtuple, OrderedDict\n",
    "import requests"
   ]
  },
  {
   "cell_type": "code",
   "execution_count": 2,
   "metadata": {
    "init_cell": true,
    "nbpresent": {
     "id": "3415c11a-386c-4ada-b62c-836895a07d60"
    }
   },
   "outputs": [
    {
     "name": "stderr",
     "output_type": "stream",
     "text": [
      "/usr/local/share/.virtualenvs/nlppy3/lib/python3.4/site-packages/sklearn/cross_validation.py:44: DeprecationWarning: This module was deprecated in version 0.18 in favor of the model_selection module into which all the refactored classes and functions are moved. Also note that the interface of the new CV iterators are different from that of this module. This module will be removed in 0.20.\n",
      "  \"This module will be removed in 0.20.\", DeprecationWarning)\n",
      "/usr/local/share/.virtualenvs/nlppy3/lib/python3.4/site-packages/sklearn/grid_search.py:43: DeprecationWarning: This module was deprecated in version 0.18 in favor of the model_selection module into which all the refactored classes and functions are moved. This module will be removed in 0.20.\n",
      "  DeprecationWarning)\n"
     ]
    }
   ],
   "source": [
    "#sklearn imports\n",
    "import sklearn\n",
    "import scipy.stats\n",
    "from sklearn.metrics import make_scorer\n",
    "from sklearn.cross_validation import cross_val_score\n",
    "from sklearn.grid_search import RandomizedSearchCV\n",
    "\n",
    "import sklearn_crfsuite\n",
    "from sklearn_crfsuite import scorers\n",
    "from sklearn_crfsuite import metrics"
   ]
  },
  {
   "cell_type": "markdown",
   "metadata": {
    "nbpresent": {
     "id": "33eb1c34-3ed6-4e57-80e7-09f0881086de"
    }
   },
   "source": [
    "# Introduction"
   ]
  },
  {
   "cell_type": "markdown",
   "metadata": {
    "nbpresent": {
     "id": "4fd51529-8bfc-4185-9a83-613bf264167c"
    }
   },
   "source": [
    "In this notebook we illustrate the process to train, apply and test a CRF classifier for the . Our goal is to recognize first, then link to a knowledge base, a series of named-entities in a corpus of letters between archaeologists; the target NEs include:\n",
    "\n",
    "* persons\n",
    "* places\n",
    "* institutions\n",
    "* archaeological objects, monuments and artifacts\n",
    "* dates and time expressions"
   ]
  },
  {
   "cell_type": "markdown",
   "metadata": {
    "nbpresent": {
     "id": "fdfa3ec6-7c80-4125-a6d3-74182f4599fd"
    }
   },
   "source": [
    "# Pre-processing"
   ]
  },
  {
   "cell_type": "markdown",
   "metadata": {
    "nbpresent": {
     "id": "617bb7ef-d504-46c0-bc48-d03e4ac48e1e"
    }
   },
   "source": [
    "## Collecting the training data"
   ]
  },
  {
   "cell_type": "markdown",
   "metadata": {
    "nbpresent": {
     "id": "6fa70397-8a4f-4be4-a5b4-0f66e8978a1f"
    }
   },
   "source": [
    "We get our training data (manually annotated and reviewed) from the Webanno instance running on [nlp.dainst.org](http://nlp.dainst.org:18080/webanno/).\n",
    "\n",
    "We make use of he (experimental) Remote API of Webanno in order to extract the annotation. The annotated texts will then require a lot of pre-processing before they could be fed to the training functions defined below."
   ]
  },
  {
   "cell_type": "markdown",
   "metadata": {
    "nbpresent": {
     "id": "c80ec799-5362-419e-891a-35fdb00a5565"
    }
   },
   "source": [
    "In Webanno, the project we're working on is the `Gelehrtekorrespondenz_Test`, which has the ID 3"
   ]
  },
  {
   "cell_type": "code",
   "execution_count": 2,
   "metadata": {
    "collapsed": true,
    "init_cell": true,
    "nbpresent": {
     "id": "9a1d928f-4ae6-476e-b7d1-b116763c8566"
    },
    "slideshow": {
     "slide_type": "slide"
    }
   },
   "outputs": [],
   "source": [
    "proj_id = '3'"
   ]
  },
  {
   "cell_type": "code",
   "execution_count": 4,
   "metadata": {
    "collapsed": true,
    "init_cell": true,
    "nbpresent": {
     "id": "9f13755f-16a1-4e14-a23c-a60f88b07d92"
    }
   },
   "outputs": [],
   "source": [
    "doc_ids = pywebanno.getDocIds(proj_id)"
   ]
  },
  {
   "cell_type": "code",
   "execution_count": 6,
   "metadata": {
    "collapsed": true,
    "nbpresent": {
     "id": "9d545c57-8a1a-4550-bf9e-683af39b2cca"
    }
   },
   "outputs": [],
   "source": [
    "tsv = pywebanno.getAnnotation(proj_id, 461, \"ctsv3\")\n",
    "tsv_2 = pywebanno.getAnnotation(proj_id, 373, \"ctsv3\")"
   ]
  },
  {
   "cell_type": "code",
   "execution_count": 15,
   "metadata": {
    "nbpresent": {
     "id": "ce05cecb-4bf1-4b2d-9772-11106484d8ff"
    }
   },
   "outputs": [
    {
     "name": "stdout",
     "output_type": "stream",
     "text": [
      "FINISHED\n"
     ]
    }
   ],
   "source": [
    "#check the annotation status\n",
    "a = pywebanno.listAnnotations(proj_id, 461, (\"francesco\", \"sammathnaur\"))\n",
    "print(a[0][\"state\"])"
   ]
  },
  {
   "cell_type": "markdown",
   "metadata": {
    "nbpresent": {
     "id": "169bfe5d-465d-432a-b108-b33b1192b600"
    }
   },
   "source": [
    "Some of the documents have nested annotations at the same layer, which results in export errors from the API. Let's get a list of those files. We'll fix that later:"
   ]
  },
  {
   "cell_type": "code",
   "execution_count": 17,
   "metadata": {
    "collapsed": true,
    "init_cell": false,
    "nbpresent": {
     "id": "63c95174-9adf-4943-bad7-ebef5d7467a4"
    }
   },
   "outputs": [],
   "source": [
    "err = []\n",
    "for k in log_progress( doc_ids.keys()):\n",
    "    a = pywebanno.getAnnotation(proj_id, k, \"ctsv3\")\n",
    "    if a.status_code == 500:\n",
    "        err.append(k) "
   ]
  },
  {
   "cell_type": "code",
   "execution_count": 65,
   "metadata": {
    "nbpresent": {
     "id": "3c83969a-3b76-42b6-b66d-c95a43214bc3"
    }
   },
   "outputs": [
    {
     "name": "stdout",
     "output_type": "stream",
     "text": [
      "The number of files with nested annotation is: 59\n"
     ]
    }
   ],
   "source": [
    "print(\"The number of files with nested annotation is: {}\".format(len(err)))"
   ]
  },
  {
   "cell_type": "markdown",
   "metadata": {
    "nbpresent": {
     "id": "47e7fdd1-86ac-4c83-9253-4637d220ea82"
    }
   },
   "source": [
    "Now we create a simple function to split the texts in lines"
   ]
  },
  {
   "cell_type": "code",
   "execution_count": 5,
   "metadata": {
    "collapsed": true,
    "init_cell": true,
    "nbpresent": {
     "id": "42a9e102-9696-488e-8b68-e2c300c114c3"
    }
   },
   "outputs": [],
   "source": [
    "def splitInLines(tsv_in):\n",
    "    lines = []\n",
    "    for l in tsv_in.split(\"\\n\"):\n",
    "        l = l.strip()\n",
    "        l = l.split(\"\\t\")\n",
    "        if len(l) > 1:\n",
    "            lines.append(l)\n",
    "    return lines"
   ]
  },
  {
   "cell_type": "markdown",
   "metadata": {
    "nbpresent": {
     "id": "5450b95a-0cc4-4c13-b35e-5900bc121e6d"
    }
   },
   "source": [
    "Let us now work with a sample file; we'll set up the main loop later"
   ]
  },
  {
   "cell_type": "code",
   "execution_count": 338,
   "metadata": {
    "collapsed": true,
    "nbpresent": {
     "id": "52d86a6b-54ea-4be0-8909-8a91a6b4483d"
    }
   },
   "outputs": [],
   "source": [
    "lines = splitInLines(tsv.text)"
   ]
  },
  {
   "cell_type": "markdown",
   "metadata": {
    "nbpresent": {
     "id": "96d590c5-922a-45dd-b280-b8c34882c417"
    }
   },
   "source": [
    "## Preprocessing Steps"
   ]
  },
  {
   "cell_type": "markdown",
   "metadata": {
    "nbpresent": {
     "id": "f945b950-d09e-4c62-953c-1134b5d41839"
    }
   },
   "source": [
    "### Add the POS feature"
   ]
  },
  {
   "cell_type": "code",
   "execution_count": 6,
   "metadata": {
    "collapsed": true,
    "init_cell": true,
    "nbpresent": {
     "id": "b106bc8e-285e-43c7-a4f0-205775fb66e0"
    }
   },
   "outputs": [],
   "source": [
    "def addPos(lines, lang=\"de\"):\n",
    "    toks = tagDAI([t[2] for t in lines], lang=\"de\")\n",
    "    assert len(toks) == len(lines), \"mismatch between lines of files and tokens\"\n",
    "    for l, t in zip(lines, toks):\n",
    "        l.append(t[1])\n",
    "        l.append(t[2])\n",
    "    return lines"
   ]
  },
  {
   "cell_type": "code",
   "execution_count": 423,
   "metadata": {
    "collapsed": true,
    "nbpresent": {
     "id": "95b25366-40a8-4b8f-95ca-c6a2479d24fc"
    }
   },
   "outputs": [],
   "source": [
    "lines = splitInLines(tsv.text)"
   ]
  },
  {
   "cell_type": "code",
   "execution_count": 388,
   "metadata": {
    "collapsed": true,
    "nbpresent": {
     "id": "1e018e0d-8222-4734-a61e-c185a6c7e740"
    }
   },
   "outputs": [],
   "source": [
    "tagged_lines = addPos(lines)"
   ]
  },
  {
   "cell_type": "code",
   "execution_count": 389,
   "metadata": {
    "nbpresent": {
     "id": "96dac2c7-6d92-414a-bf48-075ca46dd451"
    }
   },
   "outputs": [
    {
     "data": {
      "text/plain": [
       "[['1-1', '0-3', '687', 'HEAD[1]', '_', '_', 'CARD', '687'],\n",
       " ['1-2', '4-9', 'Braun', 'HEAD[1]', '_', '_', 'NN', 'Braun'],\n",
       " ['1-3', '10-12', 'an', 'HEAD[1]', '_', '_', 'APPR', 'an'],\n",
       " ['1-4', '13-20', 'Gerhard', 'HEAD[1]', '_', '_', 'NE', 'Gerhard'],\n",
       " ['1-5', '21-24', 'Rom', 'HEAD[1]', '_', '_', 'NE', 'Rom'],\n",
       " ['1-6', '24-25', ',', 'HEAD[1]', '_', '_', '$,', ','],\n",
       " ['1-7', '26-28', '28', 'HEAD[1]', '_', '_', 'CARD', '28'],\n",
       " ['1-8', '28-29', '.', 'HEAD[1]', '_', '_', '$.', '.'],\n",
       " ['2-1', '30-37', 'Oktober', 'HEAD[1]', '_', '_', 'NN', 'Oktober'],\n",
       " ['2-2', '38-42', '1834', 'HEAD[1]', '_', '_', 'CARD', '@card@']]"
      ]
     },
     "execution_count": 389,
     "metadata": {},
     "output_type": "execute_result"
    }
   ],
   "source": [
    "tagged_lines[:10]"
   ]
  },
  {
   "cell_type": "markdown",
   "metadata": {
    "nbpresent": {
     "id": "e280d9bf-6153-4bf2-89e1-51f09c5733ac"
    }
   },
   "source": [
    "### Fix the IOB"
   ]
  },
  {
   "cell_type": "code",
   "execution_count": 7,
   "metadata": {
    "collapsed": true,
    "init_cell": true,
    "nbpresent": {
     "id": "f1dbeebd-231c-48fa-80eb-9491743a46ff"
    }
   },
   "outputs": [],
   "source": [
    "def tsv2iob(lines):\n",
    "    \"\"\"\n",
    "    Quick and dirty function to convert WebAnno's TSV into IOB (2 columns, tab-separated).\n",
    "    \"\"\"\n",
    "    \n",
    "    def normalize_ne_tag(tag):\n",
    "        \"\"\"\n",
    "        WebAnno's TSV format uses square brackets to represent entities\n",
    "        made up of several tokens. This functions returns just the entity\n",
    "        tag.\n",
    "        \"\"\"\n",
    "        return tag.split(\"[\")[0] if \"[\" in tag else tag\n",
    "    \n",
    "    Token  = namedtuple('Token',[\"sentence_n\", \"token_n\", \"offsets\", \"surface\",\"lemma\", \"pos\", \"text_layer\",\n",
    "                                \"entity_id\", \"ne\"])\n",
    "    \n",
    "    \n",
    "    \n",
    "    tokens = []\n",
    "    \n",
    "    for line in lines:\n",
    "        sentence_number = int(line[0].split(\"-\")[0])\n",
    "        token_number = int(line[0].split(\"-\")[1])\n",
    "        offsets = line[1]\n",
    "        surface = line[2]\n",
    "        pos = line[6]\n",
    "        ne = line[5]\n",
    "        lemma = line[7]\n",
    "        text_layer = line[3]\n",
    "        entity_id = line[4]\n",
    "        ne = ne if ne!=\"_\" else \"O\"\n",
    "        tokens.append(Token(sentence_n=sentence_number\n",
    "                            , token_n=token_number\n",
    "                           , offsets=offsets\n",
    "                           , surface=surface\n",
    "                           , lemma = lemma\n",
    "                           , pos =pos\n",
    "                           , text_layer=text_layer\n",
    "                           , entity_id = entity_id\n",
    "                           , ne=ne))\n",
    "        \n",
    "    sentences = OrderedDict()\n",
    "    for n,token in enumerate(tokens):\n",
    "\n",
    "        # if sentence not yet added, add it\n",
    "        if not token.sentence_n in sentences:\n",
    "                sentences[token.sentence_n] = []\n",
    "\n",
    "        prev_token = tokens[n-1]\n",
    "        \n",
    "        if token.ne!=\"O\" and prev_token.ne==\"O\":\n",
    "            ne = \"B-%s\" % normalize_ne_tag(token.ne)\n",
    "        \n",
    "        elif token.ne!=\"O\" and prev_token.ne !=\"O\" and token.ne != prev_token.ne:\n",
    "            ne = \"B-%s\" % normalize_ne_tag(token.ne)\n",
    "        \n",
    "        elif token.ne!=\"O\" and prev_token.ne !=\"O\" and token.ne == prev_token.ne:\n",
    "            ne = \"I-%s\" % normalize_ne_tag(token.ne)\n",
    "        \n",
    "        elif token.ne!=\"O\" and token.ne == prev_token.ne:\n",
    "            ne = \"I-%s\" % normalize_ne_tag(token.ne)\n",
    "        \n",
    "        else:\n",
    "            ne = normalize_ne_tag(token.ne)\n",
    "        \n",
    "        sentences[token.sentence_n].append([token.surface, token.pos, token.lemma, token.text_layer, ne, token.entity_id])\n",
    "    \n",
    "    # transform the dictionary of sentences into a list of lists   \n",
    "    iob = [sentences[key] for key in sentences.keys()]\n",
    "    return iob\n",
    "    "
   ]
  },
  {
   "cell_type": "code",
   "execution_count": 390,
   "metadata": {
    "collapsed": true,
    "nbpresent": {
     "id": "a11b49cd-fe6e-418c-93f5-1f05e410c7f3"
    }
   },
   "outputs": [],
   "source": [
    "iob = tsv2iob(tagged_lines)"
   ]
  },
  {
   "cell_type": "markdown",
   "metadata": {
    "nbpresent": {
     "id": "d4953dc1-a89d-40e9-966b-f6438865a71a"
    }
   },
   "source": [
    "### Fix the Labels"
   ]
  },
  {
   "cell_type": "code",
   "execution_count": 8,
   "metadata": {
    "collapsed": true,
    "init_cell": true,
    "nbpresent": {
     "id": "9264c7c3-39dc-479c-93a5-f477020b3ee0"
    }
   },
   "outputs": [],
   "source": [
    "lab_map = {'ANN': 'ANN',\n",
    " '_' : \"_\",\n",
    "  \"O\" : \"O\",         \n",
    " 'HEAD': 'HEAD',\n",
    " 'LIT': 'LIT',\n",
    " 'LOC': 'LOC',\n",
    " 'MISC': 'MISC',\n",
    " 'OBJ': 'OBJ',\n",
    " 'ORG': 'ORG',\n",
    " 'PER': 'PER',\n",
    " 'TIME': 'TIME',\n",
    " 'building': 'OBJbuilding',\n",
    " 'date-answered': 'DATEanswered',\n",
    " 'date-mentioned': 'DATEmentioned',\n",
    " 'date-recieved': 'DATErecieved',\n",
    " 'individual-object': 'OBJindividual',\n",
    " 'letter-date': 'DATEletter',\n",
    " 'multipart-monument': 'OBJmultipartmonument',\n",
    " 'org-addressee': 'ORGaddressee',\n",
    " 'org-author': 'ORGauthor',\n",
    " 'org-mentioned': 'ORGmentioned',\n",
    " 'part-of-building': 'OBJpartofbuild',\n",
    " 'per-addressee': 'PERaddressee',\n",
    " 'per-author': 'PERauthor',\n",
    " 'per-mentioned': 'PERmentioned',\n",
    " 'place-from': 'PLACEfrom',\n",
    " 'place-mentioned': 'PLACEmentioned',\n",
    " 'place-to': 'PLACEto',\n",
    " 'post-stamp': 'DATEpoststamp',\n",
    " 'topography': 'OBJtopography'\n",
    "}"
   ]
  },
  {
   "cell_type": "code",
   "execution_count": 9,
   "metadata": {
    "collapsed": true,
    "init_cell": true,
    "nbpresent": {
     "id": "51577beb-2fee-4a2f-8085-6a4cbcf82c1e"
    }
   },
   "outputs": [],
   "source": [
    "def fixLab(lab):\n",
    "    reg = re.compile(r'^([IB])-(\\w+(-\\w*){,2})')\n",
    "    m = reg.search(lab)\n",
    "    if m:\n",
    "        pre,tag = (m.group(1), m.group(2))\n",
    "        s = \"{}-{}\".format(pre,reg.sub(lab_map[tag], lab))\n",
    "        return s\n",
    "    else:\n",
    "        return lab"
   ]
  },
  {
   "cell_type": "code",
   "execution_count": 394,
   "metadata": {
    "collapsed": true,
    "nbpresent": {
     "id": "030938a9-1bb6-43ea-baa1-6a0f159a9080"
    }
   },
   "outputs": [],
   "source": [
    "for sent in iob:\n",
    "    for t in sent:\n",
    "        t[4] = fixLab(t[4])"
   ]
  },
  {
   "cell_type": "markdown",
   "metadata": {
    "collapsed": true,
    "nbpresent": {
     "id": "6004ccbf-a5ee-4e15-ad2b-9620d133924d"
    }
   },
   "source": [
    "## Preprocessing: main loop"
   ]
  },
  {
   "cell_type": "markdown",
   "metadata": {
    "nbpresent": {
     "id": "084cfbdb-2adf-4f57-a12d-9c891c23c302"
    }
   },
   "source": [
    "We now execute the main loop over all the documents (except for those 50 or some with overlapping errors).\n",
    "\n",
    "We start by creating an output dir and a function to define an output file name"
   ]
  },
  {
   "cell_type": "code",
   "execution_count": 27,
   "metadata": {
    "collapsed": true,
    "nbpresent": {
     "id": "6f2278aa-aa21-49dc-9d42-0d381cb564d0"
    }
   },
   "outputs": [],
   "source": [
    "os.makedirs(\"data/IOB\", exist_ok=True)"
   ]
  },
  {
   "cell_type": "code",
   "execution_count": 137,
   "metadata": {
    "nbpresent": {
     "id": "4fd0581a-80c6-4482-840f-f0d8842ad424"
    }
   },
   "outputs": [
    {
     "data": {
      "text/plain": [
       "['data',\n",
       " 'Annotation Workflow.ipynb',\n",
       " 'VIAFLookup.ipynb',\n",
       " '.ipynb_checkpoints',\n",
       " 'Brat2Webanno.ipynb',\n",
       " 'Prepare for Brat.ipynb',\n",
       " 'Conditional Random Field Model for the Correspondance.ipynb']"
      ]
     },
     "execution_count": 137,
     "metadata": {},
     "output_type": "execute_result"
    }
   ],
   "source": [
    "os.listdir()"
   ]
  },
  {
   "cell_type": "code",
   "execution_count": 10,
   "metadata": {
    "collapsed": true,
    "init_cell": true,
    "nbpresent": {
     "id": "bb95b53a-a9f0-498b-acd2-13e8e7a48473"
    }
   },
   "outputs": [],
   "source": [
    "def getOutName(in_fname, root_dir):\n",
    "    base = '_'.join(in_fname.split(\".\")[:2]) + '.iob'\n",
    "    return os.path.join(root_dir, base)"
   ]
  },
  {
   "cell_type": "markdown",
   "metadata": {
    "nbpresent": {
     "id": "248beafa-8678-4639-a145-a085655660fd"
    }
   },
   "source": [
    "We get a list of finished docs and we stored in a variable"
   ]
  },
  {
   "cell_type": "code",
   "execution_count": 139,
   "metadata": {
    "nbpresent": {
     "id": "1229ee9a-b30d-4859-8446-a6020db6ddff"
    }
   },
   "outputs": [
    {
     "name": "stdout",
     "output_type": "stream",
     "text": [
      "FINISHED\n"
     ]
    }
   ],
   "source": [
    "doc_ids = pywebanno.getDocIds(proj_id)\n",
    "a = pywebanno.listAnnotations(proj_id, 461, (\"francesco\", \"sammathnaur\"))\n",
    "print(a[0][\"state\"])"
   ]
  },
  {
   "cell_type": "code",
   "execution_count": 142,
   "metadata": {
    "nbpresent": {
     "id": "68cf6dd3-fe4f-41a0-82c3-63602cc6d71b"
    }
   },
   "outputs": [
    {
     "name": "stdout",
     "output_type": "stream",
     "text": [
      "CPU times: user 522 ms, sys: 64 ms, total: 586 ms\n",
      "Wall time: 6.01 s\n"
     ]
    }
   ],
   "source": [
    "%%time\n",
    "finished_docs = []\n",
    "for d in doc_ids.keys():\n",
    "    try:\n",
    "        s = pywebanno.listAnnotations(proj_id, d, (\"francesco\", \"sammathnaur\"))[0][\"state\"]\n",
    "    except IndexError:\n",
    "        continue\n",
    "    else:\n",
    "        if s == \"FINISHED\":\n",
    "            finished_docs.append(d)"
   ]
  },
  {
   "cell_type": "code",
   "execution_count": 143,
   "metadata": {
    "nbpresent": {
     "id": "46a89541-42cf-4d11-87b1-98555fc2186a"
    }
   },
   "outputs": [
    {
     "data": {
      "text/plain": [
       "202"
      ]
     },
     "execution_count": 143,
     "metadata": {},
     "output_type": "execute_result"
    }
   ],
   "source": [
    "len(finished_docs)"
   ]
  },
  {
   "cell_type": "code",
   "execution_count": 144,
   "metadata": {
    "collapsed": true,
    "nbpresent": {
     "id": "98288d71-330b-415d-a21e-1d307af347d3"
    }
   },
   "outputs": [
    {
     "name": "stdout",
     "output_type": "stream",
     "text": [
      "already in outdir\n",
      "already in outdir\n",
      "already in outdir\n",
      "already in outdir\n",
      "already in outdir\n",
      "already in outdir\n",
      "already in outdir\n",
      "already in outdir\n",
      "already in outdir\n",
      "already in outdir\n",
      "already in outdir\n",
      "already in outdir\n",
      "already in outdir\n",
      "already in outdir\n",
      "already in outdir\n",
      "already in outdir\n",
      "already in outdir\n",
      "already in outdir\n",
      "already in outdir\n",
      "already in outdir\n",
      "already in outdir\n",
      "already in outdir\n",
      "already in outdir\n",
      "already in outdir\n",
      "already in outdir\n",
      "already in outdir\n",
      "already in outdir\n",
      "already in outdir\n",
      "already in outdir\n",
      "already in outdir\n",
      "already in outdir\n",
      "already in outdir\n",
      "already in outdir\n",
      "already in outdir\n",
      "already in outdir\n",
      "already in outdir\n",
      "already in outdir\n",
      "already in outdir\n",
      "already in outdir\n",
      "already in outdir\n",
      "already in outdir\n",
      "already in outdir\n",
      "already in outdir\n",
      "already in outdir\n",
      "already in outdir\n",
      "already in outdir\n",
      "already in outdir\n",
      "already in outdir\n",
      "already in outdir\n",
      "already in outdir\n",
      "already in outdir\n",
      "already in outdir\n",
      "already in outdir\n",
      "already in outdir\n",
      "already in outdir\n",
      "already in outdir\n",
      "already in outdir\n",
      "already in outdir\n",
      "already in outdir\n",
      "already in outdir\n",
      "already in outdir\n",
      "already in outdir\n",
      "already in outdir\n",
      "already in outdir\n",
      "already in outdir\n",
      "already in outdir\n",
      "already in outdir\n",
      "already in outdir\n",
      "already in outdir\n",
      "already in outdir\n",
      "already in outdir\n",
      "already in outdir\n",
      "already in outdir\n",
      "already in outdir\n",
      "already in outdir\n",
      "already in outdir\n",
      "already in outdir\n",
      "already in outdir\n",
      "already in outdir\n",
      "already in outdir\n",
      "already in outdir\n",
      "already in outdir\n",
      "already in outdir\n",
      "already in outdir\n",
      "already in outdir\n",
      "already in outdir\n",
      "already in outdir\n",
      "already in outdir\n",
      "already in outdir\n",
      "already in outdir\n",
      "already in outdir\n",
      "already in outdir\n",
      "already in outdir\n",
      "already in outdir\n",
      "already in outdir\n",
      "already in outdir\n",
      "already in outdir\n",
      "already in outdir\n",
      "already in outdir\n",
      "already in outdir\n",
      "already in outdir\n",
      "already in outdir\n",
      "already in outdir\n",
      "already in outdir\n",
      "already in outdir\n",
      "already in outdir\n",
      "already in outdir\n",
      "already in outdir\n",
      "already in outdir\n",
      "already in outdir\n",
      "already in outdir\n",
      "already in outdir\n",
      "already in outdir\n",
      "already in outdir\n",
      "already in outdir\n",
      "already in outdir\n",
      "already in outdir\n",
      "already in outdir\n",
      "already in outdir\n",
      "already in outdir\n",
      "already in outdir\n",
      "already in outdir\n",
      "already in outdir\n",
      "already in outdir\n",
      "already in outdir\n",
      "already in outdir\n",
      "already in outdir\n",
      "already in outdir\n",
      "already in outdir\n",
      "already in outdir\n",
      "already in outdir\n",
      "already in outdir\n",
      "already in outdir\n",
      "already in outdir\n",
      "already in outdir\n",
      "already in outdir\n",
      "already in outdir\n",
      "already in outdir\n",
      "already in outdir\n",
      "already in outdir\n",
      "already in outdir\n",
      "already in outdir\n",
      "already in outdir\n",
      "already in outdir\n",
      "already in outdir\n",
      "already in outdir\n",
      "already in outdir\n",
      "already in outdir\n",
      "already in outdir\n",
      "already in outdir\n",
      "already in outdir\n",
      "already in outdir\n",
      "already in outdir\n",
      "already in outdir\n",
      "already in outdir\n",
      "already in outdir\n",
      "already in outdir\n",
      "already in outdir\n",
      "already in outdir\n",
      "already in outdir\n",
      "already in outdir\n",
      "already in outdir\n",
      "already in outdir\n",
      "already in outdir\n",
      "already in outdir\n",
      "already in outdir\n",
      "already in outdir\n",
      "already in outdir\n",
      "already in outdir\n",
      "already in outdir\n",
      "already in outdir\n",
      "already in outdir\n",
      "already in outdir\n",
      "already in outdir\n",
      "already in outdir\n",
      "already in outdir\n",
      "already in outdir\n",
      "already in outdir\n",
      "already in outdir\n",
      "already in outdir\n",
      "already in outdir\n",
      "already in outdir\n",
      "already in outdir\n",
      "already in outdir\n",
      "already in outdir\n"
     ]
    }
   ],
   "source": [
    "#let us also review the list of docs and good docs...\n",
    "#good_doocs = [k for k in doc_ids.keys() if k not in err]\n",
    "listdir = os.listdir(\"data/IOB\")\n",
    "\n",
    "for d in log_progress(finished_docs):\n",
    "    fname = doc_ids[d]\n",
    "    outname = getOutName(fname, \"data/IOB\")\n",
    "    #don't overwite, comment out if you want to do it, instead\n",
    "    if os.path.basename(outname) in listdir:\n",
    "        print(\"already in outdir\")\n",
    "        continue\n",
    "    #get annotation\n",
    "    tsv = pywebanno.getAnnotation(3, d, \"ctsv3\")\n",
    "    if tsv.status_code == 404:\n",
    "        tsv = pywebanno.getDocument(3, d, \"ctsv3\")\n",
    "    if tsv.status_code == 500:\n",
    "        continue\n",
    "    #split lines\n",
    "    lines = splitInLines(tsv.text)\n",
    "    #add pos\n",
    "    tagged_lines = addPos(lines)\n",
    "    #fix IOB\n",
    "    try:\n",
    "        iob = tsv2iob(tagged_lines)\n",
    "    except ValueError:\n",
    "        print(d,fname, \"dot in token num\")\n",
    "        continue\n",
    "    #fix labels while writing the conll\n",
    "    with open(outname, \"w\") as out:\n",
    "        for sent in iob:\n",
    "            for t in sent:\n",
    "                t[4] = fixLab(t[4])\n",
    "                #final touches\n",
    "                ##we also get rid of the index in the text_annotation layer\n",
    "                t[3] = t[3].split(\"[\")[0]\n",
    "                \n",
    "                #write conll\n",
    "                out.write(\"\\t\".join(t) + \"\\n\")\n",
    "            out.write(\"\\n\")"
   ]
  },
  {
   "cell_type": "code",
   "execution_count": 55,
   "metadata": {
    "collapsed": true,
    "nbpresent": {
     "id": "fa770937-bcf8-4665-9a11-38d1b85d73c8"
    }
   },
   "outputs": [],
   "source": [
    "l = os.listdir(\"data/IOB\")"
   ]
  },
  {
   "cell_type": "code",
   "execution_count": 56,
   "metadata": {
    "nbpresent": {
     "id": "55954e40-08bb-4b42-87a3-af4ca67e8f63"
    }
   },
   "outputs": [
    {
     "data": {
      "text/plain": [
       "186"
      ]
     },
     "execution_count": 56,
     "metadata": {},
     "output_type": "execute_result"
    }
   ],
   "source": [
    "len(l)"
   ]
  },
  {
   "cell_type": "code",
   "execution_count": 87,
   "metadata": {
    "collapsed": true,
    "nbpresent": {
     "id": "9b3e118d-be70-4ba8-bfe6-842a09908e80"
    }
   },
   "outputs": [],
   "source": [
    "iob = tsv2iob(tagged_lines)"
   ]
  },
  {
   "cell_type": "markdown",
   "metadata": {
    "nbpresent": {
     "id": "657a3217-1b9b-4b25-a579-10db6f978a24"
    }
   },
   "source": [
    "# Postprocessing "
   ]
  },
  {
   "cell_type": "markdown",
   "metadata": {
    "nbpresent": {
     "id": "a847c6d7-6eaa-4d50-b609-e5533bb14e34"
    }
   },
   "source": [
    "I'd like to script a way to get rid of the false sentence ends. A false sentence break is one that separates two named entities. There *should* be an easy way to do it. If there's a B-NamedEntity followed by a sentence break and then a I-NamedEntity (of the same type as the B-NE, but that is redundant information), then *that* is a phoney sentence end!\n",
    "\n",
    "Let us try to implement this"
   ]
  },
  {
   "cell_type": "code",
   "execution_count": 146,
   "metadata": {
    "collapsed": true,
    "nbpresent": {
     "id": "ec043d0b-3fef-4ac9-a868-4da292da9ed8"
    }
   },
   "outputs": [],
   "source": [
    "with open(\"data/IOB/1_Braun_an_Gerhard1832-35_page001.iob\") as f:\n",
    "    iob = f.readlines()"
   ]
  },
  {
   "cell_type": "code",
   "execution_count": 11,
   "metadata": {
    "collapsed": true,
    "init_cell": true,
    "nbpresent": {
     "id": "03f25973-1a19-4ec0-88ec-dfcefc4804ff"
    }
   },
   "outputs": [],
   "source": [
    "def delFalseSBreaks(filepath):\n",
    "    with open(filepath) as f:\n",
    "        iob = f.readlines()\n",
    "    to_del = []\n",
    "    for i,line in enumerate(iob):\n",
    "        t = line.split(\"\\t\")\n",
    "        #reg = re.compile(r'^[IB]-(\\w+)$')\n",
    "        if len(t) == 6 and i + 2 < len(iob):\n",
    "            #m = reg.search(t[3])\n",
    "            if t[0] == \".\" and t[4] != 'O':\n",
    "                if iob[i+1] == \"\\n\":\n",
    "                    if iob[i+2].split(\"\\t\")[3] == t[3].replace(\"B-\", \"I-\"):\n",
    "                        to_del.append(i+1)\n",
    "    return to_del"
   ]
  },
  {
   "cell_type": "code",
   "execution_count": 182,
   "metadata": {
    "nbpresent": {
     "id": "aa04503a-bd2d-44f3-aaee-b3b82990f595"
    }
   },
   "outputs": [
    {
     "data": {
      "text/plain": [
       "186"
      ]
     },
     "execution_count": 182,
     "metadata": {},
     "output_type": "execute_result"
    }
   ],
   "source": [
    "iobs = glob(\"data/IOB/*.iob\")\n",
    "len(iobs)"
   ]
  },
  {
   "cell_type": "code",
   "execution_count": 183,
   "metadata": {
    "nbpresent": {
     "id": "7f1cc32b-fcd7-406f-b335-f2bfdbfa42cf"
    }
   },
   "outputs": [
    {
     "data": {
      "text/plain": [
       "[]"
      ]
     },
     "execution_count": 183,
     "metadata": {},
     "output_type": "execute_result"
    }
   ],
   "source": [
    "delFalseSBreaks(\"data/IOB/1_Braun_an_Gerhard1832-35_page062.iob\")"
   ]
  },
  {
   "cell_type": "code",
   "execution_count": 184,
   "metadata": {
    "collapsed": true,
    "nbpresent": {
     "id": "42613871-a0d9-41f0-8b89-205fde7e501e"
    }
   },
   "outputs": [],
   "source": [
    "for iob in iobs:\n",
    "    to_del = delFalseSBreaks(iob)\n",
    "    #assert all(x == '\\n' for x in to_del), \"there is something wrong in file: {}\".format(i)\n",
    "    with open(iob) as f:\n",
    "        lines = f.readlines()\n",
    "    assert all(x == '\\n' for x in [lines[i] for i in to_del]), \"not all the lines are sentence breaks\"\n",
    "    with open(iob, \"w\") as out:\n",
    "        for i,l in enumerate(lines):\n",
    "            if i not in to_del:\n",
    "                out.write(l)"
   ]
  },
  {
   "cell_type": "code",
   "execution_count": 185,
   "metadata": {
    "nbpresent": {
     "id": "18dcb311-e055-4a54-9d32-b828c5db3c1d"
    }
   },
   "outputs": [
    {
     "data": {
      "text/plain": [
       "[]"
      ]
     },
     "execution_count": 185,
     "metadata": {},
     "output_type": "execute_result"
    }
   ],
   "source": [
    "with open(iob) as f:\n",
    "    lines = f.readlines()\n",
    "[lines[i] for i in to_del]"
   ]
  },
  {
   "cell_type": "markdown",
   "metadata": {
    "nbpresent": {
     "id": "50edb5ec-06ba-459f-b43a-9a3865693e80"
    }
   },
   "source": [
    "# Reading the corpus"
   ]
  },
  {
   "cell_type": "markdown",
   "metadata": {
    "nbpresent": {
     "id": "1f77b4ff-3c67-448f-a4d3-9abf52d6e02b"
    }
   },
   "source": [
    "## An ad hoc CorpuReader"
   ]
  },
  {
   "cell_type": "markdown",
   "metadata": {
    "nbpresent": {
     "id": "6f870165-ce10-4e69-868b-e4ae6eaa5a32"
    }
   },
   "source": [
    "We will basically rely on NLTK's ConllCorpusReader, but we'll introduce a couple of modifications in order to account for the special column types and to get the full list of features in CoNLL style"
   ]
  },
  {
   "cell_type": "code",
   "execution_count": 12,
   "metadata": {
    "collapsed": true,
    "init_cell": true,
    "nbpresent": {
     "id": "941af2fc-6366-43c5-86a8-467fdcde034e"
    }
   },
   "outputs": [],
   "source": [
    "from nltk.corpus.reader import ConllCorpusReader\n",
    "from nltk.util import LazyMap, LazyConcatenation\n",
    "\n",
    "class KorrIOBCorpusReader(ConllCorpusReader):\n",
    "    \n",
    "    def __init__(self, root, fileids, columntypes):\n",
    "        super().__init__(root, fileids, [c for c in columntypes if c not in [\"textlayer\", \"entityid\", \"lemma\"]])\n",
    "        self.TEXTLAYER = \"textlayer\"\n",
    "        self.ENTITYID=\"entityid\"\n",
    "        self.LEMMA=\"lemma\"\n",
    "        self.COLUMN_TYPES = (self.WORDS, self.LEMMA, self.POS, self.TREE, self.CHUNK, self.NE, self.SRL, \n",
    "                             self.IGNORE, self.TEXTLAYER, self.ENTITYID)\n",
    "        self._colmap = dict((c,i) for (i,c) in enumerate(columntypes))\n",
    "        \n",
    "    def full_tagged_words(self, fileids=None, tagset=None):\n",
    "        #self._require(self.WORDS, self.POS, self.TEXTLAYER, self.CHUNK, self.LEMMA)#, self.ENTITYID)\n",
    "        def get_tagged_words(grid):\n",
    "            return self._get_full_tagged_words(grid, tagset)\n",
    "        return LazyConcatenation(LazyMap(get_tagged_words,\n",
    "                                         self._grids(fileids)))\n",
    "\n",
    "    def full_tagged_sents(self, fileids=None, tagset=None):\n",
    "        #self._require(self.WORDS, self.POS)\n",
    "        def get_tagged_words(grid):\n",
    "            return self._get_full_tagged_words(grid, tagset)\n",
    "        return LazyMap(get_tagged_words, self._grids(fileids))\n",
    "\n",
    "    def _get_full_tagged_words(self, grid, tagset=None):\n",
    "        pos_tags = self._get_column(grid, self._colmap['pos'])\n",
    "        if tagset and tagset != self._tagset:\n",
    "            pos_tags = [map_tag(self._tagset, tagset, t) for t in pos_tags]\n",
    "        return list(zip(\n",
    "                self._get_column(grid, self._colmap['words']),\n",
    "                pos_tags,\n",
    "                self._get_column(grid, self._colmap['lemma']),\n",
    "                self._get_column(grid, self._colmap['textlayer']),\n",
    "                self._get_column(grid, self._colmap['chunk'])#,\n",
    "#                self._get_column(grid, self._colmap['entityid'])\n",
    "                ))\n",
    "                "
   ]
  },
  {
   "cell_type": "code",
   "execution_count": 68,
   "metadata": {
    "collapsed": true,
    "nbpresent": {
     "id": "fe60d22c-346d-44b4-b8b2-d998edcd6246"
    }
   },
   "outputs": [],
   "source": [
    "newcols = [\"words\", \"pos\", \"lemma\", \"textlayer\", \"chunk\", \"entityid\"]\n",
    "newcorpus = KorrIOBCorpusReader(\"data/IOB\", r\".*\\.iob\", columntypes=newcols)"
   ]
  },
  {
   "cell_type": "code",
   "execution_count": 69,
   "metadata": {
    "cell_style": "split",
    "nbpresent": {
     "id": "781383d6-bec8-46c0-87fc-0f40e21ff6c5"
    },
    "scrolled": true
   },
   "outputs": [
    {
     "data": {
      "text/plain": [
       "[('(', '$(', '(', 'HEAD', 'O'),\n",
       " (',', '$,', ',', 'HEAD', 'O'),\n",
       " ('Braun', 'NE', 'Braun', 'HEAD', 'B-PERauthor'),\n",
       " ('an', 'APPR', 'an', 'HEAD', 'O'),\n",
       " ('Gerhard', 'NE', 'Gerhard', 'HEAD', 'B-PERaddressee'),\n",
       " ('Dresden', 'NE', 'Dresden', 'HEAD', 'B-PLACEfrom'),\n",
       " (',', '$,', ',', 'HEAD', 'O'),\n",
       " ('10', 'CARD', '10', 'HEAD', 'B-DATEletter'),\n",
       " ('.', '$.', '.', 'HEAD', 'I-DATEletter')]"
      ]
     },
     "execution_count": 69,
     "metadata": {},
     "output_type": "execute_result"
    }
   ],
   "source": [
    "newcorpus.full_tagged_words()[:9]"
   ]
  },
  {
   "cell_type": "code",
   "execution_count": 70,
   "metadata": {
    "cell_style": "split",
    "nbpresent": {
     "id": "37b46b68-9175-4eba-9589-d90bb825b9cb"
    }
   },
   "outputs": [
    {
     "data": {
      "text/plain": [
       "[('(', '$(', '(', 'HEAD', 'O'),\n",
       " (',', '$,', ',', 'HEAD', 'O'),\n",
       " ('Braun', 'NE', 'Braun', 'HEAD', 'B-PERauthor'),\n",
       " ('an', 'APPR', 'an', 'HEAD', 'O'),\n",
       " ('Gerhard', 'NE', 'Gerhard', 'HEAD', 'B-PERaddressee'),\n",
       " ('Dresden', 'NE', 'Dresden', 'HEAD', 'B-PLACEfrom'),\n",
       " (',', '$,', ',', 'HEAD', 'O'),\n",
       " ('10', 'CARD', '10', 'HEAD', 'B-DATEletter'),\n",
       " ('.', '$.', '.', 'HEAD', 'I-DATEletter')]"
      ]
     },
     "execution_count": 70,
     "metadata": {},
     "output_type": "execute_result"
    }
   ],
   "source": [
    "newcorpus.full_tagged_sents()[0]"
   ]
  },
  {
   "cell_type": "code",
   "execution_count": 71,
   "metadata": {
    "nbpresent": {
     "id": "601cbada-d254-4f2f-8660-0232b836d765"
    },
    "scrolled": false
   },
   "outputs": [
    {
     "data": {
      "text/plain": [
       "38086"
      ]
     },
     "execution_count": 71,
     "metadata": {},
     "output_type": "execute_result"
    }
   ],
   "source": [
    "len(newcorpus.words())"
   ]
  },
  {
   "cell_type": "code",
   "execution_count": 67,
   "metadata": {
    "nbpresent": {
     "id": "5729d673-89f9-4ab4-b8f9-37b7259a10e5"
    }
   },
   "outputs": [
    {
     "name": "stdout",
     "output_type": "stream",
     "text": [
      "data/IOB/1_Braun_an_Gerhard1832-35_page143.iob:211:3te\tADJA\t<unknown>\t_\tB-LIT\tAdI 1833[9]\r\n",
      "data/IOB/1_Braun_an_Gerhard1832-35_page143.iob:212:Heft\tNN\tHeft\t_\tI-LIT\tAdI 1833[9]\r\n",
      "data/IOB/1_Braun_an_Gerhard1832-35_page143.iob:213:der\tART\tdie\t_\tI-LIT\tAdI 1833[9]\r\n",
      "data/IOB/1_Braun_an_Gerhard1832-35_page143.iob:214:Annalen\tNN\tAnnalen\t_\tI-LIT\tAdI 1833[9]\r\n",
      "data/IOB/1_Braun_an_Gerhard1832-35_page143.iob:215:33\tCARD\t33\t_\tI-LIT\tAdI 1833[9]\r\n"
     ]
    }
   ],
   "source": [
    "!grep -rnw 'data/IOB/' -e 'AdI 1833'"
   ]
  },
  {
   "cell_type": "markdown",
   "metadata": {
    "nbpresent": {
     "id": "6361187b-c5ab-4efa-bd1f-2a44ff8859b5"
    }
   },
   "source": [
    "## Training-Test split"
   ]
  },
  {
   "cell_type": "code",
   "execution_count": 13,
   "metadata": {
    "collapsed": true,
    "init_cell": true,
    "nbpresent": {
     "id": "f2a89f1b-ab79-4a68-8d5b-92fb08c7045f"
    }
   },
   "outputs": [],
   "source": [
    "def splitTrainTest(iob_corpus, perc_test=0.2):\n",
    "    import random\n",
    "    import numpy as np\n",
    "    \n",
    "    assert 0 < perc_test < 1, \"The test percentage must be a value between 0 and 1\"\n",
    "    c = 0\n",
    "    max_test_len = int(np.ceil(len(iob_corpus.words()) * perc_test))\n",
    "    corpus_train, corpus_test, feature_train, feature_test = ([],[],[],[])\n",
    "    sents = list(iob_corpus.full_tagged_sents())\n",
    "    random.shuffle(sents)\n",
    "    for sent in sents:\n",
    "        if c < max_test_len:\n",
    "            corpus_test.append(sent)\n",
    "            c = c + len(sent)\n",
    "        else:\n",
    "            corpus_train.append(sent)\n",
    "    return corpus_train, corpus_test#, feature_train, feature_test"
   ]
  },
  {
   "cell_type": "code",
   "execution_count": 14,
   "metadata": {
    "collapsed": true,
    "init_cell": true,
    "nbpresent": {
     "id": "1c1ac3b7-1928-41da-9a0a-82f821d2c146"
    }
   },
   "outputs": [],
   "source": [
    "def countSentenceTokens(sentence_list):\n",
    "    return len([t for s in sentence_list for t in s])"
   ]
  },
  {
   "cell_type": "code",
   "execution_count": 74,
   "metadata": {
    "collapsed": true,
    "nbpresent": {
     "id": "d0271e91-4681-42a2-8f06-40e5563ff884"
    },
    "scrolled": true
   },
   "outputs": [],
   "source": [
    "train, test = splitTrainTest(newcorpus)"
   ]
  },
  {
   "cell_type": "code",
   "execution_count": 75,
   "metadata": {
    "nbpresent": {
     "id": "1dfae531-2639-4836-8976-99f3cf25e9fe"
    }
   },
   "outputs": [
    {
     "data": {
      "text/plain": [
       "30464"
      ]
     },
     "execution_count": 75,
     "metadata": {},
     "output_type": "execute_result"
    }
   ],
   "source": [
    "countSentenceTokens(train)"
   ]
  },
  {
   "cell_type": "markdown",
   "metadata": {
    "nbpresent": {
     "id": "77af1f77-104b-431e-8f16-f1973517bd72"
    }
   },
   "source": [
    "# CRF model"
   ]
  },
  {
   "cell_type": "markdown",
   "metadata": {
    "nbpresent": {
     "id": "c838ca58-6fd8-446e-ae22-1371433eff1a"
    }
   },
   "source": [
    "## Feature selection "
   ]
  },
  {
   "cell_type": "markdown",
   "metadata": {
    "nbpresent": {
     "id": "52009c56-3738-415f-9ba6-32cc867247a2"
    }
   },
   "source": [
    "Let's start with a list of features that we may include:\n",
    "* word"
   ]
  },
  {
   "cell_type": "code",
   "execution_count": 15,
   "metadata": {
    "collapsed": true,
    "init_cell": true,
    "nbpresent": {
     "id": "2b1cec91-844a-4fb7-8e1c-6fb86e869e81"
    }
   },
   "outputs": [],
   "source": [
    "def getPostagChain(sent, i, direction=\"forward\"):\n",
    "    fwd = [i,i+1,i+2]\n",
    "    bck = [i-2,i-1,i]\n",
    "    li = fwd if direction == \"forward\" else bck\n",
    "    tagchain = ''\n",
    "    for l in li:\n",
    "        if l < 0:\n",
    "            tagchain = tagchain + \"-0\"\n",
    "        else:\n",
    "            try:\n",
    "                tagchain = tagchain + \"-{}\".format(sent[l][1])\n",
    "            except IndexError:\n",
    "                tagchain = tagchain + \"-0\"\n",
    "    return tagchain.lstrip(\"-\")"
   ]
  },
  {
   "cell_type": "code",
   "execution_count": 16,
   "metadata": {
    "collapsed": true,
    "init_cell": true,
    "nbpresent": {
     "id": "4e5342d3-44f2-44ba-87dc-2fec014d33d5"
    }
   },
   "outputs": [],
   "source": [
    "def endsWithDigit(s):\n",
    "    import re\n",
    "    return True if re.search(r'\\d+$', s) else False"
   ]
  },
  {
   "cell_type": "code",
   "execution_count": 17,
   "metadata": {
    "collapsed": true,
    "init_cell": true,
    "nbpresent": {
     "id": "22bd9001-e635-4269-9c9f-44bb1bebb988"
    }
   },
   "outputs": [],
   "source": [
    "def hasDigit(s):\n",
    "    return any(i.isdigit() for i in s)"
   ]
  },
  {
   "cell_type": "code",
   "execution_count": 18,
   "metadata": {
    "collapsed": true,
    "init_cell": true,
    "nbpresent": {
     "id": "288c7030-b113-4816-8548-b47aa9bdab47"
    }
   },
   "outputs": [],
   "source": [
    "def isInDic(li, v):\n",
    "    return v in li"
   ]
  },
  {
   "cell_type": "code",
   "execution_count": 19,
   "metadata": {
    "collapsed": true,
    "init_cell": true,
    "nbpresent": {
     "id": "0a27ff78-e315-4afe-a5cd-b9d901159cdd"
    }
   },
   "outputs": [],
   "source": [
    "def word2features(sent, i):\n",
    "    word = sent[i][0]\n",
    "    postag = sent[i][1]\n",
    "    lemma = sent[i][2]\n",
    "    with open(\"data/dictionaries/persons.txt\") as f:\n",
    "        persons_dic = f.read().split(\"\\n\")\n",
    "    with open(\"data/dictionaries/places.txt\") as f:\n",
    "        places_dic = f.read().split(\"\\n\")\n",
    "    \n",
    "    features = {\n",
    "        #'bias': 1.0, #?\n",
    "        'word.lower()': word.lower(),\n",
    "        'word.isupper()': word.isupper(),\n",
    "        'word.istitle()': word.istitle(),\n",
    "        'word.isdigit()': word.isdigit(),\n",
    "        \"word.hasdigit()\" :  hasDigit(word),\n",
    "        #suffix\n",
    "        'word[-4:]': word[-4:],\n",
    "        'word[-2:]': word[-2:],\n",
    "        #prefix\n",
    "        'word[:5]' : word[:5],\n",
    "        'word[:3]' : word[:3],\n",
    "        'word.endswithdigit()' : endsWithDigit(word),\n",
    "        'word.isInPersonDic' : isInDic(persons_dic, word),\n",
    "        'word.isInPlacesDic' : isInDic(places_dic, word),\n",
    "        'word.isHeader' : False if sent[i][3] == '_' else True,\n",
    "        'postag': postag,\n",
    "        'lemma' : lemma,\n",
    "        #'postag[:2]': postag[:2],\n",
    "        'postag_chain_fwd' : getPostagChain(sent, i),\n",
    "        'postag_chain_bck' : getPostagChain(sent, i, \"backward\")\n",
    "    }\n",
    "    if i > 0:\n",
    "        word1 = sent[i-1][0]\n",
    "        postag1 = sent[i-1][1]\n",
    "        lemma1 = sent[i-1][2]\n",
    "        #features['postag_chain'] = postag1 + \"-\" + features['postag_chain']\n",
    "        features.update({\n",
    "            '-1:word.lower()': word1.lower(),\n",
    "            '-1:word.istitle()': word1.istitle(),\n",
    "            '-1:word.isupper()': word1.isupper(),\n",
    "            '-1:word.isdigit()': word1.isdigit(),\n",
    "            '-1:word[-4:]': word1[-4:],\n",
    "            '-1:word[-2:]': word1[-2:],            \n",
    "            '-1:word.isInPersonDic' : isInDic(persons_dic, word1),\n",
    "            '-1:word.isInPlacesDic' : isInDic(places_dic, word1),\n",
    "            '-1:postag': postag1,\n",
    "            '-1:lemma' : lemma1,\n",
    "            'isPrevBigramInPlacesDic': isInDic(places_dic, \" \".join([word1, word]))\n",
    "            #'-1:postag[:2]': postag1[:2],\n",
    "        })\n",
    "    else:\n",
    "        features['BOS'] = True\n",
    "\n",
    "    if i < len(sent)-1:\n",
    "        word1 = sent[i+1][0]\n",
    "        postag1 = sent[i+1][1]\n",
    "        lemma1 = sent[i+1][2]\n",
    "        #features['postag_chain'] = features['postag_chain'] + \"-\" + postag1\n",
    "        features.update({\n",
    "            '+1:word.lower()': word1.lower(),\n",
    "            '+1:word.istitle()': word1.istitle(),\n",
    "            '+1:word.isupper()': word1.isupper(),\n",
    "            '+1:word.isdigit()': word1.isdigit(),\n",
    "            '+1:word[-4:]': word1[-4:],\n",
    "            '+1:word[-2:]': word1[-2:],\n",
    "            '+1:word.isInPersonDic' : isInDic(persons_dic, word1),\n",
    "            '+1:word.isInPlacesDic' : isInDic(places_dic, word1),\n",
    "            '+1:postag': postag1,\n",
    "            '+1:lemma' : lemma1,\n",
    "            'isFollwBigramInPlacesDic': isInDic(places_dic, \" \".join([word, word1]))\n",
    "            #'+1:postag[:2]': postag1[:2],\n",
    "        })\n",
    "    else:\n",
    "        features['EOS'] = True\n",
    "\n",
    "    return features"
   ]
  },
  {
   "cell_type": "code",
   "execution_count": 20,
   "metadata": {
    "collapsed": true,
    "init_cell": true,
    "nbpresent": {
     "id": "a57c0585-4eb2-426c-91cf-d8b00f7f1b87"
    }
   },
   "outputs": [],
   "source": [
    "def sent2features(sent):\n",
    "    return [word2features(sent, i) for i in range(len(sent))]\n",
    "\n",
    "def sent2labels(sent):\n",
    "    return [label for token, postag, lemma, text_layer, label in sent]\n",
    "\n",
    "def sent2tokens(sent):\n",
    "    return [token for token, postag, lemma, text_layer, label in sent]"
   ]
  },
  {
   "cell_type": "code",
   "execution_count": 86,
   "metadata": {
    "nbpresent": {
     "id": "40c45b4c-1e5d-4670-8fcf-16f7ce15e927"
    }
   },
   "outputs": [
    {
     "name": "stdout",
     "output_type": "stream",
     "text": [
      "CPU times: user 51 ms, sys: 216 µs, total: 51.3 ms\n",
      "Wall time: 49.9 ms\n"
     ]
    },
    {
     "data": {
      "text/plain": [
       "{'+1:lemma': 'mehr',\n",
       " '+1:postag': 'ADV',\n",
       " '+1:word.isInPersonDic': False,\n",
       " '+1:word.isInPlacesDic': False,\n",
       " '+1:word.isdigit()': False,\n",
       " '+1:word.istitle()': False,\n",
       " '+1:word.isupper()': False,\n",
       " '+1:word.lower()': 'mehr',\n",
       " '+1:word[-2:]': 'hr',\n",
       " '+1:word[-4:]': 'mehr',\n",
       " '-1:lemma': 'ich',\n",
       " '-1:postag': 'PPER',\n",
       " '-1:word.isInPersonDic': False,\n",
       " '-1:word.isInPlacesDic': False,\n",
       " '-1:word.isdigit()': False,\n",
       " '-1:word.istitle()': False,\n",
       " '-1:word.isupper()': False,\n",
       " '-1:word.lower()': 'ich',\n",
       " '-1:word[-2:]': 'ch',\n",
       " '-1:word[-4:]': 'ich',\n",
       " 'isFollwBigramInPlacesDic': False,\n",
       " 'isPrevBigramInPlacesDic': False,\n",
       " 'lemma': 'Sie|sie',\n",
       " 'postag': 'PPER',\n",
       " 'postag_chain_bck': 'VVFIN-PPER-PPER',\n",
       " 'postag_chain_fwd': 'PPER-ADV-KOKOM',\n",
       " 'word.endswithdigit()': False,\n",
       " 'word.hasdigit()': False,\n",
       " 'word.isHeader': False,\n",
       " 'word.isInPersonDic': False,\n",
       " 'word.isInPlacesDic': False,\n",
       " 'word.isdigit()': False,\n",
       " 'word.istitle()': True,\n",
       " 'word.isupper()': False,\n",
       " 'word.lower()': 'sie',\n",
       " 'word[-2:]': 'ie',\n",
       " 'word[-4:]': 'Sie',\n",
       " 'word[:3]': 'Sie',\n",
       " 'word[:5]': 'Sie'}"
      ]
     },
     "execution_count": 86,
     "metadata": {},
     "output_type": "execute_result"
    }
   ],
   "source": [
    "%%time\n",
    "sent2features(train[0])[17]\n",
    "#sent2tokens(train[0])[0]"
   ]
  },
  {
   "cell_type": "markdown",
   "metadata": {
    "nbpresent": {
     "id": "3c53ce7c-187d-4433-965c-0d12b561bd9c"
    }
   },
   "source": [
    "## Fitting the Model"
   ]
  },
  {
   "cell_type": "code",
   "execution_count": 99,
   "metadata": {
    "nbpresent": {
     "id": "319b9a6b-6c96-46f1-88ed-d944c2d1df0f"
    }
   },
   "outputs": [
    {
     "name": "stdout",
     "output_type": "stream",
     "text": [
      "CPU times: user 29.6 s, sys: 835 ms, total: 30.4 s\n",
      "Wall time: 30.7 s\n"
     ]
    }
   ],
   "source": [
    "%%time\n",
    "X_train = [sent2features(s) for s in train]\n",
    "y_train = [sent2labels(s) for s in train]\n",
    "\n",
    "X_test = [sent2features(s) for s in test]\n",
    "y_test = [sent2labels(s) for s in test]"
   ]
  },
  {
   "cell_type": "code",
   "execution_count": 100,
   "metadata": {
    "collapsed": true,
    "nbpresent": {
     "id": "2ab8823d-fe9e-4e8c-93ea-89eb60cb8a23"
    }
   },
   "outputs": [],
   "source": [
    "crf = sklearn_crfsuite.CRF(\n",
    "    algorithm='lbfgs',\n",
    "    c1=0.1,\n",
    "    c2=0.1,\n",
    "    max_iterations=100,\n",
    "    all_possible_transitions=True\n",
    ")"
   ]
  },
  {
   "cell_type": "code",
   "execution_count": 101,
   "metadata": {
    "nbpresent": {
     "id": "a4520553-ead4-487a-a9c1-3dbf67ea4a01"
    }
   },
   "outputs": [
    {
     "name": "stdout",
     "output_type": "stream",
     "text": [
      "CPU times: user 42.2 s, sys: 5.81 ms, total: 42.2 s\n",
      "Wall time: 42.3 s\n"
     ]
    },
    {
     "data": {
      "text/plain": [
       "CRF(algorithm='lbfgs', all_possible_states=None,\n",
       "  all_possible_transitions=True, averaging=None, c=None, c1=0.1, c2=0.1,\n",
       "  calibration_candidates=None, calibration_eta=None,\n",
       "  calibration_max_trials=None, calibration_rate=None,\n",
       "  calibration_samples=None, delta=None, epsilon=None, error_sensitive=None,\n",
       "  gamma=None, keep_tempfiles=None, linesearch=None, max_iterations=100,\n",
       "  max_linesearch=None, min_freq=None, model_filename=None,\n",
       "  num_memories=None, pa_type=None, period=None, trainer_cls=None,\n",
       "  variance=None, verbose=False)"
      ]
     },
     "execution_count": 101,
     "metadata": {},
     "output_type": "execute_result"
    }
   ],
   "source": [
    "%%time\n",
    "crf.fit(X_train, y_train)"
   ]
  },
  {
   "cell_type": "markdown",
   "metadata": {
    "nbpresent": {
     "id": "6f7a57bc-4fb4-4321-a10a-b5bb1d557937"
    }
   },
   "source": [
    "## Model evaluation"
   ]
  },
  {
   "cell_type": "code",
   "execution_count": 103,
   "metadata": {
    "nbpresent": {
     "id": "96e98640-d827-465c-a75b-4103f86fc6ec"
    }
   },
   "outputs": [
    {
     "data": {
      "text/plain": [
       "['B-PERmentioned',\n",
       " 'B-ORGmentioned',\n",
       " 'B-PLACEmentioned',\n",
       " 'B-LIT',\n",
       " 'B-OBJindividual',\n",
       " 'I-OBJindividual',\n",
       " 'I-PERmentioned',\n",
       " 'I-LIT',\n",
       " 'I-DATEmentioned',\n",
       " 'B-PERauthor',\n",
       " 'B-PERaddressee',\n",
       " 'B-PLACEfrom',\n",
       " 'B-DATEletter',\n",
       " 'I-DATEletter',\n",
       " 'B-MISC',\n",
       " 'I-MISC',\n",
       " 'B-OBJmultipartmonument',\n",
       " 'B-DATEmentioned',\n",
       " 'I-ORGmentioned',\n",
       " 'I-PERaddressee',\n",
       " 'B-OBJtopography',\n",
       " 'I-OBJtopography',\n",
       " 'I-PERauthor',\n",
       " 'I-PLACEmentioned',\n",
       " 'I-DATEpoststamp',\n",
       " 'B-DATEpoststamp',\n",
       " 'I-PLACEfrom',\n",
       " 'B-*',\n",
       " 'I-*',\n",
       " 'B-OBJbuilding',\n",
       " 'I-OBJmultipartmonument',\n",
       " 'I-OBJbuilding',\n",
       " 'B-OBJpartofbuild']"
      ]
     },
     "execution_count": 103,
     "metadata": {},
     "output_type": "execute_result"
    }
   ],
   "source": [
    "labels = list(crf.classes_)\n",
    "labels.remove('O')\n",
    "labels"
   ]
  },
  {
   "cell_type": "code",
   "execution_count": 104,
   "metadata": {
    "nbpresent": {
     "id": "3a3f980b-b4d0-482e-bac6-9a9cf4e9ea1f"
    }
   },
   "outputs": [
    {
     "name": "stderr",
     "output_type": "stream",
     "text": [
      "/usr/local/share/.virtualenvs/nlppy3/lib/python3.4/site-packages/sklearn/metrics/classification.py:1113: UndefinedMetricWarning: F-score is ill-defined and being set to 0.0 in labels with no predicted samples.\n",
      "  'precision', 'predicted', average, warn_for)\n",
      "/usr/local/share/.virtualenvs/nlppy3/lib/python3.4/site-packages/sklearn/metrics/classification.py:1115: UndefinedMetricWarning: F-score is ill-defined and being set to 0.0 in labels with no true samples.\n",
      "  'recall', 'true', average, warn_for)\n"
     ]
    },
    {
     "data": {
      "text/plain": [
       "0.71028713112264841"
      ]
     },
     "execution_count": 104,
     "metadata": {},
     "output_type": "execute_result"
    }
   ],
   "source": [
    "y_pred = crf.predict(X_test)\n",
    "metrics.flat_f1_score(y_test, y_pred,\n",
    "                      average='weighted', labels=labels)"
   ]
  },
  {
   "cell_type": "markdown",
   "metadata": {
    "nbpresent": {
     "id": "e085833a-4af4-43ba-8667-1fdd621c3297"
    }
   },
   "source": [
    "Inspect the classes"
   ]
  },
  {
   "cell_type": "code",
   "execution_count": 105,
   "metadata": {
    "nbpresent": {
     "id": "17871ff5-1b39-4e46-9a47-354f3160939b"
    }
   },
   "outputs": [
    {
     "name": "stdout",
     "output_type": "stream",
     "text": [
      "                        precision    recall  f1-score   support\n",
      "\n",
      "                   B-*      1.000     0.833     0.909         6\n",
      "                   I-*      1.000     0.500     0.667         2\n",
      "          B-DATEletter      1.000     1.000     1.000        49\n",
      "          I-DATEletter      0.984     1.000     0.992       126\n",
      "       B-DATEmentioned      0.750     0.214     0.333        14\n",
      "       I-DATEmentioned      0.600     0.300     0.400        30\n",
      "       B-DATEpoststamp      0.000     0.000     0.000         0\n",
      "       I-DATEpoststamp      0.000     0.000     0.000         0\n",
      "                 B-LIT      0.643     0.209     0.316        43\n",
      "                 I-LIT      0.480     0.203     0.286        59\n",
      "                B-MISC      1.000     0.167     0.286         6\n",
      "                I-MISC      0.000     0.000     0.000         0\n",
      "         B-OBJbuilding      0.000     0.000     0.000         0\n",
      "         I-OBJbuilding      0.000     0.000     0.000         0\n",
      "       B-OBJindividual      0.812     0.419     0.553        31\n",
      "       I-OBJindividual      1.000     0.424     0.596        33\n",
      "B-OBJmultipartmonument      0.000     0.000     0.000         6\n",
      "I-OBJmultipartmonument      0.000     0.000     0.000         1\n",
      "      B-OBJpartofbuild      0.000     0.000     0.000         0\n",
      "       B-OBJtopography      0.000     0.000     0.000         1\n",
      "       I-OBJtopography      0.000     0.000     0.000         0\n",
      "        B-ORGmentioned      0.588     0.400     0.476        25\n",
      "        I-ORGmentioned      0.900     0.300     0.450        30\n",
      "        B-PERaddressee      0.978     0.900     0.938        50\n",
      "        I-PERaddressee      0.692     0.692     0.692        13\n",
      "           B-PERauthor      1.000     0.949     0.974        59\n",
      "           I-PERauthor      0.875     0.778     0.824         9\n",
      "        B-PERmentioned      0.784     0.732     0.757       183\n",
      "        I-PERmentioned      0.735     0.439     0.549        57\n",
      "           B-PLACEfrom      1.000     0.959     0.979        49\n",
      "           I-PLACEfrom      0.000     0.000     0.000         5\n",
      "      B-PLACEmentioned      0.913     0.712     0.800        59\n",
      "      I-PLACEmentioned      0.000     0.000     0.000         8\n",
      "\n",
      "           avg / total      0.822     0.656     0.710       954\n",
      "\n"
     ]
    },
    {
     "name": "stderr",
     "output_type": "stream",
     "text": [
      "/usr/local/share/.virtualenvs/nlppy3/lib/python3.4/site-packages/sklearn/metrics/classification.py:1113: UndefinedMetricWarning: Precision and F-score are ill-defined and being set to 0.0 in labels with no predicted samples.\n",
      "  'precision', 'predicted', average, warn_for)\n",
      "/usr/local/share/.virtualenvs/nlppy3/lib/python3.4/site-packages/sklearn/metrics/classification.py:1115: UndefinedMetricWarning: Recall and F-score are ill-defined and being set to 0.0 in labels with no true samples.\n",
      "  'recall', 'true', average, warn_for)\n"
     ]
    }
   ],
   "source": [
    "# group B and I results\n",
    "sorted_labels = sorted(\n",
    "    labels,\n",
    "    key=lambda name: (name[1:], name[0])\n",
    ")\n",
    "print(metrics.flat_classification_report(\n",
    "    y_test, y_pred, labels=sorted_labels, digits=3\n",
    "))"
   ]
  },
  {
   "cell_type": "markdown",
   "metadata": {
    "nbpresent": {
     "id": "afe5c85c-168b-48c8-9270-23614424a78f"
    }
   },
   "source": [
    "### Hyperparameter optimization"
   ]
  },
  {
   "cell_type": "code",
   "execution_count": 106,
   "metadata": {
    "nbpresent": {
     "id": "3333d332-c2d0-4211-b845-fc979c2fdb60"
    },
    "scrolled": true
   },
   "outputs": [
    {
     "name": "stdout",
     "output_type": "stream",
     "text": [
      "Fitting 3 folds for each of 50 candidates, totalling 150 fits\n"
     ]
    },
    {
     "name": "stderr",
     "output_type": "stream",
     "text": [
      "/usr/local/share/.virtualenvs/nlppy3/lib/python3.4/site-packages/sklearn/metrics/classification.py:1113: UndefinedMetricWarning: F-score is ill-defined and being set to 0.0 in labels with no predicted samples.\n",
      "  'precision', 'predicted', average, warn_for)\n",
      "/usr/local/share/.virtualenvs/nlppy3/lib/python3.4/site-packages/sklearn/metrics/classification.py:1115: UndefinedMetricWarning: F-score is ill-defined and being set to 0.0 in labels with no true samples.\n",
      "  'recall', 'true', average, warn_for)\n",
      "/usr/local/share/.virtualenvs/nlppy3/lib/python3.4/site-packages/sklearn/metrics/classification.py:1113: UndefinedMetricWarning: F-score is ill-defined and being set to 0.0 in labels with no predicted samples.\n",
      "  'precision', 'predicted', average, warn_for)\n",
      "/usr/local/share/.virtualenvs/nlppy3/lib/python3.4/site-packages/sklearn/metrics/classification.py:1115: UndefinedMetricWarning: F-score is ill-defined and being set to 0.0 in labels with no true samples.\n",
      "  'recall', 'true', average, warn_for)\n",
      "/usr/local/share/.virtualenvs/nlppy3/lib/python3.4/site-packages/sklearn/metrics/classification.py:1113: UndefinedMetricWarning: F-score is ill-defined and being set to 0.0 in labels with no predicted samples.\n",
      "  'precision', 'predicted', average, warn_for)\n",
      "/usr/local/share/.virtualenvs/nlppy3/lib/python3.4/site-packages/sklearn/metrics/classification.py:1115: UndefinedMetricWarning: F-score is ill-defined and being set to 0.0 in labels with no true samples.\n",
      "  'recall', 'true', average, warn_for)\n",
      "/usr/local/share/.virtualenvs/nlppy3/lib/python3.4/site-packages/sklearn/metrics/classification.py:1113: UndefinedMetricWarning: F-score is ill-defined and being set to 0.0 in labels with no predicted samples.\n",
      "  'precision', 'predicted', average, warn_for)\n",
      "/usr/local/share/.virtualenvs/nlppy3/lib/python3.4/site-packages/sklearn/metrics/classification.py:1115: UndefinedMetricWarning: F-score is ill-defined and being set to 0.0 in labels with no true samples.\n",
      "  'recall', 'true', average, warn_for)\n",
      "/usr/local/share/.virtualenvs/nlppy3/lib/python3.4/site-packages/sklearn/metrics/classification.py:1113: UndefinedMetricWarning: F-score is ill-defined and being set to 0.0 in labels with no predicted samples.\n",
      "  'precision', 'predicted', average, warn_for)\n",
      "/usr/local/share/.virtualenvs/nlppy3/lib/python3.4/site-packages/sklearn/metrics/classification.py:1115: UndefinedMetricWarning: F-score is ill-defined and being set to 0.0 in labels with no true samples.\n",
      "  'recall', 'true', average, warn_for)\n",
      "/usr/local/share/.virtualenvs/nlppy3/lib/python3.4/site-packages/sklearn/metrics/classification.py:1113: UndefinedMetricWarning: F-score is ill-defined and being set to 0.0 in labels with no predicted samples.\n",
      "  'precision', 'predicted', average, warn_for)\n",
      "/usr/local/share/.virtualenvs/nlppy3/lib/python3.4/site-packages/sklearn/metrics/classification.py:1115: UndefinedMetricWarning: F-score is ill-defined and being set to 0.0 in labels with no true samples.\n",
      "  'recall', 'true', average, warn_for)\n",
      "/usr/local/share/.virtualenvs/nlppy3/lib/python3.4/site-packages/sklearn/metrics/classification.py:1113: UndefinedMetricWarning: F-score is ill-defined and being set to 0.0 in labels with no predicted samples.\n",
      "  'precision', 'predicted', average, warn_for)\n",
      "/usr/local/share/.virtualenvs/nlppy3/lib/python3.4/site-packages/sklearn/metrics/classification.py:1115: UndefinedMetricWarning: F-score is ill-defined and being set to 0.0 in labels with no true samples.\n",
      "  'recall', 'true', average, warn_for)\n",
      "/usr/local/share/.virtualenvs/nlppy3/lib/python3.4/site-packages/sklearn/metrics/classification.py:1113: UndefinedMetricWarning: F-score is ill-defined and being set to 0.0 in labels with no predicted samples.\n",
      "  'precision', 'predicted', average, warn_for)\n",
      "/usr/local/share/.virtualenvs/nlppy3/lib/python3.4/site-packages/sklearn/metrics/classification.py:1115: UndefinedMetricWarning: F-score is ill-defined and being set to 0.0 in labels with no true samples.\n",
      "  'recall', 'true', average, warn_for)\n",
      "/usr/local/share/.virtualenvs/nlppy3/lib/python3.4/site-packages/sklearn/metrics/classification.py:1115: UndefinedMetricWarning: F-score is ill-defined and being set to 0.0 in labels with no true samples.\n",
      "  'recall', 'true', average, warn_for)\n",
      "/usr/local/share/.virtualenvs/nlppy3/lib/python3.4/site-packages/sklearn/metrics/classification.py:1113: UndefinedMetricWarning: F-score is ill-defined and being set to 0.0 in labels with no predicted samples.\n",
      "  'precision', 'predicted', average, warn_for)\n",
      "/usr/local/share/.virtualenvs/nlppy3/lib/python3.4/site-packages/sklearn/metrics/classification.py:1113: UndefinedMetricWarning: F-score is ill-defined and being set to 0.0 in labels with no predicted samples.\n",
      "  'precision', 'predicted', average, warn_for)\n",
      "/usr/local/share/.virtualenvs/nlppy3/lib/python3.4/site-packages/sklearn/metrics/classification.py:1115: UndefinedMetricWarning: F-score is ill-defined and being set to 0.0 in labels with no true samples.\n",
      "  'recall', 'true', average, warn_for)\n",
      "/usr/local/share/.virtualenvs/nlppy3/lib/python3.4/site-packages/sklearn/metrics/classification.py:1113: UndefinedMetricWarning: F-score is ill-defined and being set to 0.0 in labels with no predicted samples.\n",
      "  'precision', 'predicted', average, warn_for)\n",
      "/usr/local/share/.virtualenvs/nlppy3/lib/python3.4/site-packages/sklearn/metrics/classification.py:1115: UndefinedMetricWarning: F-score is ill-defined and being set to 0.0 in labels with no true samples.\n",
      "  'recall', 'true', average, warn_for)\n",
      "/usr/local/share/.virtualenvs/nlppy3/lib/python3.4/site-packages/sklearn/metrics/classification.py:1113: UndefinedMetricWarning: F-score is ill-defined and being set to 0.0 in labels with no predicted samples.\n",
      "  'precision', 'predicted', average, warn_for)\n",
      "/usr/local/share/.virtualenvs/nlppy3/lib/python3.4/site-packages/sklearn/metrics/classification.py:1115: UndefinedMetricWarning: F-score is ill-defined and being set to 0.0 in labels with no true samples.\n",
      "  'recall', 'true', average, warn_for)\n",
      "/usr/local/share/.virtualenvs/nlppy3/lib/python3.4/site-packages/sklearn/metrics/classification.py:1113: UndefinedMetricWarning: F-score is ill-defined and being set to 0.0 in labels with no predicted samples.\n",
      "  'precision', 'predicted', average, warn_for)\n",
      "/usr/local/share/.virtualenvs/nlppy3/lib/python3.4/site-packages/sklearn/metrics/classification.py:1115: UndefinedMetricWarning: F-score is ill-defined and being set to 0.0 in labels with no true samples.\n",
      "  'recall', 'true', average, warn_for)\n",
      "/usr/local/share/.virtualenvs/nlppy3/lib/python3.4/site-packages/sklearn/metrics/classification.py:1113: UndefinedMetricWarning: F-score is ill-defined and being set to 0.0 in labels with no predicted samples.\n",
      "  'precision', 'predicted', average, warn_for)\n",
      "/usr/local/share/.virtualenvs/nlppy3/lib/python3.4/site-packages/sklearn/metrics/classification.py:1115: UndefinedMetricWarning: F-score is ill-defined and being set to 0.0 in labels with no true samples.\n",
      "  'recall', 'true', average, warn_for)\n",
      "/usr/local/share/.virtualenvs/nlppy3/lib/python3.4/site-packages/sklearn/metrics/classification.py:1113: UndefinedMetricWarning: F-score is ill-defined and being set to 0.0 in labels with no predicted samples.\n",
      "  'precision', 'predicted', average, warn_for)\n",
      "/usr/local/share/.virtualenvs/nlppy3/lib/python3.4/site-packages/sklearn/metrics/classification.py:1115: UndefinedMetricWarning: F-score is ill-defined and being set to 0.0 in labels with no true samples.\n",
      "  'recall', 'true', average, warn_for)\n",
      "/usr/local/share/.virtualenvs/nlppy3/lib/python3.4/site-packages/sklearn/metrics/classification.py:1113: UndefinedMetricWarning: F-score is ill-defined and being set to 0.0 in labels with no predicted samples.\n",
      "  'precision', 'predicted', average, warn_for)\n",
      "/usr/local/share/.virtualenvs/nlppy3/lib/python3.4/site-packages/sklearn/metrics/classification.py:1115: UndefinedMetricWarning: F-score is ill-defined and being set to 0.0 in labels with no true samples.\n",
      "  'recall', 'true', average, warn_for)\n",
      "/usr/local/share/.virtualenvs/nlppy3/lib/python3.4/site-packages/sklearn/metrics/classification.py:1113: UndefinedMetricWarning: F-score is ill-defined and being set to 0.0 in labels with no predicted samples.\n",
      "  'precision', 'predicted', average, warn_for)\n",
      "/usr/local/share/.virtualenvs/nlppy3/lib/python3.4/site-packages/sklearn/metrics/classification.py:1115: UndefinedMetricWarning: F-score is ill-defined and being set to 0.0 in labels with no true samples.\n",
      "  'recall', 'true', average, warn_for)\n",
      "/usr/local/share/.virtualenvs/nlppy3/lib/python3.4/site-packages/sklearn/metrics/classification.py:1113: UndefinedMetricWarning: F-score is ill-defined and being set to 0.0 in labels with no predicted samples.\n",
      "  'precision', 'predicted', average, warn_for)\n",
      "/usr/local/share/.virtualenvs/nlppy3/lib/python3.4/site-packages/sklearn/metrics/classification.py:1115: UndefinedMetricWarning: F-score is ill-defined and being set to 0.0 in labels with no true samples.\n",
      "  'recall', 'true', average, warn_for)\n",
      "[Parallel(n_jobs=-1)]: Done  18 tasks      | elapsed:  1.0min\n",
      "/usr/local/share/.virtualenvs/nlppy3/lib/python3.4/site-packages/sklearn/metrics/classification.py:1113: UndefinedMetricWarning: F-score is ill-defined and being set to 0.0 in labels with no predicted samples.\n",
      "  'precision', 'predicted', average, warn_for)\n",
      "/usr/local/share/.virtualenvs/nlppy3/lib/python3.4/site-packages/sklearn/metrics/classification.py:1115: UndefinedMetricWarning: F-score is ill-defined and being set to 0.0 in labels with no true samples.\n",
      "  'recall', 'true', average, warn_for)\n",
      "/usr/local/share/.virtualenvs/nlppy3/lib/python3.4/site-packages/sklearn/metrics/classification.py:1113: UndefinedMetricWarning: F-score is ill-defined and being set to 0.0 in labels with no predicted samples.\n",
      "  'precision', 'predicted', average, warn_for)\n",
      "/usr/local/share/.virtualenvs/nlppy3/lib/python3.4/site-packages/sklearn/metrics/classification.py:1115: UndefinedMetricWarning: F-score is ill-defined and being set to 0.0 in labels with no true samples.\n",
      "  'recall', 'true', average, warn_for)\n",
      "/usr/local/share/.virtualenvs/nlppy3/lib/python3.4/site-packages/sklearn/metrics/classification.py:1113: UndefinedMetricWarning: F-score is ill-defined and being set to 0.0 in labels with no predicted samples.\n",
      "  'precision', 'predicted', average, warn_for)\n",
      "/usr/local/share/.virtualenvs/nlppy3/lib/python3.4/site-packages/sklearn/metrics/classification.py:1115: UndefinedMetricWarning: F-score is ill-defined and being set to 0.0 in labels with no true samples.\n",
      "  'recall', 'true', average, warn_for)\n",
      "/usr/local/share/.virtualenvs/nlppy3/lib/python3.4/site-packages/sklearn/metrics/classification.py:1113: UndefinedMetricWarning: F-score is ill-defined and being set to 0.0 in labels with no predicted samples.\n",
      "  'precision', 'predicted', average, warn_for)\n",
      "/usr/local/share/.virtualenvs/nlppy3/lib/python3.4/site-packages/sklearn/metrics/classification.py:1115: UndefinedMetricWarning: F-score is ill-defined and being set to 0.0 in labels with no true samples.\n",
      "  'recall', 'true', average, warn_for)\n",
      "/usr/local/share/.virtualenvs/nlppy3/lib/python3.4/site-packages/sklearn/metrics/classification.py:1115: UndefinedMetricWarning: F-score is ill-defined and being set to 0.0 in labels with no true samples.\n",
      "  'recall', 'true', average, warn_for)\n",
      "/usr/local/share/.virtualenvs/nlppy3/lib/python3.4/site-packages/sklearn/metrics/classification.py:1113: UndefinedMetricWarning: F-score is ill-defined and being set to 0.0 in labels with no predicted samples.\n",
      "  'precision', 'predicted', average, warn_for)\n",
      "/usr/local/share/.virtualenvs/nlppy3/lib/python3.4/site-packages/sklearn/metrics/classification.py:1113: UndefinedMetricWarning: F-score is ill-defined and being set to 0.0 in labels with no predicted samples.\n",
      "  'precision', 'predicted', average, warn_for)\n",
      "/usr/local/share/.virtualenvs/nlppy3/lib/python3.4/site-packages/sklearn/metrics/classification.py:1115: UndefinedMetricWarning: F-score is ill-defined and being set to 0.0 in labels with no true samples.\n",
      "  'recall', 'true', average, warn_for)\n",
      "/usr/local/share/.virtualenvs/nlppy3/lib/python3.4/site-packages/sklearn/metrics/classification.py:1113: UndefinedMetricWarning: F-score is ill-defined and being set to 0.0 in labels with no predicted samples.\n",
      "  'precision', 'predicted', average, warn_for)\n",
      "/usr/local/share/.virtualenvs/nlppy3/lib/python3.4/site-packages/sklearn/metrics/classification.py:1115: UndefinedMetricWarning: F-score is ill-defined and being set to 0.0 in labels with no true samples.\n",
      "  'recall', 'true', average, warn_for)\n",
      "/usr/local/share/.virtualenvs/nlppy3/lib/python3.4/site-packages/sklearn/metrics/classification.py:1113: UndefinedMetricWarning: F-score is ill-defined and being set to 0.0 in labels with no predicted samples.\n",
      "  'precision', 'predicted', average, warn_for)\n",
      "/usr/local/share/.virtualenvs/nlppy3/lib/python3.4/site-packages/sklearn/metrics/classification.py:1115: UndefinedMetricWarning: F-score is ill-defined and being set to 0.0 in labels with no true samples.\n",
      "  'recall', 'true', average, warn_for)\n",
      "/usr/local/share/.virtualenvs/nlppy3/lib/python3.4/site-packages/sklearn/metrics/classification.py:1113: UndefinedMetricWarning: F-score is ill-defined and being set to 0.0 in labels with no predicted samples.\n",
      "  'precision', 'predicted', average, warn_for)\n",
      "/usr/local/share/.virtualenvs/nlppy3/lib/python3.4/site-packages/sklearn/metrics/classification.py:1115: UndefinedMetricWarning: F-score is ill-defined and being set to 0.0 in labels with no true samples.\n",
      "  'recall', 'true', average, warn_for)\n",
      "/usr/local/share/.virtualenvs/nlppy3/lib/python3.4/site-packages/sklearn/metrics/classification.py:1113: UndefinedMetricWarning: F-score is ill-defined and being set to 0.0 in labels with no predicted samples.\n",
      "  'precision', 'predicted', average, warn_for)\n",
      "/usr/local/share/.virtualenvs/nlppy3/lib/python3.4/site-packages/sklearn/metrics/classification.py:1115: UndefinedMetricWarning: F-score is ill-defined and being set to 0.0 in labels with no true samples.\n",
      "  'recall', 'true', average, warn_for)\n",
      "/usr/local/share/.virtualenvs/nlppy3/lib/python3.4/site-packages/sklearn/metrics/classification.py:1113: UndefinedMetricWarning: F-score is ill-defined and being set to 0.0 in labels with no predicted samples.\n",
      "  'precision', 'predicted', average, warn_for)\n",
      "/usr/local/share/.virtualenvs/nlppy3/lib/python3.4/site-packages/sklearn/metrics/classification.py:1115: UndefinedMetricWarning: F-score is ill-defined and being set to 0.0 in labels with no true samples.\n",
      "  'recall', 'true', average, warn_for)\n",
      "/usr/local/share/.virtualenvs/nlppy3/lib/python3.4/site-packages/sklearn/metrics/classification.py:1113: UndefinedMetricWarning: F-score is ill-defined and being set to 0.0 in labels with no predicted samples.\n",
      "  'precision', 'predicted', average, warn_for)\n",
      "/usr/local/share/.virtualenvs/nlppy3/lib/python3.4/site-packages/sklearn/metrics/classification.py:1115: UndefinedMetricWarning: F-score is ill-defined and being set to 0.0 in labels with no true samples.\n",
      "  'recall', 'true', average, warn_for)\n",
      "/usr/local/share/.virtualenvs/nlppy3/lib/python3.4/site-packages/sklearn/metrics/classification.py:1113: UndefinedMetricWarning: F-score is ill-defined and being set to 0.0 in labels with no predicted samples.\n",
      "  'precision', 'predicted', average, warn_for)\n",
      "/usr/local/share/.virtualenvs/nlppy3/lib/python3.4/site-packages/sklearn/metrics/classification.py:1115: UndefinedMetricWarning: F-score is ill-defined and being set to 0.0 in labels with no true samples.\n",
      "  'recall', 'true', average, warn_for)\n",
      "/usr/local/share/.virtualenvs/nlppy3/lib/python3.4/site-packages/sklearn/metrics/classification.py:1113: UndefinedMetricWarning: F-score is ill-defined and being set to 0.0 in labels with no predicted samples.\n",
      "  'precision', 'predicted', average, warn_for)\n",
      "/usr/local/share/.virtualenvs/nlppy3/lib/python3.4/site-packages/sklearn/metrics/classification.py:1115: UndefinedMetricWarning: F-score is ill-defined and being set to 0.0 in labels with no true samples.\n",
      "  'recall', 'true', average, warn_for)\n",
      "/usr/local/share/.virtualenvs/nlppy3/lib/python3.4/site-packages/sklearn/metrics/classification.py:1113: UndefinedMetricWarning: F-score is ill-defined and being set to 0.0 in labels with no predicted samples.\n",
      "  'precision', 'predicted', average, warn_for)\n",
      "/usr/local/share/.virtualenvs/nlppy3/lib/python3.4/site-packages/sklearn/metrics/classification.py:1115: UndefinedMetricWarning: F-score is ill-defined and being set to 0.0 in labels with no true samples.\n",
      "  'recall', 'true', average, warn_for)\n",
      "/usr/local/share/.virtualenvs/nlppy3/lib/python3.4/site-packages/sklearn/metrics/classification.py:1113: UndefinedMetricWarning: F-score is ill-defined and being set to 0.0 in labels with no predicted samples.\n",
      "  'precision', 'predicted', average, warn_for)\n",
      "/usr/local/share/.virtualenvs/nlppy3/lib/python3.4/site-packages/sklearn/metrics/classification.py:1115: UndefinedMetricWarning: F-score is ill-defined and being set to 0.0 in labels with no true samples.\n",
      "  'recall', 'true', average, warn_for)\n",
      "/usr/local/share/.virtualenvs/nlppy3/lib/python3.4/site-packages/sklearn/metrics/classification.py:1113: UndefinedMetricWarning: F-score is ill-defined and being set to 0.0 in labels with no predicted samples.\n",
      "  'precision', 'predicted', average, warn_for)\n",
      "/usr/local/share/.virtualenvs/nlppy3/lib/python3.4/site-packages/sklearn/metrics/classification.py:1115: UndefinedMetricWarning: F-score is ill-defined and being set to 0.0 in labels with no true samples.\n",
      "  'recall', 'true', average, warn_for)\n",
      "/usr/local/share/.virtualenvs/nlppy3/lib/python3.4/site-packages/sklearn/metrics/classification.py:1113: UndefinedMetricWarning: F-score is ill-defined and being set to 0.0 in labels with no predicted samples.\n",
      "  'precision', 'predicted', average, warn_for)\n",
      "/usr/local/share/.virtualenvs/nlppy3/lib/python3.4/site-packages/sklearn/metrics/classification.py:1115: UndefinedMetricWarning: F-score is ill-defined and being set to 0.0 in labels with no true samples.\n",
      "  'recall', 'true', average, warn_for)\n",
      "/usr/local/share/.virtualenvs/nlppy3/lib/python3.4/site-packages/sklearn/metrics/classification.py:1113: UndefinedMetricWarning: F-score is ill-defined and being set to 0.0 in labels with no predicted samples.\n",
      "  'precision', 'predicted', average, warn_for)\n",
      "/usr/local/share/.virtualenvs/nlppy3/lib/python3.4/site-packages/sklearn/metrics/classification.py:1115: UndefinedMetricWarning: F-score is ill-defined and being set to 0.0 in labels with no true samples.\n",
      "  'recall', 'true', average, warn_for)\n",
      "/usr/local/share/.virtualenvs/nlppy3/lib/python3.4/site-packages/sklearn/metrics/classification.py:1113: UndefinedMetricWarning: F-score is ill-defined and being set to 0.0 in labels with no predicted samples.\n",
      "  'precision', 'predicted', average, warn_for)\n",
      "/usr/local/share/.virtualenvs/nlppy3/lib/python3.4/site-packages/sklearn/metrics/classification.py:1115: UndefinedMetricWarning: F-score is ill-defined and being set to 0.0 in labels with no true samples.\n",
      "  'recall', 'true', average, warn_for)\n",
      "/usr/local/share/.virtualenvs/nlppy3/lib/python3.4/site-packages/sklearn/metrics/classification.py:1113: UndefinedMetricWarning: F-score is ill-defined and being set to 0.0 in labels with no predicted samples.\n",
      "  'precision', 'predicted', average, warn_for)\n",
      "/usr/local/share/.virtualenvs/nlppy3/lib/python3.4/site-packages/sklearn/metrics/classification.py:1115: UndefinedMetricWarning: F-score is ill-defined and being set to 0.0 in labels with no true samples.\n",
      "  'recall', 'true', average, warn_for)\n",
      "/usr/local/share/.virtualenvs/nlppy3/lib/python3.4/site-packages/sklearn/metrics/classification.py:1113: UndefinedMetricWarning: F-score is ill-defined and being set to 0.0 in labels with no predicted samples.\n",
      "  'precision', 'predicted', average, warn_for)\n",
      "/usr/local/share/.virtualenvs/nlppy3/lib/python3.4/site-packages/sklearn/metrics/classification.py:1115: UndefinedMetricWarning: F-score is ill-defined and being set to 0.0 in labels with no true samples.\n",
      "  'recall', 'true', average, warn_for)\n",
      "/usr/local/share/.virtualenvs/nlppy3/lib/python3.4/site-packages/sklearn/metrics/classification.py:1113: UndefinedMetricWarning: F-score is ill-defined and being set to 0.0 in labels with no predicted samples.\n",
      "  'precision', 'predicted', average, warn_for)\n",
      "/usr/local/share/.virtualenvs/nlppy3/lib/python3.4/site-packages/sklearn/metrics/classification.py:1115: UndefinedMetricWarning: F-score is ill-defined and being set to 0.0 in labels with no true samples.\n",
      "  'recall', 'true', average, warn_for)\n",
      "/usr/local/share/.virtualenvs/nlppy3/lib/python3.4/site-packages/sklearn/metrics/classification.py:1113: UndefinedMetricWarning: F-score is ill-defined and being set to 0.0 in labels with no predicted samples.\n",
      "  'precision', 'predicted', average, warn_for)\n",
      "/usr/local/share/.virtualenvs/nlppy3/lib/python3.4/site-packages/sklearn/metrics/classification.py:1115: UndefinedMetricWarning: F-score is ill-defined and being set to 0.0 in labels with no true samples.\n",
      "  'recall', 'true', average, warn_for)\n",
      "/usr/local/share/.virtualenvs/nlppy3/lib/python3.4/site-packages/sklearn/metrics/classification.py:1113: UndefinedMetricWarning: F-score is ill-defined and being set to 0.0 in labels with no predicted samples.\n",
      "  'precision', 'predicted', average, warn_for)\n",
      "/usr/local/share/.virtualenvs/nlppy3/lib/python3.4/site-packages/sklearn/metrics/classification.py:1115: UndefinedMetricWarning: F-score is ill-defined and being set to 0.0 in labels with no true samples.\n",
      "  'recall', 'true', average, warn_for)\n",
      "/usr/local/share/.virtualenvs/nlppy3/lib/python3.4/site-packages/sklearn/metrics/classification.py:1113: UndefinedMetricWarning: F-score is ill-defined and being set to 0.0 in labels with no predicted samples.\n",
      "  'precision', 'predicted', average, warn_for)\n",
      "/usr/local/share/.virtualenvs/nlppy3/lib/python3.4/site-packages/sklearn/metrics/classification.py:1115: UndefinedMetricWarning: F-score is ill-defined and being set to 0.0 in labels with no true samples.\n",
      "  'recall', 'true', average, warn_for)\n",
      "/usr/local/share/.virtualenvs/nlppy3/lib/python3.4/site-packages/sklearn/metrics/classification.py:1113: UndefinedMetricWarning: F-score is ill-defined and being set to 0.0 in labels with no predicted samples.\n",
      "  'precision', 'predicted', average, warn_for)\n",
      "/usr/local/share/.virtualenvs/nlppy3/lib/python3.4/site-packages/sklearn/metrics/classification.py:1115: UndefinedMetricWarning: F-score is ill-defined and being set to 0.0 in labels with no true samples.\n",
      "  'recall', 'true', average, warn_for)\n",
      "/usr/local/share/.virtualenvs/nlppy3/lib/python3.4/site-packages/sklearn/metrics/classification.py:1113: UndefinedMetricWarning: F-score is ill-defined and being set to 0.0 in labels with no predicted samples.\n",
      "  'precision', 'predicted', average, warn_for)\n",
      "/usr/local/share/.virtualenvs/nlppy3/lib/python3.4/site-packages/sklearn/metrics/classification.py:1115: UndefinedMetricWarning: F-score is ill-defined and being set to 0.0 in labels with no true samples.\n",
      "  'recall', 'true', average, warn_for)\n",
      "/usr/local/share/.virtualenvs/nlppy3/lib/python3.4/site-packages/sklearn/metrics/classification.py:1113: UndefinedMetricWarning: F-score is ill-defined and being set to 0.0 in labels with no predicted samples.\n",
      "  'precision', 'predicted', average, warn_for)\n",
      "/usr/local/share/.virtualenvs/nlppy3/lib/python3.4/site-packages/sklearn/metrics/classification.py:1115: UndefinedMetricWarning: F-score is ill-defined and being set to 0.0 in labels with no true samples.\n",
      "  'recall', 'true', average, warn_for)\n",
      "/usr/local/share/.virtualenvs/nlppy3/lib/python3.4/site-packages/sklearn/metrics/classification.py:1113: UndefinedMetricWarning: F-score is ill-defined and being set to 0.0 in labels with no predicted samples.\n",
      "  'precision', 'predicted', average, warn_for)\n",
      "/usr/local/share/.virtualenvs/nlppy3/lib/python3.4/site-packages/sklearn/metrics/classification.py:1115: UndefinedMetricWarning: F-score is ill-defined and being set to 0.0 in labels with no true samples.\n",
      "  'recall', 'true', average, warn_for)\n",
      "/usr/local/share/.virtualenvs/nlppy3/lib/python3.4/site-packages/sklearn/metrics/classification.py:1113: UndefinedMetricWarning: F-score is ill-defined and being set to 0.0 in labels with no predicted samples.\n",
      "  'precision', 'predicted', average, warn_for)\n",
      "/usr/local/share/.virtualenvs/nlppy3/lib/python3.4/site-packages/sklearn/metrics/classification.py:1115: UndefinedMetricWarning: F-score is ill-defined and being set to 0.0 in labels with no true samples.\n",
      "  'recall', 'true', average, warn_for)\n",
      "/usr/local/share/.virtualenvs/nlppy3/lib/python3.4/site-packages/sklearn/metrics/classification.py:1113: UndefinedMetricWarning: F-score is ill-defined and being set to 0.0 in labels with no predicted samples.\n",
      "  'precision', 'predicted', average, warn_for)\n",
      "/usr/local/share/.virtualenvs/nlppy3/lib/python3.4/site-packages/sklearn/metrics/classification.py:1115: UndefinedMetricWarning: F-score is ill-defined and being set to 0.0 in labels with no true samples.\n",
      "  'recall', 'true', average, warn_for)\n",
      "/usr/local/share/.virtualenvs/nlppy3/lib/python3.4/site-packages/sklearn/metrics/classification.py:1113: UndefinedMetricWarning: F-score is ill-defined and being set to 0.0 in labels with no predicted samples.\n",
      "  'precision', 'predicted', average, warn_for)\n",
      "/usr/local/share/.virtualenvs/nlppy3/lib/python3.4/site-packages/sklearn/metrics/classification.py:1115: UndefinedMetricWarning: F-score is ill-defined and being set to 0.0 in labels with no true samples.\n",
      "  'recall', 'true', average, warn_for)\n",
      "/usr/local/share/.virtualenvs/nlppy3/lib/python3.4/site-packages/sklearn/metrics/classification.py:1113: UndefinedMetricWarning: F-score is ill-defined and being set to 0.0 in labels with no predicted samples.\n",
      "  'precision', 'predicted', average, warn_for)\n",
      "/usr/local/share/.virtualenvs/nlppy3/lib/python3.4/site-packages/sklearn/metrics/classification.py:1115: UndefinedMetricWarning: F-score is ill-defined and being set to 0.0 in labels with no true samples.\n",
      "  'recall', 'true', average, warn_for)\n",
      "/usr/local/share/.virtualenvs/nlppy3/lib/python3.4/site-packages/sklearn/metrics/classification.py:1113: UndefinedMetricWarning: F-score is ill-defined and being set to 0.0 in labels with no predicted samples.\n",
      "  'precision', 'predicted', average, warn_for)\n",
      "/usr/local/share/.virtualenvs/nlppy3/lib/python3.4/site-packages/sklearn/metrics/classification.py:1115: UndefinedMetricWarning: F-score is ill-defined and being set to 0.0 in labels with no true samples.\n",
      "  'recall', 'true', average, warn_for)\n",
      "/usr/local/share/.virtualenvs/nlppy3/lib/python3.4/site-packages/sklearn/metrics/classification.py:1113: UndefinedMetricWarning: F-score is ill-defined and being set to 0.0 in labels with no predicted samples.\n",
      "  'precision', 'predicted', average, warn_for)\n",
      "/usr/local/share/.virtualenvs/nlppy3/lib/python3.4/site-packages/sklearn/metrics/classification.py:1115: UndefinedMetricWarning: F-score is ill-defined and being set to 0.0 in labels with no true samples.\n",
      "  'recall', 'true', average, warn_for)\n",
      "/usr/local/share/.virtualenvs/nlppy3/lib/python3.4/site-packages/sklearn/metrics/classification.py:1113: UndefinedMetricWarning: F-score is ill-defined and being set to 0.0 in labels with no predicted samples.\n",
      "  'precision', 'predicted', average, warn_for)\n",
      "/usr/local/share/.virtualenvs/nlppy3/lib/python3.4/site-packages/sklearn/metrics/classification.py:1115: UndefinedMetricWarning: F-score is ill-defined and being set to 0.0 in labels with no true samples.\n",
      "  'recall', 'true', average, warn_for)\n",
      "/usr/local/share/.virtualenvs/nlppy3/lib/python3.4/site-packages/sklearn/metrics/classification.py:1113: UndefinedMetricWarning: F-score is ill-defined and being set to 0.0 in labels with no predicted samples.\n",
      "  'precision', 'predicted', average, warn_for)\n",
      "/usr/local/share/.virtualenvs/nlppy3/lib/python3.4/site-packages/sklearn/metrics/classification.py:1115: UndefinedMetricWarning: F-score is ill-defined and being set to 0.0 in labels with no true samples.\n",
      "  'recall', 'true', average, warn_for)\n",
      "/usr/local/share/.virtualenvs/nlppy3/lib/python3.4/site-packages/sklearn/metrics/classification.py:1113: UndefinedMetricWarning: F-score is ill-defined and being set to 0.0 in labels with no predicted samples.\n",
      "  'precision', 'predicted', average, warn_for)\n",
      "/usr/local/share/.virtualenvs/nlppy3/lib/python3.4/site-packages/sklearn/metrics/classification.py:1115: UndefinedMetricWarning: F-score is ill-defined and being set to 0.0 in labels with no true samples.\n",
      "  'recall', 'true', average, warn_for)\n",
      "/usr/local/share/.virtualenvs/nlppy3/lib/python3.4/site-packages/sklearn/metrics/classification.py:1113: UndefinedMetricWarning: F-score is ill-defined and being set to 0.0 in labels with no predicted samples.\n",
      "  'precision', 'predicted', average, warn_for)\n",
      "/usr/local/share/.virtualenvs/nlppy3/lib/python3.4/site-packages/sklearn/metrics/classification.py:1115: UndefinedMetricWarning: F-score is ill-defined and being set to 0.0 in labels with no true samples.\n",
      "  'recall', 'true', average, warn_for)\n",
      "/usr/local/share/.virtualenvs/nlppy3/lib/python3.4/site-packages/sklearn/metrics/classification.py:1113: UndefinedMetricWarning: F-score is ill-defined and being set to 0.0 in labels with no predicted samples.\n",
      "  'precision', 'predicted', average, warn_for)\n",
      "/usr/local/share/.virtualenvs/nlppy3/lib/python3.4/site-packages/sklearn/metrics/classification.py:1115: UndefinedMetricWarning: F-score is ill-defined and being set to 0.0 in labels with no true samples.\n",
      "  'recall', 'true', average, warn_for)\n",
      "/usr/local/share/.virtualenvs/nlppy3/lib/python3.4/site-packages/sklearn/metrics/classification.py:1113: UndefinedMetricWarning: F-score is ill-defined and being set to 0.0 in labels with no predicted samples.\n",
      "  'precision', 'predicted', average, warn_for)\n",
      "/usr/local/share/.virtualenvs/nlppy3/lib/python3.4/site-packages/sklearn/metrics/classification.py:1115: UndefinedMetricWarning: F-score is ill-defined and being set to 0.0 in labels with no true samples.\n",
      "  'recall', 'true', average, warn_for)\n",
      "/usr/local/share/.virtualenvs/nlppy3/lib/python3.4/site-packages/sklearn/metrics/classification.py:1113: UndefinedMetricWarning: F-score is ill-defined and being set to 0.0 in labels with no predicted samples.\n",
      "  'precision', 'predicted', average, warn_for)\n",
      "/usr/local/share/.virtualenvs/nlppy3/lib/python3.4/site-packages/sklearn/metrics/classification.py:1115: UndefinedMetricWarning: F-score is ill-defined and being set to 0.0 in labels with no true samples.\n",
      "  'recall', 'true', average, warn_for)\n",
      "/usr/local/share/.virtualenvs/nlppy3/lib/python3.4/site-packages/sklearn/metrics/classification.py:1113: UndefinedMetricWarning: F-score is ill-defined and being set to 0.0 in labels with no predicted samples.\n",
      "  'precision', 'predicted', average, warn_for)\n",
      "/usr/local/share/.virtualenvs/nlppy3/lib/python3.4/site-packages/sklearn/metrics/classification.py:1115: UndefinedMetricWarning: F-score is ill-defined and being set to 0.0 in labels with no true samples.\n",
      "  'recall', 'true', average, warn_for)\n",
      "/usr/local/share/.virtualenvs/nlppy3/lib/python3.4/site-packages/sklearn/metrics/classification.py:1113: UndefinedMetricWarning: F-score is ill-defined and being set to 0.0 in labels with no predicted samples.\n",
      "  'precision', 'predicted', average, warn_for)\n",
      "/usr/local/share/.virtualenvs/nlppy3/lib/python3.4/site-packages/sklearn/metrics/classification.py:1115: UndefinedMetricWarning: F-score is ill-defined and being set to 0.0 in labels with no true samples.\n",
      "  'recall', 'true', average, warn_for)\n",
      "/usr/local/share/.virtualenvs/nlppy3/lib/python3.4/site-packages/sklearn/metrics/classification.py:1113: UndefinedMetricWarning: F-score is ill-defined and being set to 0.0 in labels with no predicted samples.\n",
      "  'precision', 'predicted', average, warn_for)\n",
      "/usr/local/share/.virtualenvs/nlppy3/lib/python3.4/site-packages/sklearn/metrics/classification.py:1115: UndefinedMetricWarning: F-score is ill-defined and being set to 0.0 in labels with no true samples.\n",
      "  'recall', 'true', average, warn_for)\n",
      "/usr/local/share/.virtualenvs/nlppy3/lib/python3.4/site-packages/sklearn/metrics/classification.py:1113: UndefinedMetricWarning: F-score is ill-defined and being set to 0.0 in labels with no predicted samples.\n",
      "  'precision', 'predicted', average, warn_for)\n",
      "/usr/local/share/.virtualenvs/nlppy3/lib/python3.4/site-packages/sklearn/metrics/classification.py:1115: UndefinedMetricWarning: F-score is ill-defined and being set to 0.0 in labels with no true samples.\n",
      "  'recall', 'true', average, warn_for)\n",
      "/usr/local/share/.virtualenvs/nlppy3/lib/python3.4/site-packages/sklearn/metrics/classification.py:1113: UndefinedMetricWarning: F-score is ill-defined and being set to 0.0 in labels with no predicted samples.\n",
      "  'precision', 'predicted', average, warn_for)\n",
      "/usr/local/share/.virtualenvs/nlppy3/lib/python3.4/site-packages/sklearn/metrics/classification.py:1115: UndefinedMetricWarning: F-score is ill-defined and being set to 0.0 in labels with no true samples.\n",
      "  'recall', 'true', average, warn_for)\n",
      "/usr/local/share/.virtualenvs/nlppy3/lib/python3.4/site-packages/sklearn/metrics/classification.py:1113: UndefinedMetricWarning: F-score is ill-defined and being set to 0.0 in labels with no predicted samples.\n",
      "  'precision', 'predicted', average, warn_for)\n",
      "/usr/local/share/.virtualenvs/nlppy3/lib/python3.4/site-packages/sklearn/metrics/classification.py:1115: UndefinedMetricWarning: F-score is ill-defined and being set to 0.0 in labels with no true samples.\n",
      "  'recall', 'true', average, warn_for)\n",
      "/usr/local/share/.virtualenvs/nlppy3/lib/python3.4/site-packages/sklearn/metrics/classification.py:1113: UndefinedMetricWarning: F-score is ill-defined and being set to 0.0 in labels with no predicted samples.\n",
      "  'precision', 'predicted', average, warn_for)\n",
      "/usr/local/share/.virtualenvs/nlppy3/lib/python3.4/site-packages/sklearn/metrics/classification.py:1115: UndefinedMetricWarning: F-score is ill-defined and being set to 0.0 in labels with no true samples.\n",
      "  'recall', 'true', average, warn_for)\n",
      "/usr/local/share/.virtualenvs/nlppy3/lib/python3.4/site-packages/sklearn/metrics/classification.py:1113: UndefinedMetricWarning: F-score is ill-defined and being set to 0.0 in labels with no predicted samples.\n",
      "  'precision', 'predicted', average, warn_for)\n",
      "/usr/local/share/.virtualenvs/nlppy3/lib/python3.4/site-packages/sklearn/metrics/classification.py:1115: UndefinedMetricWarning: F-score is ill-defined and being set to 0.0 in labels with no true samples.\n",
      "  'recall', 'true', average, warn_for)\n",
      "/usr/local/share/.virtualenvs/nlppy3/lib/python3.4/site-packages/sklearn/metrics/classification.py:1115: UndefinedMetricWarning: F-score is ill-defined and being set to 0.0 in labels with no true samples.\n",
      "  'recall', 'true', average, warn_for)\n",
      "/usr/local/share/.virtualenvs/nlppy3/lib/python3.4/site-packages/sklearn/metrics/classification.py:1113: UndefinedMetricWarning: F-score is ill-defined and being set to 0.0 in labels with no predicted samples.\n",
      "  'precision', 'predicted', average, warn_for)\n",
      "/usr/local/share/.virtualenvs/nlppy3/lib/python3.4/site-packages/sklearn/metrics/classification.py:1113: UndefinedMetricWarning: F-score is ill-defined and being set to 0.0 in labels with no predicted samples.\n",
      "  'precision', 'predicted', average, warn_for)\n",
      "/usr/local/share/.virtualenvs/nlppy3/lib/python3.4/site-packages/sklearn/metrics/classification.py:1115: UndefinedMetricWarning: F-score is ill-defined and being set to 0.0 in labels with no true samples.\n",
      "  'recall', 'true', average, warn_for)\n",
      "/usr/local/share/.virtualenvs/nlppy3/lib/python3.4/site-packages/sklearn/metrics/classification.py:1113: UndefinedMetricWarning: F-score is ill-defined and being set to 0.0 in labels with no predicted samples.\n",
      "  'precision', 'predicted', average, warn_for)\n",
      "/usr/local/share/.virtualenvs/nlppy3/lib/python3.4/site-packages/sklearn/metrics/classification.py:1115: UndefinedMetricWarning: F-score is ill-defined and being set to 0.0 in labels with no true samples.\n",
      "  'recall', 'true', average, warn_for)\n",
      "/usr/local/share/.virtualenvs/nlppy3/lib/python3.4/site-packages/sklearn/metrics/classification.py:1113: UndefinedMetricWarning: F-score is ill-defined and being set to 0.0 in labels with no predicted samples.\n",
      "  'precision', 'predicted', average, warn_for)\n",
      "/usr/local/share/.virtualenvs/nlppy3/lib/python3.4/site-packages/sklearn/metrics/classification.py:1115: UndefinedMetricWarning: F-score is ill-defined and being set to 0.0 in labels with no true samples.\n",
      "  'recall', 'true', average, warn_for)\n",
      "/usr/local/share/.virtualenvs/nlppy3/lib/python3.4/site-packages/sklearn/metrics/classification.py:1113: UndefinedMetricWarning: F-score is ill-defined and being set to 0.0 in labels with no predicted samples.\n",
      "  'precision', 'predicted', average, warn_for)\n",
      "/usr/local/share/.virtualenvs/nlppy3/lib/python3.4/site-packages/sklearn/metrics/classification.py:1115: UndefinedMetricWarning: F-score is ill-defined and being set to 0.0 in labels with no true samples.\n",
      "  'recall', 'true', average, warn_for)\n",
      "/usr/local/share/.virtualenvs/nlppy3/lib/python3.4/site-packages/sklearn/metrics/classification.py:1113: UndefinedMetricWarning: F-score is ill-defined and being set to 0.0 in labels with no predicted samples.\n",
      "  'precision', 'predicted', average, warn_for)\n",
      "/usr/local/share/.virtualenvs/nlppy3/lib/python3.4/site-packages/sklearn/metrics/classification.py:1115: UndefinedMetricWarning: F-score is ill-defined and being set to 0.0 in labels with no true samples.\n",
      "  'recall', 'true', average, warn_for)\n",
      "/usr/local/share/.virtualenvs/nlppy3/lib/python3.4/site-packages/sklearn/metrics/classification.py:1113: UndefinedMetricWarning: F-score is ill-defined and being set to 0.0 in labels with no predicted samples.\n",
      "  'precision', 'predicted', average, warn_for)\n",
      "/usr/local/share/.virtualenvs/nlppy3/lib/python3.4/site-packages/sklearn/metrics/classification.py:1115: UndefinedMetricWarning: F-score is ill-defined and being set to 0.0 in labels with no true samples.\n",
      "  'recall', 'true', average, warn_for)\n",
      "/usr/local/share/.virtualenvs/nlppy3/lib/python3.4/site-packages/sklearn/metrics/classification.py:1113: UndefinedMetricWarning: F-score is ill-defined and being set to 0.0 in labels with no predicted samples.\n",
      "  'precision', 'predicted', average, warn_for)\n",
      "/usr/local/share/.virtualenvs/nlppy3/lib/python3.4/site-packages/sklearn/metrics/classification.py:1115: UndefinedMetricWarning: F-score is ill-defined and being set to 0.0 in labels with no true samples.\n",
      "  'recall', 'true', average, warn_for)\n",
      "/usr/local/share/.virtualenvs/nlppy3/lib/python3.4/site-packages/sklearn/metrics/classification.py:1113: UndefinedMetricWarning: F-score is ill-defined and being set to 0.0 in labels with no predicted samples.\n",
      "  'precision', 'predicted', average, warn_for)\n",
      "/usr/local/share/.virtualenvs/nlppy3/lib/python3.4/site-packages/sklearn/metrics/classification.py:1115: UndefinedMetricWarning: F-score is ill-defined and being set to 0.0 in labels with no true samples.\n",
      "  'recall', 'true', average, warn_for)\n",
      "/usr/local/share/.virtualenvs/nlppy3/lib/python3.4/site-packages/sklearn/metrics/classification.py:1113: UndefinedMetricWarning: F-score is ill-defined and being set to 0.0 in labels with no predicted samples.\n",
      "  'precision', 'predicted', average, warn_for)\n",
      "/usr/local/share/.virtualenvs/nlppy3/lib/python3.4/site-packages/sklearn/metrics/classification.py:1115: UndefinedMetricWarning: F-score is ill-defined and being set to 0.0 in labels with no true samples.\n",
      "  'recall', 'true', average, warn_for)\n",
      "/usr/local/share/.virtualenvs/nlppy3/lib/python3.4/site-packages/sklearn/metrics/classification.py:1113: UndefinedMetricWarning: F-score is ill-defined and being set to 0.0 in labels with no predicted samples.\n",
      "  'precision', 'predicted', average, warn_for)\n",
      "/usr/local/share/.virtualenvs/nlppy3/lib/python3.4/site-packages/sklearn/metrics/classification.py:1115: UndefinedMetricWarning: F-score is ill-defined and being set to 0.0 in labels with no true samples.\n",
      "  'recall', 'true', average, warn_for)\n",
      "/usr/local/share/.virtualenvs/nlppy3/lib/python3.4/site-packages/sklearn/metrics/classification.py:1113: UndefinedMetricWarning: F-score is ill-defined and being set to 0.0 in labels with no predicted samples.\n",
      "  'precision', 'predicted', average, warn_for)\n",
      "/usr/local/share/.virtualenvs/nlppy3/lib/python3.4/site-packages/sklearn/metrics/classification.py:1115: UndefinedMetricWarning: F-score is ill-defined and being set to 0.0 in labels with no true samples.\n",
      "  'recall', 'true', average, warn_for)\n",
      "/usr/local/share/.virtualenvs/nlppy3/lib/python3.4/site-packages/sklearn/metrics/classification.py:1113: UndefinedMetricWarning: F-score is ill-defined and being set to 0.0 in labels with no predicted samples.\n",
      "  'precision', 'predicted', average, warn_for)\n",
      "/usr/local/share/.virtualenvs/nlppy3/lib/python3.4/site-packages/sklearn/metrics/classification.py:1115: UndefinedMetricWarning: F-score is ill-defined and being set to 0.0 in labels with no true samples.\n",
      "  'recall', 'true', average, warn_for)\n",
      "/usr/local/share/.virtualenvs/nlppy3/lib/python3.4/site-packages/sklearn/metrics/classification.py:1113: UndefinedMetricWarning: F-score is ill-defined and being set to 0.0 in labels with no predicted samples.\n",
      "  'precision', 'predicted', average, warn_for)\n",
      "/usr/local/share/.virtualenvs/nlppy3/lib/python3.4/site-packages/sklearn/metrics/classification.py:1115: UndefinedMetricWarning: F-score is ill-defined and being set to 0.0 in labels with no true samples.\n",
      "  'recall', 'true', average, warn_for)\n",
      "/usr/local/share/.virtualenvs/nlppy3/lib/python3.4/site-packages/sklearn/metrics/classification.py:1113: UndefinedMetricWarning: F-score is ill-defined and being set to 0.0 in labels with no predicted samples.\n",
      "  'precision', 'predicted', average, warn_for)\n",
      "/usr/local/share/.virtualenvs/nlppy3/lib/python3.4/site-packages/sklearn/metrics/classification.py:1115: UndefinedMetricWarning: F-score is ill-defined and being set to 0.0 in labels with no true samples.\n",
      "  'recall', 'true', average, warn_for)\n",
      "/usr/local/share/.virtualenvs/nlppy3/lib/python3.4/site-packages/sklearn/metrics/classification.py:1113: UndefinedMetricWarning: F-score is ill-defined and being set to 0.0 in labels with no predicted samples.\n",
      "  'precision', 'predicted', average, warn_for)\n",
      "/usr/local/share/.virtualenvs/nlppy3/lib/python3.4/site-packages/sklearn/metrics/classification.py:1115: UndefinedMetricWarning: F-score is ill-defined and being set to 0.0 in labels with no true samples.\n",
      "  'recall', 'true', average, warn_for)\n",
      "/usr/local/share/.virtualenvs/nlppy3/lib/python3.4/site-packages/sklearn/metrics/classification.py:1113: UndefinedMetricWarning: F-score is ill-defined and being set to 0.0 in labels with no predicted samples.\n",
      "  'precision', 'predicted', average, warn_for)\n",
      "/usr/local/share/.virtualenvs/nlppy3/lib/python3.4/site-packages/sklearn/metrics/classification.py:1115: UndefinedMetricWarning: F-score is ill-defined and being set to 0.0 in labels with no true samples.\n",
      "  'recall', 'true', average, warn_for)\n",
      "/usr/local/share/.virtualenvs/nlppy3/lib/python3.4/site-packages/sklearn/metrics/classification.py:1113: UndefinedMetricWarning: F-score is ill-defined and being set to 0.0 in labels with no predicted samples.\n",
      "  'precision', 'predicted', average, warn_for)\n",
      "/usr/local/share/.virtualenvs/nlppy3/lib/python3.4/site-packages/sklearn/metrics/classification.py:1115: UndefinedMetricWarning: F-score is ill-defined and being set to 0.0 in labels with no true samples.\n",
      "  'recall', 'true', average, warn_for)\n",
      "/usr/local/share/.virtualenvs/nlppy3/lib/python3.4/site-packages/sklearn/metrics/classification.py:1113: UndefinedMetricWarning: F-score is ill-defined and being set to 0.0 in labels with no predicted samples.\n",
      "  'precision', 'predicted', average, warn_for)\n",
      "/usr/local/share/.virtualenvs/nlppy3/lib/python3.4/site-packages/sklearn/metrics/classification.py:1115: UndefinedMetricWarning: F-score is ill-defined and being set to 0.0 in labels with no true samples.\n",
      "  'recall', 'true', average, warn_for)\n",
      "/usr/local/share/.virtualenvs/nlppy3/lib/python3.4/site-packages/sklearn/metrics/classification.py:1113: UndefinedMetricWarning: F-score is ill-defined and being set to 0.0 in labels with no predicted samples.\n",
      "  'precision', 'predicted', average, warn_for)\n",
      "/usr/local/share/.virtualenvs/nlppy3/lib/python3.4/site-packages/sklearn/metrics/classification.py:1115: UndefinedMetricWarning: F-score is ill-defined and being set to 0.0 in labels with no true samples.\n",
      "  'recall', 'true', average, warn_for)\n",
      "/usr/local/share/.virtualenvs/nlppy3/lib/python3.4/site-packages/sklearn/metrics/classification.py:1113: UndefinedMetricWarning: F-score is ill-defined and being set to 0.0 in labels with no predicted samples.\n",
      "  'precision', 'predicted', average, warn_for)\n",
      "/usr/local/share/.virtualenvs/nlppy3/lib/python3.4/site-packages/sklearn/metrics/classification.py:1115: UndefinedMetricWarning: F-score is ill-defined and being set to 0.0 in labels with no true samples.\n",
      "  'recall', 'true', average, warn_for)\n",
      "/usr/local/share/.virtualenvs/nlppy3/lib/python3.4/site-packages/sklearn/metrics/classification.py:1113: UndefinedMetricWarning: F-score is ill-defined and being set to 0.0 in labels with no predicted samples.\n",
      "  'precision', 'predicted', average, warn_for)\n",
      "/usr/local/share/.virtualenvs/nlppy3/lib/python3.4/site-packages/sklearn/metrics/classification.py:1115: UndefinedMetricWarning: F-score is ill-defined and being set to 0.0 in labels with no true samples.\n",
      "  'recall', 'true', average, warn_for)\n",
      "/usr/local/share/.virtualenvs/nlppy3/lib/python3.4/site-packages/sklearn/metrics/classification.py:1113: UndefinedMetricWarning: F-score is ill-defined and being set to 0.0 in labels with no predicted samples.\n",
      "  'precision', 'predicted', average, warn_for)\n",
      "/usr/local/share/.virtualenvs/nlppy3/lib/python3.4/site-packages/sklearn/metrics/classification.py:1115: UndefinedMetricWarning: F-score is ill-defined and being set to 0.0 in labels with no true samples.\n",
      "  'recall', 'true', average, warn_for)\n",
      "/usr/local/share/.virtualenvs/nlppy3/lib/python3.4/site-packages/sklearn/metrics/classification.py:1113: UndefinedMetricWarning: F-score is ill-defined and being set to 0.0 in labels with no predicted samples.\n",
      "  'precision', 'predicted', average, warn_for)\n",
      "/usr/local/share/.virtualenvs/nlppy3/lib/python3.4/site-packages/sklearn/metrics/classification.py:1115: UndefinedMetricWarning: F-score is ill-defined and being set to 0.0 in labels with no true samples.\n",
      "  'recall', 'true', average, warn_for)\n",
      "/usr/local/share/.virtualenvs/nlppy3/lib/python3.4/site-packages/sklearn/metrics/classification.py:1113: UndefinedMetricWarning: F-score is ill-defined and being set to 0.0 in labels with no predicted samples.\n",
      "  'precision', 'predicted', average, warn_for)\n",
      "/usr/local/share/.virtualenvs/nlppy3/lib/python3.4/site-packages/sklearn/metrics/classification.py:1115: UndefinedMetricWarning: F-score is ill-defined and being set to 0.0 in labels with no true samples.\n",
      "  'recall', 'true', average, warn_for)\n",
      "/usr/local/share/.virtualenvs/nlppy3/lib/python3.4/site-packages/sklearn/metrics/classification.py:1113: UndefinedMetricWarning: F-score is ill-defined and being set to 0.0 in labels with no predicted samples.\n",
      "  'precision', 'predicted', average, warn_for)\n",
      "/usr/local/share/.virtualenvs/nlppy3/lib/python3.4/site-packages/sklearn/metrics/classification.py:1115: UndefinedMetricWarning: F-score is ill-defined and being set to 0.0 in labels with no true samples.\n",
      "  'recall', 'true', average, warn_for)\n",
      "/usr/local/share/.virtualenvs/nlppy3/lib/python3.4/site-packages/sklearn/metrics/classification.py:1113: UndefinedMetricWarning: F-score is ill-defined and being set to 0.0 in labels with no predicted samples.\n",
      "  'precision', 'predicted', average, warn_for)\n",
      "/usr/local/share/.virtualenvs/nlppy3/lib/python3.4/site-packages/sklearn/metrics/classification.py:1115: UndefinedMetricWarning: F-score is ill-defined and being set to 0.0 in labels with no true samples.\n",
      "  'recall', 'true', average, warn_for)\n",
      "/usr/local/share/.virtualenvs/nlppy3/lib/python3.4/site-packages/sklearn/metrics/classification.py:1113: UndefinedMetricWarning: F-score is ill-defined and being set to 0.0 in labels with no predicted samples.\n",
      "  'precision', 'predicted', average, warn_for)\n",
      "/usr/local/share/.virtualenvs/nlppy3/lib/python3.4/site-packages/sklearn/metrics/classification.py:1115: UndefinedMetricWarning: F-score is ill-defined and being set to 0.0 in labels with no true samples.\n",
      "  'recall', 'true', average, warn_for)\n",
      "/usr/local/share/.virtualenvs/nlppy3/lib/python3.4/site-packages/sklearn/metrics/classification.py:1113: UndefinedMetricWarning: F-score is ill-defined and being set to 0.0 in labels with no predicted samples.\n",
      "  'precision', 'predicted', average, warn_for)\n",
      "/usr/local/share/.virtualenvs/nlppy3/lib/python3.4/site-packages/sklearn/metrics/classification.py:1115: UndefinedMetricWarning: F-score is ill-defined and being set to 0.0 in labels with no true samples.\n",
      "  'recall', 'true', average, warn_for)\n",
      "/usr/local/share/.virtualenvs/nlppy3/lib/python3.4/site-packages/sklearn/metrics/classification.py:1113: UndefinedMetricWarning: F-score is ill-defined and being set to 0.0 in labels with no predicted samples.\n",
      "  'precision', 'predicted', average, warn_for)\n",
      "/usr/local/share/.virtualenvs/nlppy3/lib/python3.4/site-packages/sklearn/metrics/classification.py:1115: UndefinedMetricWarning: F-score is ill-defined and being set to 0.0 in labels with no true samples.\n",
      "  'recall', 'true', average, warn_for)\n",
      "/usr/local/share/.virtualenvs/nlppy3/lib/python3.4/site-packages/sklearn/metrics/classification.py:1113: UndefinedMetricWarning: F-score is ill-defined and being set to 0.0 in labels with no predicted samples.\n",
      "  'precision', 'predicted', average, warn_for)\n",
      "/usr/local/share/.virtualenvs/nlppy3/lib/python3.4/site-packages/sklearn/metrics/classification.py:1115: UndefinedMetricWarning: F-score is ill-defined and being set to 0.0 in labels with no true samples.\n",
      "  'recall', 'true', average, warn_for)\n",
      "/usr/local/share/.virtualenvs/nlppy3/lib/python3.4/site-packages/sklearn/metrics/classification.py:1113: UndefinedMetricWarning: F-score is ill-defined and being set to 0.0 in labels with no predicted samples.\n",
      "  'precision', 'predicted', average, warn_for)\n",
      "/usr/local/share/.virtualenvs/nlppy3/lib/python3.4/site-packages/sklearn/metrics/classification.py:1115: UndefinedMetricWarning: F-score is ill-defined and being set to 0.0 in labels with no true samples.\n",
      "  'recall', 'true', average, warn_for)\n",
      "/usr/local/share/.virtualenvs/nlppy3/lib/python3.4/site-packages/sklearn/metrics/classification.py:1113: UndefinedMetricWarning: F-score is ill-defined and being set to 0.0 in labels with no predicted samples.\n",
      "  'precision', 'predicted', average, warn_for)\n",
      "/usr/local/share/.virtualenvs/nlppy3/lib/python3.4/site-packages/sklearn/metrics/classification.py:1115: UndefinedMetricWarning: F-score is ill-defined and being set to 0.0 in labels with no true samples.\n",
      "  'recall', 'true', average, warn_for)\n",
      "/usr/local/share/.virtualenvs/nlppy3/lib/python3.4/site-packages/sklearn/metrics/classification.py:1113: UndefinedMetricWarning: F-score is ill-defined and being set to 0.0 in labels with no predicted samples.\n",
      "  'precision', 'predicted', average, warn_for)\n",
      "/usr/local/share/.virtualenvs/nlppy3/lib/python3.4/site-packages/sklearn/metrics/classification.py:1115: UndefinedMetricWarning: F-score is ill-defined and being set to 0.0 in labels with no true samples.\n",
      "  'recall', 'true', average, warn_for)\n",
      "/usr/local/share/.virtualenvs/nlppy3/lib/python3.4/site-packages/sklearn/metrics/classification.py:1113: UndefinedMetricWarning: F-score is ill-defined and being set to 0.0 in labels with no predicted samples.\n",
      "  'precision', 'predicted', average, warn_for)\n",
      "/usr/local/share/.virtualenvs/nlppy3/lib/python3.4/site-packages/sklearn/metrics/classification.py:1115: UndefinedMetricWarning: F-score is ill-defined and being set to 0.0 in labels with no true samples.\n",
      "  'recall', 'true', average, warn_for)\n",
      "/usr/local/share/.virtualenvs/nlppy3/lib/python3.4/site-packages/sklearn/metrics/classification.py:1113: UndefinedMetricWarning: F-score is ill-defined and being set to 0.0 in labels with no predicted samples.\n",
      "  'precision', 'predicted', average, warn_for)\n",
      "/usr/local/share/.virtualenvs/nlppy3/lib/python3.4/site-packages/sklearn/metrics/classification.py:1115: UndefinedMetricWarning: F-score is ill-defined and being set to 0.0 in labels with no true samples.\n",
      "  'recall', 'true', average, warn_for)\n",
      "/usr/local/share/.virtualenvs/nlppy3/lib/python3.4/site-packages/sklearn/metrics/classification.py:1113: UndefinedMetricWarning: F-score is ill-defined and being set to 0.0 in labels with no predicted samples.\n",
      "  'precision', 'predicted', average, warn_for)\n",
      "/usr/local/share/.virtualenvs/nlppy3/lib/python3.4/site-packages/sklearn/metrics/classification.py:1115: UndefinedMetricWarning: F-score is ill-defined and being set to 0.0 in labels with no true samples.\n",
      "  'recall', 'true', average, warn_for)\n",
      "/usr/local/share/.virtualenvs/nlppy3/lib/python3.4/site-packages/sklearn/metrics/classification.py:1113: UndefinedMetricWarning: F-score is ill-defined and being set to 0.0 in labels with no predicted samples.\n",
      "  'precision', 'predicted', average, warn_for)\n",
      "/usr/local/share/.virtualenvs/nlppy3/lib/python3.4/site-packages/sklearn/metrics/classification.py:1115: UndefinedMetricWarning: F-score is ill-defined and being set to 0.0 in labels with no true samples.\n",
      "  'recall', 'true', average, warn_for)\n",
      "/usr/local/share/.virtualenvs/nlppy3/lib/python3.4/site-packages/sklearn/metrics/classification.py:1113: UndefinedMetricWarning: F-score is ill-defined and being set to 0.0 in labels with no predicted samples.\n",
      "  'precision', 'predicted', average, warn_for)\n",
      "/usr/local/share/.virtualenvs/nlppy3/lib/python3.4/site-packages/sklearn/metrics/classification.py:1115: UndefinedMetricWarning: F-score is ill-defined and being set to 0.0 in labels with no true samples.\n",
      "  'recall', 'true', average, warn_for)\n",
      "/usr/local/share/.virtualenvs/nlppy3/lib/python3.4/site-packages/sklearn/metrics/classification.py:1113: UndefinedMetricWarning: F-score is ill-defined and being set to 0.0 in labels with no predicted samples.\n",
      "  'precision', 'predicted', average, warn_for)\n",
      "/usr/local/share/.virtualenvs/nlppy3/lib/python3.4/site-packages/sklearn/metrics/classification.py:1115: UndefinedMetricWarning: F-score is ill-defined and being set to 0.0 in labels with no true samples.\n",
      "  'recall', 'true', average, warn_for)\n",
      "/usr/local/share/.virtualenvs/nlppy3/lib/python3.4/site-packages/sklearn/metrics/classification.py:1113: UndefinedMetricWarning: F-score is ill-defined and being set to 0.0 in labels with no predicted samples.\n",
      "  'precision', 'predicted', average, warn_for)\n",
      "/usr/local/share/.virtualenvs/nlppy3/lib/python3.4/site-packages/sklearn/metrics/classification.py:1115: UndefinedMetricWarning: F-score is ill-defined and being set to 0.0 in labels with no true samples.\n",
      "  'recall', 'true', average, warn_for)\n",
      "/usr/local/share/.virtualenvs/nlppy3/lib/python3.4/site-packages/sklearn/metrics/classification.py:1113: UndefinedMetricWarning: F-score is ill-defined and being set to 0.0 in labels with no predicted samples.\n",
      "  'precision', 'predicted', average, warn_for)\n",
      "/usr/local/share/.virtualenvs/nlppy3/lib/python3.4/site-packages/sklearn/metrics/classification.py:1115: UndefinedMetricWarning: F-score is ill-defined and being set to 0.0 in labels with no true samples.\n",
      "  'recall', 'true', average, warn_for)\n",
      "/usr/local/share/.virtualenvs/nlppy3/lib/python3.4/site-packages/sklearn/metrics/classification.py:1113: UndefinedMetricWarning: F-score is ill-defined and being set to 0.0 in labels with no predicted samples.\n",
      "  'precision', 'predicted', average, warn_for)\n",
      "/usr/local/share/.virtualenvs/nlppy3/lib/python3.4/site-packages/sklearn/metrics/classification.py:1115: UndefinedMetricWarning: F-score is ill-defined and being set to 0.0 in labels with no true samples.\n",
      "  'recall', 'true', average, warn_for)\n",
      "/usr/local/share/.virtualenvs/nlppy3/lib/python3.4/site-packages/sklearn/metrics/classification.py:1113: UndefinedMetricWarning: F-score is ill-defined and being set to 0.0 in labels with no predicted samples.\n",
      "  'precision', 'predicted', average, warn_for)\n",
      "/usr/local/share/.virtualenvs/nlppy3/lib/python3.4/site-packages/sklearn/metrics/classification.py:1115: UndefinedMetricWarning: F-score is ill-defined and being set to 0.0 in labels with no true samples.\n",
      "  'recall', 'true', average, warn_for)\n",
      "/usr/local/share/.virtualenvs/nlppy3/lib/python3.4/site-packages/sklearn/metrics/classification.py:1113: UndefinedMetricWarning: F-score is ill-defined and being set to 0.0 in labels with no predicted samples.\n",
      "  'precision', 'predicted', average, warn_for)\n",
      "/usr/local/share/.virtualenvs/nlppy3/lib/python3.4/site-packages/sklearn/metrics/classification.py:1115: UndefinedMetricWarning: F-score is ill-defined and being set to 0.0 in labels with no true samples.\n",
      "  'recall', 'true', average, warn_for)\n",
      "/usr/local/share/.virtualenvs/nlppy3/lib/python3.4/site-packages/sklearn/metrics/classification.py:1113: UndefinedMetricWarning: F-score is ill-defined and being set to 0.0 in labels with no predicted samples.\n",
      "  'precision', 'predicted', average, warn_for)\n",
      "/usr/local/share/.virtualenvs/nlppy3/lib/python3.4/site-packages/sklearn/metrics/classification.py:1115: UndefinedMetricWarning: F-score is ill-defined and being set to 0.0 in labels with no true samples.\n",
      "  'recall', 'true', average, warn_for)\n",
      "/usr/local/share/.virtualenvs/nlppy3/lib/python3.4/site-packages/sklearn/metrics/classification.py:1113: UndefinedMetricWarning: F-score is ill-defined and being set to 0.0 in labels with no predicted samples.\n",
      "  'precision', 'predicted', average, warn_for)\n",
      "/usr/local/share/.virtualenvs/nlppy3/lib/python3.4/site-packages/sklearn/metrics/classification.py:1115: UndefinedMetricWarning: F-score is ill-defined and being set to 0.0 in labels with no true samples.\n",
      "  'recall', 'true', average, warn_for)\n",
      "/usr/local/share/.virtualenvs/nlppy3/lib/python3.4/site-packages/sklearn/metrics/classification.py:1113: UndefinedMetricWarning: F-score is ill-defined and being set to 0.0 in labels with no predicted samples.\n",
      "  'precision', 'predicted', average, warn_for)\n",
      "/usr/local/share/.virtualenvs/nlppy3/lib/python3.4/site-packages/sklearn/metrics/classification.py:1115: UndefinedMetricWarning: F-score is ill-defined and being set to 0.0 in labels with no true samples.\n",
      "  'recall', 'true', average, warn_for)\n",
      "/usr/local/share/.virtualenvs/nlppy3/lib/python3.4/site-packages/sklearn/metrics/classification.py:1113: UndefinedMetricWarning: F-score is ill-defined and being set to 0.0 in labels with no predicted samples.\n",
      "  'precision', 'predicted', average, warn_for)\n",
      "/usr/local/share/.virtualenvs/nlppy3/lib/python3.4/site-packages/sklearn/metrics/classification.py:1115: UndefinedMetricWarning: F-score is ill-defined and being set to 0.0 in labels with no true samples.\n",
      "  'recall', 'true', average, warn_for)\n",
      "/usr/local/share/.virtualenvs/nlppy3/lib/python3.4/site-packages/sklearn/metrics/classification.py:1113: UndefinedMetricWarning: F-score is ill-defined and being set to 0.0 in labels with no predicted samples.\n",
      "  'precision', 'predicted', average, warn_for)\n",
      "/usr/local/share/.virtualenvs/nlppy3/lib/python3.4/site-packages/sklearn/metrics/classification.py:1115: UndefinedMetricWarning: F-score is ill-defined and being set to 0.0 in labels with no true samples.\n",
      "  'recall', 'true', average, warn_for)\n",
      "/usr/local/share/.virtualenvs/nlppy3/lib/python3.4/site-packages/sklearn/metrics/classification.py:1113: UndefinedMetricWarning: F-score is ill-defined and being set to 0.0 in labels with no predicted samples.\n",
      "  'precision', 'predicted', average, warn_for)\n",
      "/usr/local/share/.virtualenvs/nlppy3/lib/python3.4/site-packages/sklearn/metrics/classification.py:1115: UndefinedMetricWarning: F-score is ill-defined and being set to 0.0 in labels with no true samples.\n",
      "  'recall', 'true', average, warn_for)\n",
      "/usr/local/share/.virtualenvs/nlppy3/lib/python3.4/site-packages/sklearn/metrics/classification.py:1113: UndefinedMetricWarning: F-score is ill-defined and being set to 0.0 in labels with no predicted samples.\n",
      "  'precision', 'predicted', average, warn_for)\n",
      "/usr/local/share/.virtualenvs/nlppy3/lib/python3.4/site-packages/sklearn/metrics/classification.py:1115: UndefinedMetricWarning: F-score is ill-defined and being set to 0.0 in labels with no true samples.\n",
      "  'recall', 'true', average, warn_for)\n",
      "/usr/local/share/.virtualenvs/nlppy3/lib/python3.4/site-packages/sklearn/metrics/classification.py:1113: UndefinedMetricWarning: F-score is ill-defined and being set to 0.0 in labels with no predicted samples.\n",
      "  'precision', 'predicted', average, warn_for)\n",
      "/usr/local/share/.virtualenvs/nlppy3/lib/python3.4/site-packages/sklearn/metrics/classification.py:1115: UndefinedMetricWarning: F-score is ill-defined and being set to 0.0 in labels with no true samples.\n",
      "  'recall', 'true', average, warn_for)\n",
      "/usr/local/share/.virtualenvs/nlppy3/lib/python3.4/site-packages/sklearn/metrics/classification.py:1113: UndefinedMetricWarning: F-score is ill-defined and being set to 0.0 in labels with no predicted samples.\n",
      "  'precision', 'predicted', average, warn_for)\n",
      "/usr/local/share/.virtualenvs/nlppy3/lib/python3.4/site-packages/sklearn/metrics/classification.py:1115: UndefinedMetricWarning: F-score is ill-defined and being set to 0.0 in labels with no true samples.\n",
      "  'recall', 'true', average, warn_for)\n",
      "/usr/local/share/.virtualenvs/nlppy3/lib/python3.4/site-packages/sklearn/metrics/classification.py:1113: UndefinedMetricWarning: F-score is ill-defined and being set to 0.0 in labels with no predicted samples.\n",
      "  'precision', 'predicted', average, warn_for)\n",
      "/usr/local/share/.virtualenvs/nlppy3/lib/python3.4/site-packages/sklearn/metrics/classification.py:1115: UndefinedMetricWarning: F-score is ill-defined and being set to 0.0 in labels with no true samples.\n",
      "  'recall', 'true', average, warn_for)\n",
      "/usr/local/share/.virtualenvs/nlppy3/lib/python3.4/site-packages/sklearn/metrics/classification.py:1113: UndefinedMetricWarning: F-score is ill-defined and being set to 0.0 in labels with no predicted samples.\n",
      "  'precision', 'predicted', average, warn_for)\n",
      "/usr/local/share/.virtualenvs/nlppy3/lib/python3.4/site-packages/sklearn/metrics/classification.py:1115: UndefinedMetricWarning: F-score is ill-defined and being set to 0.0 in labels with no true samples.\n",
      "  'recall', 'true', average, warn_for)\n",
      "/usr/local/share/.virtualenvs/nlppy3/lib/python3.4/site-packages/sklearn/metrics/classification.py:1113: UndefinedMetricWarning: F-score is ill-defined and being set to 0.0 in labels with no predicted samples.\n",
      "  'precision', 'predicted', average, warn_for)\n",
      "/usr/local/share/.virtualenvs/nlppy3/lib/python3.4/site-packages/sklearn/metrics/classification.py:1115: UndefinedMetricWarning: F-score is ill-defined and being set to 0.0 in labels with no true samples.\n",
      "  'recall', 'true', average, warn_for)\n",
      "/usr/local/share/.virtualenvs/nlppy3/lib/python3.4/site-packages/sklearn/metrics/classification.py:1113: UndefinedMetricWarning: F-score is ill-defined and being set to 0.0 in labels with no predicted samples.\n",
      "  'precision', 'predicted', average, warn_for)\n",
      "/usr/local/share/.virtualenvs/nlppy3/lib/python3.4/site-packages/sklearn/metrics/classification.py:1115: UndefinedMetricWarning: F-score is ill-defined and being set to 0.0 in labels with no true samples.\n",
      "  'recall', 'true', average, warn_for)\n",
      "/usr/local/share/.virtualenvs/nlppy3/lib/python3.4/site-packages/sklearn/metrics/classification.py:1113: UndefinedMetricWarning: F-score is ill-defined and being set to 0.0 in labels with no predicted samples.\n",
      "  'precision', 'predicted', average, warn_for)\n",
      "/usr/local/share/.virtualenvs/nlppy3/lib/python3.4/site-packages/sklearn/metrics/classification.py:1115: UndefinedMetricWarning: F-score is ill-defined and being set to 0.0 in labels with no true samples.\n",
      "  'recall', 'true', average, warn_for)\n",
      "/usr/local/share/.virtualenvs/nlppy3/lib/python3.4/site-packages/sklearn/metrics/classification.py:1113: UndefinedMetricWarning: F-score is ill-defined and being set to 0.0 in labels with no predicted samples.\n",
      "  'precision', 'predicted', average, warn_for)\n",
      "/usr/local/share/.virtualenvs/nlppy3/lib/python3.4/site-packages/sklearn/metrics/classification.py:1115: UndefinedMetricWarning: F-score is ill-defined and being set to 0.0 in labels with no true samples.\n",
      "  'recall', 'true', average, warn_for)\n",
      "/usr/local/share/.virtualenvs/nlppy3/lib/python3.4/site-packages/sklearn/metrics/classification.py:1113: UndefinedMetricWarning: F-score is ill-defined and being set to 0.0 in labels with no predicted samples.\n",
      "  'precision', 'predicted', average, warn_for)\n",
      "/usr/local/share/.virtualenvs/nlppy3/lib/python3.4/site-packages/sklearn/metrics/classification.py:1115: UndefinedMetricWarning: F-score is ill-defined and being set to 0.0 in labels with no true samples.\n",
      "  'recall', 'true', average, warn_for)\n",
      "/usr/local/share/.virtualenvs/nlppy3/lib/python3.4/site-packages/sklearn/metrics/classification.py:1113: UndefinedMetricWarning: F-score is ill-defined and being set to 0.0 in labels with no predicted samples.\n",
      "  'precision', 'predicted', average, warn_for)\n",
      "/usr/local/share/.virtualenvs/nlppy3/lib/python3.4/site-packages/sklearn/metrics/classification.py:1115: UndefinedMetricWarning: F-score is ill-defined and being set to 0.0 in labels with no true samples.\n",
      "  'recall', 'true', average, warn_for)\n",
      "/usr/local/share/.virtualenvs/nlppy3/lib/python3.4/site-packages/sklearn/metrics/classification.py:1113: UndefinedMetricWarning: F-score is ill-defined and being set to 0.0 in labels with no predicted samples.\n",
      "  'precision', 'predicted', average, warn_for)\n",
      "/usr/local/share/.virtualenvs/nlppy3/lib/python3.4/site-packages/sklearn/metrics/classification.py:1115: UndefinedMetricWarning: F-score is ill-defined and being set to 0.0 in labels with no true samples.\n",
      "  'recall', 'true', average, warn_for)\n",
      "/usr/local/share/.virtualenvs/nlppy3/lib/python3.4/site-packages/sklearn/metrics/classification.py:1113: UndefinedMetricWarning: F-score is ill-defined and being set to 0.0 in labels with no predicted samples.\n",
      "  'precision', 'predicted', average, warn_for)\n",
      "/usr/local/share/.virtualenvs/nlppy3/lib/python3.4/site-packages/sklearn/metrics/classification.py:1115: UndefinedMetricWarning: F-score is ill-defined and being set to 0.0 in labels with no true samples.\n",
      "  'recall', 'true', average, warn_for)\n",
      "/usr/local/share/.virtualenvs/nlppy3/lib/python3.4/site-packages/sklearn/metrics/classification.py:1113: UndefinedMetricWarning: F-score is ill-defined and being set to 0.0 in labels with no predicted samples.\n",
      "  'precision', 'predicted', average, warn_for)\n",
      "/usr/local/share/.virtualenvs/nlppy3/lib/python3.4/site-packages/sklearn/metrics/classification.py:1115: UndefinedMetricWarning: F-score is ill-defined and being set to 0.0 in labels with no true samples.\n",
      "  'recall', 'true', average, warn_for)\n",
      "/usr/local/share/.virtualenvs/nlppy3/lib/python3.4/site-packages/sklearn/metrics/classification.py:1113: UndefinedMetricWarning: F-score is ill-defined and being set to 0.0 in labels with no predicted samples.\n",
      "  'precision', 'predicted', average, warn_for)\n",
      "/usr/local/share/.virtualenvs/nlppy3/lib/python3.4/site-packages/sklearn/metrics/classification.py:1115: UndefinedMetricWarning: F-score is ill-defined and being set to 0.0 in labels with no true samples.\n",
      "  'recall', 'true', average, warn_for)\n",
      "/usr/local/share/.virtualenvs/nlppy3/lib/python3.4/site-packages/sklearn/metrics/classification.py:1113: UndefinedMetricWarning: F-score is ill-defined and being set to 0.0 in labels with no predicted samples.\n",
      "  'precision', 'predicted', average, warn_for)\n",
      "/usr/local/share/.virtualenvs/nlppy3/lib/python3.4/site-packages/sklearn/metrics/classification.py:1115: UndefinedMetricWarning: F-score is ill-defined and being set to 0.0 in labels with no true samples.\n",
      "  'recall', 'true', average, warn_for)\n",
      "/usr/local/share/.virtualenvs/nlppy3/lib/python3.4/site-packages/sklearn/metrics/classification.py:1113: UndefinedMetricWarning: F-score is ill-defined and being set to 0.0 in labels with no predicted samples.\n",
      "  'precision', 'predicted', average, warn_for)\n",
      "/usr/local/share/.virtualenvs/nlppy3/lib/python3.4/site-packages/sklearn/metrics/classification.py:1115: UndefinedMetricWarning: F-score is ill-defined and being set to 0.0 in labels with no true samples.\n",
      "  'recall', 'true', average, warn_for)\n",
      "/usr/local/share/.virtualenvs/nlppy3/lib/python3.4/site-packages/sklearn/metrics/classification.py:1113: UndefinedMetricWarning: F-score is ill-defined and being set to 0.0 in labels with no predicted samples.\n",
      "  'precision', 'predicted', average, warn_for)\n",
      "/usr/local/share/.virtualenvs/nlppy3/lib/python3.4/site-packages/sklearn/metrics/classification.py:1115: UndefinedMetricWarning: F-score is ill-defined and being set to 0.0 in labels with no true samples.\n",
      "  'recall', 'true', average, warn_for)\n",
      "/usr/local/share/.virtualenvs/nlppy3/lib/python3.4/site-packages/sklearn/metrics/classification.py:1113: UndefinedMetricWarning: F-score is ill-defined and being set to 0.0 in labels with no predicted samples.\n",
      "  'precision', 'predicted', average, warn_for)\n",
      "/usr/local/share/.virtualenvs/nlppy3/lib/python3.4/site-packages/sklearn/metrics/classification.py:1115: UndefinedMetricWarning: F-score is ill-defined and being set to 0.0 in labels with no true samples.\n",
      "  'recall', 'true', average, warn_for)\n",
      "/usr/local/share/.virtualenvs/nlppy3/lib/python3.4/site-packages/sklearn/metrics/classification.py:1113: UndefinedMetricWarning: F-score is ill-defined and being set to 0.0 in labels with no predicted samples.\n",
      "  'precision', 'predicted', average, warn_for)\n",
      "/usr/local/share/.virtualenvs/nlppy3/lib/python3.4/site-packages/sklearn/metrics/classification.py:1115: UndefinedMetricWarning: F-score is ill-defined and being set to 0.0 in labels with no true samples.\n",
      "  'recall', 'true', average, warn_for)\n",
      "/usr/local/share/.virtualenvs/nlppy3/lib/python3.4/site-packages/sklearn/metrics/classification.py:1113: UndefinedMetricWarning: F-score is ill-defined and being set to 0.0 in labels with no predicted samples.\n",
      "  'precision', 'predicted', average, warn_for)\n",
      "/usr/local/share/.virtualenvs/nlppy3/lib/python3.4/site-packages/sklearn/metrics/classification.py:1115: UndefinedMetricWarning: F-score is ill-defined and being set to 0.0 in labels with no true samples.\n",
      "  'recall', 'true', average, warn_for)\n",
      "/usr/local/share/.virtualenvs/nlppy3/lib/python3.4/site-packages/sklearn/metrics/classification.py:1113: UndefinedMetricWarning: F-score is ill-defined and being set to 0.0 in labels with no predicted samples.\n",
      "  'precision', 'predicted', average, warn_for)\n",
      "/usr/local/share/.virtualenvs/nlppy3/lib/python3.4/site-packages/sklearn/metrics/classification.py:1115: UndefinedMetricWarning: F-score is ill-defined and being set to 0.0 in labels with no true samples.\n",
      "  'recall', 'true', average, warn_for)\n",
      "/usr/local/share/.virtualenvs/nlppy3/lib/python3.4/site-packages/sklearn/metrics/classification.py:1113: UndefinedMetricWarning: F-score is ill-defined and being set to 0.0 in labels with no predicted samples.\n",
      "  'precision', 'predicted', average, warn_for)\n",
      "/usr/local/share/.virtualenvs/nlppy3/lib/python3.4/site-packages/sklearn/metrics/classification.py:1115: UndefinedMetricWarning: F-score is ill-defined and being set to 0.0 in labels with no true samples.\n",
      "  'recall', 'true', average, warn_for)\n",
      "/usr/local/share/.virtualenvs/nlppy3/lib/python3.4/site-packages/sklearn/metrics/classification.py:1113: UndefinedMetricWarning: F-score is ill-defined and being set to 0.0 in labels with no predicted samples.\n",
      "  'precision', 'predicted', average, warn_for)\n",
      "/usr/local/share/.virtualenvs/nlppy3/lib/python3.4/site-packages/sklearn/metrics/classification.py:1115: UndefinedMetricWarning: F-score is ill-defined and being set to 0.0 in labels with no true samples.\n",
      "  'recall', 'true', average, warn_for)\n",
      "/usr/local/share/.virtualenvs/nlppy3/lib/python3.4/site-packages/sklearn/metrics/classification.py:1113: UndefinedMetricWarning: F-score is ill-defined and being set to 0.0 in labels with no predicted samples.\n",
      "  'precision', 'predicted', average, warn_for)\n",
      "/usr/local/share/.virtualenvs/nlppy3/lib/python3.4/site-packages/sklearn/metrics/classification.py:1115: UndefinedMetricWarning: F-score is ill-defined and being set to 0.0 in labels with no true samples.\n",
      "  'recall', 'true', average, warn_for)\n",
      "/usr/local/share/.virtualenvs/nlppy3/lib/python3.4/site-packages/sklearn/metrics/classification.py:1113: UndefinedMetricWarning: F-score is ill-defined and being set to 0.0 in labels with no predicted samples.\n",
      "  'precision', 'predicted', average, warn_for)\n",
      "/usr/local/share/.virtualenvs/nlppy3/lib/python3.4/site-packages/sklearn/metrics/classification.py:1115: UndefinedMetricWarning: F-score is ill-defined and being set to 0.0 in labels with no true samples.\n",
      "  'recall', 'true', average, warn_for)\n",
      "/usr/local/share/.virtualenvs/nlppy3/lib/python3.4/site-packages/sklearn/metrics/classification.py:1113: UndefinedMetricWarning: F-score is ill-defined and being set to 0.0 in labels with no predicted samples.\n",
      "  'precision', 'predicted', average, warn_for)\n",
      "/usr/local/share/.virtualenvs/nlppy3/lib/python3.4/site-packages/sklearn/metrics/classification.py:1115: UndefinedMetricWarning: F-score is ill-defined and being set to 0.0 in labels with no true samples.\n",
      "  'recall', 'true', average, warn_for)\n",
      "/usr/local/share/.virtualenvs/nlppy3/lib/python3.4/site-packages/sklearn/metrics/classification.py:1113: UndefinedMetricWarning: F-score is ill-defined and being set to 0.0 in labels with no predicted samples.\n",
      "  'precision', 'predicted', average, warn_for)\n",
      "/usr/local/share/.virtualenvs/nlppy3/lib/python3.4/site-packages/sklearn/metrics/classification.py:1115: UndefinedMetricWarning: F-score is ill-defined and being set to 0.0 in labels with no true samples.\n",
      "  'recall', 'true', average, warn_for)\n",
      "/usr/local/share/.virtualenvs/nlppy3/lib/python3.4/site-packages/sklearn/metrics/classification.py:1113: UndefinedMetricWarning: F-score is ill-defined and being set to 0.0 in labels with no predicted samples.\n",
      "  'precision', 'predicted', average, warn_for)\n",
      "/usr/local/share/.virtualenvs/nlppy3/lib/python3.4/site-packages/sklearn/metrics/classification.py:1115: UndefinedMetricWarning: F-score is ill-defined and being set to 0.0 in labels with no true samples.\n",
      "  'recall', 'true', average, warn_for)\n",
      "/usr/local/share/.virtualenvs/nlppy3/lib/python3.4/site-packages/sklearn/metrics/classification.py:1113: UndefinedMetricWarning: F-score is ill-defined and being set to 0.0 in labels with no predicted samples.\n",
      "  'precision', 'predicted', average, warn_for)\n",
      "/usr/local/share/.virtualenvs/nlppy3/lib/python3.4/site-packages/sklearn/metrics/classification.py:1115: UndefinedMetricWarning: F-score is ill-defined and being set to 0.0 in labels with no true samples.\n",
      "  'recall', 'true', average, warn_for)\n",
      "[Parallel(n_jobs=-1)]: Done 150 out of 150 | elapsed:  5.4min finished\n"
     ]
    },
    {
     "name": "stdout",
     "output_type": "stream",
     "text": [
      "CPU times: user 1min 18s, sys: 2.31 s, total: 1min 21s\n",
      "Wall time: 6min 5s\n"
     ]
    }
   ],
   "source": [
    "%%time\n",
    "# define fixed parameters and parameters to search\n",
    "crf = sklearn_crfsuite.CRF(\n",
    "    algorithm='lbfgs',\n",
    "    max_iterations=100,\n",
    "    all_possible_transitions=True\n",
    ")\n",
    "params_space = {\n",
    "    'c1': scipy.stats.expon(scale=0.5),\n",
    "    'c2': scipy.stats.expon(scale=0.05),\n",
    "}\n",
    "\n",
    "# use the same metric for evaluation\n",
    "f1_scorer = make_scorer(metrics.flat_f1_score,\n",
    "                        average='weighted', labels=labels)\n",
    "\n",
    "# search\n",
    "rs = RandomizedSearchCV(crf, params_space,\n",
    "                        cv=3,\n",
    "                        verbose=1,\n",
    "                        n_jobs=-1,\n",
    "                        n_iter=50,\n",
    "                        scoring=f1_scorer)\n",
    "rs.fit(X_train, y_train)"
   ]
  },
  {
   "cell_type": "code",
   "execution_count": 107,
   "metadata": {
    "nbpresent": {
     "id": "1e8c5761-4bc8-4bfc-8583-38e3704dc10e"
    }
   },
   "outputs": [
    {
     "name": "stdout",
     "output_type": "stream",
     "text": [
      "best params: {'c1': 0.05839310106111339, 'c2': 0.008184205122822818}\n",
      "best CV score: 0.6701704845609529\n",
      "model size: 0.81M\n"
     ]
    }
   ],
   "source": [
    "# crf = rs.best_estimator_\n",
    "print('best params:', rs.best_params_)\n",
    "print('best CV score:', rs.best_score_)\n",
    "print('model size: {:0.2f}M'.format(rs.best_estimator_.size_ / 1000000))"
   ]
  },
  {
   "cell_type": "code",
   "execution_count": 109,
   "metadata": {
    "nbpresent": {
     "id": "cdacb4eb-bfbd-4af4-a610-c71dc721102c"
    }
   },
   "outputs": [
    {
     "name": "stdout",
     "output_type": "stream",
     "text": [
      "                        precision    recall  f1-score   support\n",
      "\n",
      "                   B-*      1.000     0.833     0.909         6\n",
      "                   I-*      1.000     0.500     0.667         2\n",
      "          B-DATEletter      1.000     1.000     1.000        49\n",
      "          I-DATEletter      0.969     1.000     0.984       126\n",
      "       B-DATEmentioned      0.800     0.286     0.421        14\n",
      "       I-DATEmentioned      0.625     0.333     0.435        30\n",
      "       B-DATEpoststamp      0.000     0.000     0.000         0\n",
      "       I-DATEpoststamp      0.000     0.000     0.000         0\n",
      "                 B-LIT      0.636     0.326     0.431        43\n",
      "                 I-LIT      0.500     0.305     0.379        59\n",
      "                B-MISC      1.000     0.167     0.286         6\n",
      "                I-MISC      0.000     0.000     0.000         0\n",
      "         B-OBJbuilding      0.000     0.000     0.000         0\n",
      "         I-OBJbuilding      0.000     0.000     0.000         0\n",
      "       B-OBJindividual      0.867     0.419     0.565        31\n",
      "       I-OBJindividual      0.778     0.424     0.549        33\n",
      "B-OBJmultipartmonument      0.000     0.000     0.000         6\n",
      "I-OBJmultipartmonument      0.000     0.000     0.000         1\n",
      "      B-OBJpartofbuild      0.000     0.000     0.000         0\n",
      "       B-OBJtopography      0.000     0.000     0.000         1\n",
      "       I-OBJtopography      0.000     0.000     0.000         0\n",
      "        B-ORGmentioned      0.579     0.440     0.500        25\n",
      "        I-ORGmentioned      0.643     0.300     0.409        30\n",
      "        B-PERaddressee      0.978     0.900     0.938        50\n",
      "        I-PERaddressee      0.692     0.692     0.692        13\n",
      "           B-PERauthor      1.000     0.949     0.974        59\n",
      "           I-PERauthor      0.875     0.778     0.824         9\n",
      "        B-PERmentioned      0.805     0.765     0.784       183\n",
      "        I-PERmentioned      0.718     0.491     0.583        57\n",
      "           B-PLACEfrom      1.000     0.959     0.979        49\n",
      "           I-PLACEfrom      0.000     0.000     0.000         5\n",
      "      B-PLACEmentioned      0.898     0.746     0.815        59\n",
      "      I-PLACEmentioned      0.000     0.000     0.000         8\n",
      "\n",
      "           avg / total      0.810     0.682     0.729       954\n",
      "\n"
     ]
    },
    {
     "name": "stderr",
     "output_type": "stream",
     "text": [
      "/usr/local/share/.virtualenvs/nlppy3/lib/python3.4/site-packages/sklearn/metrics/classification.py:1113: UndefinedMetricWarning: Precision and F-score are ill-defined and being set to 0.0 in labels with no predicted samples.\n",
      "  'precision', 'predicted', average, warn_for)\n",
      "/usr/local/share/.virtualenvs/nlppy3/lib/python3.4/site-packages/sklearn/metrics/classification.py:1115: UndefinedMetricWarning: Recall and F-score are ill-defined and being set to 0.0 in labels with no true samples.\n",
      "  'recall', 'true', average, warn_for)\n"
     ]
    }
   ],
   "source": [
    "crf = rs.best_estimator_\n",
    "y_pred = crf.predict(X_test)\n",
    "print(metrics.flat_classification_report(\n",
    "    y_test, y_pred, labels=sorted_labels, digits=3\n",
    "))"
   ]
  },
  {
   "cell_type": "markdown",
   "metadata": {
    "nbpresent": {
     "id": "6dbdb363-7faa-45f2-8657-0338aa3fecc4"
    }
   },
   "source": [
    "### What the classifier learned"
   ]
  },
  {
   "cell_type": "code",
   "execution_count": 110,
   "metadata": {
    "nbpresent": {
     "id": "edf68459-afa2-438a-bbf2-15ed53bb5ef8"
    }
   },
   "outputs": [
    {
     "name": "stdout",
     "output_type": "stream",
     "text": [
      "Top likely transitions:\n",
      "I-DATEmentioned -> I-DATEmentioned 7.009593\n",
      "B-OBJtopography -> I-OBJtopography 6.890013\n",
      "I-OBJtopography -> I-OBJtopography 6.774018\n",
      "I-PLACEmentioned -> I-PLACEmentioned 6.730179\n",
      "O      -> O       6.563014\n",
      "I-MISC -> I-MISC  6.347162\n",
      "I-OBJmultipartmonument -> I-OBJmultipartmonument 6.320063\n",
      "I-ORGmentioned -> I-ORGmentioned 6.223036\n",
      "I-LIT  -> I-LIT   6.187674\n",
      "B-DATEletter -> I-DATEletter 6.109272\n",
      "I-OBJindividual -> I-OBJindividual 5.728987\n",
      "B-OBJindividual -> I-OBJindividual 5.720990\n",
      "I-DATEpoststamp -> I-DATEpoststamp 5.659648\n",
      "B-DATEmentioned -> I-DATEmentioned 5.496451\n",
      "I-DATEletter -> I-DATEletter 5.490149\n",
      "B-ORGmentioned -> I-ORGmentioned 5.485261\n",
      "B-PLACEmentioned -> I-PLACEmentioned 4.986394\n",
      "I-PERmentioned -> I-PERmentioned 4.983721\n",
      "B-LIT  -> I-LIT   4.706322\n",
      "B-PERmentioned -> I-PERmentioned 4.653803\n",
      "\n",
      "Top unlikely transitions:\n",
      "B-DATEletter -> O       -1.529994\n",
      "O      -> I-PLACEmentioned -1.557958\n",
      "B-PERauthor -> B-PERauthor -1.623163\n",
      "B-PERmentioned -> I-ORGmentioned -1.686473\n",
      "I-LIT  -> I-DATEmentioned -1.687515\n",
      "I-LIT  -> I-DATEletter -1.696569\n",
      "I-OBJindividual -> B-PERmentioned -1.754827\n",
      "I-OBJindividual -> I-LIT   -1.864152\n",
      "O      -> I-DATEletter -2.045883\n",
      "B-PERmentioned -> I-OBJindividual -2.350379\n",
      "O      -> I-PERauthor -2.550853\n",
      "O      -> I-DATEmentioned -2.552124\n",
      "B-PERmentioned -> B-PERmentioned -2.846049\n",
      "I-LIT  -> B-DATEmentioned -2.859849\n",
      "O      -> I-ORGmentioned -3.152902\n",
      "O      -> I-PERaddressee -3.445157\n",
      "B-PERmentioned -> I-LIT   -3.660698\n",
      "O      -> I-OBJindividual -4.295794\n",
      "O      -> I-LIT   -4.531408\n",
      "O      -> I-PERmentioned -4.544065\n"
     ]
    }
   ],
   "source": [
    "from collections import Counter\n",
    "\n",
    "def print_transitions(trans_features):\n",
    "    for (label_from, label_to), weight in trans_features:\n",
    "        print(\"%-6s -> %-7s %0.6f\" % (label_from, label_to, weight))\n",
    "\n",
    "print(\"Top likely transitions:\")\n",
    "print_transitions(Counter(crf.transition_features_).most_common(20))\n",
    "\n",
    "print(\"\\nTop unlikely transitions:\")\n",
    "print_transitions(Counter(crf.transition_features_).most_common()[-20:])"
   ]
  },
  {
   "cell_type": "code",
   "execution_count": 111,
   "metadata": {
    "nbpresent": {
     "id": "a50d8dd9-e0b9-4675-ba78-2d736c7b6b50"
    }
   },
   "outputs": [
    {
     "name": "stdout",
     "output_type": "stream",
     "text": [
      "Top positive:\n",
      "6.613460 B-OBJindividual word[-4:]:vase\n",
      "6.456555 B-*      -1:postag:_\n",
      "6.391896 B-ORGmentioned postag_chain_bck:VVINF-KON-NN\n",
      "5.905394 B-PLACEmentioned word.isInPlacesDic\n",
      "5.609687 O        postag:_\n",
      "5.148770 O        BOS\n",
      "4.410498 B-PERmentioned word[:3]:Bel\n",
      "4.369584 B-ORGmentioned lemma:Institut\n",
      "4.348198 I-OBJindividual -1:word.lower():nr\n",
      "4.281120 B-ORGmentioned word[:3]:Gov\n",
      "4.174359 B-PERmentioned word[:5]:Silli\n",
      "4.129707 O        postag_chain_fwd:NE-VAFIN-ADV\n",
      "3.722150 B-PLACEfrom word.isInPlacesDic\n",
      "3.640489 B-ORGmentioned word[-2:]:ät\n",
      "3.608367 B-*      lemma:NE\n",
      "3.607903 O        postag:PPER\n",
      "3.594653 O        postag_chain_fwd:NE-$,-XY\n",
      "3.583790 B-PLACEmentioned word[:5]:Capit\n",
      "3.545907 B-PERmentioned word[-2:]:ws\n",
      "3.522069 B-DATEletter postag_chain_fwd:VVFIN-CARD-$.\n",
      "3.478186 B-LIT    -1:word.lower():müllers\n",
      "3.435822 O        postag_chain_bck:APPRART-NN-$.\n",
      "3.433746 B-OBJindividual word[-4:]:eler\n",
      "3.412532 O        postag_chain_fwd:NN-ADV-NN\n",
      "3.395586 B-LIT    word[-4:]:hnis\n",
      "3.377376 B-PLACEmentioned word[:3]:Nea\n",
      "3.362259 O        postag_chain_fwd:CARD-NN-APPR\n",
      "3.321429 I-DATEmentioned word[:3]:Oct\n",
      "3.310393 B-OBJindividual word[:3]:Aet\n",
      "3.288398 B-PLACEmentioned word[-4:]:land\n",
      "\n",
      "Top negative:\n",
      "-2.377734 O        word[:3]:183\n",
      "-2.379678 O        -1:lemma:Band\n",
      "-2.403602 O        word[-4:]:onze\n",
      "-2.425893 O        postag_chain_fwd:NN-CARD-$.\n",
      "-2.463284 O        postag_chain_bck:ART-NN-NE\n",
      "-2.530370 I-DATEmentioned word.isHeader\n",
      "-2.550316 I-LIT    word.isHeader\n",
      "-2.593019 O        word[:3]:Apo\n",
      "-2.618855 O        word[:3]:Gla\n",
      "-2.657282 B-PLACEmentioned word.isHeader\n",
      "-2.725498 O        postag_chain_bck:CARD-NN-CARD\n",
      "-2.731871 O        word.istitle()\n",
      "-2.781795 O        word[-2:]:ni\n",
      "-2.879066 O        -1:word[-2:]:29\n",
      "-2.904763 O        postag_chain_fwd:NN-$.-APPR\n",
      "-2.923666 B-MISC   +1:postag:APPR\n",
      "-2.949132 O        word[-4:]:latt\n",
      "-3.111626 O        word[-4:]:mann\n",
      "-3.211259 B-PERmentioned word.isInPlacesDic\n",
      "-3.295546 O        word[-4:]:lien\n",
      "-3.361361 B-PERmentioned postag_chain_fwd:ADJD-VAFIN-PPER\n",
      "-3.401204 I-PERmentioned word.isHeader\n",
      "-3.401692 I-DATEletter -1:lemma:@card@\n",
      "-3.511999 O        word.isInPersonDic\n",
      "-3.526986 O        word[:3]:ant\n",
      "-3.746339 O        postag_chain_fwd:NN-$,-CARD\n",
      "-3.837761 I-LIT    postag_chain_fwd:CARD-$.-0\n",
      "-3.852337 O        word[-2:]:ät\n",
      "-4.008601 B-PERmentioned postag_chain_bck:NE-APPR-NE\n",
      "-4.483983 B-PERmentioned word.isHeader\n"
     ]
    }
   ],
   "source": [
    "def print_state_features(state_features):\n",
    "    for (attr, label), weight in state_features:\n",
    "        print(\"%0.6f %-8s %s\" % (weight, label, attr))\n",
    "\n",
    "print(\"Top positive:\")\n",
    "print_state_features(Counter(crf.state_features_).most_common(30))\n",
    "\n",
    "print(\"\\nTop negative:\")\n",
    "print_state_features(Counter(crf.state_features_).most_common()[-30:])"
   ]
  },
  {
   "cell_type": "code",
   "execution_count": null,
   "metadata": {
    "collapsed": true,
    "nbpresent": {
     "id": "1f14f60a-e717-451b-8db9-bee612893917"
    }
   },
   "outputs": [],
   "source": []
  },
  {
   "cell_type": "markdown",
   "metadata": {
    "nbpresent": {
     "id": "d4c03d7c-abc3-4625-9e1e-4730db5281c3"
    }
   },
   "source": [
    "# Scrapbook"
   ]
  },
  {
   "cell_type": "code",
   "execution_count": 100,
   "metadata": {
    "nbpresent": {
     "id": "ac57f21c-3403-4614-9cc3-a535d45a6ace"
    }
   },
   "outputs": [
    {
     "data": {
      "text/plain": [
       "'c'"
      ]
     },
     "execution_count": 100,
     "metadata": {},
     "output_type": "execute_result"
    }
   ],
   "source": [
    "i = 2\n",
    "l = ['a','b','c']\n",
    "l[i]"
   ]
  },
  {
   "cell_type": "code",
   "execution_count": 103,
   "metadata": {
    "nbpresent": {
     "id": "c1ff26c1-16be-4b07-8d27-3e0009def96a"
    }
   },
   "outputs": [
    {
     "data": {
      "text/plain": [
       "'c'"
      ]
     },
     "execution_count": 103,
     "metadata": {},
     "output_type": "execute_result"
    }
   ],
   "source": [
    "\" \".join(l[i:i+2])"
   ]
  },
  {
   "cell_type": "code",
   "execution_count": 63,
   "metadata": {
    "collapsed": true,
    "nbpresent": {
     "id": "6160ca2b-99bb-4642-94a2-85e10759f814"
    }
   },
   "outputs": [],
   "source": [
    "x = pywebanno.getXMI(3,260,\"francesco\")"
   ]
  },
  {
   "cell_type": "code",
   "execution_count": 65,
   "metadata": {
    "collapsed": true,
    "nbpresent": {
     "id": "0640c093-4e86-4383-9830-3bd51c165cff"
    }
   },
   "outputs": [],
   "source": [
    "from lxml import etree"
   ]
  },
  {
   "cell_type": "code",
   "execution_count": 61,
   "metadata": {
    "nbpresent": {
     "id": "9097ffaf-4f02-4727-b5df-0995aa225d94"
    }
   },
   "outputs": [
    {
     "name": "stdout",
     "output_type": "stream",
     "text": [
      "Braun in the HEAD\n",
      "Gerhard in the HEAD\n",
      "Rom or Dresden in the HEAD\n"
     ]
    }
   ],
   "source": [
    "r = changeAnnotation(226)"
   ]
  },
  {
   "cell_type": "code",
   "execution_count": 62,
   "metadata": {
    "nbpresent": {
     "id": "6f930c8d-0251-48f6-b23b-67293933d66a"
    }
   },
   "outputs": [
    {
     "data": {
      "text/plain": [
       "'Text of annotation document does not match text of source document at offset [33]. Expected [ März 1835 - 4 - bed] but found [\\nMärz 1835 - 4 - bed].'"
      ]
     },
     "execution_count": 62,
     "metadata": {},
     "output_type": "execute_result"
    }
   ],
   "source": [
    "r.text"
   ]
  },
  {
   "cell_type": "code",
   "execution_count": 40,
   "metadata": {
    "nbpresent": {
     "id": "5ac8a538-aba7-4986-82d3-7d329cef92a3"
    }
   },
   "outputs": [
    {
     "data": {
      "text/plain": [
       "['1-4', '13-20', 'Gerhard', 'HEAD[1]', '_', '_', '']"
      ]
     },
     "execution_count": 40,
     "metadata": {},
     "output_type": "execute_result"
    }
   ],
   "source": [
    "l = tsv.text.split(\"\\n\")[9].split(\"\\t\")\n",
    "l"
   ]
  },
  {
   "cell_type": "code",
   "execution_count": 42,
   "metadata": {
    "nbpresent": {
     "id": "b98a2623-75d4-4458-b86c-5b5dfe735975"
    }
   },
   "outputs": [
    {
     "name": "stdout",
     "output_type": "stream",
     "text": [
      "puppa\n",
      "\n",
      "tu ma'\n"
     ]
    }
   ],
   "source": [
    "print(\"\\n\".join([\"puppa\", \"\", \"tu ma'\"]))"
   ]
  },
  {
   "cell_type": "code",
   "execution_count": 5,
   "metadata": {
    "nbpresent": {
     "id": "a8d9588c-29bb-40fe-86a3-d3af69e98b12"
    }
   },
   "outputs": [
    {
     "data": {
      "text/plain": [
       "{225: '1.Braun_an_Gerhard1832-35_page189.iob-doc-1.ann.xmi',\n",
       " 226: '1.Braun_an_Gerhard1832-35_page190.iob-doc-1.ann.xmi',\n",
       " 227: '1.Braun_an_Gerhard1832-35_page191.iob-doc-1.ann.xmi',\n",
       " 228: '1.Braun_an_Gerhard1832-35_page192.iob-doc-1.ann.xmi',\n",
       " 229: '1.Braun_an_Gerhard1832-35_page193.iob-doc-1.ann.xmi',\n",
       " 230: '1.Braun_an_Gerhard1832-35_page194.iob-doc-1.ann.xmi',\n",
       " 231: '1.Braun_an_Gerhard1832-35_page195.iob-doc-1.ann.xmi',\n",
       " 232: '1.Braun_an_Gerhard1832-35_page196.iob-doc-1.ann.xmi',\n",
       " 233: '1.Braun_an_Gerhard1832-35_page197.iob-doc-1.ann.xmi',\n",
       " 234: '1.Braun_an_Gerhard1832-35_page198.iob-doc-1.ann.xmi',\n",
       " 235: '1.Braun_an_Gerhard1832-35_page199.iob-doc-1.ann.xmi',\n",
       " 236: '1.Braun_an_Gerhard1832-35_page200.iob-doc-1.ann.xmi',\n",
       " 237: '1.Braun_an_Gerhard1832-35_page201.iob-doc-1.ann.xmi',\n",
       " 238: '1.Braun_an_Gerhard1832-35_page202.iob-doc-1.ann.xmi',\n",
       " 239: '1.Braun_an_Gerhard1832-35_page203.iob-doc-1.ann.xmi',\n",
       " 240: '1.Braun_an_Gerhard1832-35_page204.iob-doc-1.ann.xmi',\n",
       " 241: '1.Braun_an_Gerhard1832-35_page205.iob-doc-1.ann.xmi',\n",
       " 242: '1.Braun_an_Gerhard1832-35_page206.iob-doc-1.ann.xmi',\n",
       " 243: '1.Braun_an_Gerhard1832-35_page207.iob-doc-1.ann.xmi',\n",
       " 244: '1.Braun_an_Gerhard1832-35_page208.iob-doc-1.ann.xmi',\n",
       " 245: '1.Braun_an_Gerhard1832-35_page209.iob-doc-1.ann.xmi',\n",
       " 246: '1.Braun_an_Gerhard1832-35_page210.iob-doc-1.ann.xmi',\n",
       " 247: '1.Braun_an_Gerhard1832-35_page211.iob-doc-1.ann.xmi',\n",
       " 248: '1.Braun_an_Gerhard1832-35_page212.iob-doc-1.ann.xmi',\n",
       " 249: '1.Braun_an_Gerhard1832-35_page213.iob-doc-1.ann.xmi',\n",
       " 250: '1.Braun_an_Gerhard1832-35_page214.iob-doc-1.ann.xmi',\n",
       " 251: '1.Braun_an_Gerhard1832-35_page215.iob-doc-1.ann.xmi',\n",
       " 252: '1.Braun_an_Gerhard1832-35_page216.iob-doc-1.ann.xmi',\n",
       " 253: '1.Braun_an_Gerhard1832-35_page217.iob-doc-1.ann.xmi',\n",
       " 254: '1.Braun_an_Gerhard1832-35_page218.iob-doc-1.ann.xmi',\n",
       " 255: '1.Braun_an_Gerhard1832-35_page219.iob-doc-1.ann.xmi',\n",
       " 256: '1.Braun_an_Gerhard1832-35_page220.iob-doc-1.ann.xmi',\n",
       " 257: '1.Braun_an_Gerhard1832-35_page221.iob-doc-1.ann.xmi',\n",
       " 258: '1.Braun_an_Gerhard1832-35_page222.iob-doc-1.ann.xmi',\n",
       " 259: '1.Braun_an_Gerhard1832-35_page223.iob-doc-1.ann.xmi',\n",
       " 260: '1.Braun_an_Gerhard1832-35_page224.iob-doc-1.ann.xmi',\n",
       " 261: '1.Braun_an_Gerhard1832-35_page225.iob-doc-1.ann.xmi',\n",
       " 262: '1.Braun_an_Gerhard1832-35_page226.iob-doc-1.ann.xmi',\n",
       " 263: '1.Braun_an_Gerhard1832-35_page227.iob-doc-1.ann.xmi',\n",
       " 264: '1.Braun_an_Gerhard1832-35_page228.iob-doc-1.ann.xmi',\n",
       " 265: '1.Braun_an_Gerhard1832-35_page229.iob-doc-1.ann.xmi',\n",
       " 266: '1.Braun_an_Gerhard1832-35_page230.iob-doc-1.ann.xmi',\n",
       " 267: '1.Braun_an_Gerhard1832-35_page231.iob-doc-1.ann.xmi',\n",
       " 268: '1.Braun_an_Gerhard1832-35_page232.iob-doc-1.ann.xmi',\n",
       " 269: '1.Braun_an_Gerhard1832-35_page233.iob-doc-1.ann.xmi',\n",
       " 270: '1.Braun_an_Gerhard1832-35_page234.iob-doc-1.ann.xmi',\n",
       " 271: '1.Braun_an_Gerhard1832-35_page235.iob-doc-1.ann.xmi',\n",
       " 272: '1.Braun_an_Gerhard1832-35_page236.iob-doc-1.ann.xmi',\n",
       " 273: '1.Braun_an_Gerhard1832-35_page237.iob-doc-1.ann.xmi',\n",
       " 274: '1.Braun_an_Gerhard1832-35_page118.iob-doc-1.ann.xmi',\n",
       " 275: '1.Braun_an_Gerhard1832-35_page119.iob-doc-1.ann.xmi',\n",
       " 276: '1.Braun_an_Gerhard1832-35_page120.iob-doc-1.ann.xmi',\n",
       " 277: '1.Braun_an_Gerhard1832-35_page121.iob-doc-1.ann.xmi',\n",
       " 278: '1.Braun_an_Gerhard1832-35_page122.iob-doc-1.ann.xmi',\n",
       " 279: '1.Braun_an_Gerhard1832-35_page123.iob-doc-1.ann.xmi',\n",
       " 280: '1.Braun_an_Gerhard1832-35_page124.iob-doc-1.ann.xmi',\n",
       " 281: '1.Braun_an_Gerhard1832-35_page125.iob-doc-1.ann.xmi',\n",
       " 282: '1.Braun_an_Gerhard1832-35_page126.iob-doc-1.ann.xmi',\n",
       " 283: '1.Braun_an_Gerhard1832-35_page127.iob-doc-1.ann.xmi',\n",
       " 284: '1.Braun_an_Gerhard1832-35_page128.iob-doc-1.ann.xmi',\n",
       " 285: '1.Braun_an_Gerhard1832-35_page129.iob-doc-1.ann.xmi',\n",
       " 286: '1.Braun_an_Gerhard1832-35_page130.iob-doc-1.ann.xmi',\n",
       " 287: '1.Braun_an_Gerhard1832-35_page131.iob-doc-1.ann.xmi',\n",
       " 288: '1.Braun_an_Gerhard1832-35_page132.iob-doc-1.ann.xmi',\n",
       " 289: '1.Braun_an_Gerhard1832-35_page133.iob-doc-1.ann.xmi',\n",
       " 290: '1.Braun_an_Gerhard1832-35_page134.iob-doc-1.ann.xmi',\n",
       " 291: '1.Braun_an_Gerhard1832-35_page135.iob-doc-1.ann.xmi',\n",
       " 292: '1.Braun_an_Gerhard1832-35_page136.iob-doc-1.ann.xmi',\n",
       " 293: '1.Braun_an_Gerhard1832-35_page137.iob-doc-1.ann.xmi',\n",
       " 294: '1.Braun_an_Gerhard1832-35_page138.iob-doc-1.ann.xmi',\n",
       " 295: '1.Braun_an_Gerhard1832-35_page139.iob-doc-1.ann.xmi',\n",
       " 296: '1.Braun_an_Gerhard1832-35_page140.iob-doc-1.ann.xmi',\n",
       " 297: '1.Braun_an_Gerhard1832-35_page141.iob-doc-1.ann.xmi',\n",
       " 298: '1.Braun_an_Gerhard1832-35_page142.iob-doc-1.ann.xmi',\n",
       " 299: '1.Braun_an_Gerhard1832-35_page143.iob-doc-1.ann.xmi',\n",
       " 300: '1.Braun_an_Gerhard1832-35_page144.iob-doc-1.ann.xmi',\n",
       " 301: '1.Braun_an_Gerhard1832-35_page145.iob-doc-1.ann.xmi',\n",
       " 302: '1.Braun_an_Gerhard1832-35_page146.iob-doc-1.ann.xmi',\n",
       " 303: '1.Braun_an_Gerhard1832-35_page147.iob-doc-1.ann.xmi',\n",
       " 304: '1.Braun_an_Gerhard1832-35_page148.iob-doc-1.ann.xmi',\n",
       " 305: '1.Braun_an_Gerhard1832-35_page149.iob-doc-1.ann.xmi',\n",
       " 306: '1.Braun_an_Gerhard1832-35_page150.iob-doc-1.ann.xmi',\n",
       " 307: '1.Braun_an_Gerhard1832-35_page151.iob-doc-1.ann.xmi',\n",
       " 308: '1.Braun_an_Gerhard1832-35_page152.iob-doc-1.ann.xmi',\n",
       " 309: '1.Braun_an_Gerhard1832-35_page153.iob-doc-1.ann.xmi',\n",
       " 310: '1.Braun_an_Gerhard1832-35_page154.iob-doc-1.ann.xmi',\n",
       " 311: '1.Braun_an_Gerhard1832-35_page155.iob-doc-1.ann.xmi',\n",
       " 312: '1.Braun_an_Gerhard1832-35_page156.iob-doc-1.ann.xmi',\n",
       " 313: '1.Braun_an_Gerhard1832-35_page157.iob-doc-1.ann.xmi',\n",
       " 314: '1.Braun_an_Gerhard1832-35_page158.iob-doc-1.ann.xmi',\n",
       " 315: '1.Braun_an_Gerhard1832-35_page159.iob-doc-1.ann.xmi',\n",
       " 316: '1.Braun_an_Gerhard1832-35_page160.iob-doc-1.ann.xmi',\n",
       " 317: '1.Braun_an_Gerhard1832-35_page161.iob-doc-1.ann.xmi',\n",
       " 318: '1.Braun_an_Gerhard1832-35_page162.iob-doc-1.ann.xmi',\n",
       " 319: '1.Braun_an_Gerhard1832-35_page163.iob-doc-1.ann.xmi',\n",
       " 320: '1.Braun_an_Gerhard1832-35_page164.iob-doc-1.ann.xmi',\n",
       " 321: '1.Braun_an_Gerhard1832-35_page165.iob-doc-1.ann.xmi',\n",
       " 322: '1.Braun_an_Gerhard1832-35_page166.iob-doc-1.ann.xmi',\n",
       " 323: '1.Braun_an_Gerhard1832-35_page167.iob-doc-1.ann.xmi',\n",
       " 324: '1.Braun_an_Gerhard1832-35_page168.iob-doc-1.ann.xmi',\n",
       " 325: '1.Braun_an_Gerhard1832-35_page169.iob-doc-1.ann.xmi',\n",
       " 327: '1.Braun_an_Gerhard1832-35_page171.iob-doc-1.ann.xmi',\n",
       " 328: '1.Braun_an_Gerhard1832-35_page172.iob-doc-1.ann.xmi',\n",
       " 329: '1.Braun_an_Gerhard1832-35_page173.iob-doc-1.ann.xmi',\n",
       " 330: '1.Braun_an_Gerhard1832-35_page174.iob-doc-1.ann.xmi',\n",
       " 331: '1.Braun_an_Gerhard1832-35_page175.iob-doc-1.ann.xmi',\n",
       " 332: '1.Braun_an_Gerhard1832-35_page176.iob-doc-1.ann.xmi',\n",
       " 333: '1.Braun_an_Gerhard1832-35_page177.iob-doc-1.ann.xmi',\n",
       " 334: '1.Braun_an_Gerhard1832-35_page178.iob-doc-1.ann.xmi',\n",
       " 335: '1.Braun_an_Gerhard1832-35_page179.iob-doc-1.ann.xmi',\n",
       " 336: '1.Braun_an_Gerhard1832-35_page180.iob-doc-1.ann.xmi',\n",
       " 337: '1.Braun_an_Gerhard1832-35_page181.iob-doc-1.ann.xmi',\n",
       " 338: '1.Braun_an_Gerhard1832-35_page182.iob-doc-1.ann.xmi',\n",
       " 339: '1.Braun_an_Gerhard1832-35_page183.iob-doc-1.ann.xmi',\n",
       " 340: '1.Braun_an_Gerhard1832-35_page184.iob-doc-1.ann.xmi',\n",
       " 341: '1.Braun_an_Gerhard1832-35_page185.iob-doc-1.ann.xmi',\n",
       " 342: '1.Braun_an_Gerhard1832-35_page186.iob-doc-1.ann.xmi',\n",
       " 343: '1.Braun_an_Gerhard1832-35_page187.iob-doc-1.ann.xmi',\n",
       " 344: '1.Braun_an_Gerhard1832-35_page188.iob-doc-1.ann.xmi',\n",
       " 345: '1.Braun_an_Gerhard1832-35_page054.iob-doc-1.ann.xmi',\n",
       " 346: '1.Braun_an_Gerhard1832-35_page055.iob-doc-1.ann.xmi',\n",
       " 347: '1.Braun_an_Gerhard1832-35_page056.iob-doc-1.ann.xmi',\n",
       " 348: '1.Braun_an_Gerhard1832-35_page057.iob-doc-1.ann.xmi',\n",
       " 349: '1.Braun_an_Gerhard1832-35_page058.iob-doc-1.ann.xmi',\n",
       " 350: '1.Braun_an_Gerhard1832-35_page059.iob-doc-1.ann.xmi',\n",
       " 351: '1.Braun_an_Gerhard1832-35_page060.iob-doc-1.ann.xmi',\n",
       " 352: '1.Braun_an_Gerhard1832-35_page061.iob-doc-1.ann.xmi',\n",
       " 353: '1.Braun_an_Gerhard1832-35_page062.iob-doc-1.ann.xmi',\n",
       " 354: '1.Braun_an_Gerhard1832-35_page063.iob-doc-1.ann.xmi',\n",
       " 355: '1.Braun_an_Gerhard1832-35_page064.iob-doc-1.ann.xmi',\n",
       " 356: '1.Braun_an_Gerhard1832-35_page065.iob-doc-1.ann.xmi',\n",
       " 357: '1.Braun_an_Gerhard1832-35_page066.iob-doc-1.ann.xmi',\n",
       " 358: '1.Braun_an_Gerhard1832-35_page067.iob-doc-1.ann.xmi',\n",
       " 359: '1.Braun_an_Gerhard1832-35_page068.iob-doc-1.ann.xmi',\n",
       " 360: '1.Braun_an_Gerhard1832-35_page069.iob-doc-1.ann.xmi',\n",
       " 361: '1.Braun_an_Gerhard1832-35_page070.iob-doc-1.ann.xmi',\n",
       " 362: '1.Braun_an_Gerhard1832-35_page071.iob-doc-1.ann.xmi',\n",
       " 363: '1.Braun_an_Gerhard1832-35_page072.iob-doc-1.ann.xmi',\n",
       " 364: '1.Braun_an_Gerhard1832-35_page073.iob-doc-1.ann.xmi',\n",
       " 365: '1.Braun_an_Gerhard1832-35_page074.iob-doc-1.ann.xmi',\n",
       " 366: '1.Braun_an_Gerhard1832-35_page075.iob-doc-1.ann.xmi',\n",
       " 367: '1.Braun_an_Gerhard1832-35_page076.iob-doc-1.ann.xmi',\n",
       " 368: '1.Braun_an_Gerhard1832-35_page077.iob-doc-1.ann.xmi',\n",
       " 369: '1.Braun_an_Gerhard1832-35_page078.iob-doc-1.ann.xmi',\n",
       " 370: '1.Braun_an_Gerhard1832-35_page079.iob-doc-1.ann.xmi',\n",
       " 371: '1.Braun_an_Gerhard1832-35_page080.iob-doc-1.ann.xmi',\n",
       " 372: '1.Braun_an_Gerhard1832-35_page081.iob-doc-1.ann.xmi',\n",
       " 373: '1.Braun_an_Gerhard1832-35_page082.iob-doc-1.ann.xmi',\n",
       " 374: '1.Braun_an_Gerhard1832-35_page083.iob-doc-1.ann.xmi',\n",
       " 376: '1.Braun_an_Gerhard1832-35_page085.iob-doc-1.ann.xmi',\n",
       " 377: '1.Braun_an_Gerhard1832-35_page086.iob-doc-1.ann.xmi',\n",
       " 378: '1.Braun_an_Gerhard1832-35_page087.iob-doc-1.ann.xmi',\n",
       " 379: '1.Braun_an_Gerhard1832-35_page088.iob-doc-1.ann.xmi',\n",
       " 380: '1.Braun_an_Gerhard1832-35_page089.iob-doc-1.ann.xmi',\n",
       " 381: '1.Braun_an_Gerhard1832-35_page090.iob-doc-1.ann.xmi',\n",
       " 382: '1.Braun_an_Gerhard1832-35_page091.iob-doc-1.ann.xmi',\n",
       " 383: '1.Braun_an_Gerhard1832-35_page092.iob-doc-1.ann.xmi',\n",
       " 384: '1.Braun_an_Gerhard1832-35_page093.iob-doc-1.ann.xmi',\n",
       " 385: '1.Braun_an_Gerhard1832-35_page094.iob-doc-1.ann.xmi',\n",
       " 386: '1.Braun_an_Gerhard1832-35_page095.iob-doc-1.ann.xmi',\n",
       " 387: '1.Braun_an_Gerhard1832-35_page096.iob-doc-1.ann.xmi',\n",
       " 388: '1.Braun_an_Gerhard1832-35_page097.iob-doc-1.ann.xmi',\n",
       " 389: '1.Braun_an_Gerhard1832-35_page098.iob-doc-1.ann.xmi',\n",
       " 390: '1.Braun_an_Gerhard1832-35_page099.iob-doc-1.ann.xmi',\n",
       " 391: '1.Braun_an_Gerhard1832-35_page100.iob-doc-1.ann.xmi',\n",
       " 392: '1.Braun_an_Gerhard1832-35_page101.iob-doc-1.ann.xmi',\n",
       " 393: '1.Braun_an_Gerhard1832-35_page102.iob-doc-1.ann.xmi',\n",
       " 394: '1.Braun_an_Gerhard1832-35_page103.iob-doc-1.ann.xmi',\n",
       " 395: '1.Braun_an_Gerhard1832-35_page104.iob-doc-1.ann.xmi',\n",
       " 396: '1.Braun_an_Gerhard1832-35_page105.iob-doc-1.ann.xmi',\n",
       " 397: '1.Braun_an_Gerhard1832-35_page106.iob-doc-1.ann.xmi',\n",
       " 398: '1.Braun_an_Gerhard1832-35_page107.iob-doc-1.ann.xmi',\n",
       " 399: '1.Braun_an_Gerhard1832-35_page108.iob-doc-1.ann.xmi',\n",
       " 400: '1.Braun_an_Gerhard1832-35_page109.iob-doc-1.ann.xmi',\n",
       " 401: '1.Braun_an_Gerhard1832-35_page110.iob-doc-1.ann.xmi',\n",
       " 402: '1.Braun_an_Gerhard1832-35_page111.iob-doc-1.ann.xmi',\n",
       " 403: '1.Braun_an_Gerhard1832-35_page112.iob-doc-1.ann.xmi',\n",
       " 404: '1.Braun_an_Gerhard1832-35_page113.iob-doc-1.ann.xmi',\n",
       " 405: '1.Braun_an_Gerhard1832-35_page114.iob-doc-1.ann.xmi',\n",
       " 406: '1.Braun_an_Gerhard1832-35_page115.iob-doc-1.ann.xmi',\n",
       " 407: '1.Braun_an_Gerhard1832-35_page116.iob-doc-1.ann.xmi',\n",
       " 408: '1.Braun_an_Gerhard1832-35_page117.iob-doc-1.ann.xmi',\n",
       " 409: '1.Braun_an_Gerhard1832-35_page002.iob-doc-1.ann.xmi',\n",
       " 410: '1.Braun_an_Gerhard1832-35_page003.iob-doc-1.ann.xmi',\n",
       " 411: '1.Braun_an_Gerhard1832-35_page004.iob-doc-1.ann.xmi',\n",
       " 412: '1.Braun_an_Gerhard1832-35_page005.iob-doc-1.ann.xmi',\n",
       " 413: '1.Braun_an_Gerhard1832-35_page006.iob-doc-1.ann.xmi',\n",
       " 414: '1.Braun_an_Gerhard1832-35_page007.iob-doc-1.ann.xmi',\n",
       " 415: '1.Braun_an_Gerhard1832-35_page008.iob-doc-1.ann.xmi',\n",
       " 416: '1.Braun_an_Gerhard1832-35_page009.iob-doc-1.ann.xmi',\n",
       " 417: '1.Braun_an_Gerhard1832-35_page010.iob-doc-1.ann.xmi',\n",
       " 418: '1.Braun_an_Gerhard1832-35_page011.iob-doc-1.ann.xmi',\n",
       " 419: '1.Braun_an_Gerhard1832-35_page012.iob-doc-1.ann.xmi',\n",
       " 420: '1.Braun_an_Gerhard1832-35_page013.iob-doc-1.ann.xmi',\n",
       " 421: '1.Braun_an_Gerhard1832-35_page014.iob-doc-1.ann.xmi',\n",
       " 422: '1.Braun_an_Gerhard1832-35_page015.iob-doc-1.ann.xmi',\n",
       " 423: '1.Braun_an_Gerhard1832-35_page016.iob-doc-1.ann.xmi',\n",
       " 424: '1.Braun_an_Gerhard1832-35_page017.iob-doc-1.ann.xmi',\n",
       " 425: '1.Braun_an_Gerhard1832-35_page018.iob-doc-1.ann.xmi',\n",
       " 426: '1.Braun_an_Gerhard1832-35_page019.iob-doc-1.ann.xmi',\n",
       " 427: '1.Braun_an_Gerhard1832-35_page020.iob-doc-1.ann.xmi',\n",
       " 428: '1.Braun_an_Gerhard1832-35_page021.iob-doc-1.ann.xmi',\n",
       " 429: '1.Braun_an_Gerhard1832-35_page022.iob-doc-1.ann.xmi',\n",
       " 430: '1.Braun_an_Gerhard1832-35_page023.iob-doc-1.ann.xmi',\n",
       " 431: '1.Braun_an_Gerhard1832-35_page024.iob-doc-1.ann.xmi',\n",
       " 432: '1.Braun_an_Gerhard1832-35_page025.iob-doc-1.ann.xmi',\n",
       " 433: '1.Braun_an_Gerhard1832-35_page026.iob-doc-1.ann.xmi',\n",
       " 434: '1.Braun_an_Gerhard1832-35_page027.iob-doc-1.ann.xmi',\n",
       " 435: '1.Braun_an_Gerhard1832-35_page028.iob-doc-1.ann.xmi',\n",
       " 436: '1.Braun_an_Gerhard1832-35_page029.iob-doc-1.ann.xmi',\n",
       " 437: '1.Braun_an_Gerhard1832-35_page030.iob-doc-1.ann.xmi',\n",
       " 438: '1.Braun_an_Gerhard1832-35_page031.iob-doc-1.ann.xmi',\n",
       " 439: '1.Braun_an_Gerhard1832-35_page032.iob-doc-1.ann.xmi',\n",
       " 440: '1.Braun_an_Gerhard1832-35_page033.iob-doc-1.ann.xmi',\n",
       " 441: '1.Braun_an_Gerhard1832-35_page034.iob-doc-1.ann.xmi',\n",
       " 442: '1.Braun_an_Gerhard1832-35_page035.iob-doc-1.ann.xmi',\n",
       " 443: '1.Braun_an_Gerhard1832-35_page036.iob-doc-1.ann.xmi',\n",
       " 444: '1.Braun_an_Gerhard1832-35_page037.iob-doc-1.ann.xmi',\n",
       " 445: '1.Braun_an_Gerhard1832-35_page038.iob-doc-1.ann.xmi',\n",
       " 446: '1.Braun_an_Gerhard1832-35_page039.iob-doc-1.ann.xmi',\n",
       " 447: '1.Braun_an_Gerhard1832-35_page040.iob-doc-1.ann.xmi',\n",
       " 448: '1.Braun_an_Gerhard1832-35_page041.iob-doc-1.ann.xmi',\n",
       " 449: '1.Braun_an_Gerhard1832-35_page042.iob-doc-1.ann.xmi',\n",
       " 450: '1.Braun_an_Gerhard1832-35_page043.iob-doc-1.ann.xmi',\n",
       " 451: '1.Braun_an_Gerhard1832-35_page044.iob-doc-1.ann.xmi',\n",
       " 452: '1.Braun_an_Gerhard1832-35_page045.iob-doc-1.ann.xmi',\n",
       " 453: '1.Braun_an_Gerhard1832-35_page046.iob-doc-1.ann.xmi',\n",
       " 454: '1.Braun_an_Gerhard1832-35_page047.iob-doc-1.ann.xmi',\n",
       " 455: '1.Braun_an_Gerhard1832-35_page048.iob-doc-1.ann.xmi',\n",
       " 456: '1.Braun_an_Gerhard1832-35_page049.iob-doc-1.ann.xmi',\n",
       " 457: '1.Braun_an_Gerhard1832-35_page050.iob-doc-1.ann.xmi',\n",
       " 458: '1.Braun_an_Gerhard1832-35_page051.iob-doc-1.ann.xmi',\n",
       " 459: '1.Braun_an_Gerhard1832-35_page052.iob-doc-1.ann.xmi',\n",
       " 460: '1.Braun_an_Gerhard1832-35_page053.iob-doc-1.ann.xmi',\n",
       " 461: '1.Braun_an_Gerhard1832-35_page001.iob-doc-1.ann.xmi',\n",
       " 463: '1.Braun_an_Gerhard1832-35_page170.iob-doc-1.ann.txt',\n",
       " 464: '1.Braun_an_Gerhard1832-35_page084.iob-doc-1.ann.txt'}"
      ]
     },
     "execution_count": 5,
     "metadata": {},
     "output_type": "execute_result"
    }
   ],
   "source": [
    "doc_ids"
   ]
  },
  {
   "cell_type": "code",
   "execution_count": 96,
   "metadata": {
    "nbpresent": {
     "id": "5cfc2dfa-2039-42ba-bb59-5c20fe63c0d6"
    }
   },
   "outputs": [
    {
     "data": {
      "text/plain": [
       "('Braun', 'NN', 'HEAD', 'O', '_')"
      ]
     },
     "execution_count": 96,
     "metadata": {},
     "output_type": "execute_result"
    }
   ],
   "source": [
    "sents[0][1]"
   ]
  },
  {
   "cell_type": "code",
   "execution_count": 34,
   "metadata": {
    "nbpresent": {
     "id": "753c60f5-b142-43a8-a44b-c9ee1c64f1a9"
    }
   },
   "outputs": [
    {
     "data": {
      "text/plain": [
       "2"
      ]
     },
     "execution_count": 34,
     "metadata": {},
     "output_type": "execute_result"
    }
   ],
   "source": [
    "int(np.ceil(2.))"
   ]
  },
  {
   "cell_type": "code",
   "execution_count": 35,
   "metadata": {
    "nbpresent": {
     "id": "62821ad1-8248-46a0-bb68-36516a08daef"
    }
   },
   "outputs": [
    {
     "data": {
      "text/plain": [
       "6114"
      ]
     },
     "execution_count": 35,
     "metadata": {},
     "output_type": "execute_result"
    }
   ],
   "source": [
    "int(np.ceil(len(newcorpus.words()) * 0.2))"
   ]
  },
  {
   "cell_type": "code",
   "execution_count": 24,
   "metadata": {
    "nbpresent": {
     "id": "ffc15ec5-ce1c-4752-9a84-83a1eeaf59ac"
    }
   },
   "outputs": [
    {
     "data": {
      "text/plain": [
       "True"
      ]
     },
     "execution_count": 24,
     "metadata": {},
     "output_type": "execute_result"
    }
   ],
   "source": [
    "0 < 0.2 < 1"
   ]
  },
  {
   "cell_type": "code",
   "execution_count": 136,
   "metadata": {
    "collapsed": true,
    "nbpresent": {
     "id": "2292d225-e2ff-4b62-be38-f4de76fd9b54"
    }
   },
   "outputs": [],
   "source": [
    "tag = t[3]\n",
    "tag = \"B-PERmentioned\""
   ]
  },
  {
   "cell_type": "code",
   "execution_count": 137,
   "metadata": {
    "nbpresent": {
     "id": "0dd156e1-41fe-4477-8cb9-8325111db29d"
    }
   },
   "outputs": [
    {
     "data": {
      "text/plain": [
       "'I-PERmentioned'"
      ]
     },
     "execution_count": 137,
     "metadata": {},
     "output_type": "execute_result"
    }
   ],
   "source": [
    "tag.replace(\"B-\", \"I-\")"
   ]
  },
  {
   "cell_type": "code",
   "execution_count": 91,
   "metadata": {
    "nbpresent": {
     "id": "d13b12d7-1ffd-413e-a0a8-31cfbf0ce994"
    }
   },
   "outputs": [
    {
     "data": {
      "text/plain": [
       "1"
      ]
     },
     "execution_count": 91,
     "metadata": {},
     "output_type": "execute_result"
    }
   ],
   "source": [
    "a = -1\n",
    "2 + a"
   ]
  },
  {
   "cell_type": "code",
   "execution_count": 126,
   "metadata": {
    "collapsed": true,
    "nbpresent": {
     "id": "bac47234-521d-48a5-8add-3be68f28433c"
    }
   },
   "outputs": [],
   "source": [
    "reg = re.compile(r'^[IB]-(\\w+)$')"
   ]
  },
  {
   "cell_type": "code",
   "execution_count": 128,
   "metadata": {
    "nbpresent": {
     "id": "bff6250e-6eb7-4d2b-8a37-bb0ce751b2c3"
    }
   },
   "outputs": [
    {
     "data": {
      "text/plain": [
       "['.', '$.', '_', 'I-PERmentioned', '118717030[7]\\n']"
      ]
     },
     "execution_count": 128,
     "metadata": {},
     "output_type": "execute_result"
    }
   ],
   "source": [
    "t = iob[90].split(\"\\t\")\n",
    "t"
   ]
  },
  {
   "cell_type": "code",
   "execution_count": 123,
   "metadata": {
    "nbpresent": {
     "id": "c1b2024e-1c9b-4a80-a9bc-a7cdd033aaf9"
    }
   },
   "outputs": [
    {
     "data": {
      "text/plain": [
       "'\\n'"
      ]
     },
     "execution_count": 123,
     "metadata": {},
     "output_type": "execute_result"
    }
   ],
   "source": [
    "iob[123 + 2]"
   ]
  },
  {
   "cell_type": "code",
   "execution_count": 29,
   "metadata": {
    "nbpresent": {
     "id": "300436d5-8d11-4188-9e39-16100354e85a"
    }
   },
   "outputs": [
    {
     "data": {
      "text/plain": [
       "'1.Braun_an_Gerhard1832-35_page189.iob-doc-1.ann.xmi'"
      ]
     },
     "execution_count": 29,
     "metadata": {},
     "output_type": "execute_result"
    }
   ],
   "source": [
    "e = doc_ids[good_doocs[0]]\n",
    "e"
   ]
  },
  {
   "cell_type": "code",
   "execution_count": 44,
   "metadata": {
    "nbpresent": {
     "id": "f924c881-d574-4981-a26c-ce1618f49320"
    }
   },
   "outputs": [
    {
     "data": {
      "text/plain": [
       "'data/IOB/1_Braun_an_Gerhard1832-35_page189.iob'"
      ]
     },
     "execution_count": 44,
     "metadata": {},
     "output_type": "execute_result"
    }
   ],
   "source": [
    "getOutName(e, \"data/IOB\")"
   ]
  },
  {
   "cell_type": "code",
   "execution_count": 45,
   "metadata": {
    "collapsed": true,
    "nbpresent": {
     "id": "444cbe05-b2a9-42e6-9db8-3bd2f6b0f494"
    }
   },
   "outputs": [
    {
     "data": {
      "text/plain": [
       "[['März', 'NN', 'HEAD[1]', 'O', '_'],\n",
       " ['183', 'ADJA', 'HEAD[1]', 'O', '_'],\n",
       " ['~', 'XY', 'HEAD[1]', 'O', '_'],\n",
       " ['Dresden', 'NE', 'HEAD[1]', 'B-PLACEfrom', '2044633'],\n",
       " ['10', 'CARD', 'HEAD[1]', 'B-DATEletter', '*[2]'],\n",
       " ['März', 'NN', 'HEAD[1]', 'I-DATEletter', '*[2]'],\n",
       " ['1832', 'CARD', 'HEAD[1]', 'I-DATEletter', '*[2]'],\n",
       " ['Mein', 'PPOSAT', '_', 'O', '_'],\n",
       " ['freundlichster', 'ADJA', '_', 'O', '_'],\n",
       " ['Herr', 'NN', '_', 'B-PERaddressee', '118717030[3]'],\n",
       " ['Professor', 'NN', '_', 'I-PERaddressee', '118717030[3]'],\n",
       " ['Die', 'ART', '_', 'O', '_'],\n",
       " ['Wohlthat', 'NE', '_', 'O', '_'],\n",
       " ['und', 'KON', '_', 'O', '_'],\n",
       " ['Annehmlichkeit', 'NN', '_', 'O', '_'],\n",
       " ['in', 'APPR', '_', 'O', '_'],\n",
       " ['Ihrer', 'PPOSAT', '_', 'O', '_'],\n",
       " ['nächsten', 'ADJA', '_', 'O', '_'],\n",
       " ['Nähe', 'NN', '_', 'O', '_'],\n",
       " ['zu', 'APPR', '_', 'O', '_'],\n",
       " ['logiren', 'NN', '_', 'O', '_'],\n",
       " ['ist', 'VAFIN', '_', 'O', '_'],\n",
       " ['mir', 'PPER', '_', 'O', '_'],\n",
       " ['zu', 'PTKA', '_', 'O', '_'],\n",
       " ['werth', 'ADJD', '_', 'O', '_'],\n",
       " ['und', 'KON', '_', 'O', '_'],\n",
       " ['lieb', 'ADJD', '_', 'O', '_'],\n",
       " [',', '$,', '_', 'O', '_'],\n",
       " ['als', 'KOKOM', '_', 'O', '_'],\n",
       " ['daß', 'KOUS', '_', 'O', '_'],\n",
       " ['ich', 'PPER', '_', 'O', '_'],\n",
       " ['nicht', 'PTKNEG', '_', 'O', '_'],\n",
       " ['die', 'ART', '_', 'O', '_'],\n",
       " ['Worte', 'NN', '_', 'O', '_'],\n",
       " ['Ihres', 'PPOSAT', '_', 'O', '_'],\n",
       " ['lieben', 'ADJA', '_', 'O', '_'],\n",
       " ['Briefes', 'NN', '_', 'O', '_'],\n",
       " ['\"', '$(', '_', 'O', '_'],\n",
       " ['daher', 'PAV', '_', 'O', '_'],\n",
       " ['Sie', 'PPER', '_', 'O', '_'],\n",
       " ['vielleicht', 'ADV', '_', 'O', '_'],\n",
       " ['besser', 'ADJD', '_', 'O', '_'],\n",
       " ['einige', 'PIAT', '_', 'O', '_'],\n",
       " ['Tage', 'NN', '_', 'O', '_'],\n",
       " ['zögerten', 'VVFIN', '_', 'O', '_'],\n",
       " ['\"', '$(', '_', 'O', '_'],\n",
       " ['besonders', 'ADV', '_', 'O', '_'],\n",
       " ['hervorheben', 'VVINF', '_', 'O', '_'],\n",
       " ['und', 'KON', '_', 'O', '_'],\n",
       " ['Sie', 'PPER', '_', 'O', '_'],\n",
       " ['nun', 'ADV', '_', 'O', '_'],\n",
       " ['bitte', 'ADV', '_', 'O', '_'],\n",
       " ['das', 'ART', '_', 'O', '_'],\n",
       " ['besagte', 'ADJA', '_', 'O', '_'],\n",
       " ['Logis', 'NE', '_', 'O', '_'],\n",
       " ['für', 'APPR', '_', 'O', '_'],\n",
       " ['mich', 'PPER', '_', 'O', '_'],\n",
       " ['zu', 'APPR', '_', 'O', '_'],\n",
       " ['miethen', 'NE', '_', 'O', '_'],\n",
       " ['.', '$.', '_', 'O', '_']]"
      ]
     },
     "execution_count": 45,
     "metadata": {},
     "output_type": "execute_result"
    }
   ],
   "source": [
    "iob[1]"
   ]
  },
  {
   "cell_type": "code",
   "execution_count": 46,
   "metadata": {
    "nbpresent": {
     "id": "1a817c4b-223e-4513-b33c-89f14e084673"
    }
   },
   "outputs": [
    {
     "data": {
      "text/plain": [
       "['1-2', '1-2', ',', 'HEAD[1]', '_', '_', '']"
      ]
     },
     "execution_count": 46,
     "metadata": {},
     "output_type": "execute_result"
    }
   ],
   "source": [
    "lines[1]"
   ]
  },
  {
   "cell_type": "code",
   "execution_count": 90,
   "metadata": {
    "nbpresent": {
     "id": "3edc65fa-c229-4fb2-a285-1bdffb6ad36c"
    }
   },
   "outputs": [
    {
     "name": "stdout",
     "output_type": "stream",
     "text": [
      "O\n",
      "O\n",
      "O\n",
      "B-PLACEfrom\n",
      "B-DATEletter\n",
      "I-DATEletter\n",
      "I-DATEletter\n",
      "O\n",
      "O\n",
      "B-PERaddressee\n",
      "I-PERaddressee\n",
      "O\n",
      "O\n",
      "O\n",
      "O\n",
      "O\n",
      "O\n",
      "O\n",
      "O\n",
      "O\n",
      "O\n",
      "O\n",
      "O\n",
      "O\n",
      "O\n",
      "O\n",
      "O\n",
      "O\n",
      "O\n",
      "O\n",
      "O\n",
      "O\n",
      "O\n",
      "O\n",
      "O\n",
      "O\n",
      "O\n",
      "O\n",
      "O\n",
      "O\n",
      "O\n",
      "O\n",
      "O\n",
      "O\n",
      "O\n",
      "O\n",
      "O\n",
      "O\n",
      "O\n",
      "O\n",
      "O\n",
      "O\n",
      "O\n",
      "O\n",
      "O\n",
      "O\n",
      "O\n",
      "O\n",
      "O\n",
      "O\n"
     ]
    }
   ],
   "source": [
    "for t in iob[1]:\n",
    "    m = reg.search(t[3])\n",
    "    if m:\n",
    "        pre,tag = (m.group(1), m.group(2))\n",
    "        s = \"{}-{}\".format(pre,reg.sub(lab_map[tag], t[3]))\n",
    "        print(s)\n",
    "    else:\n",
    "        print(t[3])"
   ]
  },
  {
   "cell_type": "code",
   "execution_count": 86,
   "metadata": {
    "nbpresent": {
     "id": "b5695625-8ce6-47eb-b9ab-6e7a53403102"
    }
   },
   "outputs": [
    {
     "data": {
      "text/plain": [
       "[['März', 'NN', 'HEAD[1]', 'O', '_'],\n",
       " ['183', 'ADJA', 'HEAD[1]', 'O', '_'],\n",
       " ['~', 'XY', 'HEAD[1]', 'O', '_'],\n",
       " ['Dresden', 'NE', 'HEAD[1]', 'B-place-from', '2044633'],\n",
       " ['10', 'CARD', 'HEAD[1]', 'B-letter-date', '*[2]'],\n",
       " ['März', 'NN', 'HEAD[1]', 'I-letter-date', '*[2]'],\n",
       " ['1832', 'CARD', 'HEAD[1]', 'I-letter-date', '*[2]'],\n",
       " ['Mein', 'PPOSAT', '_', 'O', '_'],\n",
       " ['freundlichster', 'ADJA', '_', 'O', '_'],\n",
       " ['Herr', 'NN', '_', 'B-per-addressee', '118717030[3]'],\n",
       " ['Professor', 'NN', '_', 'I-per-addressee', '118717030[3]'],\n",
       " ['Die', 'ART', '_', 'O', '_'],\n",
       " ['Wohlthat', 'NE', '_', 'O', '_'],\n",
       " ['und', 'KON', '_', 'O', '_'],\n",
       " ['Annehmlichkeit', 'NN', '_', 'O', '_'],\n",
       " ['in', 'APPR', '_', 'O', '_'],\n",
       " ['Ihrer', 'PPOSAT', '_', 'O', '_'],\n",
       " ['nächsten', 'ADJA', '_', 'O', '_'],\n",
       " ['Nähe', 'NN', '_', 'O', '_'],\n",
       " ['zu', 'APPR', '_', 'O', '_'],\n",
       " ['logiren', 'NN', '_', 'O', '_'],\n",
       " ['ist', 'VAFIN', '_', 'O', '_'],\n",
       " ['mir', 'PPER', '_', 'O', '_'],\n",
       " ['zu', 'PTKA', '_', 'O', '_'],\n",
       " ['werth', 'ADJD', '_', 'O', '_'],\n",
       " ['und', 'KON', '_', 'O', '_'],\n",
       " ['lieb', 'ADJD', '_', 'O', '_'],\n",
       " [',', '$,', '_', 'O', '_'],\n",
       " ['als', 'KOKOM', '_', 'O', '_'],\n",
       " ['daß', 'KOUS', '_', 'O', '_'],\n",
       " ['ich', 'PPER', '_', 'O', '_'],\n",
       " ['nicht', 'PTKNEG', '_', 'O', '_'],\n",
       " ['die', 'ART', '_', 'O', '_'],\n",
       " ['Worte', 'NN', '_', 'O', '_'],\n",
       " ['Ihres', 'PPOSAT', '_', 'O', '_'],\n",
       " ['lieben', 'ADJA', '_', 'O', '_'],\n",
       " ['Briefes', 'NN', '_', 'O', '_'],\n",
       " ['\"', '$(', '_', 'O', '_'],\n",
       " ['daher', 'PAV', '_', 'O', '_'],\n",
       " ['Sie', 'PPER', '_', 'O', '_'],\n",
       " ['vielleicht', 'ADV', '_', 'O', '_'],\n",
       " ['besser', 'ADJD', '_', 'O', '_'],\n",
       " ['einige', 'PIAT', '_', 'O', '_'],\n",
       " ['Tage', 'NN', '_', 'O', '_'],\n",
       " ['zögerten', 'VVFIN', '_', 'O', '_'],\n",
       " ['\"', '$(', '_', 'O', '_'],\n",
       " ['besonders', 'ADV', '_', 'O', '_'],\n",
       " ['hervorheben', 'VVINF', '_', 'O', '_'],\n",
       " ['und', 'KON', '_', 'O', '_'],\n",
       " ['Sie', 'PPER', '_', 'O', '_'],\n",
       " ['nun', 'ADV', '_', 'O', '_'],\n",
       " ['bitte', 'ADV', '_', 'O', '_'],\n",
       " ['das', 'ART', '_', 'O', '_'],\n",
       " ['besagte', 'ADJA', '_', 'O', '_'],\n",
       " ['Logis', 'NE', '_', 'O', '_'],\n",
       " ['für', 'APPR', '_', 'O', '_'],\n",
       " ['mich', 'PPER', '_', 'O', '_'],\n",
       " ['zu', 'APPR', '_', 'O', '_'],\n",
       " ['miethen', 'NE', '_', 'O', '_'],\n",
       " ['.', '$.', '_', 'O', '_']]"
      ]
     },
     "execution_count": 86,
     "metadata": {},
     "output_type": "execute_result"
    }
   ],
   "source": [
    "iob[1]"
   ]
  },
  {
   "cell_type": "code",
   "execution_count": null,
   "metadata": {
    "collapsed": true,
    "nbpresent": {
     "id": "06dc5782-1526-4e8f-b68e-5dd004a1ea4a"
    }
   },
   "outputs": [],
   "source": []
  },
  {
   "cell_type": "code",
   "execution_count": 74,
   "metadata": {
    "nbpresent": {
     "id": "b3cc2168-d684-4002-a0d9-9b90d9a49686"
    }
   },
   "outputs": [
    {
     "data": {
      "text/plain": [
       "<_sre.SRE_Match object; span=(0, 15), match='B-per-mentioned'>"
      ]
     },
     "execution_count": 74,
     "metadata": {},
     "output_type": "execute_result"
    }
   ],
   "source": [
    "m=reg.search(\"B-per-mentioned\")\n",
    "m"
   ]
  },
  {
   "cell_type": "code",
   "execution_count": 80,
   "metadata": {
    "nbpresent": {
     "id": "92c97d26-1d35-4b4c-8d1e-c6baf38c09ee"
    }
   },
   "outputs": [
    {
     "data": {
      "text/plain": [
       "'-mentioned'"
      ]
     },
     "execution_count": 80,
     "metadata": {},
     "output_type": "execute_result"
    }
   ],
   "source": [
    "m.group(2)"
   ]
  },
  {
   "cell_type": "code",
   "execution_count": 17,
   "metadata": {
    "collapsed": true,
    "nbpresent": {
     "id": "cc4319b8-7600-4fdf-a351-14bd27f90489"
    }
   },
   "outputs": [],
   "source": [
    "lines = splitInLines(tsv.text)"
   ]
  },
  {
   "cell_type": "code",
   "execution_count": 18,
   "metadata": {
    "nbpresent": {
     "id": "fbdc4bdb-62ee-4018-8707-ef9570ae864c"
    }
   },
   "outputs": [
    {
     "data": {
      "text/plain": [
       "[['1-1', '0-1', '(', 'HEAD[1]', '_', '_', ''],\n",
       " ['1-2', '1-2', ',', 'HEAD[1]', '_', '_', ''],\n",
       " ['1-3', '3-8', 'Braun', 'HEAD[1]', '_', '_', ''],\n",
       " ['1-4', '9-11', 'an', 'HEAD[1]', '_', '_', ''],\n",
       " ['1-5', '12-19', 'Gerhard', 'HEAD[1]', '_', '_', ''],\n",
       " ['1-6', '20-27', 'Dresden', 'HEAD[1]', '_', '_', ''],\n",
       " ['1-7', '27-28', ',', 'HEAD[1]', '_', '_', ''],\n",
       " ['1-8', '29-31', '10', 'HEAD[1]', '_', '_', ''],\n",
       " ['1-9', '31-32', '.', 'HEAD[1]', '_', '_', ''],\n",
       " ['2-1', '33-37', 'März', 'HEAD[1]', '_', '_', '']]"
      ]
     },
     "execution_count": 18,
     "metadata": {},
     "output_type": "execute_result"
    }
   ],
   "source": [
    "lines[:10]"
   ]
  },
  {
   "cell_type": "code",
   "execution_count": 19,
   "metadata": {
    "collapsed": true,
    "nbpresent": {
     "id": "8e47e3b5-9701-44e6-9d47-17f7e32a5531"
    }
   },
   "outputs": [],
   "source": [
    "i = tsv2iob(lines)"
   ]
  },
  {
   "cell_type": "code",
   "execution_count": 22,
   "metadata": {
    "nbpresent": {
     "id": "4e6e60df-24d8-4606-bba1-66891da858ba"
    }
   },
   "outputs": [
    {
     "data": {
      "text/plain": [
       "[['März', '', 'HEAD[1]', 'O', '_'],\n",
       " ['183', '', 'HEAD[1]', 'O', '_'],\n",
       " ['~', '', 'HEAD[1]', 'O', '_'],\n",
       " ['Dresden', '', 'HEAD[1]', 'B-place-from', '2044633'],\n",
       " ['10', '', 'HEAD[1]', 'B-letter-date', '*[2]'],\n",
       " ['März', '', 'HEAD[1]', 'I-letter-date', '*[2]'],\n",
       " ['1832', '', 'HEAD[1]', 'I-letter-date', '*[2]'],\n",
       " ['Mein', '', '_', 'O', '_'],\n",
       " ['freundlichster', '', '_', 'O', '_'],\n",
       " ['Herr', '', '_', 'B-per-addressee', '118717030[3]'],\n",
       " ['Professor', '', '_', 'I-per-addressee', '118717030[3]'],\n",
       " ['Die', '', '_', 'O', '_'],\n",
       " ['Wohlthat', '', '_', 'O', '_'],\n",
       " ['und', '', '_', 'O', '_'],\n",
       " ['Annehmlichkeit', '', '_', 'O', '_'],\n",
       " ['in', '', '_', 'O', '_'],\n",
       " ['Ihrer', '', '_', 'O', '_'],\n",
       " ['nächsten', '', '_', 'O', '_'],\n",
       " ['Nähe', '', '_', 'O', '_'],\n",
       " ['zu', '', '_', 'O', '_'],\n",
       " ['logiren', '', '_', 'O', '_'],\n",
       " ['ist', '', '_', 'O', '_'],\n",
       " ['mir', '', '_', 'O', '_'],\n",
       " ['zu', '', '_', 'O', '_'],\n",
       " ['werth', '', '_', 'O', '_'],\n",
       " ['und', '', '_', 'O', '_'],\n",
       " ['lieb', '', '_', 'O', '_'],\n",
       " [',', '', '_', 'O', '_'],\n",
       " ['als', '', '_', 'O', '_'],\n",
       " ['daß', '', '_', 'O', '_'],\n",
       " ['ich', '', '_', 'O', '_'],\n",
       " ['nicht', '', '_', 'O', '_'],\n",
       " ['die', '', '_', 'O', '_'],\n",
       " ['Worte', '', '_', 'O', '_'],\n",
       " ['Ihres', '', '_', 'O', '_'],\n",
       " ['lieben', '', '_', 'O', '_'],\n",
       " ['Briefes', '', '_', 'O', '_'],\n",
       " ['\"', '', '_', 'O', '_'],\n",
       " ['daher', '', '_', 'O', '_'],\n",
       " ['Sie', '', '_', 'O', '_'],\n",
       " ['vielleicht', '', '_', 'O', '_'],\n",
       " ['besser', '', '_', 'O', '_'],\n",
       " ['einige', '', '_', 'O', '_'],\n",
       " ['Tage', '', '_', 'O', '_'],\n",
       " ['zögerten', '', '_', 'O', '_'],\n",
       " ['\"', '', '_', 'O', '_'],\n",
       " ['besonders', '', '_', 'O', '_'],\n",
       " ['hervorheben', '', '_', 'O', '_'],\n",
       " ['und', '', '_', 'O', '_'],\n",
       " ['Sie', '', '_', 'O', '_'],\n",
       " ['nun', '', '_', 'O', '_'],\n",
       " ['bitte', '', '_', 'O', '_'],\n",
       " ['das', '', '_', 'O', '_'],\n",
       " ['besagte', '', '_', 'O', '_'],\n",
       " ['Logis', '', '_', 'O', '_'],\n",
       " ['für', '', '_', 'O', '_'],\n",
       " ['mich', '', '_', 'O', '_'],\n",
       " ['zu', '', '_', 'O', '_'],\n",
       " ['miethen', '', '_', 'O', '_'],\n",
       " ['.', '', '_', 'O', '_']]"
      ]
     },
     "execution_count": 22,
     "metadata": {},
     "output_type": "execute_result"
    }
   ],
   "source": [
    "i[1]"
   ]
  },
  {
   "cell_type": "code",
   "execution_count": 58,
   "metadata": {
    "nbpresent": {
     "id": "2c41736c-27fd-4c87-9e15-abf2113e8e5a"
    }
   },
   "outputs": [
    {
     "data": {
      "text/plain": [
       "'Annotation for user [francesco] on document [235] in project [3] not found.'"
      ]
     },
     "execution_count": 58,
     "metadata": {},
     "output_type": "execute_result"
    }
   ],
   "source": [
    "tsv.text"
   ]
  },
  {
   "cell_type": "code",
   "execution_count": 187,
   "metadata": {
    "collapsed": true,
    "nbpresent": {
     "id": "64c8e420-e54e-4513-828e-46f8935518e1"
    }
   },
   "outputs": [],
   "source": [
    "!grep -rnw 'data/IOB/' -e 'B-\\*'"
   ]
  },
  {
   "cell_type": "code",
   "execution_count": 205,
   "metadata": {
    "collapsed": true,
    "nbpresent": {
     "id": "6c214e89-afce-405b-a18b-308c813ee9d2"
    }
   },
   "outputs": [],
   "source": [
    "from nltk.corpus.reader.util import read_blankline_block"
   ]
  },
  {
   "cell_type": "code",
   "execution_count": 224,
   "metadata": {
    "collapsed": true,
    "nbpresent": {
     "id": "f6573ead-70db-4d41-9013-75cfe45a0ebd"
    }
   },
   "outputs": [],
   "source": [
    "import io\n",
    "stream = io.StringIO('''\n",
    "\n",
    ".\t$.\t.\t_\tO\t_\n",
    ".\t$.\t.\t_\tO\t_\n",
    "<\t$(\t<\t_\tO\t_\n",
    "[\t$(\t\t_\tO\t_\n",
    "i\tVVFIN\t<unknown>\t_\tO\t_\n",
    ".\t$.\t.\t_\tO\t_\n",
    "l\tNN\tl\t_\tO\t_\n",
    ",\t$,\t,\t_\tO\t_\n",
    "\"\t$(\t\"\t_\tO\t_\n",
    "12\tCARD\t12\tHEAD[1]\tO\t_\n",
    "Braun\tNN\tBraun\tHEAD[1]\tO\t_\n",
    "an\tAPPR\tan\tHEAD[1]\tO\t_\n",
    "Gerhard\tNE\tGerhard\tHEAD[1]\tO\t_\n",
    "Rom\tNE\tRom\tHEAD[1]\tO\t_\n",
    ",\t$,\t,\tHEAD[1]\tO\t_\n",
    "8\tCARD\t8\tHEAD[1]\tO\t_\n",
    ".\t$.\t.\tHEAD[1]\tO\t_\n",
    "\n",
    "''')"
   ]
  },
  {
   "cell_type": "code",
   "execution_count": 216,
   "metadata": {
    "nbpresent": {
     "id": "7fd09bd7-8559-4d39-a8da-203376c2664a"
    }
   },
   "outputs": [
    {
     "ename": "ValueError",
     "evalue": "Inconsistent number of columns:\n.\t$.\t.\t_\tO\t_\n.\t$.\t.\t_\tO\t_\n<\t$(\t<\t_\tO\t_\n[\t$(\t\t_\tO\t_\ni\tVVFIN\t<unknown>\t_\tO\t_\n.\t$.\t.\t_\tO\t_\nl\tNN\tl\t_\tO\t_\n,\t$,\t,\t_\tO\t_\n\"\t$(\t\"\t_\tO\t_\n12\tCARD\t12\tHEAD[1]\tO\t_\nBraun\tNN\tBraun\tHEAD[1]\tO\t_\nan\tAPPR\tan\tHEAD[1]\tO\t_\nGerhard\tNE\tGerhard\tHEAD[1]\tO\t_\nRom\tNE\tRom\tHEAD[1]\tO\t_\n,\t$,\t,\tHEAD[1]\tO\t_\n8\tCARD\t8\tHEAD[1]\tO\t_\n.\t$.\t.\tHEAD[1]\tO\t_",
     "output_type": "error",
     "traceback": [
      "\u001b[1;31m---------------------------------------------------------------------------\u001b[0m",
      "\u001b[1;31mValueError\u001b[0m                                Traceback (most recent call last)",
      "\u001b[1;32m<ipython-input-216-20dac2fb2625>\u001b[0m in \u001b[0;36m<module>\u001b[1;34m()\u001b[0m\n\u001b[0;32m     13\u001b[0m         \u001b[1;32mif\u001b[0m \u001b[0mlen\u001b[0m\u001b[1;33m(\u001b[0m\u001b[0mrow\u001b[0m\u001b[1;33m)\u001b[0m \u001b[1;33m!=\u001b[0m \u001b[0mlen\u001b[0m\u001b[1;33m(\u001b[0m\u001b[0mgrid\u001b[0m\u001b[1;33m[\u001b[0m\u001b[1;36m0\u001b[0m\u001b[1;33m]\u001b[0m\u001b[1;33m)\u001b[0m\u001b[1;33m:\u001b[0m\u001b[1;33m\u001b[0m\u001b[0m\n\u001b[0;32m     14\u001b[0m             raise ValueError('Inconsistent number of columns:\\n%s'\n\u001b[1;32m---> 15\u001b[1;33m                              % block)\n\u001b[0m\u001b[0;32m     16\u001b[0m     \u001b[0mgrids\u001b[0m\u001b[1;33m.\u001b[0m\u001b[0mappend\u001b[0m\u001b[1;33m(\u001b[0m\u001b[0mgrid\u001b[0m\u001b[1;33m)\u001b[0m\u001b[1;33m\u001b[0m\u001b[0m\n",
      "\u001b[1;31mValueError\u001b[0m: Inconsistent number of columns:\n.\t$.\t.\t_\tO\t_\n.\t$.\t.\t_\tO\t_\n<\t$(\t<\t_\tO\t_\n[\t$(\t\t_\tO\t_\ni\tVVFIN\t<unknown>\t_\tO\t_\n.\t$.\t.\t_\tO\t_\nl\tNN\tl\t_\tO\t_\n,\t$,\t,\t_\tO\t_\n\"\t$(\t\"\t_\tO\t_\n12\tCARD\t12\tHEAD[1]\tO\t_\nBraun\tNN\tBraun\tHEAD[1]\tO\t_\nan\tAPPR\tan\tHEAD[1]\tO\t_\nGerhard\tNE\tGerhard\tHEAD[1]\tO\t_\nRom\tNE\tRom\tHEAD[1]\tO\t_\n,\t$,\t,\tHEAD[1]\tO\t_\n8\tCARD\t8\tHEAD[1]\tO\t_\n.\t$.\t.\tHEAD[1]\tO\t_"
     ]
    }
   ],
   "source": [
    "grids = []\n",
    "for block in read_blankline_block(stream):\n",
    "    block = block.strip()\n",
    "    if not block: continue\n",
    "\n",
    "    grid = [line.split() for line in block.split('\\n')]\n",
    "\n",
    "    # If there's a docstart row, then discard. ([xx] eventually it\n",
    "    # would be good to actually use it)\n",
    "\n",
    "    # Check that the grid is consistent.\n",
    "    for row in grid:\n",
    "        if len(row) != len(grid[0]):\n",
    "            raise ValueError('Inconsistent number of columns:\\n%s'\n",
    "                             % block)\n",
    "    grids.append(grid)"
   ]
  },
  {
   "cell_type": "code",
   "execution_count": 225,
   "metadata": {
    "collapsed": true,
    "nbpresent": {
     "id": "4c3c7e1e-e4ee-469e-a31a-a4b7f6d9e900"
    }
   },
   "outputs": [],
   "source": [
    "r = read_blankline_block(stream)"
   ]
  },
  {
   "cell_type": "code",
   "execution_count": 234,
   "metadata": {
    "nbpresent": {
     "id": "527c12d5-9ab4-4149-956a-d962c4f115ef"
    },
    "scrolled": true
   },
   "outputs": [
    {
     "data": {
      "text/plain": [
       "['.',\n",
       " '.',\n",
       " '<',\n",
       " '[',\n",
       " 'i',\n",
       " '.',\n",
       " 'l',\n",
       " ',',\n",
       " '\"',\n",
       " '12',\n",
       " 'Braun',\n",
       " 'an',\n",
       " 'Gerhard',\n",
       " 'Rom',\n",
       " ',',\n",
       " '8',\n",
       " '.']"
      ]
     },
     "execution_count": 234,
     "metadata": {},
     "output_type": "execute_result"
    }
   ],
   "source": [
    "st = [l[0] for l in grid[:-1]]\n",
    "st"
   ]
  },
  {
   "cell_type": "code",
   "execution_count": 235,
   "metadata": {
    "nbpresent": {
     "id": "439e6ac9-4f2c-4434-baae-bc41f8c9d9be"
    }
   },
   "outputs": [
    {
     "data": {
      "text/plain": [
       "[['.', '$.', '.'],\n",
       " ['.', '$.', '.'],\n",
       " ['<', '$(', '<'],\n",
       " ['[', '$(', '['],\n",
       " ['i', 'VVFIN', '<unknown>'],\n",
       " ['.', '$.', '.'],\n",
       " ['l', 'NN', 'l'],\n",
       " [',', '$,', ','],\n",
       " ['\"', '$(', '\"'],\n",
       " ['12', 'CARD', '12'],\n",
       " ['Braun', 'NN', 'Braun'],\n",
       " ['an', 'APPR', 'an'],\n",
       " ['Gerhard', 'NE', 'Gerhard'],\n",
       " ['Rom', 'NE', 'Rom'],\n",
       " [',', '$,', ','],\n",
       " ['8', 'CARD', '8'],\n",
       " ['.', '$.', '.']]"
      ]
     },
     "execution_count": 235,
     "metadata": {},
     "output_type": "execute_result"
    }
   ],
   "source": [
    "tagDAI(st, lang=\"de\")"
   ]
  },
  {
   "cell_type": "code",
   "execution_count": null,
   "metadata": {
    "collapsed": true,
    "nbpresent": {
     "id": "066a02e9-d7ce-41fd-9309-f1fc882eecbe"
    }
   },
   "outputs": [],
   "source": []
  },
  {
   "cell_type": "code",
   "execution_count": 232,
   "metadata": {
    "nbpresent": {
     "id": "47a970c7-e3b6-4689-87f7-08766d06a5d1"
    }
   },
   "outputs": [
    {
     "name": "stdout",
     "output_type": "stream",
     "text": [
      "6\n",
      "6\n",
      "6\n",
      "5\n",
      "6\n",
      "6\n",
      "6\n",
      "6\n",
      "6\n",
      "6\n",
      "6\n",
      "6\n",
      "6\n",
      "6\n",
      "6\n",
      "6\n",
      "6\n",
      "0\n"
     ]
    }
   ],
   "source": [
    "grid = [line.split() for line in block.split('\\n')]\n",
    "for g in grid: print(len(g))"
   ]
  },
  {
   "cell_type": "code",
   "execution_count": 6,
   "metadata": {
    "collapsed": true,
    "nbpresent": {
     "id": "4101fecf-d6f0-4de6-9b79-1a041d037ab6"
    }
   },
   "outputs": [],
   "source": [
    "postags = [\"NN\", \"DET\", \"PP\", \"S\"]\n",
    "i = 0"
   ]
  },
  {
   "cell_type": "code",
   "execution_count": 86,
   "metadata": {
    "collapsed": true,
    "nbpresent": {
     "id": "636fd0a0-1ee4-49a9-8569-de592a5aba38"
    }
   },
   "outputs": [],
   "source": [
    "def isInDic(li, v):\n",
    "    return v in li"
   ]
  },
  {
   "cell_type": "code",
   "execution_count": 88,
   "metadata": {
    "nbpresent": {
     "id": "b3841868-ba96-4d75-acfc-bd5a8afed736"
    }
   },
   "outputs": [
    {
     "data": {
      "text/plain": [
       "True"
      ]
     },
     "execution_count": 88,
     "metadata": {},
     "output_type": "execute_result"
    }
   ],
   "source": [
    "isInDic([1,2,3,4], 2)"
   ]
  },
  {
   "cell_type": "code",
   "execution_count": 117,
   "metadata": {
    "collapsed": true,
    "nbpresent": {
     "id": "ce1b64a3-98e4-4374-afcd-d68ebad24dc0"
    }
   },
   "outputs": [],
   "source": [
    "import json\n",
    "with open(\"data/objekt.json\") as data_file:    \n",
    "    txt = data_file.readlines()"
   ]
  },
  {
   "cell_type": "code",
   "execution_count": 127,
   "metadata": {
    "collapsed": true,
    "nbpresent": {
     "id": "689da8d6-65f5-41a5-b4f2-548c3ebb2798"
    }
   },
   "outputs": [],
   "source": [
    "objekts = json.loads(\"\".join(txt[9:]))"
   ]
  },
  {
   "cell_type": "code",
   "execution_count": 132,
   "metadata": {
    "collapsed": true,
    "nbpresent": {
     "id": "4ed5fcee-0c79-4867-b2ab-762635688bf1"
    }
   },
   "outputs": [],
   "source": [
    "locations_fields = [\"Fundort\", \"Fundstaat\"]"
   ]
  },
  {
   "cell_type": "code",
   "execution_count": 130,
   "metadata": {
    "collapsed": true,
    "nbpresent": {
     "id": "4901f71c-d61a-4191-99a7-21cd599eae71"
    }
   },
   "outputs": [],
   "source": [
    "fields = [\"GattungAllgemein\", \n",
    "        \"KurzbeschreibungObjekt\",\n",
    "        \"Materialbeschreibung\",\n",
    "        \"Material\",\n",
    "        \"TechnikDetails\",\n",
    "        \"Technik\",\n",
    "        \"funktionaleVerwendung\",\n",
    "        \"Fundkontext\"\n",
    "       ]"
   ]
  },
  {
   "cell_type": "code",
   "execution_count": 135,
   "metadata": {
    "collapsed": true,
    "nbpresent": {
     "id": "7d49fd95-f011-49d5-ba7e-d5a886f1f5d0"
    }
   },
   "outputs": [],
   "source": [
    "terms = []\n",
    "locations = []\n",
    "for o in objekts:\n",
    "    for f in fields:\n",
    "        t = o[f]\n",
    "        if t != '':\n",
    "            terms.append(t)\n",
    "    for l in locations_fields:\n",
    "        loc = o[l]\n",
    "        if loc != '':\n",
    "            locations.append(loc)"
   ]
  },
  {
   "cell_type": "code",
   "execution_count": 141,
   "metadata": {
    "collapsed": true,
    "nbpresent": {
     "id": "ae9b88cc-3680-44ce-9dd2-1cf90422a4a8"
    }
   },
   "outputs": [],
   "source": [
    "refined_terms = []\n",
    "for term in terms:\n",
    "    for t in term.split(\";\"):\n",
    "        refined_terms.append(t)"
   ]
  },
  {
   "cell_type": "code",
   "execution_count": 144,
   "metadata": {
    "collapsed": true,
    "nbpresent": {
     "id": "b6cfbd36-0748-4557-afec-849a43cc177b"
    }
   },
   "outputs": [],
   "source": [
    "with open(\"data/dictionaries/objects.txt\", \"w\") as out:\n",
    "    for t in set(refined_terms):\n",
    "        out.write(t + \"\\n\")"
   ]
  },
  {
   "cell_type": "code",
   "execution_count": 134,
   "metadata": {
    "collapsed": true,
    "nbpresent": {
     "id": "6282b3f1-6a5a-42c2-a23e-a1b37e5c77bc"
    }
   },
   "outputs": [
    {
     "data": {
      "text/plain": [
       "{'Adressat': '',\n",
       " 'AntikerAufstellungsort': '',\n",
       " 'ApplizierteElemente': '',\n",
       " 'Arbeitsnotiz': '',\n",
       " 'Auftraggeber': '',\n",
       " 'BearbeiterObjekt': 'M.L. (06.12.1994)',\n",
       " 'Bearbeitungen': '',\n",
       " 'BearbeitungenAntik': '',\n",
       " 'BearbeitungenModern': '',\n",
       " 'BerlinDatenblatt': '',\n",
       " 'BerlinInstitution': None,\n",
       " 'BerlinInventar': '',\n",
       " 'BerlinObjekt': '',\n",
       " 'BerlinObjektID': None,\n",
       " 'BerlinObjektstatus': None,\n",
       " 'BerlinVerantwortlich': None,\n",
       " 'BreiteGesamt': '',\n",
       " 'DatensatzGruppeObjekt': 'Arachne',\n",
       " 'DekorAllgemein': '',\n",
       " 'DurchmesserGesamt': '',\n",
       " 'Erhaltung': '',\n",
       " 'Erhaltungszustand': '',\n",
       " 'FS_CMSNR': None,\n",
       " 'FS_GruppenID_bak': None,\n",
       " 'FS_Objekt_Siegel_Key': '0',\n",
       " 'FS_Plomben_ID': None,\n",
       " 'FS_TopographieID': None,\n",
       " 'Farbreste': '',\n",
       " 'FreieBeschreibung': None,\n",
       " 'FunddatumObjekt': '',\n",
       " 'Fundkontext': '',\n",
       " 'Fundort': 'Amrit',\n",
       " 'Fundstaat': '',\n",
       " 'Funktion': '',\n",
       " 'GattungAllgemein': 'Rundplastik',\n",
       " 'GewichtGesamt': '',\n",
       " 'GipsInBonn': '',\n",
       " 'HerkFundKommentar': '',\n",
       " 'Herkunft': '',\n",
       " 'HoeheGesamt': '',\n",
       " 'InschriftCorpusGriech_OLD': '',\n",
       " 'InschriftCorpusLatein_OLD': '',\n",
       " 'InschriftCorpusObjekt': '',\n",
       " 'InschriftGriechisch_OLD': '',\n",
       " 'InschriftKommentar': '',\n",
       " 'InschriftLatein_OLD': '',\n",
       " 'InschriftMainzID': '0',\n",
       " 'InschriftObjekt': '',\n",
       " 'InschriftPublikation': '',\n",
       " 'InschriftSpracheObjekt': '',\n",
       " 'KarteiFittschen': 'nein',\n",
       " 'Katalogbearbeitung': '',\n",
       " 'KatalogbearbeitungEnglisch': None,\n",
       " 'Katalognummer': '',\n",
       " 'Katalogtext': '',\n",
       " 'KatalogtextEnglisch': None,\n",
       " 'Korrektor': 'C.B.',\n",
       " 'Kulturkreis': '',\n",
       " 'KurzbeschreibungObjekt': 'Gewandstatue eines Mannes',\n",
       " 'Material': '',\n",
       " 'MaterialBemerkung': None,\n",
       " 'Materialbeschreibung': '',\n",
       " 'MedienAG': 'nein',\n",
       " 'ObjektArtErwerb': '',\n",
       " 'ObjektAusleihe': '',\n",
       " 'ObjektAusleiheDauerBis': '',\n",
       " 'ObjektAusleiheDauerLeihnehmer': '',\n",
       " 'ObjektAusleiheDauerVon': '',\n",
       " 'ObjektAusleiheDauernahmeBis': '',\n",
       " 'ObjektAusleiheDauernahmeEigentuemer': '',\n",
       " 'ObjektAusleiheDauernahmeVon': '',\n",
       " 'ObjektAusleiheLeihnehmer': '',\n",
       " 'ObjektAusleiheZweck': '',\n",
       " 'ObjektErwerbDatum': '',\n",
       " 'ObjektErwerbUmstand': None,\n",
       " 'ObjektLeipTempAufbewahrung': '',\n",
       " 'ObjektLeipTempDat': '',\n",
       " 'ObjektLeipTempLit': '',\n",
       " 'ObjektMaszeBemerk': '',\n",
       " 'ObjektPreis': '',\n",
       " 'ObjektRestauroAnalyseDurchgefuehrtVon': '',\n",
       " 'ObjektRestauroAnalyseErgebnis': '',\n",
       " 'ObjektRestauroAnalyseMasznahmenMethoden': '',\n",
       " 'ObjektRestauroAnalyseZeitraum': '',\n",
       " 'ObjektRestauroAnalyseZiel': '',\n",
       " 'ObjektRestauroBeschreibung': '',\n",
       " 'ObjektRestauroBeschreibungVorzustand': '',\n",
       " 'ObjektRestauroDurchgefuehrtVon': '',\n",
       " 'ObjektRestauroHerstell': '',\n",
       " 'ObjektRestauroMasznahmen': '',\n",
       " 'ObjektRestauroMasznahmenFruehere': '',\n",
       " 'ObjektRestauroMaterialBemerk': '',\n",
       " 'ObjektRestauroRestaurier': '',\n",
       " 'ObjektRestauroZeitraum': '',\n",
       " 'ObjektVersicherungswert': '',\n",
       " 'PS_ObjektID': '168',\n",
       " 'Projekttitel': '',\n",
       " 'RekoObjekt': '',\n",
       " 'SchmuckBeschreibung': '',\n",
       " 'SchmuckSpezifizierung': '',\n",
       " 'Spolie': '',\n",
       " 'Technik': '',\n",
       " 'TechnikDetails': '',\n",
       " 'TiefeGesamt': '',\n",
       " 'ZusaetzlicheMasze': '',\n",
       " 'antikeGriechLandschaft': '',\n",
       " 'antikeRoemProvinz': '',\n",
       " 'creation': '1994-12-06 07:06:06',\n",
       " 'funktionaleVerwendung': '',\n",
       " 'gesperrt': 'nein',\n",
       " 'lastModified': '2011-08-04 11:03:47',\n",
       " 'oaipmhsetObjekt': 'objekt',\n",
       " 'zuMonument': 'nein'}"
      ]
     },
     "execution_count": 134,
     "metadata": {},
     "output_type": "execute_result"
    }
   ],
   "source": [
    "objekts[163]"
   ]
  },
  {
   "cell_type": "code",
   "execution_count": 125,
   "metadata": {
    "nbpresent": {
     "id": "5d2cd3bb-9508-4f2e-8d83-780012fb3d08"
    }
   },
   "outputs": [
    {
     "name": "stdout",
     "output_type": "stream",
     "text": [
      "[{\n",
      "    \"PS_ObjektID\": \"1\",\n",
      "    \"FS_GruppenID_bak\": null,\n",
      "    \"FS_TopographieID\": null,\n",
      "    \"DatensatzGruppeObjekt\": \"Arachne\",\n",
      "    \"Adressat\": \"\",\n",
      "\n"
     ]
    }
   ],
   "source": [
    "print(\"\".join(txt[9:15]))"
   ]
  },
  {
   "cell_type": "code",
   "execution_count": null,
   "metadata": {
    "collapsed": true,
    "nbpresent": {
     "id": "c8c85119-a350-49f4-8e24-abb1ddc58e02"
    }
   },
   "outputs": [],
   "source": []
  },
  {
   "cell_type": "code",
   "execution_count": null,
   "metadata": {
    "collapsed": true,
    "nbpresent": {
     "id": "cfc997a6-3391-4e66-a8a2-12fefef1fcf7"
    }
   },
   "outputs": [],
   "source": []
  }
 ],
 "metadata": {
  "celltoolbar": "Slideshow",
  "kernelspec": {
   "display_name": "Python [default]",
   "language": "python",
   "name": "python3"
  },
  "language_info": {
   "codemirror_mode": {
    "name": "ipython",
    "version": 3
   },
   "file_extension": ".py",
   "mimetype": "text/x-python",
   "name": "python",
   "nbconvert_exporter": "python",
   "pygments_lexer": "ipython3",
   "version": "3.6.3"
  },
  "nav_menu": {},
  "nbpresent": {
   "slides": {
    "cf132ca5-5587-46e3-b98e-a7e2d68fc8be": {
     "id": "cf132ca5-5587-46e3-b98e-a7e2d68fc8be",
     "prev": null,
     "regions": {
      "009075b8-a991-4ca5-9462-370576bfb205": {
       "attrs": {
        "height": 0.4,
        "width": 0.8,
        "x": 0.1,
        "y": 0.5
       },
       "content": {
        "cell": "a11b49cd-fe6e-418c-93f5-1f05e410c7f3",
        "part": "whole"
       },
       "id": "009075b8-a991-4ca5-9462-370576bfb205"
      },
      "03b814af-4166-4fab-a41d-ed3ac133a585": {
       "attrs": {
        "height": 0.4,
        "width": 0.8,
        "x": 0.1,
        "y": 0.5
       },
       "content": {
        "cell": "64c8e420-e54e-4513-828e-46f8935518e1",
        "part": "whole"
       },
       "id": "03b814af-4166-4fab-a41d-ed3ac133a585"
      },
      "05565029-b71a-42b2-9d09-1b32c8d39726": {
       "attrs": {
        "height": 0.4,
        "width": 0.8,
        "x": 0.1,
        "y": 0.5
       },
       "content": {
        "cell": "c1ff26c1-16be-4b07-8d27-3e0009def96a",
        "part": "whole"
       },
       "id": "05565029-b71a-42b2-9d09-1b32c8d39726"
      },
      "07643b52-17d6-4df5-a313-3068d9438c81": {
       "attrs": {
        "height": 0.4,
        "width": 0.8,
        "x": 0.1,
        "y": 0.5
       },
       "content": {
        "cell": "527c12d5-9ab4-4149-956a-d962c4f115ef",
        "part": "whole"
       },
       "id": "07643b52-17d6-4df5-a313-3068d9438c81"
      },
      "0881d394-933e-4e78-b7f4-4a6e28ff9d78": {
       "attrs": {
        "height": 0.4,
        "width": 0.8,
        "x": 0.1,
        "y": 0.5
       },
       "content": {
        "cell": "1f14f60a-e717-451b-8db9-bee612893917",
        "part": "whole"
       },
       "id": "0881d394-933e-4e78-b7f4-4a6e28ff9d78"
      },
      "092a838d-9f16-4d38-bac9-da99eff4c9ce": {
       "attrs": {
        "height": 0.4,
        "width": 0.8,
        "x": 0.1,
        "y": 0.5
       },
       "content": {
        "cell": "0dd156e1-41fe-4477-8cb9-8325111db29d",
        "part": "whole"
       },
       "id": "092a838d-9f16-4d38-bac9-da99eff4c9ce"
      },
      "0c79f004-2528-479f-8929-73b0db6b088e": {
       "attrs": {
        "height": 0.4,
        "width": 0.8,
        "x": 0.1,
        "y": 0.5
       },
       "content": {
        "cell": "d4c03d7c-abc3-4625-9e1e-4730db5281c3",
        "part": "whole"
       },
       "id": "0c79f004-2528-479f-8929-73b0db6b088e"
      },
      "0e330dab-7b52-4a3b-a3ac-dfbe0ebdb51b": {
       "attrs": {
        "height": 0.4,
        "width": 0.8,
        "x": 0.1,
        "y": 0.5
       },
       "content": {
        "cell": "444cbe05-b2a9-42e6-9db8-3bd2f6b0f494",
        "part": "whole"
       },
       "id": "0e330dab-7b52-4a3b-a3ac-dfbe0ebdb51b"
      },
      "0ec412aa-a620-4896-ba79-2ba87d4552a2": {
       "attrs": {
        "height": 0.4,
        "width": 0.8,
        "x": 0.1,
        "y": 0.5
       },
       "content": {
        "cell": "6c214e89-afce-405b-a18b-308c813ee9d2",
        "part": "whole"
       },
       "id": "0ec412aa-a620-4896-ba79-2ba87d4552a2"
      },
      "119af2d0-7486-4338-99ba-8e4734946a88": {
       "attrs": {
        "height": 0.4,
        "width": 0.8,
        "x": 0.1,
        "y": 0.5
       },
       "content": {
        "cell": "50edb5ec-06ba-459f-b43a-9a3865693e80",
        "part": "whole"
       },
       "id": "119af2d0-7486-4338-99ba-8e4734946a88"
      },
      "1610147f-3a31-4947-b6de-0763dde6440b": {
       "attrs": {
        "height": 0.4,
        "width": 0.8,
        "x": 0.1,
        "y": 0.5
       },
       "content": {
        "cell": "2b1cec91-844a-4fb7-8e1c-6fb86e869e81",
        "part": "whole"
       },
       "id": "1610147f-3a31-4947-b6de-0763dde6440b"
      },
      "1780cbef-6ed5-4190-b224-d0d8e082ad73": {
       "attrs": {
        "height": 0.4,
        "width": 0.8,
        "x": 0.1,
        "y": 0.5
       },
       "content": {
        "cell": "bac47234-521d-48a5-8add-3be68f28433c",
        "part": "whole"
       },
       "id": "1780cbef-6ed5-4190-b224-d0d8e082ad73"
      },
      "19c7724b-6d86-47ca-abb1-21b9bec8550f": {
       "attrs": {
        "height": 0.4,
        "width": 0.8,
        "x": 0.1,
        "y": 0.5
       },
       "content": {
        "cell": "288c7030-b113-4816-8548-b47aa9bdab47",
        "part": "whole"
       },
       "id": "19c7724b-6d86-47ca-abb1-21b9bec8550f"
      },
      "1ad666d3-1adb-480d-bafb-0e8d5d8dd1d6": {
       "attrs": {
        "height": 0.4,
        "width": 0.8,
        "x": 0.1,
        "y": 0.5
       },
       "content": {
        "cell": "2ab8823d-fe9e-4e8c-93ea-89eb60cb8a23",
        "part": "whole"
       },
       "id": "1ad666d3-1adb-480d-bafb-0e8d5d8dd1d6"
      },
      "1ce32df5-4ec8-4592-8c3c-969cfe083577": {
       "attrs": {
        "height": 0.4,
        "width": 0.8,
        "x": 0.1,
        "y": 0.5
       },
       "content": {
        "cell": "fbdc4bdb-62ee-4018-8707-ef9570ae864c",
        "part": "whole"
       },
       "id": "1ce32df5-4ec8-4592-8c3c-969cfe083577"
      },
      "1d8c9e5c-d563-4cae-812c-be3e19af6488": {
       "attrs": {
        "height": 0.4,
        "width": 0.8,
        "x": 0.1,
        "y": 0.5
       },
       "content": {
        "cell": "9097ffaf-4f02-4727-b5df-0995aa225d94",
        "part": "whole"
       },
       "id": "1d8c9e5c-d563-4cae-812c-be3e19af6488"
      },
      "1f78e917-51cd-4202-b69b-dbb4f1c59b36": {
       "attrs": {
        "height": 0.4,
        "width": 0.8,
        "x": 0.1,
        "y": 0.5
       },
       "content": {
        "cell": "4ed5fcee-0c79-4867-b2ab-762635688bf1",
        "part": "whole"
       },
       "id": "1f78e917-51cd-4202-b69b-dbb4f1c59b36"
      },
      "221ff687-a8ae-4d55-90e8-3e1c13dec2be": {
       "attrs": {
        "height": 0.4,
        "width": 0.8,
        "x": 0.1,
        "y": 0.5
       },
       "content": {
        "cell": "42613871-a0d9-41f0-8b89-205fde7e501e",
        "part": "whole"
       },
       "id": "221ff687-a8ae-4d55-90e8-3e1c13dec2be"
      },
      "268edde8-8123-4b72-8421-a7de7019622d": {
       "attrs": {
        "height": 0.4,
        "width": 0.8,
        "x": 0.1,
        "y": 0.5
       },
       "content": {
        "cell": "bb95b53a-a9f0-498b-acd2-13e8e7a48473",
        "part": "whole"
       },
       "id": "268edde8-8123-4b72-8421-a7de7019622d"
      },
      "27b4c063-0cb9-4d6e-b9e0-d39a4a02049f": {
       "attrs": {
        "height": 0.4,
        "width": 0.8,
        "x": 0.1,
        "y": 0.5
       },
       "content": {
        "cell": "1a817c4b-223e-4513-b33c-89f14e084673",
        "part": "whole"
       },
       "id": "27b4c063-0cb9-4d6e-b9e0-d39a4a02049f"
      },
      "2a97f557-4cd8-4579-bbe3-4ed89939e0bc": {
       "attrs": {
        "height": 0.4,
        "width": 0.8,
        "x": 0.1,
        "y": 0.5
       },
       "content": {
        "cell": "cc4319b8-7600-4fdf-a351-14bd27f90489",
        "part": "whole"
       },
       "id": "2a97f557-4cd8-4579-bbe3-4ed89939e0bc"
      },
      "2b539438-95b2-4519-8b79-b01d90c40ac6": {
       "attrs": {
        "height": 0.4,
        "width": 0.8,
        "x": 0.1,
        "y": 0.5
       },
       "content": {
        "cell": "18dcb311-e055-4a54-9d32-b828c5db3c1d",
        "part": "whole"
       },
       "id": "2b539438-95b2-4519-8b79-b01d90c40ac6"
      },
      "2c7ce4e7-3c56-4138-a2d8-d8c12c793354": {
       "attrs": {
        "height": 0.4,
        "width": 0.8,
        "x": 0.1,
        "y": 0.5
       },
       "content": {
        "cell": "17871ff5-1b39-4e46-9a47-354f3160939b",
        "part": "whole"
       },
       "id": "2c7ce4e7-3c56-4138-a2d8-d8c12c793354"
      },
      "2d0597a3-a3c4-46bf-8950-adfcae5798d5": {
       "attrs": {
        "height": 0.4,
        "width": 0.8,
        "x": 0.1,
        "y": 0.5
       },
       "content": {
        "cell": "f924c881-d574-4981-a26c-ce1618f49320",
        "part": "whole"
       },
       "id": "2d0597a3-a3c4-46bf-8950-adfcae5798d5"
      },
      "2f7735ca-9d78-4a54-abdb-56d69adcdd17": {
       "attrs": {
        "height": 0.4,
        "width": 0.8,
        "x": 0.1,
        "y": 0.5
       },
       "content": {
        "cell": "6f2278aa-aa21-49dc-9d42-0d381cb564d0",
        "part": "whole"
       },
       "id": "2f7735ca-9d78-4a54-abdb-56d69adcdd17"
      },
      "2fd19405-8465-4bec-b518-ddabb4645048": {
       "attrs": {
        "height": 0.4,
        "width": 0.8,
        "x": 0.1,
        "y": 0.5
       },
       "content": {
        "cell": "a57c0585-4eb2-426c-91cf-d8b00f7f1b87",
        "part": "whole"
       },
       "id": "2fd19405-8465-4bec-b518-ddabb4645048"
      },
      "30ee67de-fa28-4e6d-bb78-5de7a2a1a02b": {
       "attrs": {
        "height": 0.4,
        "width": 0.8,
        "x": 0.1,
        "y": 0.5
       },
       "content": {
        "cell": "fa770937-bcf8-4665-9a11-38d1b85d73c8",
        "part": "whole"
       },
       "id": "30ee67de-fa28-4e6d-bb78-5de7a2a1a02b"
      },
      "30f59ffe-aec9-40b4-9f21-55e81b35c72d": {
       "attrs": {
        "height": 0.4,
        "width": 0.8,
        "x": 0.1,
        "y": 0.5
       },
       "content": {
        "cell": "a8d9588c-29bb-40fe-86a3-d3af69e98b12",
        "part": "whole"
       },
       "id": "30f59ffe-aec9-40b4-9f21-55e81b35c72d"
      },
      "339ad3da-079a-4be7-b127-5ea6435896f0": {
       "attrs": {
        "height": 0.4,
        "width": 0.8,
        "x": 0.1,
        "y": 0.5
       },
       "content": {
        "cell": "7f1cc32b-fcd7-406f-b335-f2bfdbfa42cf",
        "part": "whole"
       },
       "id": "339ad3da-079a-4be7-b127-5ea6435896f0"
      },
      "34fe5182-c9f9-43e9-ac9a-660cf6af878d": {
       "attrs": {
        "height": 0.4,
        "width": 0.8,
        "x": 0.1,
        "y": 0.5
       },
       "content": {
        "cell": "0640c093-4e86-4383-9830-3bd51c165cff",
        "part": "whole"
       },
       "id": "34fe5182-c9f9-43e9-ac9a-660cf6af878d"
      },
      "3a07d23d-4f85-4786-bc95-eeb72f15c1e4": {
       "attrs": {
        "height": 0.8,
        "width": 0.8,
        "x": 0.1,
        "y": 0.1
       },
       "content": {
        "cell": "9a1d928f-4ae6-476e-b7d1-b116763c8566",
        "part": "whole"
       },
       "id": "3a07d23d-4f85-4786-bc95-eeb72f15c1e4"
      },
      "3bbee931-10ce-45ca-84fb-9ee5acd55262": {
       "attrs": {
        "height": 0.4,
        "width": 0.8,
        "x": 0.1,
        "y": 0.5
       },
       "content": {
        "cell": "ce1b64a3-98e4-4374-afcd-d68ebad24dc0",
        "part": "whole"
       },
       "id": "3bbee931-10ce-45ca-84fb-9ee5acd55262"
      },
      "3d0757d6-5bb9-4a78-9c5f-f767017431c6": {
       "attrs": {
        "height": 0.4,
        "width": 0.8,
        "x": 0.1,
        "y": 0.5
       },
       "content": {
        "cell": "51577beb-2fee-4a2f-8085-6a4cbcf82c1e",
        "part": "whole"
       },
       "id": "3d0757d6-5bb9-4a78-9c5f-f767017431c6"
      },
      "3e0f5134-d814-4395-aac8-f3c931225b95": {
       "attrs": {
        "height": 0.4,
        "width": 0.8,
        "x": 0.1,
        "y": 0.5
       },
       "content": {
        "cell": "62821ad1-8248-46a0-bb68-36516a08daef",
        "part": "whole"
       },
       "id": "3e0f5134-d814-4395-aac8-f3c931225b95"
      },
      "4365a72e-2343-489a-9f31-528701209754": {
       "attrs": {
        "height": 0.4,
        "width": 0.8,
        "x": 0.1,
        "y": 0.5
       },
       "content": {
        "cell": "6160ca2b-99bb-4642-94a2-85e10759f814",
        "part": "whole"
       },
       "id": "4365a72e-2343-489a-9f31-528701209754"
      },
      "448c0241-6c58-4e64-b1d8-f4e445d215a0": {
       "attrs": {
        "height": 0.4,
        "width": 0.8,
        "x": 0.1,
        "y": 0.5
       },
       "content": {
        "cell": "cfc997a6-3391-4e66-a8a2-12fefef1fcf7",
        "part": "whole"
       },
       "id": "448c0241-6c58-4e64-b1d8-f4e445d215a0"
      },
      "458ac6aa-93dd-4626-9475-7b17c1745dca": {
       "attrs": {
        "height": 0.4,
        "width": 0.8,
        "x": 0.1,
        "y": 0.5
       },
       "content": {
        "cell": "9264c7c3-39dc-479c-93a5-f477020b3ee0",
        "part": "whole"
       },
       "id": "458ac6aa-93dd-4626-9475-7b17c1745dca"
      },
      "4bbe7a3e-8179-48e9-b286-24047691df0c": {
       "attrs": {
        "height": 0.4,
        "width": 0.8,
        "x": 0.1,
        "y": 0.5
       },
       "content": {
        "cell": "f2a89f1b-ab79-4a68-8d5b-92fb08c7045f",
        "part": "whole"
       },
       "id": "4bbe7a3e-8179-48e9-b286-24047691df0c"
      },
      "4ce02d1c-8329-4218-9493-ad11b5cb2319": {
       "attrs": {
        "height": 0.4,
        "width": 0.8,
        "x": 0.1,
        "y": 0.5
       },
       "content": {
        "cell": "37b46b68-9175-4eba-9589-d90bb825b9cb",
        "part": "whole"
       },
       "id": "4ce02d1c-8329-4218-9493-ad11b5cb2319"
      },
      "4d0e9219-59cf-4259-b62f-69635de2304c": {
       "attrs": {
        "height": 0.4,
        "width": 0.8,
        "x": 0.1,
        "y": 0.5
       },
       "content": {
        "cell": "6004ccbf-a5ee-4e15-ad2b-9620d133924d",
        "part": "whole"
       },
       "id": "4d0e9219-59cf-4259-b62f-69635de2304c"
      },
      "4db74018-f879-49ea-ab39-6414cb3cc4e3": {
       "attrs": {
        "height": 0.4,
        "width": 0.8,
        "x": 0.1,
        "y": 0.5
       },
       "content": {
        "cell": "d4953dc1-a89d-40e9-966b-f6438865a71a",
        "part": "whole"
       },
       "id": "4db74018-f879-49ea-ab39-6414cb3cc4e3"
      },
      "55a347f0-ddc3-4b8b-a116-cdf4ccbab00d": {
       "attrs": {
        "height": 0.4,
        "width": 0.8,
        "x": 0.1,
        "y": 0.5
       },
       "content": {
        "cell": "6f870165-ce10-4e69-868b-e4ae6eaa5a32",
        "part": "whole"
       },
       "id": "55a347f0-ddc3-4b8b-a116-cdf4ccbab00d"
      },
      "57096999-0900-43ff-a989-3c0f0685c199": {
       "attrs": {
        "height": 0.4,
        "width": 0.8,
        "x": 0.1,
        "y": 0.5
       },
       "content": {
        "cell": "9f13755f-16a1-4e14-a23c-a60f88b07d92",
        "part": "whole"
       },
       "id": "57096999-0900-43ff-a989-3c0f0685c199"
      },
      "595cd9ea-a12e-4172-8093-7f0e798fb9ee": {
       "attrs": {
        "height": 0.4,
        "width": 0.8,
        "x": 0.1,
        "y": 0.5
       },
       "content": {
        "cell": "439e6ac9-4f2c-4434-baae-bc41f8c9d9be",
        "part": "whole"
       },
       "id": "595cd9ea-a12e-4172-8093-7f0e798fb9ee"
      },
      "5b57cf40-377b-4909-b029-5d7f62396f40": {
       "attrs": {
        "height": 0.4,
        "width": 0.8,
        "x": 0.1,
        "y": 0.5
       },
       "content": {
        "cell": "98288d71-330b-415d-a21e-1d307af347d3",
        "part": "whole"
       },
       "id": "5b57cf40-377b-4909-b029-5d7f62396f40"
      },
      "5b7aa950-88dd-4f22-b36f-fe7a35b674ba": {
       "attrs": {
        "height": 0.4,
        "width": 0.8,
        "x": 0.1,
        "y": 0.5
       },
       "content": {
        "cell": "6361187b-c5ab-4efa-bd1f-2a44ff8859b5",
        "part": "whole"
       },
       "id": "5b7aa950-88dd-4f22-b36f-fe7a35b674ba"
      },
      "5e42af15-8509-4f56-b875-8ece2a99ac24": {
       "attrs": {
        "height": 0.4,
        "width": 0.8,
        "x": 0.1,
        "y": 0.5
       },
       "content": {
        "cell": "066a02e9-d7ce-41fd-9309-f1fc882eecbe",
        "part": "whole"
       },
       "id": "5e42af15-8509-4f56-b875-8ece2a99ac24"
      },
      "5fb61c67-f044-4490-a852-68ff39e76ae8": {
       "attrs": {
        "height": 0.4,
        "width": 0.8,
        "x": 0.1,
        "y": 0.5
       },
       "content": {
        "cell": "6f930c8d-0251-48f6-b23b-67293933d66a",
        "part": "whole"
       },
       "id": "5fb61c67-f044-4490-a852-68ff39e76ae8"
      },
      "60c47ad0-78f5-477f-bfa9-dada597f25b0": {
       "attrs": {
        "height": 0.4,
        "width": 0.8,
        "x": 0.1,
        "y": 0.5
       },
       "content": {
        "cell": "47a970c7-e3b6-4689-87f7-08766d06a5d1",
        "part": "whole"
       },
       "id": "60c47ad0-78f5-477f-bfa9-dada597f25b0"
      },
      "612e7cbf-7e38-48c0-bead-9a68ca48d5c6": {
       "attrs": {
        "height": 0.4,
        "width": 0.8,
        "x": 0.1,
        "y": 0.5
       },
       "content": {
        "cell": "601cbada-d254-4f2f-8660-0232b836d765",
        "part": "whole"
       },
       "id": "612e7cbf-7e38-48c0-bead-9a68ca48d5c6"
      },
      "64369cc9-de95-433e-b33e-b97ba7293150": {
       "attrs": {
        "height": 0.4,
        "width": 0.8,
        "x": 0.1,
        "y": 0.5
       },
       "content": {
        "cell": "0a27ff78-e315-4afe-a5cd-b9d901159cdd",
        "part": "whole"
       },
       "id": "64369cc9-de95-433e-b33e-b97ba7293150"
      },
      "644290d5-8e33-4063-8f6a-2bd4ef7df8a0": {
       "attrs": {
        "height": 0.4,
        "width": 0.8,
        "x": 0.1,
        "y": 0.5
       },
       "content": {
        "cell": "9b3e118d-be70-4ba8-bfe6-842a09908e80",
        "part": "whole"
       },
       "id": "644290d5-8e33-4063-8f6a-2bd4ef7df8a0"
      },
      "65999766-c630-461d-af8a-35d464edda74": {
       "attrs": {
        "height": 0.4,
        "width": 0.8,
        "x": 0.1,
        "y": 0.5
       },
       "content": {
        "cell": "6282b3f1-6a5a-42c2-a23e-a1b37e5c77bc",
        "part": "whole"
       },
       "id": "65999766-c630-461d-af8a-35d464edda74"
      },
      "6743c81b-4807-456e-8b3c-d5ea1e7950c3": {
       "attrs": {
        "height": 0.4,
        "width": 0.8,
        "x": 0.1,
        "y": 0.5
       },
       "content": {
        "cell": "06dc5782-1526-4e8f-b68e-5dd004a1ea4a",
        "part": "whole"
       },
       "id": "6743c81b-4807-456e-8b3c-d5ea1e7950c3"
      },
      "68e99a89-ebcb-425b-ab3c-e162618bcb66": {
       "attrs": {
        "height": 0.4,
        "width": 0.8,
        "x": 0.1,
        "y": 0.5
       },
       "content": {
        "cell": "f1dbeebd-231c-48fa-80eb-9491743a46ff",
        "part": "whole"
       },
       "id": "68e99a89-ebcb-425b-ab3c-e162618bcb66"
      },
      "69ca9916-d56c-48f0-9107-7bd7b45c7dd1": {
       "attrs": {
        "height": 0.4,
        "width": 0.8,
        "x": 0.1,
        "y": 0.5
       },
       "content": {
        "cell": "5729d673-89f9-4ab4-b8f9-37b7259a10e5",
        "part": "whole"
       },
       "id": "69ca9916-d56c-48f0-9107-7bd7b45c7dd1"
      },
      "6b712b7c-2e83-479b-aefe-fc716e2164d2": {
       "attrs": {
        "height": 0.4,
        "width": 0.8,
        "x": 0.1,
        "y": 0.5
       },
       "content": {
        "cell": "300436d5-8d11-4188-9e39-16100354e85a",
        "part": "whole"
       },
       "id": "6b712b7c-2e83-479b-aefe-fc716e2164d2"
      },
      "6ec3530a-92c4-44f6-af28-20d537481cf4": {
       "attrs": {
        "height": 0.4,
        "width": 0.8,
        "x": 0.1,
        "y": 0.5
       },
       "content": {
        "cell": "4e5342d3-44f2-44ba-87dc-2fec014d33d5",
        "part": "whole"
       },
       "id": "6ec3530a-92c4-44f6-af28-20d537481cf4"
      },
      "6f407265-8f59-48fe-a7da-ea95dcd2ea9f": {
       "attrs": {
        "height": 0.4,
        "width": 0.8,
        "x": 0.1,
        "y": 0.5
       },
       "content": {
        "cell": "941af2fc-6366-43c5-86a8-467fdcde034e",
        "part": "whole"
       },
       "id": "6f407265-8f59-48fe-a7da-ea95dcd2ea9f"
      },
      "709d9205-e330-490f-8c16-8455d5822fa7": {
       "attrs": {
        "height": 0.4,
        "width": 0.8,
        "x": 0.1,
        "y": 0.5
       },
       "content": {
        "cell": "ac57f21c-3403-4614-9cc3-a535d45a6ace",
        "part": "whole"
       },
       "id": "709d9205-e330-490f-8c16-8455d5822fa7"
      },
      "71cfa42b-b624-4948-a6ee-8fd753f041d8": {
       "attrs": {
        "height": 0.4,
        "width": 0.8,
        "x": 0.1,
        "y": 0.5
       },
       "content": {
        "cell": "084cfbdb-2adf-4f57-a12d-9c891c23c302",
        "part": "whole"
       },
       "id": "71cfa42b-b624-4948-a6ee-8fd753f041d8"
      },
      "75cb2409-a07f-4efb-8ad3-37ff00c3f801": {
       "attrs": {
        "height": 0.4,
        "width": 0.8,
        "x": 0.1,
        "y": 0.5
       },
       "content": {
        "cell": "319b9a6b-6c96-46f1-88ed-d944c2d1df0f",
        "part": "whole"
       },
       "id": "75cb2409-a07f-4efb-8ad3-37ff00c3f801"
      },
      "773cf9eb-af4f-4e3f-b632-b5e764fc2530": {
       "attrs": {
        "height": 0.4,
        "width": 0.8,
        "x": 0.1,
        "y": 0.5
       },
       "content": {
        "cell": "c1b2024e-1c9b-4a80-a9bc-a7cdd033aaf9",
        "part": "whole"
       },
       "id": "773cf9eb-af4f-4e3f-b632-b5e764fc2530"
      },
      "7a6530a8-9e6d-40ad-9962-79ee17b22fbb": {
       "attrs": {
        "height": 0.4,
        "width": 0.8,
        "x": 0.1,
        "y": 0.5
       },
       "content": {
        "cell": "b3cc2168-d684-4002-a0d9-9b90d9a49686",
        "part": "whole"
       },
       "id": "7a6530a8-9e6d-40ad-9962-79ee17b22fbb"
      },
      "7cc411cb-1374-47b6-b6af-a0f6e5142d66": {
       "attrs": {
        "height": 0.4,
        "width": 0.8,
        "x": 0.1,
        "y": 0.5
       },
       "content": {
        "cell": "8e47e3b5-9701-44e6-9d47-17f7e32a5531",
        "part": "whole"
       },
       "id": "7cc411cb-1374-47b6-b6af-a0f6e5142d66"
      },
      "7e6540f8-a297-4c22-863b-56da196e54b9": {
       "attrs": {
        "height": 0.4,
        "width": 0.8,
        "x": 0.1,
        "y": 0.5
       },
       "content": {
        "cell": "b98a2623-75d4-4458-b86c-5b5dfe735975",
        "part": "whole"
       },
       "id": "7e6540f8-a297-4c22-863b-56da196e54b9"
      },
      "83765b95-6a6a-4bb7-aad9-04150deabaf4": {
       "attrs": {
        "height": 0.4,
        "width": 0.8,
        "x": 0.1,
        "y": 0.5
       },
       "content": {
        "cell": "b5695625-8ce6-47eb-b9ab-6e7a53403102",
        "part": "whole"
       },
       "id": "83765b95-6a6a-4bb7-aad9-04150deabaf4"
      },
      "8414fff8-bb2f-42b0-a513-9be48d111601": {
       "attrs": {
        "height": 0.4,
        "width": 0.8,
        "x": 0.1,
        "y": 0.5
       },
       "content": {
        "cell": "52009c56-3738-415f-9ba6-32cc867247a2",
        "part": "whole"
       },
       "id": "8414fff8-bb2f-42b0-a513-9be48d111601"
      },
      "8454a478-3183-4b65-83df-4bbf7943e5e4": {
       "attrs": {
        "height": 0.4,
        "width": 0.8,
        "x": 0.1,
        "y": 0.5
       },
       "content": {
        "cell": "ce05cecb-4bf1-4b2d-9772-11106484d8ff",
        "part": "whole"
       },
       "id": "8454a478-3183-4b65-83df-4bbf7943e5e4"
      },
      "85553a14-57de-4d7f-87d3-82d3147274ce": {
       "attrs": {
        "height": 0.4,
        "width": 0.8,
        "x": 0.1,
        "y": 0.5
       },
       "content": {
        "cell": "753c60f5-b142-43a8-a44b-c9ee1c64f1a9",
        "part": "whole"
       },
       "id": "85553a14-57de-4d7f-87d3-82d3147274ce"
      },
      "8591e71f-2107-493b-aa8a-bf749427f78d": {
       "attrs": {
        "height": 0.4,
        "width": 0.8,
        "x": 0.1,
        "y": 0.5
       },
       "content": {
        "cell": "aa04503a-bd2d-44f3-aaee-b3b82990f595",
        "part": "whole"
       },
       "id": "8591e71f-2107-493b-aa8a-bf749427f78d"
      },
      "8671f38a-5cce-4f4c-8392-970c8db8eb50": {
       "attrs": {
        "height": 0.4,
        "width": 0.8,
        "x": 0.1,
        "y": 0.5
       },
       "content": {
        "cell": "1dfae531-2639-4836-8976-99f3cf25e9fe",
        "part": "whole"
       },
       "id": "8671f38a-5cce-4f4c-8392-970c8db8eb50"
      },
      "8c0b832b-eba7-4ef0-82c6-c77c972d19a6": {
       "attrs": {
        "height": 0.4,
        "width": 0.8,
        "x": 0.1,
        "y": 0.5
       },
       "content": {
        "cell": "edf68459-afa2-438a-bbf2-15ed53bb5ef8",
        "part": "whole"
       },
       "id": "8c0b832b-eba7-4ef0-82c6-c77c972d19a6"
      },
      "91ebd3b2-1194-4115-9c69-9ea1b09b1757": {
       "attrs": {
        "height": 0.4,
        "width": 0.8,
        "x": 0.1,
        "y": 0.5
       },
       "content": {
        "cell": "169bfe5d-465d-432a-b108-b33b1192b600",
        "part": "whole"
       },
       "id": "91ebd3b2-1194-4115-9c69-9ea1b09b1757"
      },
      "924d811f-89c8-42f2-ad83-6a8ecae9d255": {
       "attrs": {
        "height": 0.4,
        "width": 0.8,
        "x": 0.1,
        "y": 0.5
       },
       "content": {
        "cell": "b6cfbd36-0748-4557-afec-849a43cc177b",
        "part": "whole"
       },
       "id": "924d811f-89c8-42f2-ad83-6a8ecae9d255"
      },
      "92c9bed2-4ee0-46bb-8622-a9588ebb3ba5": {
       "attrs": {
        "height": 0.4,
        "width": 0.8,
        "x": 0.1,
        "y": 0.5
       },
       "content": {
        "cell": "657a3217-1b9b-4b25-a579-10db6f978a24",
        "part": "whole"
       },
       "id": "92c9bed2-4ee0-46bb-8622-a9588ebb3ba5"
      },
      "92cc885b-e4fc-4122-98c5-35fd2e1c5ea8": {
       "attrs": {
        "height": 0.4,
        "width": 0.8,
        "x": 0.1,
        "y": 0.5
       },
       "content": {
        "cell": "d13b12d7-1ffd-413e-a0a8-31cfbf0ce994",
        "part": "whole"
       },
       "id": "92cc885b-e4fc-4122-98c5-35fd2e1c5ea8"
      },
      "979d9c17-598f-4f48-afb5-ff1191fde4c3": {
       "attrs": {
        "height": 0.4,
        "width": 0.8,
        "x": 0.1,
        "y": 0.5
       },
       "content": {
        "cell": "ffc15ec5-ce1c-4752-9a84-83a1eeaf59ac",
        "part": "whole"
       },
       "id": "979d9c17-598f-4f48-afb5-ff1191fde4c3"
      },
      "980536f5-dc37-4312-a4b0-e11f48166865": {
       "attrs": {
        "height": 0.4,
        "width": 0.8,
        "x": 0.1,
        "y": 0.5
       },
       "content": {
        "cell": "5450b95a-0cc4-4c13-b35e-5900bc121e6d",
        "part": "whole"
       },
       "id": "980536f5-dc37-4312-a4b0-e11f48166865"
      },
      "9970f63f-6cf7-4575-9500-6c134140fe3a": {
       "attrs": {
        "height": 0.4,
        "width": 0.8,
        "x": 0.1,
        "y": 0.5
       },
       "content": {
        "cell": "52d86a6b-54ea-4be0-8909-8a91a6b4483d",
        "part": "whole"
       },
       "id": "9970f63f-6cf7-4575-9500-6c134140fe3a"
      },
      "99d600b9-3675-4b90-8814-c4536a4faf40": {
       "attrs": {
        "height": 0.4,
        "width": 0.8,
        "x": 0.1,
        "y": 0.5
       },
       "content": {
        "cell": "96d590c5-922a-45dd-b280-b8c34882c417",
        "part": "whole"
       },
       "id": "99d600b9-3675-4b90-8814-c4536a4faf40"
      },
      "9aa6e5f5-024d-45e8-ab23-36e8b7393e28": {
       "attrs": {
        "height": 0.4,
        "width": 0.8,
        "x": 0.1,
        "y": 0.5
       },
       "content": {
        "cell": "1e018e0d-8222-4734-a61e-c185a6c7e740",
        "part": "whole"
       },
       "id": "9aa6e5f5-024d-45e8-ab23-36e8b7393e28"
      },
      "9e285f12-9747-4b60-abc3-f122c2624ea4": {
       "attrs": {
        "height": 0.4,
        "width": 0.8,
        "x": 0.1,
        "y": 0.5
       },
       "content": {
        "cell": "2c41736c-27fd-4c87-9e15-abf2113e8e5a",
        "part": "whole"
       },
       "id": "9e285f12-9747-4b60-abc3-f122c2624ea4"
      },
      "9e762d68-f64d-486f-b756-aaaef741ffc1": {
       "attrs": {
        "height": 0.4,
        "width": 0.8,
        "x": 0.1,
        "y": 0.5
       },
       "content": {
        "cell": "ae9b88cc-3680-44ce-9dd2-1cf90422a4a8",
        "part": "whole"
       },
       "id": "9e762d68-f64d-486f-b756-aaaef741ffc1"
      },
      "a12eba5e-da73-475c-a9a1-12e9ae7d0fc4": {
       "attrs": {
        "height": 0.4,
        "width": 0.8,
        "x": 0.1,
        "y": 0.5
       },
       "content": {
        "cell": "3edc65fa-c229-4fb2-a285-1bdffb6ad36c",
        "part": "whole"
       },
       "id": "a12eba5e-da73-475c-a9a1-12e9ae7d0fc4"
      },
      "a68c50a3-a742-46d5-b460-bb9a6af5c148": {
       "attrs": {
        "height": 0.4,
        "width": 0.8,
        "x": 0.1,
        "y": 0.5
       },
       "content": {
        "cell": "22bd9001-e635-4269-9c9f-44bb1bebb988",
        "part": "whole"
       },
       "id": "a68c50a3-a742-46d5-b460-bb9a6af5c148"
      },
      "a80a5e1a-4a54-4b4e-bf2d-717d20f8f8dd": {
       "attrs": {
        "height": 0.4,
        "width": 0.8,
        "x": 0.1,
        "y": 0.5
       },
       "content": {
        "cell": "55954e40-08bb-4b42-87a3-af4ca67e8f63",
        "part": "whole"
       },
       "id": "a80a5e1a-4a54-4b4e-bf2d-717d20f8f8dd"
      },
      "aa95dba2-c1ed-4db7-8571-f3e5898d033b": {
       "attrs": {
        "height": 0.4,
        "width": 0.8,
        "x": 0.1,
        "y": 0.5
       },
       "content": {
        "cell": "d0271e91-4681-42a2-8f06-40e5563ff884",
        "part": "whole"
       },
       "id": "aa95dba2-c1ed-4db7-8571-f3e5898d033b"
      },
      "ac0424eb-4b14-4e91-a86c-8bcd13a9abb2": {
       "attrs": {
        "height": 0.4,
        "width": 0.8,
        "x": 0.1,
        "y": 0.5
       },
       "content": {
        "cell": "5ac8a538-aba7-4986-82d3-7d329cef92a3",
        "part": "whole"
       },
       "id": "ac0424eb-4b14-4e91-a86c-8bcd13a9abb2"
      },
      "aeef45d7-c151-4c3b-a3eb-ebee23658f62": {
       "attrs": {
        "height": 0.4,
        "width": 0.8,
        "x": 0.1,
        "y": 0.5
       },
       "content": {
        "cell": "1c1ac3b7-1928-41da-9a0a-82f821d2c146",
        "part": "whole"
       },
       "id": "aeef45d7-c151-4c3b-a3eb-ebee23658f62"
      },
      "b1be1c39-0bfd-4d04-8d63-4ed62d3300cd": {
       "attrs": {
        "height": 0.4,
        "width": 0.8,
        "x": 0.1,
        "y": 0.5
       },
       "content": {
        "cell": "42a9e102-9696-488e-8b68-e2c300c114c3",
        "part": "whole"
       },
       "id": "b1be1c39-0bfd-4d04-8d63-4ed62d3300cd"
      },
      "b46d7fad-4533-4c4f-bd9e-e6a860ffc0e3": {
       "attrs": {
        "height": 0.4,
        "width": 0.8,
        "x": 0.1,
        "y": 0.5
       },
       "content": {
        "cell": "3c53ce7c-187d-4433-965c-0d12b561bd9c",
        "part": "whole"
       },
       "id": "b46d7fad-4533-4c4f-bd9e-e6a860ffc0e3"
      },
      "b58b9c02-438c-4784-9590-bf2d34af671b": {
       "attrs": {
        "height": 0.4,
        "width": 0.8,
        "x": 0.1,
        "y": 0.5
       },
       "content": {
        "cell": "4c3c7e1e-e4ee-469e-a31a-a4b7f6d9e900",
        "part": "whole"
       },
       "id": "b58b9c02-438c-4784-9590-bf2d34af671b"
      },
      "b827fe20-57d6-447a-86cc-e8d1a9d4fc4c": {
       "attrs": {
        "height": 0.4,
        "width": 0.8,
        "x": 0.1,
        "y": 0.5
       },
       "content": {
        "cell": "3c83969a-3b76-42b6-b66d-c95a43214bc3",
        "part": "whole"
       },
       "id": "b827fe20-57d6-447a-86cc-e8d1a9d4fc4c"
      },
      "b82d4f49-6c79-4994-838c-3b9ea5d850d2": {
       "attrs": {
        "height": 0.4,
        "width": 0.8,
        "x": 0.1,
        "y": 0.5
       },
       "content": {
        "cell": "4901f71c-d61a-4191-99a7-21cd599eae71",
        "part": "whole"
       },
       "id": "b82d4f49-6c79-4994-838c-3b9ea5d850d2"
      },
      "b9a1067d-2fd4-4345-bae5-fedb78fe8727": {
       "attrs": {
        "height": 0.4,
        "width": 0.8,
        "x": 0.1,
        "y": 0.5
       },
       "content": {
        "cell": "689da8d6-65f5-41a5-b4f2-548c3ebb2798",
        "part": "whole"
       },
       "id": "b9a1067d-2fd4-4345-bae5-fedb78fe8727"
      },
      "bff507f3-913e-484e-a091-57c32c23ce1e": {
       "attrs": {
        "height": 0.4,
        "width": 0.8,
        "x": 0.1,
        "y": 0.5
       },
       "content": {
        "cell": "6f7a57bc-4fb4-4321-a10a-b5bb1d557937",
        "part": "whole"
       },
       "id": "bff507f3-913e-484e-a091-57c32c23ce1e"
      },
      "c0a20a5e-2252-4b48-9018-408e6447f743": {
       "attrs": {
        "height": 0.4,
        "width": 0.8,
        "x": 0.1,
        "y": 0.5
       },
       "content": {
        "cell": "248beafa-8678-4639-a145-a085655660fd",
        "part": "whole"
       },
       "id": "c0a20a5e-2252-4b48-9018-408e6447f743"
      },
      "c289c7e3-b594-483e-bed8-a955abd33ef2": {
       "attrs": {
        "height": 0.4,
        "width": 0.8,
        "x": 0.1,
        "y": 0.5
       },
       "content": {
        "cell": "c838ca58-6fd8-446e-ae22-1371433eff1a",
        "part": "whole"
       },
       "id": "c289c7e3-b594-483e-bed8-a955abd33ef2"
      },
      "c35d6afd-75a5-41db-b8c1-63e85299fef9": {
       "attrs": {
        "height": 0.4,
        "width": 0.8,
        "x": 0.1,
        "y": 0.5
       },
       "content": {
        "cell": "5d2cd3bb-9508-4f2e-8d83-780012fb3d08",
        "part": "whole"
       },
       "id": "c35d6afd-75a5-41db-b8c1-63e85299fef9"
      },
      "c8487d5c-b8ef-4fdc-b262-76e2b8688835": {
       "attrs": {
        "height": 0.4,
        "width": 0.8,
        "x": 0.1,
        "y": 0.5
       },
       "content": {
        "cell": "7d49fd95-f011-49d5-ba7e-d5a886f1f5d0",
        "part": "whole"
       },
       "id": "c8487d5c-b8ef-4fdc-b262-76e2b8688835"
      },
      "c958ee89-f660-4ce5-a268-e8f587663edf": {
       "attrs": {
        "height": 0.4,
        "width": 0.8,
        "x": 0.1,
        "y": 0.5
       },
       "content": {
        "cell": "b3841868-ba96-4d75-acfc-bd5a8afed736",
        "part": "whole"
       },
       "id": "c958ee89-f660-4ce5-a268-e8f587663edf"
      },
      "ca0e55c8-1b97-47a8-9799-c6ff8723d1ba": {
       "attrs": {
        "height": 0.4,
        "width": 0.8,
        "x": 0.1,
        "y": 0.5
       },
       "content": {
        "cell": "a50d8dd9-e0b9-4675-ba78-2d736c7b6b50",
        "part": "whole"
       },
       "id": "ca0e55c8-1b97-47a8-9799-c6ff8723d1ba"
      },
      "cbb3dbe5-ff50-4c81-9097-29b76d2c64ef": {
       "attrs": {
        "height": 0.4,
        "width": 0.8,
        "x": 0.1,
        "y": 0.5
       },
       "content": {
        "cell": "030938a9-1bb6-43ea-baa1-6a0f159a9080",
        "part": "whole"
       },
       "id": "cbb3dbe5-ff50-4c81-9097-29b76d2c64ef"
      },
      "cc491605-bc67-44f6-b079-c45c3f6a503d": {
       "attrs": {
        "height": 0.4,
        "width": 0.8,
        "x": 0.1,
        "y": 0.5
       },
       "content": {
        "cell": "afe5c85c-168b-48c8-9270-23614424a78f",
        "part": "whole"
       },
       "id": "cc491605-bc67-44f6-b079-c45c3f6a503d"
      },
      "cda2ce79-1a93-47b2-aac9-a2406e4deadf": {
       "attrs": {
        "height": 0.4,
        "width": 0.8,
        "x": 0.1,
        "y": 0.5
       },
       "content": {
        "cell": "1229ee9a-b30d-4859-8446-a6020db6ddff",
        "part": "whole"
       },
       "id": "cda2ce79-1a93-47b2-aac9-a2406e4deadf"
      },
      "cf9d50ea-4600-40a0-893e-d5d8711ff277": {
       "attrs": {
        "height": 0.4,
        "width": 0.8,
        "x": 0.1,
        "y": 0.5
       },
       "content": {
        "cell": "63c95174-9adf-4943-bad7-ebef5d7467a4",
        "part": "whole"
       },
       "id": "cf9d50ea-4600-40a0-893e-d5d8711ff277"
      },
      "d1c3a3cd-e40c-48f7-af4c-27612c9a7ab5": {
       "attrs": {
        "height": 0.4,
        "width": 0.8,
        "x": 0.1,
        "y": 0.5
       },
       "content": {
        "cell": "68cf6dd3-fe4f-41a0-82c3-63602cc6d71b",
        "part": "whole"
       },
       "id": "d1c3a3cd-e40c-48f7-af4c-27612c9a7ab5"
      },
      "d2ac7a3e-7f76-4c09-bd18-a47571cae852": {
       "attrs": {
        "height": 0.4,
        "width": 0.8,
        "x": 0.1,
        "y": 0.5
       },
       "content": {
        "cell": "96dac2c7-6d92-414a-bf48-075ca46dd451",
        "part": "whole"
       },
       "id": "d2ac7a3e-7f76-4c09-bd18-a47571cae852"
      },
      "d4923505-ae9b-467e-86ef-7b85ab71f06a": {
       "attrs": {
        "height": 0.4,
        "width": 0.8,
        "x": 0.1,
        "y": 0.5
       },
       "content": {
        "cell": "3333d332-c2d0-4211-b845-fc979c2fdb60",
        "part": "whole"
       },
       "id": "d4923505-ae9b-467e-86ef-7b85ab71f06a"
      },
      "d4d0c582-afab-484d-aaf5-97ac0c43e15d": {
       "attrs": {
        "height": 0.4,
        "width": 0.8,
        "x": 0.1,
        "y": 0.5
       },
       "content": {
        "cell": "46a89541-42cf-4d11-87b1-98555fc2186a",
        "part": "whole"
       },
       "id": "d4d0c582-afab-484d-aaf5-97ac0c43e15d"
      },
      "d5a88a0f-2c21-443e-9b6c-ca2cbe5dd4d0": {
       "attrs": {
        "height": 0.4,
        "width": 0.8,
        "x": 0.1,
        "y": 0.5
       },
       "content": {
        "cell": "f6573ead-70db-4d41-9013-75cfe45a0ebd",
        "part": "whole"
       },
       "id": "d5a88a0f-2c21-443e-9b6c-ca2cbe5dd4d0"
      },
      "d6b2d059-310c-452f-8e88-e0353452dada": {
       "attrs": {
        "height": 0.4,
        "width": 0.8,
        "x": 0.1,
        "y": 0.5
       },
       "content": {
        "cell": "2292d225-e2ff-4b62-be38-f4de76fd9b54",
        "part": "whole"
       },
       "id": "d6b2d059-310c-452f-8e88-e0353452dada"
      },
      "d6c0885c-db48-40ab-8629-cf4cb3fc7080": {
       "attrs": {
        "height": 0.4,
        "width": 0.8,
        "x": 0.1,
        "y": 0.5
       },
       "content": {
        "cell": "4101fecf-d6f0-4de6-9b79-1a041d037ab6",
        "part": "whole"
       },
       "id": "d6c0885c-db48-40ab-8629-cf4cb3fc7080"
      },
      "d75e41d3-32ed-4a44-b47c-53391c19ab9f": {
       "attrs": {
        "height": 0.4,
        "width": 0.8,
        "x": 0.1,
        "y": 0.5
       },
       "content": {
        "cell": "781383d6-bec8-46c0-87fc-0f40e21ff6c5",
        "part": "whole"
       },
       "id": "d75e41d3-32ed-4a44-b47c-53391c19ab9f"
      },
      "d7b644ef-429a-4631-8b00-9c166e018614": {
       "attrs": {
        "height": 0.4,
        "width": 0.8,
        "x": 0.1,
        "y": 0.5
       },
       "content": {
        "cell": "fe60d22c-346d-44b4-b8b2-d998edcd6246",
        "part": "whole"
       },
       "id": "d7b644ef-429a-4631-8b00-9c166e018614"
      },
      "d8bc1610-ed66-4488-9962-17e68043cabe": {
       "attrs": {
        "height": 0.4,
        "width": 0.8,
        "x": 0.1,
        "y": 0.5
       },
       "content": {
        "cell": "a4520553-ead4-487a-a9c1-3dbf67ea4a01",
        "part": "whole"
       },
       "id": "d8bc1610-ed66-4488-9962-17e68043cabe"
      },
      "d9926254-3fd6-471d-90f0-b0abdecd679d": {
       "attrs": {
        "height": 0.4,
        "width": 0.8,
        "x": 0.1,
        "y": 0.5
       },
       "content": {
        "cell": "ec043d0b-3fef-4ac9-a868-4da292da9ed8",
        "part": "whole"
       },
       "id": "d9926254-3fd6-471d-90f0-b0abdecd679d"
      },
      "db597946-b26e-4fbb-ab42-f7ee2fceb352": {
       "attrs": {
        "height": 0.4,
        "width": 0.8,
        "x": 0.1,
        "y": 0.5
       },
       "content": {
        "cell": "5cfc2dfa-2039-42ba-bb59-5c20fe63c0d6",
        "part": "whole"
       },
       "id": "db597946-b26e-4fbb-ab42-f7ee2fceb352"
      },
      "df9e2a90-9275-4355-ba97-953ebdc7a1c6": {
       "attrs": {
        "height": 0.4,
        "width": 0.8,
        "x": 0.1,
        "y": 0.5
       },
       "content": {
        "cell": "bff6250e-6eb7-4d2b-8a37-bb0ce751b2c3",
        "part": "whole"
       },
       "id": "df9e2a90-9275-4355-ba97-953ebdc7a1c6"
      },
      "e07df439-9709-4ee5-a919-865bf5decb1a": {
       "attrs": {
        "height": 0.4,
        "width": 0.8,
        "x": 0.1,
        "y": 0.5
       },
       "content": {
        "cell": "4fd0581a-80c6-4482-840f-f0d8842ad424",
        "part": "whole"
       },
       "id": "e07df439-9709-4ee5-a919-865bf5decb1a"
      },
      "e4cbf308-87d1-4984-ab7b-a30f78d67b6b": {
       "attrs": {
        "height": 0.4,
        "width": 0.8,
        "x": 0.1,
        "y": 0.5
       },
       "content": {
        "cell": "96e98640-d827-465c-a75b-4103f86fc6ec",
        "part": "whole"
       },
       "id": "e4cbf308-87d1-4984-ab7b-a30f78d67b6b"
      },
      "e5bb42a2-8916-437e-9173-ccce313fdb86": {
       "attrs": {
        "height": 0.4,
        "width": 0.8,
        "x": 0.1,
        "y": 0.5
       },
       "content": {
        "cell": "1f77b4ff-3c67-448f-a4d3-9abf52d6e02b",
        "part": "whole"
       },
       "id": "e5bb42a2-8916-437e-9173-ccce313fdb86"
      },
      "e61d6c78-c057-41de-a792-6f062ead81ae": {
       "attrs": {
        "height": 0.4,
        "width": 0.8,
        "x": 0.1,
        "y": 0.5
       },
       "content": {
        "cell": "77af1f77-104b-431e-8f16-f1973517bd72",
        "part": "whole"
       },
       "id": "e61d6c78-c057-41de-a792-6f062ead81ae"
      },
      "ea77c85c-560b-480e-81ca-c8adbfc882e5": {
       "attrs": {
        "height": 0.4,
        "width": 0.8,
        "x": 0.1,
        "y": 0.5
       },
       "content": {
        "cell": "636fd0a0-1ee4-49a9-8569-de592a5aba38",
        "part": "whole"
       },
       "id": "ea77c85c-560b-480e-81ca-c8adbfc882e5"
      },
      "eb3d0950-0138-456a-9456-492dd44db038": {
       "attrs": {
        "height": 0.4,
        "width": 0.8,
        "x": 0.1,
        "y": 0.5
       },
       "content": {
        "cell": "4e6e60df-24d8-4606-bba1-66891da858ba",
        "part": "whole"
       },
       "id": "eb3d0950-0138-456a-9456-492dd44db038"
      },
      "ec954dce-135f-42b6-ad84-6f61e9d5eff6": {
       "attrs": {
        "height": 0.4,
        "width": 0.8,
        "x": 0.1,
        "y": 0.5
       },
       "content": {
        "cell": "e280d9bf-6153-4bf2-89e1-51f09c5733ac",
        "part": "whole"
       },
       "id": "ec954dce-135f-42b6-ad84-6f61e9d5eff6"
      },
      "ed11ef71-7aa8-45a6-832c-6d470dbe4ab6": {
       "attrs": {
        "height": 0.4,
        "width": 0.8,
        "x": 0.1,
        "y": 0.5
       },
       "content": {
        "cell": "47e7fdd1-86ac-4c83-9253-4637d220ea82",
        "part": "whole"
       },
       "id": "ed11ef71-7aa8-45a6-832c-6d470dbe4ab6"
      },
      "edd64d48-0c45-4656-a25e-2717653cfb73": {
       "attrs": {
        "height": 0.4,
        "width": 0.8,
        "x": 0.1,
        "y": 0.5
       },
       "content": {
        "cell": "9d545c57-8a1a-4550-bf9e-683af39b2cca",
        "part": "whole"
       },
       "id": "edd64d48-0c45-4656-a25e-2717653cfb73"
      },
      "f0dcfee5-2ed9-4fb4-9b05-4d3f1c3c2666": {
       "attrs": {
        "height": 0.4,
        "width": 0.8,
        "x": 0.1,
        "y": 0.5
       },
       "content": {
        "cell": "03f25973-1a19-4ec0-88ec-dfcefc4804ff",
        "part": "whole"
       },
       "id": "f0dcfee5-2ed9-4fb4-9b05-4d3f1c3c2666"
      },
      "f218c454-796d-4298-a80c-a824f935d2f9": {
       "attrs": {
        "height": 0.4,
        "width": 0.8,
        "x": 0.1,
        "y": 0.5
       },
       "content": {
        "cell": "40c45b4c-1e5d-4670-8fcf-16f7ce15e927",
        "part": "whole"
       },
       "id": "f218c454-796d-4298-a80c-a824f935d2f9"
      },
      "f2fc1ba4-739b-420e-98f4-c7b5568b3639": {
       "attrs": {
        "height": 0.4,
        "width": 0.8,
        "x": 0.1,
        "y": 0.5
       },
       "content": {
        "cell": "cdacb4eb-bfbd-4af4-a610-c71dc721102c",
        "part": "whole"
       },
       "id": "f2fc1ba4-739b-420e-98f4-c7b5568b3639"
      },
      "f435d2c3-b768-456f-a719-572bcd2e5521": {
       "attrs": {
        "height": 0.4,
        "width": 0.8,
        "x": 0.1,
        "y": 0.5
       },
       "content": {
        "cell": "92c97d26-1d35-4b4c-8d1e-c6baf38c09ee",
        "part": "whole"
       },
       "id": "f435d2c3-b768-456f-a719-572bcd2e5521"
      },
      "f6d78743-5334-42fe-bc27-5010d2216973": {
       "attrs": {
        "height": 0.4,
        "width": 0.8,
        "x": 0.1,
        "y": 0.5
       },
       "content": {
        "cell": "95b25366-40a8-4b8f-95ca-c6a2479d24fc",
        "part": "whole"
       },
       "id": "f6d78743-5334-42fe-bc27-5010d2216973"
      },
      "f6f90bd0-c83c-4d0c-8d66-e227ee1568ee": {
       "attrs": {
        "height": 0.4,
        "width": 0.8,
        "x": 0.1,
        "y": 0.5
       },
       "content": {
        "cell": "a847c6d7-6eaa-4d50-b609-e5533bb14e34",
        "part": "whole"
       },
       "id": "f6f90bd0-c83c-4d0c-8d66-e227ee1568ee"
      },
      "f7edf6d2-9e3e-4d6b-88c0-8c8881b62da1": {
       "attrs": {
        "height": 0.4,
        "width": 0.8,
        "x": 0.1,
        "y": 0.5
       },
       "content": {
        "cell": "f945b950-d09e-4c62-953c-1134b5d41839",
        "part": "whole"
       },
       "id": "f7edf6d2-9e3e-4d6b-88c0-8c8881b62da1"
      },
      "f8214e1a-09a2-4e68-b723-c80b1f06aa5e": {
       "attrs": {
        "height": 0.4,
        "width": 0.8,
        "x": 0.1,
        "y": 0.5
       },
       "content": {
        "cell": "7fd09bd7-8559-4d39-a8da-203376c2664a",
        "part": "whole"
       },
       "id": "f8214e1a-09a2-4e68-b723-c80b1f06aa5e"
      },
      "f8b80c3c-03a3-46ab-a1f0-6c5b0b83f004": {
       "attrs": {
        "height": 0.4,
        "width": 0.8,
        "x": 0.1,
        "y": 0.5
       },
       "content": {
        "cell": "6dbdb363-7faa-45f2-8657-0338aa3fecc4",
        "part": "whole"
       },
       "id": "f8b80c3c-03a3-46ab-a1f0-6c5b0b83f004"
      },
      "faada5ed-77e3-4af7-9a07-eda38937e243": {
       "attrs": {
        "height": 0.4,
        "width": 0.8,
        "x": 0.1,
        "y": 0.5
       },
       "content": {
        "cell": "c8c85119-a350-49f4-8e24-abb1ddc58e02",
        "part": "whole"
       },
       "id": "faada5ed-77e3-4af7-9a07-eda38937e243"
      },
      "fbfa9591-3b34-4071-87da-847be242a873": {
       "attrs": {
        "height": 0.4,
        "width": 0.8,
        "x": 0.1,
        "y": 0.5
       },
       "content": {
        "cell": "3a3f980b-b4d0-482e-bac6-9a9cf4e9ea1f",
        "part": "whole"
       },
       "id": "fbfa9591-3b34-4071-87da-847be242a873"
      },
      "fc689f78-2bdf-4cb1-9b49-4d660c1c3ff8": {
       "attrs": {
        "height": 0.4,
        "width": 0.8,
        "x": 0.1,
        "y": 0.5
       },
       "content": {
        "cell": "1e8c5761-4bc8-4bfc-8583-38e3704dc10e",
        "part": "whole"
       },
       "id": "fc689f78-2bdf-4cb1-9b49-4d660c1c3ff8"
      },
      "fcb30a6a-5640-417a-8b24-a9d7fba5d9f0": {
       "attrs": {
        "height": 0.4,
        "width": 0.8,
        "x": 0.1,
        "y": 0.5
       },
       "content": {
        "cell": "b106bc8e-285e-43c7-a4f0-205775fb66e0",
        "part": "whole"
       },
       "id": "fcb30a6a-5640-417a-8b24-a9d7fba5d9f0"
      },
      "ffa000e7-fab0-4e0a-872a-6ac0625266dd": {
       "attrs": {
        "height": 0.4,
        "width": 0.8,
        "x": 0.1,
        "y": 0.5
       },
       "content": {
        "cell": "e085833a-4af4-43ba-8667-1fdd621c3297",
        "part": "whole"
       },
       "id": "ffa000e7-fab0-4e0a-872a-6ac0625266dd"
      }
     }
    },
    "f92f6681-84b9-4ca7-b2c2-78980205d3e0": {
     "id": "f92f6681-84b9-4ca7-b2c2-78980205d3e0",
     "prev": "cf132ca5-5587-46e3-b98e-a7e2d68fc8be",
     "regions": {
      "014b512f-62a4-474a-b9cc-84109e35b7c4": {
       "attrs": {
        "height": 0.4,
        "width": 0.8,
        "x": 0.1,
        "y": 0.5
       },
       "content": null,
       "id": "014b512f-62a4-474a-b9cc-84109e35b7c4"
      },
      "01555280-211f-46e7-95a7-7318a5784e6e": {
       "attrs": {
        "height": 0.4,
        "width": 0.8,
        "x": 0.1,
        "y": 0.5
       },
       "content": null,
       "id": "01555280-211f-46e7-95a7-7318a5784e6e"
      },
      "0270b5c6-164c-47f1-873e-1f7d3486e52f": {
       "attrs": {
        "height": 0.4,
        "width": 0.8,
        "x": 0.1,
        "y": 0.5
       },
       "content": null,
       "id": "0270b5c6-164c-47f1-873e-1f7d3486e52f"
      },
      "02c93416-a536-4648-ab8d-6a39107b3143": {
       "attrs": {
        "height": 0.4,
        "width": 0.8,
        "x": 0.1,
        "y": 0.5
       },
       "content": null,
       "id": "02c93416-a536-4648-ab8d-6a39107b3143"
      },
      "04675e49-a474-437e-998c-ce39ef2b055d": {
       "attrs": {
        "height": 0.4,
        "width": 0.8,
        "x": 0.1,
        "y": 0.5
       },
       "content": null,
       "id": "04675e49-a474-437e-998c-ce39ef2b055d"
      },
      "05191369-43e8-4b64-9226-235b4acc99c7": {
       "attrs": {
        "height": 0.4,
        "width": 0.8,
        "x": 0.1,
        "y": 0.5
       },
       "content": null,
       "id": "05191369-43e8-4b64-9226-235b4acc99c7"
      },
      "07248136-3c16-4534-aff6-4fa549701c0d": {
       "attrs": {
        "height": 0.4,
        "width": 0.8,
        "x": 0.1,
        "y": 0.5
       },
       "content": null,
       "id": "07248136-3c16-4534-aff6-4fa549701c0d"
      },
      "07448b29-0920-4235-b233-9a845b2ab35c": {
       "attrs": {
        "height": 0.4,
        "width": 0.8,
        "x": 0.1,
        "y": 0.5
       },
       "content": null,
       "id": "07448b29-0920-4235-b233-9a845b2ab35c"
      },
      "08a0b28f-8a54-4b6c-b2f5-f70061d2bc43": {
       "attrs": {
        "height": 0.4,
        "width": 0.8,
        "x": 0.1,
        "y": 0.5
       },
       "content": null,
       "id": "08a0b28f-8a54-4b6c-b2f5-f70061d2bc43"
      },
      "0adcee5a-f0bf-4e1a-a934-8ce38b636aa7": {
       "attrs": {
        "height": 0.4,
        "width": 0.8,
        "x": 0.1,
        "y": 0.5
       },
       "content": null,
       "id": "0adcee5a-f0bf-4e1a-a934-8ce38b636aa7"
      },
      "0bffb925-9d83-471a-9eb8-ae4aaae952ae": {
       "attrs": {
        "height": 0.4,
        "width": 0.8,
        "x": 0.1,
        "y": 0.5
       },
       "content": null,
       "id": "0bffb925-9d83-471a-9eb8-ae4aaae952ae"
      },
      "0dd55ac6-0c05-44c6-9981-91dd17252533": {
       "attrs": {
        "height": 0.4,
        "width": 0.8,
        "x": 0.1,
        "y": 0.5
       },
       "content": null,
       "id": "0dd55ac6-0c05-44c6-9981-91dd17252533"
      },
      "10093123-b088-4237-a8a1-8193a8a2d7a4": {
       "attrs": {
        "height": 0.4,
        "width": 0.8,
        "x": 0.1,
        "y": 0.5
       },
       "content": null,
       "id": "10093123-b088-4237-a8a1-8193a8a2d7a4"
      },
      "10871d5d-c610-4e18-b9d5-97ceec235a6e": {
       "attrs": {
        "height": 0.4,
        "width": 0.8,
        "x": 0.1,
        "y": 0.5
       },
       "content": null,
       "id": "10871d5d-c610-4e18-b9d5-97ceec235a6e"
      },
      "1106ebb1-31d0-4596-abd9-8821d006b14f": {
       "attrs": {
        "height": 0.4,
        "width": 0.8,
        "x": 0.1,
        "y": 0.5
       },
       "content": null,
       "id": "1106ebb1-31d0-4596-abd9-8821d006b14f"
      },
      "11bae4e4-1e84-46f0-90e9-3cb9b80f85a9": {
       "attrs": {
        "height": 0.4,
        "width": 0.8,
        "x": 0.1,
        "y": 0.5
       },
       "content": null,
       "id": "11bae4e4-1e84-46f0-90e9-3cb9b80f85a9"
      },
      "1210f2f7-8326-4cab-add6-a05593e0e5ed": {
       "attrs": {
        "height": 0.4,
        "width": 0.8,
        "x": 0.1,
        "y": 0.5
       },
       "content": null,
       "id": "1210f2f7-8326-4cab-add6-a05593e0e5ed"
      },
      "13eab0f4-de17-40d3-ac4b-49473fc0a9ef": {
       "attrs": {
        "height": 0.4,
        "width": 0.8,
        "x": 0.1,
        "y": 0.5
       },
       "content": null,
       "id": "13eab0f4-de17-40d3-ac4b-49473fc0a9ef"
      },
      "1aa9370f-7961-49cf-929b-ce60168e16ce": {
       "attrs": {
        "height": 0.4,
        "width": 0.8,
        "x": 0.1,
        "y": 0.5
       },
       "content": null,
       "id": "1aa9370f-7961-49cf-929b-ce60168e16ce"
      },
      "1bbae440-efb9-40ff-8053-325de542f647": {
       "attrs": {
        "height": 0.4,
        "width": 0.8,
        "x": 0.1,
        "y": 0.5
       },
       "content": null,
       "id": "1bbae440-efb9-40ff-8053-325de542f647"
      },
      "1c27172c-89a1-47b4-be25-98eb19ee8112": {
       "attrs": {
        "height": 0.4,
        "width": 0.8,
        "x": 0.1,
        "y": 0.5
       },
       "content": null,
       "id": "1c27172c-89a1-47b4-be25-98eb19ee8112"
      },
      "1c74f0b0-0e47-42e1-a537-63eac7124baf": {
       "attrs": {
        "height": 0.4,
        "width": 0.8,
        "x": 0.1,
        "y": 0.5
       },
       "content": null,
       "id": "1c74f0b0-0e47-42e1-a537-63eac7124baf"
      },
      "2491bcba-8202-4a95-8b6e-9b221a8aaa1e": {
       "attrs": {
        "height": 0.4,
        "width": 0.8,
        "x": 0.1,
        "y": 0.5
       },
       "content": null,
       "id": "2491bcba-8202-4a95-8b6e-9b221a8aaa1e"
      },
      "2b890cd0-4ca0-4c54-857c-3872cdc4d7e5": {
       "attrs": {
        "height": 0.4,
        "width": 0.8,
        "x": 0.1,
        "y": 0.5
       },
       "content": null,
       "id": "2b890cd0-4ca0-4c54-857c-3872cdc4d7e5"
      },
      "2fdaa52c-ab5b-468f-950c-811b09a5d131": {
       "attrs": {
        "height": 0.4,
        "width": 0.8,
        "x": 0.1,
        "y": 0.5
       },
       "content": null,
       "id": "2fdaa52c-ab5b-468f-950c-811b09a5d131"
      },
      "30930b7a-658d-482e-9102-c1cface5c15e": {
       "attrs": {
        "height": 0.4,
        "width": 0.8,
        "x": 0.1,
        "y": 0.5
       },
       "content": null,
       "id": "30930b7a-658d-482e-9102-c1cface5c15e"
      },
      "319a3694-acfe-4d37-97d8-3c3930f3fdbb": {
       "attrs": {
        "height": 0.4,
        "width": 0.8,
        "x": 0.1,
        "y": 0.5
       },
       "content": null,
       "id": "319a3694-acfe-4d37-97d8-3c3930f3fdbb"
      },
      "33d0a24b-878e-4db4-9fef-a93a0ddb73c8": {
       "attrs": {
        "height": 0.4,
        "width": 0.8,
        "x": 0.1,
        "y": 0.5
       },
       "content": null,
       "id": "33d0a24b-878e-4db4-9fef-a93a0ddb73c8"
      },
      "3452a7fa-1bcb-46de-9b64-97524831d960": {
       "attrs": {
        "height": 0.4,
        "width": 0.8,
        "x": 0.1,
        "y": 0.5
       },
       "content": null,
       "id": "3452a7fa-1bcb-46de-9b64-97524831d960"
      },
      "352dc229-4786-46f5-a1e2-50869bf0ef31": {
       "attrs": {
        "height": 0.4,
        "width": 0.8,
        "x": 0.1,
        "y": 0.5
       },
       "content": null,
       "id": "352dc229-4786-46f5-a1e2-50869bf0ef31"
      },
      "357293f5-a0b2-4d99-961e-cb7baed24c9a": {
       "attrs": {
        "height": 0.4,
        "width": 0.8,
        "x": 0.1,
        "y": 0.5
       },
       "content": null,
       "id": "357293f5-a0b2-4d99-961e-cb7baed24c9a"
      },
      "36d5fa75-1e25-4ec5-a84a-9bf055af46f0": {
       "attrs": {
        "height": 0.4,
        "width": 0.8,
        "x": 0.1,
        "y": 0.5
       },
       "content": null,
       "id": "36d5fa75-1e25-4ec5-a84a-9bf055af46f0"
      },
      "374a0228-42ab-4993-bbba-34562d73e9bb": {
       "attrs": {
        "height": 0.4,
        "width": 0.8,
        "x": 0.1,
        "y": 0.5
       },
       "content": null,
       "id": "374a0228-42ab-4993-bbba-34562d73e9bb"
      },
      "384ad1a6-9f78-4176-854d-e3b606d30358": {
       "attrs": {
        "height": 0.4,
        "width": 0.8,
        "x": 0.1,
        "y": 0.5
       },
       "content": null,
       "id": "384ad1a6-9f78-4176-854d-e3b606d30358"
      },
      "395e1aac-d36f-487d-aab3-713c4b37980b": {
       "attrs": {
        "height": 0.4,
        "width": 0.8,
        "x": 0.1,
        "y": 0.5
       },
       "content": null,
       "id": "395e1aac-d36f-487d-aab3-713c4b37980b"
      },
      "3ab039ef-73c9-4116-b289-7684ab5e46b9": {
       "attrs": {
        "height": 0.4,
        "width": 0.8,
        "x": 0.1,
        "y": 0.5
       },
       "content": null,
       "id": "3ab039ef-73c9-4116-b289-7684ab5e46b9"
      },
      "3bfe3d49-3e4f-4d4f-8a18-32f649c9e8ec": {
       "attrs": {
        "height": 0.4,
        "width": 0.8,
        "x": 0.1,
        "y": 0.5
       },
       "content": null,
       "id": "3bfe3d49-3e4f-4d4f-8a18-32f649c9e8ec"
      },
      "3c6e80bb-b26e-454d-b3f6-8b2279b9c8b4": {
       "attrs": {
        "height": 0.4,
        "width": 0.8,
        "x": 0.1,
        "y": 0.5
       },
       "content": null,
       "id": "3c6e80bb-b26e-454d-b3f6-8b2279b9c8b4"
      },
      "3e08f005-a445-4262-8839-ebb161735eec": {
       "attrs": {
        "height": 0.4,
        "width": 0.8,
        "x": 0.1,
        "y": 0.5
       },
       "content": null,
       "id": "3e08f005-a445-4262-8839-ebb161735eec"
      },
      "3e727d0e-520e-42b5-924d-4a82257e2f21": {
       "attrs": {
        "height": 0.4,
        "width": 0.8,
        "x": 0.1,
        "y": 0.5
       },
       "content": null,
       "id": "3e727d0e-520e-42b5-924d-4a82257e2f21"
      },
      "3f354a51-fc81-4927-90b8-447cef26ccea": {
       "attrs": {
        "height": 0.4,
        "width": 0.8,
        "x": 0.1,
        "y": 0.5
       },
       "content": null,
       "id": "3f354a51-fc81-4927-90b8-447cef26ccea"
      },
      "4104c77b-867b-4743-8f4b-d5af7dc08dd3": {
       "attrs": {
        "height": 0.4,
        "width": 0.8,
        "x": 0.1,
        "y": 0.5
       },
       "content": null,
       "id": "4104c77b-867b-4743-8f4b-d5af7dc08dd3"
      },
      "42bc7afa-3699-4d2d-829e-29cd3618e784": {
       "attrs": {
        "height": 0.4,
        "width": 0.8,
        "x": 0.1,
        "y": 0.5
       },
       "content": null,
       "id": "42bc7afa-3699-4d2d-829e-29cd3618e784"
      },
      "43bda282-b738-4096-848e-c2901da143e4": {
       "attrs": {
        "height": 0.4,
        "width": 0.8,
        "x": 0.1,
        "y": 0.5
       },
       "content": null,
       "id": "43bda282-b738-4096-848e-c2901da143e4"
      },
      "48a0635a-ac37-4e15-9269-01ee8879a760": {
       "attrs": {
        "height": 0.4,
        "width": 0.8,
        "x": 0.1,
        "y": 0.5
       },
       "content": null,
       "id": "48a0635a-ac37-4e15-9269-01ee8879a760"
      },
      "4970b612-c90d-4472-8519-3ef1295ea624": {
       "attrs": {
        "height": 0.4,
        "width": 0.8,
        "x": 0.1,
        "y": 0.5
       },
       "content": null,
       "id": "4970b612-c90d-4472-8519-3ef1295ea624"
      },
      "49b28685-31df-4344-9cc3-aa0b082f75f3": {
       "attrs": {
        "height": 0.4,
        "width": 0.8,
        "x": 0.1,
        "y": 0.5
       },
       "content": null,
       "id": "49b28685-31df-4344-9cc3-aa0b082f75f3"
      },
      "4c45b53e-942b-4dac-9090-0428406182a4": {
       "attrs": {
        "height": 0.4,
        "width": 0.8,
        "x": 0.1,
        "y": 0.5
       },
       "content": null,
       "id": "4c45b53e-942b-4dac-9090-0428406182a4"
      },
      "4d2c7895-7cad-4274-bf8c-927faf08be8f": {
       "attrs": {
        "height": 0.4,
        "width": 0.8,
        "x": 0.1,
        "y": 0.5
       },
       "content": null,
       "id": "4d2c7895-7cad-4274-bf8c-927faf08be8f"
      },
      "4eea2672-eff2-4801-9b43-5aff7610f8a6": {
       "attrs": {
        "height": 0.4,
        "width": 0.8,
        "x": 0.1,
        "y": 0.5
       },
       "content": null,
       "id": "4eea2672-eff2-4801-9b43-5aff7610f8a6"
      },
      "513f0ad5-f989-4bd2-9e45-28eb688f38b7": {
       "attrs": {
        "height": 0.4,
        "width": 0.8,
        "x": 0.1,
        "y": 0.5
       },
       "content": null,
       "id": "513f0ad5-f989-4bd2-9e45-28eb688f38b7"
      },
      "567d6deb-b726-4e81-84a7-d6bddaebef2b": {
       "attrs": {
        "height": 0.4,
        "width": 0.8,
        "x": 0.1,
        "y": 0.5
       },
       "content": null,
       "id": "567d6deb-b726-4e81-84a7-d6bddaebef2b"
      },
      "57321048-5005-4c9c-9c3a-e62ea3b206d0": {
       "attrs": {
        "height": 0.4,
        "width": 0.8,
        "x": 0.1,
        "y": 0.5
       },
       "content": null,
       "id": "57321048-5005-4c9c-9c3a-e62ea3b206d0"
      },
      "5a1a99bb-7187-404f-b05c-525215b02b8a": {
       "attrs": {
        "height": 0.4,
        "width": 0.8,
        "x": 0.1,
        "y": 0.5
       },
       "content": null,
       "id": "5a1a99bb-7187-404f-b05c-525215b02b8a"
      },
      "5ab86b92-502c-4faf-9bf9-b3fe80a351e2": {
       "attrs": {
        "height": 0.4,
        "width": 0.8,
        "x": 0.1,
        "y": 0.5
       },
       "content": null,
       "id": "5ab86b92-502c-4faf-9bf9-b3fe80a351e2"
      },
      "5b10040a-0b82-40d0-a65a-31e857ddd680": {
       "attrs": {
        "height": 0.4,
        "width": 0.8,
        "x": 0.1,
        "y": 0.5
       },
       "content": null,
       "id": "5b10040a-0b82-40d0-a65a-31e857ddd680"
      },
      "5b7aa829-8ac5-40d8-afd3-a16a49d76bfb": {
       "attrs": {
        "height": 0.4,
        "width": 0.8,
        "x": 0.1,
        "y": 0.5
       },
       "content": null,
       "id": "5b7aa829-8ac5-40d8-afd3-a16a49d76bfb"
      },
      "5b95c85e-8cfd-4086-bddc-61e53e1814ec": {
       "attrs": {
        "height": 0.4,
        "width": 0.8,
        "x": 0.1,
        "y": 0.5
       },
       "content": null,
       "id": "5b95c85e-8cfd-4086-bddc-61e53e1814ec"
      },
      "5beeb57b-c385-4b2f-936d-4eab7e9a33f2": {
       "attrs": {
        "height": 0.4,
        "width": 0.8,
        "x": 0.1,
        "y": 0.5
       },
       "content": null,
       "id": "5beeb57b-c385-4b2f-936d-4eab7e9a33f2"
      },
      "5cb3fea8-3039-4858-80a2-23316b320468": {
       "attrs": {
        "height": 0.4,
        "width": 0.8,
        "x": 0.1,
        "y": 0.5
       },
       "content": null,
       "id": "5cb3fea8-3039-4858-80a2-23316b320468"
      },
      "64384393-fb84-45f9-894a-79cd1f3ec8bc": {
       "attrs": {
        "height": 0.4,
        "width": 0.8,
        "x": 0.1,
        "y": 0.5
       },
       "content": null,
       "id": "64384393-fb84-45f9-894a-79cd1f3ec8bc"
      },
      "6595f2b8-c12d-4c79-8f6a-ad3e4cf71877": {
       "attrs": {
        "height": 0.4,
        "width": 0.8,
        "x": 0.1,
        "y": 0.5
       },
       "content": null,
       "id": "6595f2b8-c12d-4c79-8f6a-ad3e4cf71877"
      },
      "65f84711-d723-4d92-b476-87a7145dc756": {
       "attrs": {
        "height": 0.4,
        "width": 0.8,
        "x": 0.1,
        "y": 0.5
       },
       "content": null,
       "id": "65f84711-d723-4d92-b476-87a7145dc756"
      },
      "66cf29e0-ee1d-4458-82b1-93db073ce02d": {
       "attrs": {
        "height": 0.4,
        "width": 0.8,
        "x": 0.1,
        "y": 0.5
       },
       "content": null,
       "id": "66cf29e0-ee1d-4458-82b1-93db073ce02d"
      },
      "671cd2af-ba6e-4a6c-a70b-c5a3442da663": {
       "attrs": {
        "height": 0.8,
        "width": 0.8,
        "x": 0.1,
        "y": 0.1
       },
       "content": null,
       "id": "671cd2af-ba6e-4a6c-a70b-c5a3442da663"
      },
      "6a7b0ff5-0708-40e3-a53b-c3ca184f93f0": {
       "attrs": {
        "height": 0.4,
        "width": 0.8,
        "x": 0.1,
        "y": 0.5
       },
       "content": null,
       "id": "6a7b0ff5-0708-40e3-a53b-c3ca184f93f0"
      },
      "6dd37e47-d6fe-4780-842b-91cd3a5bde43": {
       "attrs": {
        "height": 0.4,
        "width": 0.8,
        "x": 0.1,
        "y": 0.5
       },
       "content": null,
       "id": "6dd37e47-d6fe-4780-842b-91cd3a5bde43"
      },
      "7037d773-d36a-4fbf-be23-d1fda4aa006f": {
       "attrs": {
        "height": 0.4,
        "width": 0.8,
        "x": 0.1,
        "y": 0.5
       },
       "content": null,
       "id": "7037d773-d36a-4fbf-be23-d1fda4aa006f"
      },
      "70b1f8be-4c6a-485d-9169-ff209915e74e": {
       "attrs": {
        "height": 0.4,
        "width": 0.8,
        "x": 0.1,
        "y": 0.5
       },
       "content": null,
       "id": "70b1f8be-4c6a-485d-9169-ff209915e74e"
      },
      "70bed4b5-c795-4299-b750-2663e2e134ad": {
       "attrs": {
        "height": 0.4,
        "width": 0.8,
        "x": 0.1,
        "y": 0.5
       },
       "content": null,
       "id": "70bed4b5-c795-4299-b750-2663e2e134ad"
      },
      "713c8bea-9ae6-4d02-b9b6-6718b07981e4": {
       "attrs": {
        "height": 0.4,
        "width": 0.8,
        "x": 0.1,
        "y": 0.5
       },
       "content": null,
       "id": "713c8bea-9ae6-4d02-b9b6-6718b07981e4"
      },
      "7168b30a-c801-46e6-adc6-4c4507eb4cca": {
       "attrs": {
        "height": 0.4,
        "width": 0.8,
        "x": 0.1,
        "y": 0.5
       },
       "content": null,
       "id": "7168b30a-c801-46e6-adc6-4c4507eb4cca"
      },
      "719d60d0-f486-408d-9cf1-9d19fde88b20": {
       "attrs": {
        "height": 0.4,
        "width": 0.8,
        "x": 0.1,
        "y": 0.5
       },
       "content": null,
       "id": "719d60d0-f486-408d-9cf1-9d19fde88b20"
      },
      "73902ceb-3947-48f3-aef9-77fc7c47d849": {
       "attrs": {
        "height": 0.4,
        "width": 0.8,
        "x": 0.1,
        "y": 0.5
       },
       "content": null,
       "id": "73902ceb-3947-48f3-aef9-77fc7c47d849"
      },
      "749aec1e-bcd2-4500-bd38-df23aaca26f1": {
       "attrs": {
        "height": 0.4,
        "width": 0.8,
        "x": 0.1,
        "y": 0.5
       },
       "content": null,
       "id": "749aec1e-bcd2-4500-bd38-df23aaca26f1"
      },
      "77ada073-d201-4bdf-b5ae-27bcb6333d5e": {
       "attrs": {
        "height": 0.4,
        "width": 0.8,
        "x": 0.1,
        "y": 0.5
       },
       "content": null,
       "id": "77ada073-d201-4bdf-b5ae-27bcb6333d5e"
      },
      "79066086-c804-46dd-af83-b4c71086bdb1": {
       "attrs": {
        "height": 0.4,
        "width": 0.8,
        "x": 0.1,
        "y": 0.5
       },
       "content": null,
       "id": "79066086-c804-46dd-af83-b4c71086bdb1"
      },
      "7978b8fd-fb5f-4e62-93de-4b914e28ac57": {
       "attrs": {
        "height": 0.4,
        "width": 0.8,
        "x": 0.1,
        "y": 0.5
       },
       "content": null,
       "id": "7978b8fd-fb5f-4e62-93de-4b914e28ac57"
      },
      "7bf0148d-259d-4832-8f10-2caf20f210db": {
       "attrs": {
        "height": 0.4,
        "width": 0.8,
        "x": 0.1,
        "y": 0.5
       },
       "content": null,
       "id": "7bf0148d-259d-4832-8f10-2caf20f210db"
      },
      "7c33e09b-dc48-4bc9-a34a-d6d26a8a511b": {
       "attrs": {
        "height": 0.4,
        "width": 0.8,
        "x": 0.1,
        "y": 0.5
       },
       "content": null,
       "id": "7c33e09b-dc48-4bc9-a34a-d6d26a8a511b"
      },
      "7dcbeaa1-3bad-42ad-bd15-ceba7b39180d": {
       "attrs": {
        "height": 0.4,
        "width": 0.8,
        "x": 0.1,
        "y": 0.5
       },
       "content": null,
       "id": "7dcbeaa1-3bad-42ad-bd15-ceba7b39180d"
      },
      "81587b21-eb4f-4278-b682-0d10fc14651d": {
       "attrs": {
        "height": 0.4,
        "width": 0.8,
        "x": 0.1,
        "y": 0.5
       },
       "content": null,
       "id": "81587b21-eb4f-4278-b682-0d10fc14651d"
      },
      "83487ca0-2845-44dc-addc-fbd3b96c56cf": {
       "attrs": {
        "height": 0.4,
        "width": 0.8,
        "x": 0.1,
        "y": 0.5
       },
       "content": null,
       "id": "83487ca0-2845-44dc-addc-fbd3b96c56cf"
      },
      "85c1d325-3506-4708-917b-d0a44bd18175": {
       "attrs": {
        "height": 0.4,
        "width": 0.8,
        "x": 0.1,
        "y": 0.5
       },
       "content": null,
       "id": "85c1d325-3506-4708-917b-d0a44bd18175"
      },
      "8d4cf397-a8e4-47b3-ba77-c4552d8fb52a": {
       "attrs": {
        "height": 0.4,
        "width": 0.8,
        "x": 0.1,
        "y": 0.5
       },
       "content": null,
       "id": "8d4cf397-a8e4-47b3-ba77-c4552d8fb52a"
      },
      "8e55a302-a8bc-4d41-85cd-0cf06fc43348": {
       "attrs": {
        "height": 0.4,
        "width": 0.8,
        "x": 0.1,
        "y": 0.5
       },
       "content": null,
       "id": "8e55a302-a8bc-4d41-85cd-0cf06fc43348"
      },
      "8fab3b97-4133-4a3d-b025-e6b265948310": {
       "attrs": {
        "height": 0.4,
        "width": 0.8,
        "x": 0.1,
        "y": 0.5
       },
       "content": null,
       "id": "8fab3b97-4133-4a3d-b025-e6b265948310"
      },
      "90cb8841-657b-4fd0-92f8-1054ede2f4f8": {
       "attrs": {
        "height": 0.4,
        "width": 0.8,
        "x": 0.1,
        "y": 0.5
       },
       "content": null,
       "id": "90cb8841-657b-4fd0-92f8-1054ede2f4f8"
      },
      "90d93556-fd6d-4379-96e0-f7233ccd0da8": {
       "attrs": {
        "height": 0.4,
        "width": 0.8,
        "x": 0.1,
        "y": 0.5
       },
       "content": null,
       "id": "90d93556-fd6d-4379-96e0-f7233ccd0da8"
      },
      "9169c52a-4ec1-40d5-aea5-9b8ca4758171": {
       "attrs": {
        "height": 0.4,
        "width": 0.8,
        "x": 0.1,
        "y": 0.5
       },
       "content": null,
       "id": "9169c52a-4ec1-40d5-aea5-9b8ca4758171"
      },
      "963b6689-ac23-4f30-bbe4-7de04da4c191": {
       "attrs": {
        "height": 0.4,
        "width": 0.8,
        "x": 0.1,
        "y": 0.5
       },
       "content": null,
       "id": "963b6689-ac23-4f30-bbe4-7de04da4c191"
      },
      "97efe198-28e7-48b7-9b16-9819e17eed4a": {
       "attrs": {
        "height": 0.4,
        "width": 0.8,
        "x": 0.1,
        "y": 0.5
       },
       "content": null,
       "id": "97efe198-28e7-48b7-9b16-9819e17eed4a"
      },
      "99afff2b-28d5-4e14-9cb1-79b834316fef": {
       "attrs": {
        "height": 0.4,
        "width": 0.8,
        "x": 0.1,
        "y": 0.5
       },
       "content": null,
       "id": "99afff2b-28d5-4e14-9cb1-79b834316fef"
      },
      "9b6c50b6-8a70-4ccf-b7cf-4b00c26c7ea5": {
       "attrs": {
        "height": 0.4,
        "width": 0.8,
        "x": 0.1,
        "y": 0.5
       },
       "content": null,
       "id": "9b6c50b6-8a70-4ccf-b7cf-4b00c26c7ea5"
      },
      "9b90a434-0000-491b-ab3a-55a94765f340": {
       "attrs": {
        "height": 0.4,
        "width": 0.8,
        "x": 0.1,
        "y": 0.5
       },
       "content": null,
       "id": "9b90a434-0000-491b-ab3a-55a94765f340"
      },
      "9f9189e7-32a1-437b-ae2a-eab8b1c8d049": {
       "attrs": {
        "height": 0.4,
        "width": 0.8,
        "x": 0.1,
        "y": 0.5
       },
       "content": null,
       "id": "9f9189e7-32a1-437b-ae2a-eab8b1c8d049"
      },
      "9fb82876-5ffe-4b7a-b046-a512d48a1ac8": {
       "attrs": {
        "height": 0.4,
        "width": 0.8,
        "x": 0.1,
        "y": 0.5
       },
       "content": null,
       "id": "9fb82876-5ffe-4b7a-b046-a512d48a1ac8"
      },
      "a14f68d9-3449-41b5-b291-767ac7c7f92d": {
       "attrs": {
        "height": 0.4,
        "width": 0.8,
        "x": 0.1,
        "y": 0.5
       },
       "content": null,
       "id": "a14f68d9-3449-41b5-b291-767ac7c7f92d"
      },
      "a7290ce8-64e4-4ec3-964b-ecfde88d4c90": {
       "attrs": {
        "height": 0.4,
        "width": 0.8,
        "x": 0.1,
        "y": 0.5
       },
       "content": null,
       "id": "a7290ce8-64e4-4ec3-964b-ecfde88d4c90"
      },
      "a84f6210-303c-44e4-b004-c456245bd192": {
       "attrs": {
        "height": 0.4,
        "width": 0.8,
        "x": 0.1,
        "y": 0.5
       },
       "content": null,
       "id": "a84f6210-303c-44e4-b004-c456245bd192"
      },
      "a8548487-ded8-4f3a-86c4-c1ad59c3098c": {
       "attrs": {
        "height": 0.4,
        "width": 0.8,
        "x": 0.1,
        "y": 0.5
       },
       "content": null,
       "id": "a8548487-ded8-4f3a-86c4-c1ad59c3098c"
      },
      "aaa3b305-5a7c-4c58-acd4-d09b21cf5750": {
       "attrs": {
        "height": 0.4,
        "width": 0.8,
        "x": 0.1,
        "y": 0.5
       },
       "content": null,
       "id": "aaa3b305-5a7c-4c58-acd4-d09b21cf5750"
      },
      "ae744279-95fd-47e6-ba81-611d345350c8": {
       "attrs": {
        "height": 0.4,
        "width": 0.8,
        "x": 0.1,
        "y": 0.5
       },
       "content": null,
       "id": "ae744279-95fd-47e6-ba81-611d345350c8"
      },
      "aea5e26a-ee6d-4816-80b2-5b31bce6e7ff": {
       "attrs": {
        "height": 0.4,
        "width": 0.8,
        "x": 0.1,
        "y": 0.5
       },
       "content": null,
       "id": "aea5e26a-ee6d-4816-80b2-5b31bce6e7ff"
      },
      "af7dd3ad-8cb9-4cdf-9f9c-104763a89311": {
       "attrs": {
        "height": 0.4,
        "width": 0.8,
        "x": 0.1,
        "y": 0.5
       },
       "content": null,
       "id": "af7dd3ad-8cb9-4cdf-9f9c-104763a89311"
      },
      "b0479d91-f1f2-45a8-9829-581a95801312": {
       "attrs": {
        "height": 0.4,
        "width": 0.8,
        "x": 0.1,
        "y": 0.5
       },
       "content": null,
       "id": "b0479d91-f1f2-45a8-9829-581a95801312"
      },
      "b1cc3777-d2ce-43bf-a38f-f90154b7233e": {
       "attrs": {
        "height": 0.4,
        "width": 0.8,
        "x": 0.1,
        "y": 0.5
       },
       "content": null,
       "id": "b1cc3777-d2ce-43bf-a38f-f90154b7233e"
      },
      "b46a8521-3354-44d6-b726-a5dec4bc1a4b": {
       "attrs": {
        "height": 0.4,
        "width": 0.8,
        "x": 0.1,
        "y": 0.5
       },
       "content": null,
       "id": "b46a8521-3354-44d6-b726-a5dec4bc1a4b"
      },
      "b48cfe5a-9f50-4ad4-b390-9de1ae0da5ab": {
       "attrs": {
        "height": 0.4,
        "width": 0.8,
        "x": 0.1,
        "y": 0.5
       },
       "content": null,
       "id": "b48cfe5a-9f50-4ad4-b390-9de1ae0da5ab"
      },
      "b670c086-99c4-498b-92c3-3b151ce90745": {
       "attrs": {
        "height": 0.4,
        "width": 0.8,
        "x": 0.1,
        "y": 0.5
       },
       "content": null,
       "id": "b670c086-99c4-498b-92c3-3b151ce90745"
      },
      "b83c9aa9-ab36-4a69-9f83-1d2c98963f09": {
       "attrs": {
        "height": 0.4,
        "width": 0.8,
        "x": 0.1,
        "y": 0.5
       },
       "content": null,
       "id": "b83c9aa9-ab36-4a69-9f83-1d2c98963f09"
      },
      "b9186efa-8938-4655-9dcb-aa32b23269b4": {
       "attrs": {
        "height": 0.4,
        "width": 0.8,
        "x": 0.1,
        "y": 0.5
       },
       "content": null,
       "id": "b9186efa-8938-4655-9dcb-aa32b23269b4"
      },
      "bae402b4-74cc-407f-8e57-b54d5d355742": {
       "attrs": {
        "height": 0.4,
        "width": 0.8,
        "x": 0.1,
        "y": 0.5
       },
       "content": null,
       "id": "bae402b4-74cc-407f-8e57-b54d5d355742"
      },
      "bb00850a-57c1-4177-b698-e89a2b89f4f5": {
       "attrs": {
        "height": 0.4,
        "width": 0.8,
        "x": 0.1,
        "y": 0.5
       },
       "content": null,
       "id": "bb00850a-57c1-4177-b698-e89a2b89f4f5"
      },
      "bda2e1ce-a2f4-4dc0-8cf8-464357d7bf79": {
       "attrs": {
        "height": 0.4,
        "width": 0.8,
        "x": 0.1,
        "y": 0.5
       },
       "content": null,
       "id": "bda2e1ce-a2f4-4dc0-8cf8-464357d7bf79"
      },
      "bfcbdf80-f720-4145-8da9-0294107c89dd": {
       "attrs": {
        "height": 0.4,
        "width": 0.8,
        "x": 0.1,
        "y": 0.5
       },
       "content": null,
       "id": "bfcbdf80-f720-4145-8da9-0294107c89dd"
      },
      "c0526b9b-ad5b-445d-a6fa-6735bb9eac0d": {
       "attrs": {
        "height": 0.4,
        "width": 0.8,
        "x": 0.1,
        "y": 0.5
       },
       "content": null,
       "id": "c0526b9b-ad5b-445d-a6fa-6735bb9eac0d"
      },
      "c1619cf6-3532-44e5-9039-8a10aa380bdb": {
       "attrs": {
        "height": 0.4,
        "width": 0.8,
        "x": 0.1,
        "y": 0.5
       },
       "content": null,
       "id": "c1619cf6-3532-44e5-9039-8a10aa380bdb"
      },
      "c1d6b846-fb05-470a-a085-b818f935dd45": {
       "attrs": {
        "height": 0.4,
        "width": 0.8,
        "x": 0.1,
        "y": 0.5
       },
       "content": null,
       "id": "c1d6b846-fb05-470a-a085-b818f935dd45"
      },
      "c462feee-647f-4d3c-8c26-b8d5ca098d3b": {
       "attrs": {
        "height": 0.4,
        "width": 0.8,
        "x": 0.1,
        "y": 0.5
       },
       "content": null,
       "id": "c462feee-647f-4d3c-8c26-b8d5ca098d3b"
      },
      "c856644e-6329-4317-a818-804febb00624": {
       "attrs": {
        "height": 0.4,
        "width": 0.8,
        "x": 0.1,
        "y": 0.5
       },
       "content": null,
       "id": "c856644e-6329-4317-a818-804febb00624"
      },
      "c9e6c64a-4858-472c-92ad-a1914fce0885": {
       "attrs": {
        "height": 0.4,
        "width": 0.8,
        "x": 0.1,
        "y": 0.5
       },
       "content": null,
       "id": "c9e6c64a-4858-472c-92ad-a1914fce0885"
      },
      "cea0be7e-a59c-4d58-b220-9a2f16af9260": {
       "attrs": {
        "height": 0.4,
        "width": 0.8,
        "x": 0.1,
        "y": 0.5
       },
       "content": null,
       "id": "cea0be7e-a59c-4d58-b220-9a2f16af9260"
      },
      "cee2623f-9120-4562-861c-55d378a3ca87": {
       "attrs": {
        "height": 0.4,
        "width": 0.8,
        "x": 0.1,
        "y": 0.5
       },
       "content": null,
       "id": "cee2623f-9120-4562-861c-55d378a3ca87"
      },
      "cfca3f30-8b35-4a88-a126-218b54884de1": {
       "attrs": {
        "height": 0.4,
        "width": 0.8,
        "x": 0.1,
        "y": 0.5
       },
       "content": null,
       "id": "cfca3f30-8b35-4a88-a126-218b54884de1"
      },
      "d486c9ab-9f68-4d97-be26-da27152fe052": {
       "attrs": {
        "height": 0.4,
        "width": 0.8,
        "x": 0.1,
        "y": 0.5
       },
       "content": null,
       "id": "d486c9ab-9f68-4d97-be26-da27152fe052"
      },
      "d75418ca-c6fa-4b9f-b31b-f93776491a73": {
       "attrs": {
        "height": 0.4,
        "width": 0.8,
        "x": 0.1,
        "y": 0.5
       },
       "content": null,
       "id": "d75418ca-c6fa-4b9f-b31b-f93776491a73"
      },
      "d780ad6a-ae66-46d4-9bac-78d5409b4bc9": {
       "attrs": {
        "height": 0.4,
        "width": 0.8,
        "x": 0.1,
        "y": 0.5
       },
       "content": null,
       "id": "d780ad6a-ae66-46d4-9bac-78d5409b4bc9"
      },
      "d8522b1b-6aab-487d-a7d4-5fd0451ea9ba": {
       "attrs": {
        "height": 0.4,
        "width": 0.8,
        "x": 0.1,
        "y": 0.5
       },
       "content": null,
       "id": "d8522b1b-6aab-487d-a7d4-5fd0451ea9ba"
      },
      "d92b7aa7-07c2-47ee-9c41-01441ea74546": {
       "attrs": {
        "height": 0.4,
        "width": 0.8,
        "x": 0.1,
        "y": 0.5
       },
       "content": null,
       "id": "d92b7aa7-07c2-47ee-9c41-01441ea74546"
      },
      "ddc2be3d-7360-4fc9-a889-2feed2e44352": {
       "attrs": {
        "height": 0.4,
        "width": 0.8,
        "x": 0.1,
        "y": 0.5
       },
       "content": null,
       "id": "ddc2be3d-7360-4fc9-a889-2feed2e44352"
      },
      "de823630-cf27-481a-967c-31d27274de5c": {
       "attrs": {
        "height": 0.4,
        "width": 0.8,
        "x": 0.1,
        "y": 0.5
       },
       "content": null,
       "id": "de823630-cf27-481a-967c-31d27274de5c"
      },
      "debb3733-3e22-4de7-892c-88781d5f13fd": {
       "attrs": {
        "height": 0.4,
        "width": 0.8,
        "x": 0.1,
        "y": 0.5
       },
       "content": null,
       "id": "debb3733-3e22-4de7-892c-88781d5f13fd"
      },
      "e4b78b2c-2581-4905-96aa-ae85d765b1fb": {
       "attrs": {
        "height": 0.4,
        "width": 0.8,
        "x": 0.1,
        "y": 0.5
       },
       "content": null,
       "id": "e4b78b2c-2581-4905-96aa-ae85d765b1fb"
      },
      "e4e607d4-0753-4b9e-bc67-e81810c2c887": {
       "attrs": {
        "height": 0.4,
        "width": 0.8,
        "x": 0.1,
        "y": 0.5
       },
       "content": null,
       "id": "e4e607d4-0753-4b9e-bc67-e81810c2c887"
      },
      "e693f5fe-82b7-4466-af94-78884aa370b3": {
       "attrs": {
        "height": 0.4,
        "width": 0.8,
        "x": 0.1,
        "y": 0.5
       },
       "content": null,
       "id": "e693f5fe-82b7-4466-af94-78884aa370b3"
      },
      "e781f6d8-5929-4685-8e12-fc230eed0768": {
       "attrs": {
        "height": 0.4,
        "width": 0.8,
        "x": 0.1,
        "y": 0.5
       },
       "content": null,
       "id": "e781f6d8-5929-4685-8e12-fc230eed0768"
      },
      "e97b2bdf-04c9-4399-8f37-3aa09db6a617": {
       "attrs": {
        "height": 0.4,
        "width": 0.8,
        "x": 0.1,
        "y": 0.5
       },
       "content": null,
       "id": "e97b2bdf-04c9-4399-8f37-3aa09db6a617"
      },
      "f2e72145-fbc0-421c-87da-fe26afb9f22f": {
       "attrs": {
        "height": 0.4,
        "width": 0.8,
        "x": 0.1,
        "y": 0.5
       },
       "content": null,
       "id": "f2e72145-fbc0-421c-87da-fe26afb9f22f"
      },
      "f7a94688-4e32-4b98-9f0a-44797413db0b": {
       "attrs": {
        "height": 0.4,
        "width": 0.8,
        "x": 0.1,
        "y": 0.5
       },
       "content": null,
       "id": "f7a94688-4e32-4b98-9f0a-44797413db0b"
      },
      "f7fe7392-d160-4918-a0c9-027c2a4a4514": {
       "attrs": {
        "height": 0.4,
        "width": 0.8,
        "x": 0.1,
        "y": 0.5
       },
       "content": null,
       "id": "f7fe7392-d160-4918-a0c9-027c2a4a4514"
      },
      "fb7dc1b6-4658-47c2-bb34-77a905960eff": {
       "attrs": {
        "height": 0.4,
        "width": 0.8,
        "x": 0.1,
        "y": 0.5
       },
       "content": null,
       "id": "fb7dc1b6-4658-47c2-bb34-77a905960eff"
      },
      "fe6a47ff-5918-4c60-b209-4b2590508721": {
       "attrs": {
        "height": 0.4,
        "width": 0.8,
        "x": 0.1,
        "y": 0.5
       },
       "content": null,
       "id": "fe6a47ff-5918-4c60-b209-4b2590508721"
      }
     }
    }
   },
   "themes": {
    "default": "669ab7d1-0c5c-4d79-9d2d-5ccbbb5a2407",
    "theme": {
     "2ffe1050-fd1e-4d7f-bf93-18aa3c945ec4": {
      "backgrounds": {
       "dc7afa04-bf90-40b1-82a5-726e3cff5267": {
        "background-color": "31af15d2-7e15-44c5-ab5e-e04b16a89eff",
        "id": "dc7afa04-bf90-40b1-82a5-726e3cff5267"
       }
      },
      "id": "2ffe1050-fd1e-4d7f-bf93-18aa3c945ec4",
      "palette": {
       "19cc588f-0593-49c9-9f4b-e4d7cc113b1c": {
        "id": "19cc588f-0593-49c9-9f4b-e4d7cc113b1c",
        "rgb": [
         252,
         252,
         252
        ]
       },
       "31af15d2-7e15-44c5-ab5e-e04b16a89eff": {
        "id": "31af15d2-7e15-44c5-ab5e-e04b16a89eff",
        "rgb": [
         68,
         68,
         68
        ]
       },
       "50f92c45-a630-455b-aec3-788680ec7410": {
        "id": "50f92c45-a630-455b-aec3-788680ec7410",
        "rgb": [
         197,
         226,
         245
        ]
       },
       "c5cc3653-2ee1-402a-aba2-7caae1da4f6c": {
        "id": "c5cc3653-2ee1-402a-aba2-7caae1da4f6c",
        "rgb": [
         43,
         126,
         184
        ]
       },
       "efa7f048-9acb-414c-8b04-a26811511a21": {
        "id": "efa7f048-9acb-414c-8b04-a26811511a21",
        "rgb": [
         25.118061674008803,
         73.60176211453744,
         107.4819383259912
        ]
       }
      },
      "rules": {
       "a": {
        "color": "19cc588f-0593-49c9-9f4b-e4d7cc113b1c"
       },
       "blockquote": {
        "color": "50f92c45-a630-455b-aec3-788680ec7410",
        "font-size": 3
       },
       "code": {
        "font-family": "Anonymous Pro"
       },
       "h1": {
        "color": "19cc588f-0593-49c9-9f4b-e4d7cc113b1c",
        "font-family": "Merriweather",
        "font-size": 8
       },
       "h2": {
        "color": "19cc588f-0593-49c9-9f4b-e4d7cc113b1c",
        "font-family": "Merriweather",
        "font-size": 6
       },
       "h3": {
        "color": "50f92c45-a630-455b-aec3-788680ec7410",
        "font-family": "Lato",
        "font-size": 5.5
       },
       "h4": {
        "color": "c5cc3653-2ee1-402a-aba2-7caae1da4f6c",
        "font-family": "Lato",
        "font-size": 5
       },
       "h5": {
        "font-family": "Lato"
       },
       "h6": {
        "font-family": "Lato"
       },
       "h7": {
        "font-family": "Lato"
       },
       "li": {
        "color": "50f92c45-a630-455b-aec3-788680ec7410",
        "font-size": 3.25
       },
       "pre": {
        "font-family": "Anonymous Pro",
        "font-size": 4
       }
      },
      "text-base": {
       "color": "19cc588f-0593-49c9-9f4b-e4d7cc113b1c",
       "font-family": "Lato",
       "font-size": 4
      }
     },
     "669ab7d1-0c5c-4d79-9d2d-5ccbbb5a2407": {
      "backgrounds": {
       "backgroundColor": {
        "background-color": "backgroundColor",
        "id": "backgroundColor"
       }
      },
      "id": "669ab7d1-0c5c-4d79-9d2d-5ccbbb5a2407",
      "palette": {
       "backgroundColor": {
        "id": "backgroundColor",
        "rgb": [
         34,
         34,
         34
        ]
       },
       "headingColor": {
        "id": "headingColor",
        "rgb": [
         256,
         256,
         256
        ]
       },
       "linkColor": {
        "id": "linkColor",
        "rgb": [
         66,
         175,
         250
        ]
       },
       "mainColor": {
        "id": "mainColor",
        "rgb": [
         256,
         256,
         256
        ]
       }
      },
      "rules": {
       "a": {
        "color": "linkColor"
       },
       "h1": {
        "color": "headingColor",
        "font-family": "Source Sans Pro",
        "font-size": 5.25
       },
       "h2": {
        "color": "headingColor",
        "font-family": "Source Sans Pro",
        "font-size": 4
       },
       "h3": {
        "color": "headingColor",
        "font-family": "Source Sans Pro",
        "font-size": 3.5
       },
       "h4": {
        "color": "headingColor",
        "font-family": "Source Sans Pro",
        "font-size": 3
       },
       "h5": {
        "color": "headingColor",
        "font-family": "Source Sans Pro"
       },
       "h6": {
        "color": "headingColor",
        "font-family": "Source Sans Pro"
       },
       "h7": {
        "color": "headingColor",
        "font-family": "Source Sans Pro"
       },
       "li": {
        "color": "mainColor",
        "font-family": "Source Sans Pro",
        "font-size": 6
       },
       "p": {
        "color": "mainColor",
        "font-family": "Source Sans Pro",
        "font-size": 6
       }
      },
      "text-base": {
       "color": "mainColor",
       "font-family": "Source Sans Pro",
       "font-size": 6
      }
     },
     "6c163137-bf47-4d7f-a3c0-01c616200c8e": {
      "backgrounds": {
       "dc7afa04-bf90-40b1-82a5-726e3cff5267": {
        "background-color": "31af15d2-7e15-44c5-ab5e-e04b16a89eff",
        "id": "dc7afa04-bf90-40b1-82a5-726e3cff5267"
       }
      },
      "id": "6c163137-bf47-4d7f-a3c0-01c616200c8e",
      "palette": {
       "19cc588f-0593-49c9-9f4b-e4d7cc113b1c": {
        "id": "19cc588f-0593-49c9-9f4b-e4d7cc113b1c",
        "rgb": [
         252,
         252,
         252
        ]
       },
       "31af15d2-7e15-44c5-ab5e-e04b16a89eff": {
        "id": "31af15d2-7e15-44c5-ab5e-e04b16a89eff",
        "rgb": [
         68,
         68,
         68
        ]
       },
       "50f92c45-a630-455b-aec3-788680ec7410": {
        "id": "50f92c45-a630-455b-aec3-788680ec7410",
        "rgb": [
         197,
         226,
         245
        ]
       },
       "c5cc3653-2ee1-402a-aba2-7caae1da4f6c": {
        "id": "c5cc3653-2ee1-402a-aba2-7caae1da4f6c",
        "rgb": [
         43,
         126,
         184
        ]
       },
       "efa7f048-9acb-414c-8b04-a26811511a21": {
        "id": "efa7f048-9acb-414c-8b04-a26811511a21",
        "rgb": [
         25.118061674008803,
         73.60176211453744,
         107.4819383259912
        ]
       }
      },
      "rules": {
       "a": {
        "color": "19cc588f-0593-49c9-9f4b-e4d7cc113b1c"
       },
       "blockquote": {
        "color": "50f92c45-a630-455b-aec3-788680ec7410",
        "font-size": 3
       },
       "code": {
        "font-family": "Anonymous Pro"
       },
       "h1": {
        "color": "19cc588f-0593-49c9-9f4b-e4d7cc113b1c",
        "font-family": "Merriweather",
        "font-size": 8
       },
       "h2": {
        "color": "19cc588f-0593-49c9-9f4b-e4d7cc113b1c",
        "font-family": "Merriweather",
        "font-size": 6
       },
       "h3": {
        "color": "50f92c45-a630-455b-aec3-788680ec7410",
        "font-family": "Lato",
        "font-size": 5.5
       },
       "h4": {
        "color": "c5cc3653-2ee1-402a-aba2-7caae1da4f6c",
        "font-family": "Lato",
        "font-size": 5
       },
       "h5": {
        "font-family": "Lato"
       },
       "h6": {
        "font-family": "Lato"
       },
       "h7": {
        "font-family": "Lato"
       },
       "li": {
        "color": "50f92c45-a630-455b-aec3-788680ec7410",
        "font-size": 3.25
       },
       "pre": {
        "font-family": "Anonymous Pro",
        "font-size": 4
       }
      },
      "text-base": {
       "color": "19cc588f-0593-49c9-9f4b-e4d7cc113b1c",
       "font-family": "Lato",
       "font-size": 4
      }
     },
     "9f5f87fe-9168-4348-9739-40b26dc26d8c": {
      "backgrounds": {
       "dc7afa04-bf90-40b1-82a5-726e3cff5267": {
        "background-color": "31af15d2-7e15-44c5-ab5e-e04b16a89eff",
        "id": "dc7afa04-bf90-40b1-82a5-726e3cff5267"
       }
      },
      "id": "9f5f87fe-9168-4348-9739-40b26dc26d8c",
      "palette": {
       "19cc588f-0593-49c9-9f4b-e4d7cc113b1c": {
        "id": "19cc588f-0593-49c9-9f4b-e4d7cc113b1c",
        "rgb": [
         252,
         252,
         252
        ]
       },
       "31af15d2-7e15-44c5-ab5e-e04b16a89eff": {
        "id": "31af15d2-7e15-44c5-ab5e-e04b16a89eff",
        "rgb": [
         68,
         68,
         68
        ]
       },
       "50f92c45-a630-455b-aec3-788680ec7410": {
        "id": "50f92c45-a630-455b-aec3-788680ec7410",
        "rgb": [
         197,
         226,
         245
        ]
       },
       "c5cc3653-2ee1-402a-aba2-7caae1da4f6c": {
        "id": "c5cc3653-2ee1-402a-aba2-7caae1da4f6c",
        "rgb": [
         43,
         126,
         184
        ]
       },
       "efa7f048-9acb-414c-8b04-a26811511a21": {
        "id": "efa7f048-9acb-414c-8b04-a26811511a21",
        "rgb": [
         25.118061674008803,
         73.60176211453744,
         107.4819383259912
        ]
       }
      },
      "rules": {
       "a": {
        "color": "19cc588f-0593-49c9-9f4b-e4d7cc113b1c"
       },
       "blockquote": {
        "color": "50f92c45-a630-455b-aec3-788680ec7410",
        "font-size": 3
       },
       "code": {
        "font-family": "Anonymous Pro"
       },
       "h1": {
        "color": "19cc588f-0593-49c9-9f4b-e4d7cc113b1c",
        "font-family": "Merriweather",
        "font-size": 8
       },
       "h2": {
        "color": "19cc588f-0593-49c9-9f4b-e4d7cc113b1c",
        "font-family": "Merriweather",
        "font-size": 6
       },
       "h3": {
        "color": "50f92c45-a630-455b-aec3-788680ec7410",
        "font-family": "Lato",
        "font-size": 5.5
       },
       "h4": {
        "color": "c5cc3653-2ee1-402a-aba2-7caae1da4f6c",
        "font-family": "Lato",
        "font-size": 5
       },
       "h5": {
        "font-family": "Lato"
       },
       "h6": {
        "font-family": "Lato"
       },
       "h7": {
        "font-family": "Lato"
       },
       "li": {
        "color": "50f92c45-a630-455b-aec3-788680ec7410",
        "font-size": 3.25
       },
       "pre": {
        "font-family": "Anonymous Pro",
        "font-size": 4
       }
      },
      "text-base": {
       "color": "19cc588f-0593-49c9-9f4b-e4d7cc113b1c",
       "font-family": "Lato",
       "font-size": 4
      }
     },
     "a1a51d90-b2b0-487a-af4f-3c0203a9eb59": {
      "backgrounds": {
       "dc7afa04-bf90-40b1-82a5-726e3cff5267": {
        "background-color": "31af15d2-7e15-44c5-ab5e-e04b16a89eff",
        "id": "dc7afa04-bf90-40b1-82a5-726e3cff5267"
       }
      },
      "id": "a1a51d90-b2b0-487a-af4f-3c0203a9eb59",
      "palette": {
       "19cc588f-0593-49c9-9f4b-e4d7cc113b1c": {
        "id": "19cc588f-0593-49c9-9f4b-e4d7cc113b1c",
        "rgb": [
         252,
         252,
         252
        ]
       },
       "31af15d2-7e15-44c5-ab5e-e04b16a89eff": {
        "id": "31af15d2-7e15-44c5-ab5e-e04b16a89eff",
        "rgb": [
         68,
         68,
         68
        ]
       },
       "50f92c45-a630-455b-aec3-788680ec7410": {
        "id": "50f92c45-a630-455b-aec3-788680ec7410",
        "rgb": [
         197,
         226,
         245
        ]
       },
       "c5cc3653-2ee1-402a-aba2-7caae1da4f6c": {
        "id": "c5cc3653-2ee1-402a-aba2-7caae1da4f6c",
        "rgb": [
         43,
         126,
         184
        ]
       },
       "efa7f048-9acb-414c-8b04-a26811511a21": {
        "id": "efa7f048-9acb-414c-8b04-a26811511a21",
        "rgb": [
         25.118061674008803,
         73.60176211453744,
         107.4819383259912
        ]
       }
      },
      "rules": {
       "a": {
        "color": "19cc588f-0593-49c9-9f4b-e4d7cc113b1c"
       },
       "blockquote": {
        "color": "50f92c45-a630-455b-aec3-788680ec7410",
        "font-size": 3
       },
       "code": {
        "font-family": "Anonymous Pro"
       },
       "h1": {
        "color": "19cc588f-0593-49c9-9f4b-e4d7cc113b1c",
        "font-family": "Merriweather",
        "font-size": 8
       },
       "h2": {
        "color": "19cc588f-0593-49c9-9f4b-e4d7cc113b1c",
        "font-family": "Merriweather",
        "font-size": 6
       },
       "h3": {
        "color": "50f92c45-a630-455b-aec3-788680ec7410",
        "font-family": "Lato",
        "font-size": 5.5
       },
       "h4": {
        "color": "c5cc3653-2ee1-402a-aba2-7caae1da4f6c",
        "font-family": "Lato",
        "font-size": 5
       },
       "h5": {
        "font-family": "Lato"
       },
       "h6": {
        "font-family": "Lato"
       },
       "h7": {
        "font-family": "Lato"
       },
       "li": {
        "color": "50f92c45-a630-455b-aec3-788680ec7410",
        "font-size": 3.25
       },
       "pre": {
        "font-family": "Anonymous Pro",
        "font-size": 4
       }
      },
      "text-base": {
       "color": "19cc588f-0593-49c9-9f4b-e4d7cc113b1c",
       "font-family": "Lato",
       "font-size": 4
      }
     }
    }
   }
  },
  "toc": {
   "nav_menu": {},
   "number_sections": true,
   "sideBar": true,
   "skip_h1_title": false,
   "title_cell": "Table of Contents",
   "title_sidebar": "Contents",
   "toc_cell": false,
   "toc_position": {},
   "toc_section_display": "block",
   "toc_window_display": false
  },
  "widgets": {
   "state": {},
   "version": "1.1.2"
  }
 },
 "nbformat": 4,
 "nbformat_minor": 1
}
